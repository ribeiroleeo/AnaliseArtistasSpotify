{
 "cells": [
  {
   "cell_type": "markdown",
   "metadata": {},
   "source": [
    "# Analise de popularidade dos Artistas - Spotify"
   ]
  },
  {
   "cell_type": "markdown",
   "metadata": {},
   "source": [
    "## Libs"
   ]
  },
  {
   "cell_type": "code",
   "execution_count": 1,
   "metadata": {
    "ExecuteTime": {
     "end_time": "2020-07-17T22:45:46.510593Z",
     "start_time": "2020-07-17T22:45:46.506595Z"
    }
   },
   "outputs": [],
   "source": [
    "import spotipy\n",
    "from spotipy.oauth2 import SpotifyClientCredentials #To access authorised Spotify data\n",
    "import time \n",
    "import numpy as np \n",
    "import pandas as pd\n",
    "import matplotlib.pyplot as plt\n",
    "import seaborn as sns\n",
    "import plotly.figure_factory as ff\n",
    "import plotly.graph_objects as go\n",
    "import plotly.express as px\n",
    "from sklearn.model_selection import train_test_split\n",
    "from sklearn import preprocessing\n",
    "from sklearn.ensemble import RandomForestRegressor\n",
    "#import shap\n",
    "\n",
    "#jmcabreira/A-Music-Taste-Analysis-Using-Spotify-API-and-Python."
   ]
  },
  {
   "cell_type": "code",
   "execution_count": 3,
   "metadata": {
    "ExecuteTime": {
     "start_time": "2020-07-15T01:33:56.907Z"
    }
   },
   "outputs": [],
   "source": [
    "#!pip install shap"
   ]
  },
  {
   "cell_type": "markdown",
   "metadata": {},
   "source": [
    "## Extração de dados Spotify"
   ]
  },
  {
   "cell_type": "code",
   "execution_count": 20,
   "metadata": {
    "ExecuteTime": {
     "end_time": "2020-07-17T22:43:54.662592Z",
     "start_time": "2020-07-17T22:43:54.637078Z"
    }
   },
   "outputs": [],
   "source": [
    "def albumSongs(uri): \n",
    "\n",
    "    album = uri #assign album uri to a_name \n",
    "    spotify_albums[album] = {} #Creates dictionary for that specific album \n",
    "    #Create keys-values of empty lists inside nested dictionary for album \n",
    "    spotify_albums[album]['album'] = [] #create empty list \n",
    "    spotify_albums[album]['track_number'] = [] \n",
    "    spotify_albums[album]['id'] = [] \n",
    "    spotify_albums[album]['name'] = [] \n",
    "    spotify_albums[album]['uri'] = [] \n",
    "    global tracks\n",
    "    tracks = sp.album_tracks(album) #pull data on album tracks \n",
    "    \n",
    "    \n",
    "    for n in range(len(tracks['items'])): #for each song track \n",
    "        spotify_albums[album]['album'].append(album_names[album_count]) #append album name tracked via album_count \n",
    "        spotify_albums[album]['track_number'].append(tracks['items'][n]['track_number']) \n",
    "        spotify_albums[album]['id'].append(tracks['items'][n]['id']) \n",
    "        spotify_albums[album]['name'].append(tracks['items'][n]['name']) \n",
    "        spotify_albums[album]['uri'].append(tracks['items'][n]['uri'])\n",
    "\n",
    "    spotify_albums[album]['acousticness'] = [] \n",
    "    spotify_albums[album]['danceability'] = [] \n",
    "    spotify_albums[album]['energy'] = [] \n",
    "    spotify_albums[album]['instrumentalness'] = [] \n",
    "    spotify_albums[album]['liveness'] = [] \n",
    "    spotify_albums[album]['loudness'] = [] \n",
    "    spotify_albums[album]['speechiness'] = [] \n",
    "    spotify_albums[album]['tempo'] = [] \n",
    "    spotify_albums[album]['valence'] = [] \n",
    "    spotify_albums[album]['popularity'] = [] \n",
    "    track_count = 0 \n",
    "    for track in spotify_albums[album]['uri']: \n",
    "        global features\n",
    "        #pull audio features per track  \n",
    "        features = sp.audio_features(track) \n",
    "\n",
    "        #Append to relevant key-value \n",
    "        spotify_albums[album]['acousticness'].append(features[0]['acousticness']) \n",
    "        spotify_albums[album]['danceability'].append(features[0]['danceability']) \n",
    "        spotify_albums[album]['energy'].append(features[0]['energy']) \n",
    "        spotify_albums[album]['instrumentalness'].append(features[0]['instrumentalness']) \n",
    "        spotify_albums[album]['liveness'].append(features[0]['liveness']) \n",
    "        spotify_albums[album]['loudness'].append(features[0]['loudness']) \n",
    "        spotify_albums[album]['speechiness'].append(features[0]['speechiness']) \n",
    "        spotify_albums[album]['tempo'].append(features[0]['tempo']) \n",
    "        spotify_albums[album]['valence'].append(features[0]['valence']) \n",
    "        #popularity is stored elsewhere \n",
    "        pop = sp.track(track) \n",
    "        spotify_albums[album]['popularity'].append(pop['popularity']) \n",
    "        track_count+=1"
   ]
  },
  {
   "cell_type": "code",
   "execution_count": 21,
   "metadata": {
    "ExecuteTime": {
     "end_time": "2020-07-17T22:43:58.505982Z",
     "start_time": "2020-07-17T22:43:58.499979Z"
    }
   },
   "outputs": [],
   "source": [
    "def get_dict_df(spotify_albums_aux):\n",
    "    dic_df = {} \n",
    "    dic_df['album'] = [] \n",
    "    dic_df['track_number'] = [] \n",
    "    dic_df['id'] = [] \n",
    "    dic_df['name'] = [] \n",
    "    dic_df['uri'] = [] \n",
    "    dic_df['acousticness'] = [] \n",
    "    dic_df['danceability'] = [] \n",
    "    dic_df['energy'] = [] \n",
    "    dic_df['instrumentalness'] = [] \n",
    "    dic_df['liveness'] = [] \n",
    "    dic_df['loudness'] = [] \n",
    "    dic_df['speechiness'] = [] \n",
    "    dic_df['tempo'] = [] \n",
    "    dic_df['valence'] = [] \n",
    "    dic_df['popularity'] = [] \n",
    "    \n",
    "    for i in spotify_albums_aux: \n",
    "        for j in spotify_albums_aux[i]: \n",
    "            dic_df[j].extend(spotify_albums_aux[i][j]) \n",
    "            len(dic_df['album'])\n",
    "    \n",
    "    df = pd.DataFrame.from_dict(dic_df) \n",
    "    df['artist'] = artist \n",
    "    return(df)"
   ]
  },
  {
   "cell_type": "code",
   "execution_count": 22,
   "metadata": {
    "ExecuteTime": {
     "end_time": "2020-07-17T22:44:01.719560Z",
     "start_time": "2020-07-17T22:44:01.708559Z"
    }
   },
   "outputs": [],
   "source": [
    "def get_songs_features(client_id,client_secret,artist):\n",
    "\n",
    "    global album_count\n",
    "    global spotify_albums\n",
    "    global album_names\n",
    "    global album_uris\n",
    "    global sp\n",
    "    \n",
    "    client_credentials_manager = SpotifyClientCredentials(client_id=client_id, client_secret=client_secret) \n",
    "    sp = spotipy.Spotify(client_credentials_manager=client_credentials_manager) #spotify object to access API \n",
    "\n",
    "    result = sp.search(artist) #search query \n",
    "\n",
    "    #Extract Artist's uri \n",
    "    artist_uri = result['tracks']['items'][0]['artists'][0]['uri'] \n",
    "    sp_albums = sp.artist_albums(artist_uri, album_type='album') #Store artist's albums' names' and uris in separate lists \n",
    "    album_names = [i['name'] for i in sp_albums['items']]\n",
    "    album_uris = [i['uri'] for i in sp_albums['items']]\n",
    "    \n",
    "    global album_count\n",
    "    global spotify_albums\n",
    "    \n",
    "    spotify_albums = {} \n",
    "    album_count = 0 \n",
    "    sleep_min = 2 \n",
    "    sleep_max = 5 \n",
    "    start_time = time.time() \n",
    "    request_count = 0 \n",
    "    \n",
    "    for i in album_uris: #each album \n",
    "        albumSongs(i) \n",
    "        print(\"Album \" + str(album_names[album_count]) + \" songs has been added to spotify_albums dictionary\") \n",
    "        album_count+=1 #Updates album count once all tracks have been added\n",
    "        request_count+=1 \n",
    "        if request_count % 5 == 0: \n",
    "            print(str(request_count) + \" playlists completed\") \n",
    "            time.sleep(np.random.uniform(sleep_min, sleep_max)) \n",
    "            print('Loop #: {}'.format(request_count)) \n",
    "            print('Elapsed Time: {} seconds'.format(time.time() - start_time))\n",
    "    dados=get_dict_df(spotify_albums)        \n",
    "    return(dados)"
   ]
  },
  {
   "cell_type": "markdown",
   "metadata": {},
   "source": [
    "## Extração um a um"
   ]
  },
  {
   "cell_type": "code",
   "execution_count": 45,
   "metadata": {
    "ExecuteTime": {
     "end_time": "2020-07-15T01:28:33.077532Z",
     "start_time": "2020-07-15T01:27:56.695911Z"
    }
   },
   "outputs": [
    {
     "name": "stdout",
     "output_type": "stream",
     "text": [
      "Album Dior Deposits (Deluxe) songs has been added to spotify_albums dictionary\n",
      "Album Scamboy Color songs has been added to spotify_albums dictionary\n"
     ]
    }
   ],
   "source": [
    "#Variaveis entrada\n",
    "client_id= \"eadfbc70b4814c72a920301b436ebcbf\" \n",
    "client_secret= \"2aa7d68f735d48ccbe3221e09cdd8e7d\" \n",
    "artist = \"Djavan\" #chosen artist \n",
    "dados=get_songs_features(client_id,client_secret,artist)"
   ]
  },
  {
   "cell_type": "code",
   "execution_count": null,
   "metadata": {},
   "outputs": [],
   "source": [
    "dados_final=pd.concat([dados_final,dados])\n",
    "dados_final.to_csv('dados_musicas.csv', index = False)"
   ]
  },
  {
   "cell_type": "markdown",
   "metadata": {},
   "source": [
    "## Extração em massa"
   ]
  },
  {
   "cell_type": "code",
   "execution_count": 46,
   "metadata": {},
   "outputs": [
    {
     "data": {
      "text/plain": [
       "['jack johnson',\n",
       " 'o rappa',\n",
       " 'tiago iorc',\n",
       " 'duda beat',\n",
       " 'anitta',\n",
       " 'pablo vittar',\n",
       " 'Rolling Stones',\n",
       " 'Marcelo Camelo']"
      ]
     },
     "execution_count": 46,
     "metadata": {},
     "output_type": "execute_result"
    }
   ],
   "source": [
    "artistas=[\"jack johnson\",\"o rappa\",\"tiago iorc\",\"duda beat\",\"anitta\",\n",
    "          \"pablo vittar\",\"Rolling Stones\",\"Marcelo Camelo\"]\n",
    "artistas"
   ]
  },
  {
   "cell_type": "code",
   "execution_count": 47,
   "metadata": {},
   "outputs": [
    {
     "name": "stdout",
     "output_type": "stream",
     "text": [
      "jack johnson\n",
      "Album All The Light Above It Too songs has been added to spotify_albums dictionary\n",
      "Album From Here To Now To You songs has been added to spotify_albums dictionary\n",
      "Album From Here To Now To You songs has been added to spotify_albums dictionary\n",
      "Album From Here To Now To You songs has been added to spotify_albums dictionary\n",
      "Album From Here To Now To You (Commentary Version) songs has been added to spotify_albums dictionary\n",
      "5 playlists completed\n",
      "Loop #: 5\n",
      "Elapsed Time: 29.872482776641846 seconds\n",
      "Album Brushfire Fairytales [Remastered (Bonus Version)] songs has been added to spotify_albums dictionary\n",
      "Album To The Sea songs has been added to spotify_albums dictionary\n",
      "Album To The Sea songs has been added to spotify_albums dictionary\n",
      "Album To The Sea (Japan Version) songs has been added to spotify_albums dictionary\n",
      "Album To The Sea (Telus Exclusive) songs has been added to spotify_albums dictionary\n",
      "10 playlists completed\n",
      "Loop #: 10\n",
      "Elapsed Time: 64.66368246078491 seconds\n",
      "Album En Concert songs has been added to spotify_albums dictionary\n",
      "Album Sleep Through The Static: Remixed songs has been added to spotify_albums dictionary\n",
      "Album Sleep Through The Static songs has been added to spotify_albums dictionary\n",
      "Album Sleep Through The Static songs has been added to spotify_albums dictionary\n",
      "Album Jack Johnson And Friends: Sing-A-Longs And Lullabies For The Film Curious George songs has been added to spotify_albums dictionary\n",
      "15 playlists completed\n",
      "Loop #: 15\n",
      "Elapsed Time: 99.85673117637634 seconds\n",
      "Album Jack Johnson And Friends: Sing-A-Longs And Lullabies For The Film Curious George songs has been added to spotify_albums dictionary\n",
      "Album Sing-A-Longs & Lullabies For The Film Curious George songs has been added to spotify_albums dictionary\n",
      "Album In Between Dreams songs has been added to spotify_albums dictionary\n",
      "Album In Between Dreams songs has been added to spotify_albums dictionary\n",
      "Album In Between Dreams songs has been added to spotify_albums dictionary\n",
      "20 playlists completed\n",
      "Loop #: 20\n",
      "Elapsed Time: 133.6398446559906 seconds\n",
      "o rappa\n",
      "Album Marco Zero (Ao vivo) songs has been added to spotify_albums dictionary\n",
      "Album O Rappa - Acústico Oficina Francisco Brennand (Deluxe) [Ao Vivo] songs has been added to spotify_albums dictionary\n",
      "Album Nunca Tem Fim (Standard) songs has been added to spotify_albums dictionary\n",
      "Album iCollection songs has been added to spotify_albums dictionary\n",
      "Album O Rappa (Ao Vivo) songs has been added to spotify_albums dictionary\n",
      "5 playlists completed\n",
      "Loop #: 5\n",
      "Elapsed Time: 42.31390857696533 seconds\n",
      "Album O Rappa Ao Vivo songs has been added to spotify_albums dictionary\n",
      "Album O Rappa Ao Vivo songs has been added to spotify_albums dictionary\n",
      "Album 7 Vezes songs has been added to spotify_albums dictionary\n",
      "Album Acústico MTV songs has been added to spotify_albums dictionary\n",
      "Album Acústico MTV songs has been added to spotify_albums dictionary\n",
      "10 playlists completed\n",
      "Loop #: 10\n",
      "Elapsed Time: 75.08484697341919 seconds\n",
      "Album O silêncio que precede o esporro songs has been added to spotify_albums dictionary\n",
      "Album Instinto Coletivo (Versão Simples) songs has been added to spotify_albums dictionary\n",
      "Album Lado B Lado A songs has been added to spotify_albums dictionary\n",
      "Album Rappa-Mundi songs has been added to spotify_albums dictionary\n",
      "Album O Rappa songs has been added to spotify_albums dictionary\n",
      "15 playlists completed\n",
      "Loop #: 15\n",
      "Elapsed Time: 114.44479322433472 seconds\n",
      "tiago iorc\n",
      "Album N songs has been added to spotify_albums dictionary\n",
      "Album O Tempo É Agora songs has been added to spotify_albums dictionary\n",
      "Album ANAVITÓRIA songs has been added to spotify_albums dictionary\n",
      "Album ANAVITÓRIA songs has been added to spotify_albums dictionary\n",
      "duda beat\n",
      "Album Acústico MTV Tiago Iorc (Ao Vivo) songs has been added to spotify_albums dictionary\n",
      "Album Reconstrução songs has been added to spotify_albums dictionary\n",
      "Album Troco Likes Ao Vivo songs has been added to spotify_albums dictionary\n",
      "Album Troco Likes songs has been added to spotify_albums dictionary\n",
      "Album Novelas songs has been added to spotify_albums dictionary\n",
      "5 playlists completed\n",
      "Loop #: 5\n",
      "Elapsed Time: 33.946385622024536 seconds\n",
      "Album Zeski songs has been added to spotify_albums dictionary\n",
      "Album Umbilical songs has been added to spotify_albums dictionary\n",
      "Album Let Yourself In songs has been added to spotify_albums dictionary\n",
      "Album Let Yourself In songs has been added to spotify_albums dictionary\n",
      "anitta\n",
      "Album Kisses songs has been added to spotify_albums dictionary\n",
      "Album Kisses songs has been added to spotify_albums dictionary\n",
      "Album Bang songs has been added to spotify_albums dictionary\n",
      "Album Meu Lugar songs has been added to spotify_albums dictionary\n",
      "Album Ritmo Perfeito songs has been added to spotify_albums dictionary\n",
      "5 playlists completed\n",
      "Loop #: 5\n",
      "Elapsed Time: 38.66861414909363 seconds\n",
      "Album Anitta songs has been added to spotify_albums dictionary\n",
      "Album Anitta songs has been added to spotify_albums dictionary\n",
      "pablo vittar\n",
      "Album SAWAYAMA songs has been added to spotify_albums dictionary\n",
      "Album SAWAYAMA songs has been added to spotify_albums dictionary\n",
      "Album SAWAYAMA songs has been added to spotify_albums dictionary\n",
      "Album RINA songs has been added to spotify_albums dictionary\n",
      "Album RINA songs has been added to spotify_albums dictionary\n",
      "5 playlists completed\n",
      "Loop #: 5\n",
      "Elapsed Time: 28.118396043777466 seconds\n",
      "Rolling Stones\n",
      "Album Goats Head Soup (Deluxe) songs has been added to spotify_albums dictionary\n",
      "Album Bridges To Buenos Aires (Live) songs has been added to spotify_albums dictionary\n",
      "Album Bridges To Bremen (Live) songs has been added to spotify_albums dictionary\n",
      "Album Honk (Deluxe) songs has been added to spotify_albums dictionary\n",
      "Album Voodoo Lounge Uncut (Live) songs has been added to spotify_albums dictionary\n",
      "5 playlists completed\n",
      "Loop #: 5\n",
      "Elapsed Time: 71.52964210510254 seconds\n",
      "Album Voodoo Lounge Uncut (Live) songs has been added to spotify_albums dictionary\n",
      "Album From The Vault: No Security - San Jose 1999 (Live) songs has been added to spotify_albums dictionary\n",
      "Album First Hits songs has been added to spotify_albums dictionary\n",
      "Album On Air songs has been added to spotify_albums dictionary\n",
      "Album On Air (Deluxe) songs has been added to spotify_albums dictionary\n",
      "10 playlists completed\n",
      "Loop #: 10\n",
      "Elapsed Time: 124.22812581062317 seconds\n",
      "Album Sticky Fingers Live At The Fonda Theatre songs has been added to spotify_albums dictionary\n",
      "Album Ladies & Gentlemen (Live) songs has been added to spotify_albums dictionary\n",
      "Album Blue & Lonesome songs has been added to spotify_albums dictionary\n",
      "Album Havana Moon (Live) songs has been added to spotify_albums dictionary\n",
      "Album Totally Stripped - Brixton (Live) songs has been added to spotify_albums dictionary\n",
      "15 playlists completed\n",
      "Loop #: 15\n",
      "Elapsed Time: 162.0746829509735 seconds\n",
      "Album Totally Stripped - Amsterdam (Live) songs has been added to spotify_albums dictionary\n",
      "Album Totally Stripped (Live) songs has been added to spotify_albums dictionary\n",
      "Album Totally Stripped - Paris (Live) songs has been added to spotify_albums dictionary\n",
      "Album Live 1965: Music From Charlie Is My Darling (Live From England/1965) songs has been added to spotify_albums dictionary\n",
      "Album Live At The Checkerboard Lounge songs has been added to spotify_albums dictionary\n",
      "20 playlists completed\n",
      "Loop #: 20\n",
      "Elapsed Time: 204.51562809944153 seconds\n",
      "Marcelo Camelo\n",
      "Album Marcelo Camelo: Sinfonia No 1 - Primitiva songs has been added to spotify_albums dictionary\n",
      "Album Ao Vivo No Theatro São Pedro songs has been added to spotify_albums dictionary\n",
      "Album Toque Dela songs has been added to spotify_albums dictionary\n",
      "Album Sou songs has been added to spotify_albums dictionary\n"
     ]
    }
   ],
   "source": [
    "for i in artistas:\n",
    "    print(i)\n",
    "    #Variaveis entrada\n",
    "    client_id= \"eadfbc70b4814c72a920301b436ebcbf\" \n",
    "    client_secret= \"2aa7d68f735d48ccbe3221e09cdd8e7d\" \n",
    "    artist = i #chosen artist \n",
    "    dados=get_songs_features(client_id,client_secret,artist)\n",
    "    dados_final=pd.concat([dados_final,dados])\n"
   ]
  },
  {
   "cell_type": "code",
   "execution_count": 48,
   "metadata": {},
   "outputs": [],
   "source": [
    "dados_final.to_csv('dados_musicas.csv', index = False)\n"
   ]
  },
  {
   "cell_type": "markdown",
   "metadata": {},
   "source": [
    "## Leitura dos dados CSV"
   ]
  },
  {
   "cell_type": "code",
   "execution_count": 26,
   "metadata": {
    "ExecuteTime": {
     "end_time": "2020-07-17T22:44:50.083992Z",
     "start_time": "2020-07-17T22:44:50.047472Z"
    }
   },
   "outputs": [],
   "source": [
    "dados_final=pd.read_csv(\"dados_musicas.csv\")"
   ]
  },
  {
   "cell_type": "markdown",
   "metadata": {
    "ExecuteTime": {
     "end_time": "2020-07-15T01:29:11.345248Z",
     "start_time": "2020-07-15T01:29:11.337245Z"
    }
   },
   "source": [
    "## Função padroniza variável\n"
   ]
  },
  {
   "cell_type": "code",
   "execution_count": 3,
   "metadata": {
    "ExecuteTime": {
     "end_time": "2020-07-17T22:46:55.105276Z",
     "start_time": "2020-07-17T22:46:55.093279Z"
    }
   },
   "outputs": [],
   "source": [
    "def padroniza_variavel(dados,var):\n",
    "\n",
    "    media=np.mean(dados[var])\n",
    "    dp=np.std(dados[var])\n",
    "    var_pad=(dados[var]-media)/dp\n",
    "    var_pad[var_pad.isna()]=0\n",
    "    nome_novo=\"std_\"+var\n",
    "    dados[nome_novo]=var_pad\n",
    "    return(\"feito\")"
   ]
  },
  {
   "cell_type": "markdown",
   "metadata": {},
   "source": [
    "## Artistas disponíveis"
   ]
  },
  {
   "cell_type": "code",
   "execution_count": 43,
   "metadata": {
    "ExecuteTime": {
     "end_time": "2020-07-10T18:33:15.483154Z",
     "start_time": "2020-07-10T18:33:15.462124Z"
    }
   },
   "outputs": [
    {
     "data": {
      "text/plain": [
       "array(['Bruno Mars', 'Djavan', 'Jonh Mayer', 'Ed Sheeran',\n",
       "       'Marilia Mendonça', 'Caetano Veloso', 'The Killers', 'The Beatles',\n",
       "       'Queen', 'Legião Urbana', '5 a seco', 'Maria Gadu', 'Marisa Monte',\n",
       "       'Racionais MCs', 'Criolo', 'Djonga', 'ExaltaSamba',\n",
       "       'Turma do pagode', 'Tim Maia', 'Nirvana', 'red hot chili peppers',\n",
       "       'Nando reis', 'AnaVitoria', 'Chitãozinho & Xororó', 'Maneva',\n",
       "       'Natiruts'], dtype=object)"
      ]
     },
     "execution_count": 43,
     "metadata": {},
     "output_type": "execute_result"
    }
   ],
   "source": [
    "dados_final[\"artist\"].unique()"
   ]
  },
  {
   "cell_type": "markdown",
   "metadata": {},
   "source": [
    "## Análise exploratória"
   ]
  },
  {
   "cell_type": "code",
   "execution_count": 4,
   "metadata": {
    "ExecuteTime": {
     "end_time": "2020-07-17T22:45:03.718112Z",
     "start_time": "2020-07-17T22:45:03.714104Z"
    }
   },
   "outputs": [],
   "source": [
    "#Selecione 2 artistas\n",
    "\n",
    "artista1=\"Queen\"\n",
    "artista2=\"The Beatles\""
   ]
  },
  {
   "cell_type": "code",
   "execution_count": 5,
   "metadata": {},
   "outputs": [],
   "source": [
    "#Filtro nos dados\n",
    "dados_aux=dados_final[dados_final[\"artist\"].isin([artista1,artista2])]"
   ]
  },
  {
   "cell_type": "markdown",
   "metadata": {},
   "source": [
    "### Distribuição de popularidade - por Artista"
   ]
  },
  {
   "cell_type": "code",
   "execution_count": 49,
   "metadata": {
    "ExecuteTime": {
     "end_time": "2020-07-17T22:46:22.726400Z",
     "start_time": "2020-07-17T22:46:22.543739Z"
    }
   },
   "outputs": [
    {
     "data": {
      "application/vnd.plotly.v1+json": {
       "config": {
        "plotlyServerURL": "https://plot.ly"
       },
       "data": [
        {
         "autobinx": false,
         "histnorm": "probability density",
         "legendgroup": "Queen",
         "marker": {
          "color": "lightgreen"
         },
         "name": "Queen",
         "opacity": 0.7,
         "type": "histogram",
         "x": [
          47,
          58,
          48,
          58,
          48,
          49,
          50,
          56,
          47,
          45,
          56,
          70,
          46,
          46,
          45,
          47,
          60,
          55,
          15,
          18,
          17,
          20,
          17,
          18,
          18,
          17,
          17,
          18,
          20,
          26,
          17,
          16,
          15,
          16,
          24,
          31,
          55,
          51,
          66,
          58,
          55,
          66,
          46,
          54,
          48,
          41,
          45,
          55,
          43,
          46,
          1,
          0,
          0,
          2,
          0,
          3,
          0,
          0,
          1,
          0,
          0,
          1,
          0,
          0,
          20,
          14,
          17,
          20,
          17,
          27,
          16,
          21,
          17,
          12,
          14,
          18,
          13,
          15,
          55,
          53,
          71,
          78,
          63,
          54,
          53,
          61,
          68,
          59,
          49,
          43,
          50,
          48,
          43,
          47,
          51,
          57,
          56,
          43,
          61,
          57,
          49,
          58,
          47,
          79,
          50,
          61,
          46,
          59
         ],
         "xaxis": "x",
         "xbins": {
          "end": 79,
          "size": 4,
          "start": 0
         },
         "yaxis": "y"
        },
        {
         "autobinx": false,
         "histnorm": "probability density",
         "legendgroup": "The Beatles",
         "marker": {
          "color": "black"
         },
         "name": "The Beatles",
         "opacity": 0.7,
         "type": "histogram",
         "x": [
          55,
          53,
          51,
          53,
          51,
          51,
          54,
          49,
          49,
          48,
          47,
          47,
          48,
          49,
          48,
          48,
          11,
          45,
          46,
          45,
          44,
          42,
          43,
          42,
          42,
          42,
          42,
          43,
          40,
          41,
          39,
          40,
          39,
          39,
          39,
          39,
          39,
          41,
          39,
          38,
          50,
          47,
          43,
          53,
          40,
          41,
          51,
          44,
          43,
          43,
          52,
          40,
          43,
          40,
          41,
          44,
          43,
          41,
          40,
          40,
          39,
          40,
          45,
          38,
          40,
          39,
          37,
          38,
          37,
          36,
          37,
          36,
          34,
          37,
          33,
          38,
          34,
          34,
          36,
          32,
          34,
          33,
          33,
          33,
          32,
          32,
          35,
          32,
          32,
          33,
          41,
          34,
          34,
          36,
          36,
          33,
          34,
          37,
          39,
          37,
          36,
          35,
          33,
          32,
          36,
          30,
          31,
          43,
          40,
          40,
          44,
          43,
          41,
          39,
          47,
          40,
          44,
          45,
          59,
          46,
          56,
          40,
          45,
          47,
          39,
          43,
          44,
          40,
          38,
          47,
          43,
          42,
          41,
          0,
          31,
          27,
          32,
          29,
          0,
          31,
          0,
          30,
          28,
          28,
          26,
          27,
          1,
          27,
          28,
          30,
          26,
          0,
          27,
          27,
          27,
          25,
          27,
          29,
          27,
          27,
          0,
          26,
          24,
          33,
          1,
          25,
          23,
          29,
          24,
          23,
          26,
          27,
          25,
          27,
          0,
          25,
          25,
          28,
          22,
          29,
          22,
          24,
          24,
          58,
          58,
          67,
          74,
          57,
          58,
          63,
          56,
          56,
          58,
          61,
          63,
          61,
          62,
          56,
          59,
          57,
          58,
          56,
          62,
          76,
          55,
          57,
          54,
          54,
          60,
          53,
          0,
          2,
          29,
          31,
          29,
          30,
          31,
          28,
          29,
          29,
          32,
          28,
          2,
          30,
          28,
          27,
          26,
          32,
          0,
          27,
          27,
          28,
          25,
          28,
          31,
          28,
          27,
          28,
          28,
          31,
          27,
          26,
          27,
          2,
          28,
          24,
          27,
          0,
          25,
          0,
          26,
          29,
          26,
          26,
          27,
          0,
          26,
          25,
          26,
          25,
          53,
          50,
          66,
          51,
          46,
          78,
          47,
          53,
          47,
          63,
          48,
          64,
          78,
          71,
          58,
          67,
          62,
          61,
          82,
          59,
          58,
          56,
          55,
          55,
          57,
          64,
          61,
          57,
          22,
          50,
          43,
          46,
          52,
          42,
          44,
          39,
          36,
          34,
          34,
          33,
          33,
          35,
          65,
          62,
          54,
          71,
          50,
          51,
          70,
          57,
          54,
          55,
          74,
          50,
          58,
          51,
          51,
          63,
          55,
          53,
          51,
          53,
          50,
          53,
          62,
          50,
          53,
          50,
          48,
          50,
          46,
          49,
          53,
          58,
          51,
          50,
          54,
          64,
          66,
          70,
          67,
          58,
          67,
          45,
          45,
          45,
          42,
          40,
          41,
          39,
          39,
          42,
          40,
          37,
          38,
          43,
          34,
          33,
          34,
          30,
          30,
          30,
          29,
          29,
          30,
          29,
          28,
          28,
          32,
          33,
          30,
          36,
          28,
          44,
          16,
          14,
          14,
          12,
          11,
          11,
          11,
          10,
          10,
          11,
          9,
          11,
          13,
          8,
          7,
          7,
          6,
          5,
          5,
          5,
          5,
          5,
          5,
          5,
          5,
          6,
          6,
          5,
          8,
          5,
          7,
          64,
          66,
          68,
          59,
          58,
          62,
          52,
          59,
          64,
          54,
          50,
          52,
          66,
          48,
          46,
          48,
          40,
          39,
          40,
          37,
          43,
          41,
          38,
          35,
          40,
          49,
          34,
          32,
          33,
          31,
          37,
          30,
          28,
          26,
          40,
          28,
          26,
          25,
          24,
          25,
          25,
          28,
          23,
          26,
          24,
          26,
          26,
          23,
          26,
          24,
          24,
          25,
          23,
          26,
          22,
          28,
          22,
          26,
          25,
          26,
          26,
          28,
          43,
          61,
          70,
          61,
          53,
          60,
          65,
          55,
          59,
          59,
          62,
          51,
          51,
          61,
          57,
          64,
          68,
          59,
          63,
          52,
          52,
          66,
          51,
          63,
          60,
          73,
          52,
          52,
          58,
          72,
          59,
          65,
          54,
          50,
          59,
          65,
          49,
          52,
          48,
          48,
          62,
          77,
          48
         ],
         "xaxis": "x",
         "xbins": {
          "end": 82,
          "size": 4,
          "start": 0
         },
         "yaxis": "y"
        },
        {
         "legendgroup": "Queen",
         "marker": {
          "color": "lightgreen"
         },
         "mode": "lines",
         "name": "Queen",
         "showlegend": false,
         "type": "scatter",
         "x": [
          0,
          0.158,
          0.316,
          0.474,
          0.632,
          0.79,
          0.948,
          1.106,
          1.264,
          1.422,
          1.58,
          1.738,
          1.896,
          2.054,
          2.212,
          2.37,
          2.528,
          2.686,
          2.844,
          3.002,
          3.16,
          3.318,
          3.476,
          3.634,
          3.792,
          3.95,
          4.108,
          4.266,
          4.424,
          4.582,
          4.74,
          4.898,
          5.056,
          5.214,
          5.372,
          5.53,
          5.688,
          5.846,
          6.004,
          6.162,
          6.32,
          6.478,
          6.636,
          6.794,
          6.952,
          7.11,
          7.268,
          7.426,
          7.584,
          7.742,
          7.9,
          8.058,
          8.216,
          8.374,
          8.532,
          8.69,
          8.848,
          9.006,
          9.164,
          9.322,
          9.48,
          9.638,
          9.796,
          9.954,
          10.112,
          10.27,
          10.428,
          10.586,
          10.744,
          10.902,
          11.06,
          11.218,
          11.376,
          11.534,
          11.692,
          11.85,
          12.008,
          12.166,
          12.324,
          12.482,
          12.64,
          12.798,
          12.956,
          13.114,
          13.272,
          13.43,
          13.588,
          13.746,
          13.904,
          14.062,
          14.22,
          14.378,
          14.536,
          14.694,
          14.852,
          15.01,
          15.168,
          15.326,
          15.484,
          15.642,
          15.8,
          15.958,
          16.116,
          16.274,
          16.432,
          16.59,
          16.748,
          16.906,
          17.064,
          17.222,
          17.38,
          17.538,
          17.696,
          17.854,
          18.012,
          18.17,
          18.328,
          18.486,
          18.644,
          18.802,
          18.96,
          19.118,
          19.276,
          19.434,
          19.592,
          19.75,
          19.908,
          20.066,
          20.224,
          20.382,
          20.54,
          20.698,
          20.856,
          21.014,
          21.172,
          21.33,
          21.488,
          21.646,
          21.804,
          21.962,
          22.12,
          22.278,
          22.436,
          22.594,
          22.752,
          22.91,
          23.068,
          23.226,
          23.384,
          23.542,
          23.7,
          23.858,
          24.016,
          24.174,
          24.332,
          24.49,
          24.648,
          24.806,
          24.964,
          25.122,
          25.28,
          25.438,
          25.596,
          25.754,
          25.912,
          26.07,
          26.228,
          26.386,
          26.544,
          26.702,
          26.86,
          27.018,
          27.176,
          27.334,
          27.492,
          27.65,
          27.808,
          27.966,
          28.124,
          28.282,
          28.44,
          28.598,
          28.756,
          28.914,
          29.072,
          29.23,
          29.388,
          29.546,
          29.704,
          29.862,
          30.02,
          30.178,
          30.336,
          30.494,
          30.652,
          30.81,
          30.968,
          31.126,
          31.284,
          31.442,
          31.6,
          31.758,
          31.916,
          32.074,
          32.232,
          32.39,
          32.548,
          32.706,
          32.864,
          33.022,
          33.18,
          33.338,
          33.496,
          33.654,
          33.812,
          33.97,
          34.128,
          34.286,
          34.444,
          34.602,
          34.76,
          34.918,
          35.076,
          35.234,
          35.392,
          35.55,
          35.708,
          35.866,
          36.024,
          36.182,
          36.34,
          36.498,
          36.656,
          36.814,
          36.972,
          37.13,
          37.288,
          37.446,
          37.604,
          37.762,
          37.92,
          38.078,
          38.236,
          38.394,
          38.552,
          38.71,
          38.868,
          39.026,
          39.184,
          39.342,
          39.5,
          39.658,
          39.816,
          39.974,
          40.132,
          40.29,
          40.448,
          40.606,
          40.764,
          40.922,
          41.08,
          41.238,
          41.396,
          41.554,
          41.712,
          41.87,
          42.028,
          42.186,
          42.344,
          42.502,
          42.66,
          42.818,
          42.976,
          43.134,
          43.292,
          43.45,
          43.608,
          43.766,
          43.924,
          44.082,
          44.24,
          44.398,
          44.556,
          44.714,
          44.872,
          45.03,
          45.188,
          45.346,
          45.504,
          45.662,
          45.82,
          45.978,
          46.136,
          46.294,
          46.452,
          46.61,
          46.768,
          46.926,
          47.084,
          47.242,
          47.4,
          47.558,
          47.716,
          47.874,
          48.032,
          48.19,
          48.348,
          48.506,
          48.664,
          48.822,
          48.98,
          49.138,
          49.296,
          49.454,
          49.612,
          49.77,
          49.928,
          50.086,
          50.244,
          50.402,
          50.56,
          50.718,
          50.876,
          51.034,
          51.192,
          51.35,
          51.508,
          51.666,
          51.824,
          51.982,
          52.14,
          52.298,
          52.456,
          52.614,
          52.772,
          52.93,
          53.088,
          53.246,
          53.404,
          53.562,
          53.72,
          53.878,
          54.036,
          54.194,
          54.352,
          54.51,
          54.668,
          54.826,
          54.984,
          55.142,
          55.3,
          55.458,
          55.616,
          55.774,
          55.932,
          56.09,
          56.248,
          56.406,
          56.564,
          56.722,
          56.88,
          57.038,
          57.196,
          57.354,
          57.512,
          57.67,
          57.828,
          57.986,
          58.144,
          58.302,
          58.46,
          58.618,
          58.776,
          58.934,
          59.092,
          59.25,
          59.408,
          59.566,
          59.724,
          59.882,
          60.04,
          60.198,
          60.356,
          60.514,
          60.672,
          60.83,
          60.988,
          61.146,
          61.304,
          61.462,
          61.62,
          61.778,
          61.936,
          62.094,
          62.252,
          62.41,
          62.568,
          62.726,
          62.884,
          63.042,
          63.2,
          63.358,
          63.516,
          63.674,
          63.832,
          63.99,
          64.148,
          64.306,
          64.464,
          64.622,
          64.78,
          64.938,
          65.096,
          65.254,
          65.412,
          65.57,
          65.728,
          65.886,
          66.044,
          66.202,
          66.36,
          66.518,
          66.676,
          66.834,
          66.992,
          67.15,
          67.308,
          67.466,
          67.624,
          67.782,
          67.94,
          68.098,
          68.256,
          68.414,
          68.572,
          68.73,
          68.888,
          69.046,
          69.204,
          69.362,
          69.52,
          69.678,
          69.836,
          69.994,
          70.152,
          70.31,
          70.468,
          70.626,
          70.784,
          70.942,
          71.1,
          71.258,
          71.416,
          71.574,
          71.732,
          71.89,
          72.048,
          72.206,
          72.364,
          72.522,
          72.68,
          72.838,
          72.996,
          73.154,
          73.312,
          73.47,
          73.628,
          73.786,
          73.944,
          74.102,
          74.26,
          74.418,
          74.576,
          74.734,
          74.892,
          75.05,
          75.208,
          75.366,
          75.524,
          75.682,
          75.84,
          75.998,
          76.156,
          76.314,
          76.472,
          76.63,
          76.788,
          76.946,
          77.104,
          77.262,
          77.42,
          77.578,
          77.736,
          77.894,
          78.052,
          78.21,
          78.368,
          78.526,
          78.684,
          78.842
         ],
         "xaxis": "x",
         "y": [
          0.007880474950279584,
          0.0079528915516952,
          0.008024973254415575,
          0.008096728308669742,
          0.008168165791923657,
          0.008239295561975894,
          0.008310128207044293,
          0.008380674992944672,
          0.008450947807472848,
          0.008520959102110778,
          0.00859072183118764,
          0.008660249388635336,
          0.008729555542487671,
          0.008798654367280348,
          0.0088675601745179,
          0.00893628744138096,
          0.009004850737855395,
          0.009073264652471083,
          0.009141543716845366,
          0.00920970232923161,
          0.00927775467727929,
          0.009345714660216413,
          0.009413595810669919,
          0.009481411216342921,
          0.00954917344177124,
          0.009616894450383663,
          0.009684585527092641,
          0.009752257201642708,
          0.009819919172945104,
          0.009887580234626022,
          0.009955248202015916,
          0.010022929840804697,
          0.010090630797586398,
          0.01015835553251306,
          0.010226107254274478,
          0.010293887857615766,
          0.010361697863599972,
          0.010429536362816972,
          0.010497400961733945,
          0.010565287732375393,
          0.010633191165513306,
          0.010701104127539945,
          0.010769017821186822,
          0.010836921750244328,
          0.010904803688426523,
          0.01097264965251535,
          0.011040443879907848,
          0.011108168810678585,
          0.011175805074258041,
          0.011243331480815692,
          0.01131072501742412,
          0.011377960849068145,
          0.01144501232454982,
          0.01151185098732729,
          0.011578446591312202,
          0.01164476712163696,
          0.011710778820389612,
          0.011776446217300921,
          0.011841732165354016,
          0.011906597881274484,
          0.011971002990844122,
          0.012034905578969683,
          0.01209826224442331,
          0.012161028159159714,
          0.012223157132101642,
          0.01228460167727295,
          0.012345313086146769,
          0.012405241504063969,
          0.012464336010566375,
          0.012522544703477774,
          0.012579814786555546,
          0.01263609266052573,
          0.01269132401730477,
          0.012745453937202753,
          0.012798426988893686,
          0.012850187331932003,
          0.012900678821586152,
          0.01294984511575435,
          0.012997629783721999,
          0.013043976416514627,
          0.013088828738596093,
          0.013132130720658547,
          0.013173826693246958,
          0.013213861460959446,
          0.013252180416962642,
          0.013288729657561237,
          0.01332345609656005,
          0.01335630757915819,
          0.01338723299511645,
          0.013416182390940494,
          0.013443107080826007,
          0.013467959756115323,
          0.013490694593018833,
          0.01351126735836015,
          0.013529635513108568,
          0.013545758313469516,
          0.013559596909309593,
          0.013571114439700573,
          0.013580276125374411,
          0.013587049357889873,
          0.013591403785319846,
          0.013593311394278218,
          0.013592746588114572,
          0.01358968626111523,
          0.013584109868559563,
          0.013575999492491391,
          0.013565339903076283,
          0.013552118615426843,
          0.01353632594178995,
          0.013517955039000822,
          0.013497001951121558,
          0.013473465647193143,
          0.013447348054041979,
          0.013418654084093871,
          0.013387391658161064,
          0.013353571723178472,
          0.013317208264878849,
          0.013278318315406545,
          0.013236921955882287,
          0.013193042313942515,
          0.013146705556287157,
          0.0130979408762817,
          0.013046780476669032,
          0.012993259547457465,
          0.012937416239060504,
          0.012879291630774392,
          0.012818929694687483,
          0.0127563772551253,
          0.012691683943742529,
          0.01262490215038151,
          0.012556086969824047,
          0.012485296144570215,
          0.01241259000378396,
          0.012338031398551734,
          0.0122616856336051,
          0.012183620395663572,
          0.012103905678557923,
          0.012022613705298321,
          0.011939818847254249,
          0.011855597540617074,
          0.011770028200316718,
          0.01168319113156711,
          0.011595168439215299,
          0.011506043935070067,
          0.011415903043386287,
          0.0113248327046804,
          0.011232921278052444,
          0.011140258442188085,
          0.011046935095212826,
          0.010953043253568665,
          0.010858675950080705,
          0.010763927131378396,
          0.01066889155483354,
          0.010573664685172528,
          0.010478342590917743,
          0.010383021840808103,
          0.010287799400344475,
          0.010192772528601696,
          0.010098038675443163,
          0.010003695379269931,
          0.00990984016543038,
          0.009816570445411739,
          0.009723983416928919,
          0.009632175965021063,
          0.009541244564260322,
          0.00945128518217198,
          0.009362393183959478,
          0.00927466323862218,
          0.00918818922654812,
          0.009103064148658966,
          0.009019380037178145,
          0.008937227868088706,
          0.008856697475341482,
          0.008777877466869491,
          0.008700855142459553,
          0.00862571641352694,
          0.008552545724834883,
          0.008481425978195642,
          0.00841243845818633,
          0.008345662759908059,
          0.008281176718813624,
          0.008219056342625115,
          0.008159375745359588,
          0.00810220708347795,
          0.008047620494169063,
          0.007995684035778636,
          0.007946463630390303,
          0.007900023008563479,
          0.007856423656231423,
          0.007815724763760816,
          0.00777798317717279,
          0.007743253351524182,
          0.0077115873064466985,
          0.007683034583841006,
          0.007657642207721856,
          0.007635454646210378,
          0.007616513775668917,
          0.007600858846974204,
          0.007588526453924263,
          0.007579550503775054,
          0.007573962189902942,
          0.007571789966589555,
          0.007573059525926234,
          0.007577793776835886,
          0.00758601282621051,
          0.007597733962163849,
          0.007612971639398811,
          0.007631737466690739,
          0.007654040196487799,
          0.007679885716630947,
          0.007709277044196568,
          0.007742214321465573,
          0.007778694814023284,
          0.007818712910995479,
          0.007862260127425792,
          0.007909325108800797,
          0.007959893637728803,
          0.008013948642779082,
          0.008071470209487954,
          0.008132435593538321,
          0.008196819236118869,
          0.008264592781468951,
          0.008335725096614503,
          0.008410182293299717,
          0.008487927752118388,
          0.008568922148847684,
          0.008653123482986101,
          0.008740487108495714,
          0.008830965766747592,
          0.008924509621667203,
          0.009021066297074993,
          0.009120580916215095,
          0.009222996143462923,
          0.009328252228200048,
          0.00943628705084213,
          0.009547036171003076,
          0.009660432877775606,
          0.009776408242105614,
          0.00989489117123442,
          0.010015808465180024,
          0.010139084875225015,
          0.010264643164375383,
          0.010392404169751165,
          0.010522286866866262,
          0.010654208435750958,
          0.010788084328867619,
          0.01092382834076585,
          0.011061352679419916,
          0.011200568039188114,
          0.011341383675329155,
          0.011483707480008298,
          0.011627446059721352,
          0.011772504814062114,
          0.011918788015754921,
          0.01206619889187097,
          0.012214639706143959,
          0.012364011842297535,
          0.012514215888294345,
          0.012665151721413385,
          0.012816718594060382,
          0.012968815220213373,
          0.013121339862403042,
          0.013274190419126449,
          0.013427264512589812,
          0.013580459576675735,
          0.013733672945027921,
          0.013886801939146121,
          0.01403974395638282,
          0.01419239655773277,
          0.014344657555306575,
          0.014496425099378313,
          0.014647597764898981,
          0.014798074637366848,
          0.01494775539794681,
          0.015096540407732215,
          0.015244330791043465,
          0.015391028517659257,
          0.015536536483878335,
          0.01568075859231121,
          0.01582359983030416,
          0.015964966346899433,
          0.016104765528239046,
          0.01624290607132226,
          0.016379298056029515,
          0.0165138530153295,
          0.01664648400358933,
          0.016777105662911254,
          0.016905634287423244,
          0.01703198788545535,
          0.01715608623953673,
          0.017277850964153407,
          0.017397205561211097,
          0.017514075473151106,
          0.017628388133672814,
          0.017740073016020166,
          0.01784906167879447,
          0.01795528780926047,
          0.01805868726411727,
          0.01815919810771035,
          0.018256760647665772,
          0.01835131746793204,
          0.018442813459219904,
          0.018531195846834932,
          0.018616414215902027,
          0.018698420533985505,
          0.018777169171113006,
          0.01885261691721503,
          0.018924722996996653,
          0.018993449082261752,
          0.019058759301713527,
          0.019120620248259265,
          0.019179000983850877,
          0.01923387304189541,
          0.019285210427273772,
          0.019332989614008554,
          0.019377189540624472,
          0.019417791603247997,
          0.019454779646495172,
          0.01948813995219836,
          0.0195178612260258,
          0.01954393458204827,
          0.01956635352531063,
          0.019585113932465745,
          0.01960021403053106,
          0.019611654373828093,
          0.019619437819167012,
          0.019623569499338384,
          0.019624056794975267,
          0.019620909304849225,
          0.019614138814663524,
          0.019603759264407713,
          0.01958978671433673,
          0.01957223930963848,
          0.01955113724385235,
          0.019526502721101475,
          0.019498359917200943,
          0.019466734939702107,
          0.019431655786934607,
          0.01939315230610424,
          0.019351256150505806,
          0.01930600073590756,
          0.01925742119616384,
          0.01920555433810989,
          0.019150438595793184,
          0.01909211398409272,
          0.0190306220517773,
          0.018966005834052325,
          0.018898309804642816,
          0.018827579827459407,
          0.01875386310789241,
          0.01867720814377777,
          0.018597664676077128,
          0.01851528363931345,
          0.018430117111801272,
          0.018342218265710693,
          0.01825164131700162,
          0.018158441475264842,
          0.01806267489350411,
          0.017964398617893628,
          0.017863670537542963,
          0.017760549334301507,
          0.017655094432632943,
          0.017547365949590128,
          0.017437424644918664,
          0.017325331871318506,
          0.017211149524890532,
          0.01709493999579576,
          0.016976766119153403,
          0.01685669112620426,
          0.016734778595764745,
          0.01661109240599721,
          0.016485696686521605,
          0.0163586557708929,
          0.01623003414946953,
          0.016099896422696502,
          0.015968307254828253,
          0.015835331328115015,
          0.015701033297476803,
          0.015565477745689813,
          0.015428729139108529,
          0.015290851783948433,
          0.015151909783153,
          0.015011966993869608,
          0.01487108698555813,
          0.014729332998757014,
          0.014586767904530685,
          0.014443454164622714,
          0.014299453792339201,
          0.014154828314186203,
          0.014009638732285628,
          0.013863945487593636,
          0.013717808423945118,
          0.013571286752948546,
          0.013424439019753962,
          0.013277323069717894,
          0.013129996015987733,
          0.01298251420802807,
          0.012834933201111419,
          0.012687307726794104,
          0.012539691664399295,
          0.01239213801352661,
          0.012244698867608738,
          0.012097425388533515,
          0.011950367782349933,
          0.011803575276075277,
          0.011657096095619608,
          0.01151097744484322,
          0.011365265485761163,
          0.011220005319908334,
          0.011075240970876829,
          0.010931015368036787,
          0.010787370331450023,
          0.01064434655798488,
          0.010501983608639246,
          0.010360319897077008,
          0.010219392679382414,
          0.010079238045034493,
          0.009939890909103065,
          0.009801385005665653,
          0.009663752882443241,
          0.009527025896651678,
          0.009391234212063228,
          0.009256406797271667,
          0.009122571425152694,
          0.008989754673509593,
          0.00885798192689266,
          0.008727277379579294,
          0.008597664039700158,
          0.008469163734494902,
          0.008341797116680146,
          0.008215583671910021,
          0.008090541727308654,
          0.007966688461052623,
          0.007844039912979503,
          0.007722610996197729,
          0.007602415509671584,
          0.007483466151753572,
          0.00736577453463576,
          0.007249351199689927,
          0.007134205633665815,
          0.00702034628571525,
          0.006907780585209384,
          0.006796514960314975,
          0.006686554857295163,
          0.006577904760499194,
          0.006470568213004968,
          0.006364547837877456,
          0.006259845360005885,
          0.006156461628481745,
          0.006054396639479239,
          0.0059536495595999064,
          0.00585421874964244,
          0.005756101788758643,
          0.005659295498956553,
          0.0055637959699115355,
          0.005469598584046299,
          0.005376698041840688,
          0.005285088387332666,
          0.00519476303377183,
          0.005105714789387117,
          0.005017935883231058,
          0.004931417991063014,
          0.00484615226123456,
          0.004762129340540712,
          0.004679339400001241,
          0.004597772160537176,
          0.004517416918508121,
          0.004438262571076988,
          0.004360297641369521,
          0.004283510303396862,
          0.004207888406710256,
          0.004133419500758256,
          0.004060090858917487,
          0.003987889502169142,
          0.003916802222394703,
          0.0038468156052651474,
          0.00377791605269933,
          0.0037100898048681437,
          0.0036433229617225415,
          0.0035776015040244746,
          0.0035129113138610605,
          0.003449238194623698,
          0.003386567890434927,
          0.0033248861050071687,
          0.003264178519918666,
          0.0032044308122934693,
          0.003145628671873229,
          0.0030877578174700916,
          0.0030308040127911737,
          0.0029747530816264405,
          0.0029195909223928463,
          0.002865303522029202,
          0.002811876969237109,
          0.0027592974670647983,
          0.002707551344831728,
          0.0026566250693931363,
          0.0026065052557448084,
          0.002557178676969488,
          0.002508632273527541,
          0.002460853161895487
         ],
         "yaxis": "y"
        },
        {
         "legendgroup": "The Beatles",
         "marker": {
          "color": "black"
         },
         "mode": "lines",
         "name": "The Beatles",
         "showlegend": false,
         "type": "scatter",
         "x": [
          0,
          0.164,
          0.328,
          0.492,
          0.656,
          0.82,
          0.984,
          1.148,
          1.312,
          1.476,
          1.64,
          1.804,
          1.968,
          2.132,
          2.296,
          2.46,
          2.624,
          2.788,
          2.952,
          3.116,
          3.28,
          3.444,
          3.608,
          3.772,
          3.936,
          4.1,
          4.264,
          4.428,
          4.592,
          4.756,
          4.92,
          5.084,
          5.248,
          5.412,
          5.576,
          5.74,
          5.904,
          6.068,
          6.232,
          6.396,
          6.56,
          6.724,
          6.888,
          7.052,
          7.216,
          7.38,
          7.544,
          7.708,
          7.872,
          8.036,
          8.2,
          8.364,
          8.528,
          8.692,
          8.856,
          9.02,
          9.184,
          9.348,
          9.512,
          9.676,
          9.84,
          10.004,
          10.168,
          10.332,
          10.496,
          10.66,
          10.824,
          10.988,
          11.152,
          11.316,
          11.48,
          11.644,
          11.808,
          11.972,
          12.136,
          12.3,
          12.464,
          12.628,
          12.792,
          12.956,
          13.12,
          13.284,
          13.448,
          13.612,
          13.776,
          13.94,
          14.104,
          14.268,
          14.432,
          14.596,
          14.76,
          14.924,
          15.088,
          15.252,
          15.416,
          15.58,
          15.744,
          15.908,
          16.072,
          16.236,
          16.4,
          16.564,
          16.728,
          16.892,
          17.056,
          17.22,
          17.384,
          17.548,
          17.712,
          17.876,
          18.04,
          18.204,
          18.368,
          18.532,
          18.696,
          18.86,
          19.024,
          19.188,
          19.352,
          19.516,
          19.68,
          19.844,
          20.008,
          20.172,
          20.336,
          20.5,
          20.664,
          20.828,
          20.992,
          21.156,
          21.32,
          21.484,
          21.648,
          21.812,
          21.976,
          22.14,
          22.304,
          22.468,
          22.632,
          22.796,
          22.96,
          23.124,
          23.288,
          23.452,
          23.616,
          23.78,
          23.944,
          24.108,
          24.272,
          24.436,
          24.6,
          24.764,
          24.928,
          25.092,
          25.256,
          25.42,
          25.584,
          25.748,
          25.912,
          26.076,
          26.24,
          26.404,
          26.568,
          26.732,
          26.896,
          27.06,
          27.224,
          27.388,
          27.552,
          27.716,
          27.88,
          28.044,
          28.208,
          28.372,
          28.536,
          28.7,
          28.864,
          29.028,
          29.192,
          29.356,
          29.52,
          29.684,
          29.848,
          30.012,
          30.176,
          30.34,
          30.504,
          30.668,
          30.832,
          30.996,
          31.16,
          31.324,
          31.488,
          31.652,
          31.816,
          31.98,
          32.144,
          32.308,
          32.472,
          32.636,
          32.8,
          32.964,
          33.128,
          33.292,
          33.456,
          33.62,
          33.784,
          33.948,
          34.112,
          34.276,
          34.44,
          34.604,
          34.768,
          34.932,
          35.096,
          35.26,
          35.424,
          35.588,
          35.752,
          35.916,
          36.08,
          36.244,
          36.408,
          36.572,
          36.736,
          36.9,
          37.064,
          37.228,
          37.392,
          37.556,
          37.72,
          37.884,
          38.048,
          38.212,
          38.376,
          38.54,
          38.704,
          38.868,
          39.032,
          39.196,
          39.36,
          39.524,
          39.688,
          39.852,
          40.016,
          40.18,
          40.344,
          40.508,
          40.672,
          40.836,
          41,
          41.164,
          41.328,
          41.492,
          41.656,
          41.82,
          41.984,
          42.148,
          42.312,
          42.476,
          42.64,
          42.804,
          42.968,
          43.132,
          43.296,
          43.46,
          43.624,
          43.788,
          43.952,
          44.116,
          44.28,
          44.444,
          44.608,
          44.772,
          44.936,
          45.1,
          45.264,
          45.428,
          45.592,
          45.756,
          45.92,
          46.084,
          46.248,
          46.412,
          46.576,
          46.74,
          46.904,
          47.068,
          47.232,
          47.396,
          47.56,
          47.724,
          47.888,
          48.052,
          48.216,
          48.38,
          48.544,
          48.708,
          48.872,
          49.036,
          49.2,
          49.364,
          49.528,
          49.692,
          49.856,
          50.02,
          50.184,
          50.348,
          50.512,
          50.676,
          50.84,
          51.004,
          51.168,
          51.332,
          51.496,
          51.66,
          51.824,
          51.988,
          52.152,
          52.316,
          52.48,
          52.644,
          52.808,
          52.972,
          53.136,
          53.3,
          53.464,
          53.628,
          53.792,
          53.956,
          54.12,
          54.284,
          54.448,
          54.612,
          54.776,
          54.94,
          55.104,
          55.268,
          55.432,
          55.596,
          55.76,
          55.924,
          56.088,
          56.252,
          56.416,
          56.58,
          56.744,
          56.908,
          57.072,
          57.236,
          57.4,
          57.564,
          57.728,
          57.892,
          58.056,
          58.22,
          58.384,
          58.548,
          58.712,
          58.876,
          59.04,
          59.204,
          59.368,
          59.532,
          59.696,
          59.86,
          60.024,
          60.188,
          60.352,
          60.516,
          60.68,
          60.844,
          61.008,
          61.172,
          61.336,
          61.5,
          61.664,
          61.828,
          61.992,
          62.156,
          62.32,
          62.484,
          62.648,
          62.812,
          62.976,
          63.14,
          63.304,
          63.468,
          63.632,
          63.796,
          63.96,
          64.124,
          64.288,
          64.452,
          64.616,
          64.78,
          64.944,
          65.108,
          65.272,
          65.436,
          65.6,
          65.764,
          65.928,
          66.092,
          66.256,
          66.42,
          66.584,
          66.748,
          66.912,
          67.076,
          67.24,
          67.404,
          67.568,
          67.732,
          67.896,
          68.06,
          68.224,
          68.388,
          68.552,
          68.716,
          68.88,
          69.044,
          69.208,
          69.372,
          69.536,
          69.7,
          69.864,
          70.028,
          70.192,
          70.356,
          70.52,
          70.684,
          70.848,
          71.012,
          71.176,
          71.34,
          71.504,
          71.668,
          71.832,
          71.996,
          72.16,
          72.324,
          72.488,
          72.652,
          72.816,
          72.98,
          73.144,
          73.308,
          73.472,
          73.636,
          73.8,
          73.964,
          74.128,
          74.292,
          74.456,
          74.62,
          74.784,
          74.948,
          75.112,
          75.276,
          75.44,
          75.604,
          75.768,
          75.932,
          76.096,
          76.26,
          76.424,
          76.588,
          76.752,
          76.916,
          77.08,
          77.244,
          77.408,
          77.572,
          77.736,
          77.9,
          78.064,
          78.228,
          78.392,
          78.556,
          78.72,
          78.884,
          79.048,
          79.212,
          79.376,
          79.54,
          79.704,
          79.868,
          80.032,
          80.196,
          80.36,
          80.524,
          80.688,
          80.852,
          81.016,
          81.18,
          81.344,
          81.508,
          81.672,
          81.836
         ],
         "xaxis": "x",
         "y": [
          0.004118276295815382,
          0.004192974870302021,
          0.004266062917942995,
          0.004337445880999814,
          0.0044070329153873215,
          0.004474737079215268,
          0.004540475500821576,
          0.00460416952613916,
          0.0046657448454095855,
          0.00472513159942351,
          0.0047822644656281155,
          0.004837082724594197,
          0.004889530307479084,
          0.004939555825254944,
          0.0049871125805944425,
          0.005032158563416415,
          0.00507465643119253,
          0.005114573475201572,
          0.005151881573990614,
          0.005186557135361962,
          0.005218581028251393,
          0.00524793850589702,
          0.005274619121719566,
          0.0052986166393441305,
          0.005319928938191579,
          0.005338557916054596,
          0.0053545093900504576,
          0.005367792997309916,
          0.005378422096720349,
          0.005386413672992078,
          0.005391788244260372,
          0.005394569774372748,
          0.005394785590942679,
          0.005392466310177102,
          0.005387645769407144,
          0.005380360968169567,
          0.005370652018601171,
          0.005358562105820426,
          0.00534413745887988,
          0.005327427332780328,
          0.005308484001943097,
          0.005287362765440584,
          0.005264121964187552,
          0.005238823010196688,
          0.005211530427901737,
          0.005182311907450195,
          0.0051512383697652,
          0.005118384043072916,
          0.005083826550487506,
          0.0050476470081407395,
          0.005009930133237703,
          0.004970764361313836,
          0.004930241971862165,
          0.004888459221393054,
          0.004845516482882679,
          0.004801518390460834,
          0.0047565739880842395,
          0.004710796880838644,
          0.004664305387412261,
          0.004617222692185067,
          0.004569676995283985,
          0.004521801658863551,
          0.004473735347786306,
          0.004425622162797507,
          0.004377611764215924,
          0.00432985948409707,
          0.004282526424768528,
          0.004235779541589665,
          0.004189791707751204,
          0.004144741758904624,
          0.004100814515398213,
          0.004058200779896748,
          0.004017097308175946,
          0.003977706750912126,
          0.003940237564332443,
          0.0039049038876525872,
          0.003871925385307426,
          0.0038415270520763822,
          0.0038139389793199726,
          0.0037893960806768766,
          0.0037681377757229546,
          0.003750407630264453,
          0.0037364529521275664,
          0.0037265243415152333,
          0.003720875195229407,
          0.0037197611643025232,
          0.003723439564845007,
          0.003732168742195537,
          0.003746207388756658,
          0.003765813816208897,
          0.003791245183120732,
          0.003822756679307884,
          0.0038606006686419947,
          0.003905025792363818,
          0.003956276035317613,
          0.004014589757889348,
          0.004080198696798999,
          0.004153326938264349,
          0.004234189867417363,
          0.004322993098211605,
          0.004419931388407281,
          0.0045251875445563245,
          0.004638931322229954,
          0.004761318327032541,
          0.00489248892222459,
          0.005032567149031183,
          0.0051816596659368845,
          0.005339854713460492,
          0.005507221111060252,
          0.005683807292938618,
          0.00586964038959312,
          0.006064725361992898,
          0.006269044195247112,
          0.0064825551585692915,
          0.006705192138228452,
          0.006936864050012954,
          0.007177454337514101,
          0.007426820562263713,
          0.007684794091432759,
          0.007951179888416192,
          0.008225756411194378,
          0.008508275622873537,
          0.0087984631182698,
          0.009096018369814773,
          0.009400615095428647,
          0.009711901750332912,
          0.010029502144062183,
          0.010353016183189291,
          0.010682020739502283,
          0.01101607064257406,
          0.011354699794849663,
          0.011697422406547984,
          0.012043734346842945,
          0.012393114606957929,
          0.012745026869984837,
          0.013098921181433132,
          0.013454235713730063,
          0.013810398617139804,
          0.014166829948852083,
          0.014522943671318546,
          0.014878149710291985,
          0.015231856062458042,
          0.01558347094204619,
          0.015932404955371234,
          0.016278073291895002,
          0.016619897920112675,
          0.016957309776364626,
          0.0172897509345542,
          0.017616676744717674,
          0.017937557928446198,
          0.018251882619299786,
          0.01855915833658291,
          0.018858913881165944,
          0.019150701142436624,
          0.019434096805947716,
          0.019708703951886723,
          0.019974153535127905,
          0.02023010573833004,
          0.020476251190309786,
          0.020712312042744634,
          0.020938042899133133,
          0.02115323159085798,
          0.021357699796149605,
          0.02155130349872916,
          0.021733933283909126,
          0.02190551447094141,
          0.022066007081417194,
          0.022215405644531786,
          0.022353738841024345,
          0.022481068988577393,
          0.02259749137240821,
          0.0227031334256961,
          0.022798153765358806,
          0.022882741089513957,
          0.022957112943728864,
          0.023021514363872845,
          0.02307621640403305,
          0.023121514558536786,
          0.023157727087635364,
          0.023185193256846398,
          0.023204271500320516,
          0.02321533751889408,
          0.023218782323712595,
          0.023215010236459045,
          0.023204436857299775,
          0.02318748701166923,
          0.023164592686955185,
          0.023136190970022202,
          0.023102721996324523,
          0.02306462692111469,
          0.023022345922954258,
          0.022976316249382067,
          0.02292697031419708,
          0.022874733855371948,
          0.02282002416213329,
          0.022763248379230137,
          0.02270480189586675,
          0.0226450668262044,
          0.02258441058774221,
          0.022523184583274233,
          0.022461722991491163,
          0.022400341670655136,
          0.0223393371791268,
          0.022278985915869427,
          0.022219543383397367,
          0.02216124357497866,
          0.022104298487246137,
          0.022048897758720976,
          0.021995208434108567,
          0.021943374853591532,
          0.021893518665720695,
          0.02184573896189298,
          0.0218001125298086,
          0.021756694222719166,
          0.021715517440716016,
          0.021676594719766032,
          0.021639918423681955,
          0.02160546153371765,
          0.021573178530008636,
          0.02154300635863544,
          0.021514865477674804,
          0.02148866097522322,
          0.02146428375203103,
          0.02144161176107533,
          0.021420511296128514,
          0.021400838321148443,
          0.02138243983212799,
          0.021365155242898063,
          0.02134881778628084,
          0.02133325592194076,
          0.021318294742280388,
          0.021303757367779445,
          0.021289466323276763,
          0.02127524488684898,
          0.02126091840314616,
          0.021246315553302312,
          0.021231269573848723,
          0.0212156194174178,
          0.021199210848434374,
          0.021181897467447384,
          0.021163541658256013,
          0.02114401545252693,
          0.021123201307181188,
          0.021100992790445625,
          0.021077295173111504,
          0.02105202592221691,
          0.021025115095065196,
          0.02099650563220435,
          0.020966153548715095,
          0.020934028023885158,
          0.020900111390075794,
          0.020864399022309674,
          0.020826899130820368,
          0.02078763245949715,
          0.020746631893828357,
          0.020703941982587667,
          0.02065961837811341,
          0.020613727200597353,
          0.020566344332321233,
          0.020517554648251467,
          0.02046745118982211,
          0.020416134289098234,
          0.02036371065081475,
          0.020310292400025604,
          0.02025599610327399,
          0.020200941771304187,
          0.020145251851378658,
          0.020089050217240816,
          0.020032461164673932,
          0.019975608420451776,
          0.019918614172258247,
          0.019861598126873388,
          0.019804676603585564,
          0.01974796166939625,
          0.01969156032214026,
          0.019635573727153237,
          0.01958009651258579,
          0.019525216127894172,
          0.01947101226943648,
          0.01941755637647722,
          0.01936491120025667,
          0.01931313044812179,
          0.019262258504048273,
          0.019212330226214186,
          0.019163370821622464,
          0.019115395797115436,
          0.01906841098548878,
          0.01902241264479746,
          0.01897738762835974,
          0.018933313622411095,
          0.018890159447843235,
          0.01884788542198803,
          0.01880644377597647,
          0.01876577912282143,
          0.018725828971043364,
          0.018686524278382098,
          0.018647790039917393,
          0.01860954590475682,
          0.01857170681534305,
          0.0185341836633826,
          0.018496883956405443,
          0.018459712489026926,
          0.018422572013100002,
          0.018385363901113304,
          0.018347988797407695,
          0.018310347252046465,
          0.018272340332479528,
          0.018233870208485537,
          0.0181948407062537,
          0.018155157827874798,
          0.018114730232943715,
          0.01807346967942883,
          0.018031291421432016,
          0.01798811456194153,
          0.017943862359163815,
          0.01789846248550427,
          0.017851847238746305,
          0.017803953705447843,
          0.01775472387703041,
          0.01770410471947375,
          0.017652048197944345,
          0.01759851125807611,
          0.017543455765982225,
          0.017486848409405613,
          0.017428660562709992,
          0.017368868118671364,
          0.017307451290249347,
          0.01724439438569879,
          0.017179685560522844,
          0.017113316549869667,
          0.017045282385036192,
          0.01697558109776455,
          0.01690421341600093,
          0.016831182454734295,
          0.016756493405445494,
          0.01668015322757762,
          0.016602170345288936,
          0.016522554352572504,
          0.01644131572962503,
          0.016358465573124235,
          0.016274015342832657,
          0.016187976626689048,
          0.016100360926280213,
          0.016011179464309088,
          0.015920443015392784,
          0.015828161761239617,
          0.01573434517097099,
          0.015639001907073822,
          0.015542139757196231,
          0.015443765591734595,
          0.01534388534690714,
          0.015242504032769237,
          0.015139625765400764,
          0.015035253822287742,
          0.01492939071972978,
          0.014822038310933377,
          0.014713197903298843,
          0.014602870393276398,
          0.01449105641705497,
          0.01437775651525543,
          0.014262971309727913,
          0.014146701690500635,
          0.014028949010893898,
          0.013909715288797713,
          0.01378900341211329,
          0.013666817346376627,
          0.013543162342615725,
          0.013418045143540041,
          0.01329147418622069,
          0.013163459799491333,
          0.013034014394381304,
          0.012903152645983247,
          0.01277089166525603,
          0.012637251159368786,
          0.01250225357930265,
          0.01236592425354189,
          0.012228291506804514,
          0.0120893867628838,
          0.011949244630794706,
          0.011807902973542892,
          0.01166540295895787,
          0.011521789092155062,
          0.011377109229313941,
          0.01123141457258002,
          0.011084759646017201,
          0.01093720225265324,
          0.01078880341277434,
          0.010639627283735138,
          0.010489741061657173,
          0.010339214865491605,
          0.010188121604020986,
          0.010036536826469227,
          0.009884538557478742,
          0.009732207117298896,
          0.009579624928109359,
          0.009426876307476474,
          0.00927404725000951,
          0.009121225198345987,
          0.0089684988046519,
          0.008815957683872331,
          0.008663692160011054,
          0.008511793006753572,
          0.008360351183776867,
          0.008209457570110025,
          0.008059202695923572,
          0.007909676474130817,
          0.007760967933182155,
          0.0076131649524228415,
          0.007466354001366365,
          0.007320619884208906,
          0.0071760454908760905,
          0.007032711555851232,
          0.006890696425984024,
          0.006750075838422345,
          0.006610922709745347,
          0.006473306937306082,
          0.006337295213715116,
          0.006202950855314815,
          0.0060703336454071355,
          0.005939499692906428,
          0.005810501306994056,
          0.005683386888253931,
          0.00555820083666792,
          0.005434983476748941,
          0.005313770999987295,
          0.005194595424683911,
          0.0050774845731429335,
          0.0049624620660966515,
          0.004849547334138321,
          0.004738755645844376,
          0.004630098152176991,
          0.004523581946671323,
          0.00441921014083084,
          0.004316981954077559,
          0.004216892817534227,
          0.0041189344908510285,
          0.0040230951912321525,
          0.003929359733766701,
          0.003837709682124741,
          0.003748123508642645,
          0.0036605767627925076,
          0.003575042247008044,
          0.003491490198824355,
          0.003409888478280724,
          0.003330202759534354,
          0.003252396725638187,
          0.0031764322654475666,
          0.003102269671638269,
          0.003029867838841616,
          0.0029591844609311423,
          0.0028901762265289383,
          0.0028227990118377256,
          0.0027570080699470456,
          0.002692758215807785,
          0.002630004006118233,
          0.0025686999134167097,
          0.0025088004937299665,
          0.002450260547182558,
          0.00239303527102989,
          0.002337080404636242,
          0.002282352365978211,
          0.0022288083793135928,
          0.0021764065937151006,
          0.0021251061922272943,
          0.0020748674914633767,
          0.002025652031515583,
          0.001977422656108852,
          0.0019301435829815468,
          0.0018837804645294035,
          0.0018383004387992118,
          0.0017936721709665819,
          0.0017498658854777707,
          0.0017068533890784209,
          0.0016646080849920786,
          0.0016231049785486113,
          0.0015823206745968024,
          0.0015422333670664205,
          0.0015028228210729898,
          0.001464070347983174,
          0.0014259587738799533,
          0.0013884724018850439,
          0.0013515969688107483,
          0.0013153195966250561,
          0.0012796287392221606,
          0.0012445141249957869,
          0.0012099666957148434,
          0.0011759785422000267,
          0.0011425428372962682,
          0.0011096537666293617,
          0.00107730645762597,
          0.0010454969072645518,
          0.001014221909010815,
          0.0009834789793751904,
          0.0009532662845117875,
          0.0009235825672584672,
          0.0008944270749963101,
          0.0008657994886840295,
          0.0008376998533989886,
          0.0008101285106917655,
          0.0007830860330355139
         ],
         "yaxis": "y"
        }
       ],
       "layout": {
        "barmode": "overlay",
        "hovermode": "closest",
        "legend": {
         "traceorder": "reversed"
        },
        "template": {
         "data": {
          "bar": [
           {
            "error_x": {
             "color": "#2a3f5f"
            },
            "error_y": {
             "color": "#2a3f5f"
            },
            "marker": {
             "line": {
              "color": "#E5ECF6",
              "width": 0.5
             }
            },
            "type": "bar"
           }
          ],
          "barpolar": [
           {
            "marker": {
             "line": {
              "color": "#E5ECF6",
              "width": 0.5
             }
            },
            "type": "barpolar"
           }
          ],
          "carpet": [
           {
            "aaxis": {
             "endlinecolor": "#2a3f5f",
             "gridcolor": "white",
             "linecolor": "white",
             "minorgridcolor": "white",
             "startlinecolor": "#2a3f5f"
            },
            "baxis": {
             "endlinecolor": "#2a3f5f",
             "gridcolor": "white",
             "linecolor": "white",
             "minorgridcolor": "white",
             "startlinecolor": "#2a3f5f"
            },
            "type": "carpet"
           }
          ],
          "choropleth": [
           {
            "colorbar": {
             "outlinewidth": 0,
             "ticks": ""
            },
            "type": "choropleth"
           }
          ],
          "contour": [
           {
            "colorbar": {
             "outlinewidth": 0,
             "ticks": ""
            },
            "colorscale": [
             [
              0,
              "#0d0887"
             ],
             [
              0.1111111111111111,
              "#46039f"
             ],
             [
              0.2222222222222222,
              "#7201a8"
             ],
             [
              0.3333333333333333,
              "#9c179e"
             ],
             [
              0.4444444444444444,
              "#bd3786"
             ],
             [
              0.5555555555555556,
              "#d8576b"
             ],
             [
              0.6666666666666666,
              "#ed7953"
             ],
             [
              0.7777777777777778,
              "#fb9f3a"
             ],
             [
              0.8888888888888888,
              "#fdca26"
             ],
             [
              1,
              "#f0f921"
             ]
            ],
            "type": "contour"
           }
          ],
          "contourcarpet": [
           {
            "colorbar": {
             "outlinewidth": 0,
             "ticks": ""
            },
            "type": "contourcarpet"
           }
          ],
          "heatmap": [
           {
            "colorbar": {
             "outlinewidth": 0,
             "ticks": ""
            },
            "colorscale": [
             [
              0,
              "#0d0887"
             ],
             [
              0.1111111111111111,
              "#46039f"
             ],
             [
              0.2222222222222222,
              "#7201a8"
             ],
             [
              0.3333333333333333,
              "#9c179e"
             ],
             [
              0.4444444444444444,
              "#bd3786"
             ],
             [
              0.5555555555555556,
              "#d8576b"
             ],
             [
              0.6666666666666666,
              "#ed7953"
             ],
             [
              0.7777777777777778,
              "#fb9f3a"
             ],
             [
              0.8888888888888888,
              "#fdca26"
             ],
             [
              1,
              "#f0f921"
             ]
            ],
            "type": "heatmap"
           }
          ],
          "heatmapgl": [
           {
            "colorbar": {
             "outlinewidth": 0,
             "ticks": ""
            },
            "colorscale": [
             [
              0,
              "#0d0887"
             ],
             [
              0.1111111111111111,
              "#46039f"
             ],
             [
              0.2222222222222222,
              "#7201a8"
             ],
             [
              0.3333333333333333,
              "#9c179e"
             ],
             [
              0.4444444444444444,
              "#bd3786"
             ],
             [
              0.5555555555555556,
              "#d8576b"
             ],
             [
              0.6666666666666666,
              "#ed7953"
             ],
             [
              0.7777777777777778,
              "#fb9f3a"
             ],
             [
              0.8888888888888888,
              "#fdca26"
             ],
             [
              1,
              "#f0f921"
             ]
            ],
            "type": "heatmapgl"
           }
          ],
          "histogram": [
           {
            "marker": {
             "colorbar": {
              "outlinewidth": 0,
              "ticks": ""
             }
            },
            "type": "histogram"
           }
          ],
          "histogram2d": [
           {
            "colorbar": {
             "outlinewidth": 0,
             "ticks": ""
            },
            "colorscale": [
             [
              0,
              "#0d0887"
             ],
             [
              0.1111111111111111,
              "#46039f"
             ],
             [
              0.2222222222222222,
              "#7201a8"
             ],
             [
              0.3333333333333333,
              "#9c179e"
             ],
             [
              0.4444444444444444,
              "#bd3786"
             ],
             [
              0.5555555555555556,
              "#d8576b"
             ],
             [
              0.6666666666666666,
              "#ed7953"
             ],
             [
              0.7777777777777778,
              "#fb9f3a"
             ],
             [
              0.8888888888888888,
              "#fdca26"
             ],
             [
              1,
              "#f0f921"
             ]
            ],
            "type": "histogram2d"
           }
          ],
          "histogram2dcontour": [
           {
            "colorbar": {
             "outlinewidth": 0,
             "ticks": ""
            },
            "colorscale": [
             [
              0,
              "#0d0887"
             ],
             [
              0.1111111111111111,
              "#46039f"
             ],
             [
              0.2222222222222222,
              "#7201a8"
             ],
             [
              0.3333333333333333,
              "#9c179e"
             ],
             [
              0.4444444444444444,
              "#bd3786"
             ],
             [
              0.5555555555555556,
              "#d8576b"
             ],
             [
              0.6666666666666666,
              "#ed7953"
             ],
             [
              0.7777777777777778,
              "#fb9f3a"
             ],
             [
              0.8888888888888888,
              "#fdca26"
             ],
             [
              1,
              "#f0f921"
             ]
            ],
            "type": "histogram2dcontour"
           }
          ],
          "mesh3d": [
           {
            "colorbar": {
             "outlinewidth": 0,
             "ticks": ""
            },
            "type": "mesh3d"
           }
          ],
          "parcoords": [
           {
            "line": {
             "colorbar": {
              "outlinewidth": 0,
              "ticks": ""
             }
            },
            "type": "parcoords"
           }
          ],
          "pie": [
           {
            "automargin": true,
            "type": "pie"
           }
          ],
          "scatter": [
           {
            "marker": {
             "colorbar": {
              "outlinewidth": 0,
              "ticks": ""
             }
            },
            "type": "scatter"
           }
          ],
          "scatter3d": [
           {
            "line": {
             "colorbar": {
              "outlinewidth": 0,
              "ticks": ""
             }
            },
            "marker": {
             "colorbar": {
              "outlinewidth": 0,
              "ticks": ""
             }
            },
            "type": "scatter3d"
           }
          ],
          "scattercarpet": [
           {
            "marker": {
             "colorbar": {
              "outlinewidth": 0,
              "ticks": ""
             }
            },
            "type": "scattercarpet"
           }
          ],
          "scattergeo": [
           {
            "marker": {
             "colorbar": {
              "outlinewidth": 0,
              "ticks": ""
             }
            },
            "type": "scattergeo"
           }
          ],
          "scattergl": [
           {
            "marker": {
             "colorbar": {
              "outlinewidth": 0,
              "ticks": ""
             }
            },
            "type": "scattergl"
           }
          ],
          "scattermapbox": [
           {
            "marker": {
             "colorbar": {
              "outlinewidth": 0,
              "ticks": ""
             }
            },
            "type": "scattermapbox"
           }
          ],
          "scatterpolar": [
           {
            "marker": {
             "colorbar": {
              "outlinewidth": 0,
              "ticks": ""
             }
            },
            "type": "scatterpolar"
           }
          ],
          "scatterpolargl": [
           {
            "marker": {
             "colorbar": {
              "outlinewidth": 0,
              "ticks": ""
             }
            },
            "type": "scatterpolargl"
           }
          ],
          "scatterternary": [
           {
            "marker": {
             "colorbar": {
              "outlinewidth": 0,
              "ticks": ""
             }
            },
            "type": "scatterternary"
           }
          ],
          "surface": [
           {
            "colorbar": {
             "outlinewidth": 0,
             "ticks": ""
            },
            "colorscale": [
             [
              0,
              "#0d0887"
             ],
             [
              0.1111111111111111,
              "#46039f"
             ],
             [
              0.2222222222222222,
              "#7201a8"
             ],
             [
              0.3333333333333333,
              "#9c179e"
             ],
             [
              0.4444444444444444,
              "#bd3786"
             ],
             [
              0.5555555555555556,
              "#d8576b"
             ],
             [
              0.6666666666666666,
              "#ed7953"
             ],
             [
              0.7777777777777778,
              "#fb9f3a"
             ],
             [
              0.8888888888888888,
              "#fdca26"
             ],
             [
              1,
              "#f0f921"
             ]
            ],
            "type": "surface"
           }
          ],
          "table": [
           {
            "cells": {
             "fill": {
              "color": "#EBF0F8"
             },
             "line": {
              "color": "white"
             }
            },
            "header": {
             "fill": {
              "color": "#C8D4E3"
             },
             "line": {
              "color": "white"
             }
            },
            "type": "table"
           }
          ]
         },
         "layout": {
          "annotationdefaults": {
           "arrowcolor": "#2a3f5f",
           "arrowhead": 0,
           "arrowwidth": 1
          },
          "coloraxis": {
           "colorbar": {
            "outlinewidth": 0,
            "ticks": ""
           }
          },
          "colorscale": {
           "diverging": [
            [
             0,
             "#8e0152"
            ],
            [
             0.1,
             "#c51b7d"
            ],
            [
             0.2,
             "#de77ae"
            ],
            [
             0.3,
             "#f1b6da"
            ],
            [
             0.4,
             "#fde0ef"
            ],
            [
             0.5,
             "#f7f7f7"
            ],
            [
             0.6,
             "#e6f5d0"
            ],
            [
             0.7,
             "#b8e186"
            ],
            [
             0.8,
             "#7fbc41"
            ],
            [
             0.9,
             "#4d9221"
            ],
            [
             1,
             "#276419"
            ]
           ],
           "sequential": [
            [
             0,
             "#0d0887"
            ],
            [
             0.1111111111111111,
             "#46039f"
            ],
            [
             0.2222222222222222,
             "#7201a8"
            ],
            [
             0.3333333333333333,
             "#9c179e"
            ],
            [
             0.4444444444444444,
             "#bd3786"
            ],
            [
             0.5555555555555556,
             "#d8576b"
            ],
            [
             0.6666666666666666,
             "#ed7953"
            ],
            [
             0.7777777777777778,
             "#fb9f3a"
            ],
            [
             0.8888888888888888,
             "#fdca26"
            ],
            [
             1,
             "#f0f921"
            ]
           ],
           "sequentialminus": [
            [
             0,
             "#0d0887"
            ],
            [
             0.1111111111111111,
             "#46039f"
            ],
            [
             0.2222222222222222,
             "#7201a8"
            ],
            [
             0.3333333333333333,
             "#9c179e"
            ],
            [
             0.4444444444444444,
             "#bd3786"
            ],
            [
             0.5555555555555556,
             "#d8576b"
            ],
            [
             0.6666666666666666,
             "#ed7953"
            ],
            [
             0.7777777777777778,
             "#fb9f3a"
            ],
            [
             0.8888888888888888,
             "#fdca26"
            ],
            [
             1,
             "#f0f921"
            ]
           ]
          },
          "colorway": [
           "#636efa",
           "#EF553B",
           "#00cc96",
           "#ab63fa",
           "#FFA15A",
           "#19d3f3",
           "#FF6692",
           "#B6E880",
           "#FF97FF",
           "#FECB52"
          ],
          "font": {
           "color": "#2a3f5f"
          },
          "geo": {
           "bgcolor": "white",
           "lakecolor": "white",
           "landcolor": "#E5ECF6",
           "showlakes": true,
           "showland": true,
           "subunitcolor": "white"
          },
          "hoverlabel": {
           "align": "left"
          },
          "hovermode": "closest",
          "mapbox": {
           "style": "light"
          },
          "paper_bgcolor": "white",
          "plot_bgcolor": "#E5ECF6",
          "polar": {
           "angularaxis": {
            "gridcolor": "white",
            "linecolor": "white",
            "ticks": ""
           },
           "bgcolor": "#E5ECF6",
           "radialaxis": {
            "gridcolor": "white",
            "linecolor": "white",
            "ticks": ""
           }
          },
          "scene": {
           "xaxis": {
            "backgroundcolor": "#E5ECF6",
            "gridcolor": "white",
            "gridwidth": 2,
            "linecolor": "white",
            "showbackground": true,
            "ticks": "",
            "zerolinecolor": "white"
           },
           "yaxis": {
            "backgroundcolor": "#E5ECF6",
            "gridcolor": "white",
            "gridwidth": 2,
            "linecolor": "white",
            "showbackground": true,
            "ticks": "",
            "zerolinecolor": "white"
           },
           "zaxis": {
            "backgroundcolor": "#E5ECF6",
            "gridcolor": "white",
            "gridwidth": 2,
            "linecolor": "white",
            "showbackground": true,
            "ticks": "",
            "zerolinecolor": "white"
           }
          },
          "shapedefaults": {
           "line": {
            "color": "#2a3f5f"
           }
          },
          "ternary": {
           "aaxis": {
            "gridcolor": "white",
            "linecolor": "white",
            "ticks": ""
           },
           "baxis": {
            "gridcolor": "white",
            "linecolor": "white",
            "ticks": ""
           },
           "bgcolor": "#E5ECF6",
           "caxis": {
            "gridcolor": "white",
            "linecolor": "white",
            "ticks": ""
           }
          },
          "title": {
           "x": 0.05
          },
          "xaxis": {
           "automargin": true,
           "gridcolor": "white",
           "linecolor": "white",
           "ticks": "",
           "title": {
            "standoff": 15
           },
           "zerolinecolor": "white",
           "zerolinewidth": 2
          },
          "yaxis": {
           "automargin": true,
           "gridcolor": "white",
           "linecolor": "white",
           "ticks": "",
           "title": {
            "standoff": 15
           },
           "zerolinecolor": "white",
           "zerolinewidth": 2
          }
         }
        },
        "title": {
         "text": "Distribuição de popularidade da músicas"
        },
        "xaxis": {
         "anchor": "y2",
         "domain": [
          0,
          1
         ],
         "zeroline": false
        },
        "yaxis": {
         "anchor": "free",
         "domain": [
          0,
          1
         ],
         "position": 0
        }
       }
      },
      "text/html": [
       "<div>\n",
       "        \n",
       "        \n",
       "            <div id=\"7f3742f5-adfb-4bc0-b466-a91e7a5eaadf\" class=\"plotly-graph-div\" style=\"height:525px; width:100%;\"></div>\n",
       "            <script type=\"text/javascript\">\n",
       "                require([\"plotly\"], function(Plotly) {\n",
       "                    window.PLOTLYENV=window.PLOTLYENV || {};\n",
       "                    \n",
       "                if (document.getElementById(\"7f3742f5-adfb-4bc0-b466-a91e7a5eaadf\")) {\n",
       "                    Plotly.newPlot(\n",
       "                        '7f3742f5-adfb-4bc0-b466-a91e7a5eaadf',\n",
       "                        [{\"autobinx\": false, \"histnorm\": \"probability density\", \"legendgroup\": \"Queen\", \"marker\": {\"color\": \"lightgreen\"}, \"name\": \"Queen\", \"opacity\": 0.7, \"type\": \"histogram\", \"x\": [47, 58, 48, 58, 48, 49, 50, 56, 47, 45, 56, 70, 46, 46, 45, 47, 60, 55, 15, 18, 17, 20, 17, 18, 18, 17, 17, 18, 20, 26, 17, 16, 15, 16, 24, 31, 55, 51, 66, 58, 55, 66, 46, 54, 48, 41, 45, 55, 43, 46, 1, 0, 0, 2, 0, 3, 0, 0, 1, 0, 0, 1, 0, 0, 20, 14, 17, 20, 17, 27, 16, 21, 17, 12, 14, 18, 13, 15, 55, 53, 71, 78, 63, 54, 53, 61, 68, 59, 49, 43, 50, 48, 43, 47, 51, 57, 56, 43, 61, 57, 49, 58, 47, 79, 50, 61, 46, 59], \"xaxis\": \"x\", \"xbins\": {\"end\": 79.0, \"size\": 4, \"start\": 0.0}, \"yaxis\": \"y\"}, {\"autobinx\": false, \"histnorm\": \"probability density\", \"legendgroup\": \"The Beatles\", \"marker\": {\"color\": \"black\"}, \"name\": \"The Beatles\", \"opacity\": 0.7, \"type\": \"histogram\", \"x\": [55, 53, 51, 53, 51, 51, 54, 49, 49, 48, 47, 47, 48, 49, 48, 48, 11, 45, 46, 45, 44, 42, 43, 42, 42, 42, 42, 43, 40, 41, 39, 40, 39, 39, 39, 39, 39, 41, 39, 38, 50, 47, 43, 53, 40, 41, 51, 44, 43, 43, 52, 40, 43, 40, 41, 44, 43, 41, 40, 40, 39, 40, 45, 38, 40, 39, 37, 38, 37, 36, 37, 36, 34, 37, 33, 38, 34, 34, 36, 32, 34, 33, 33, 33, 32, 32, 35, 32, 32, 33, 41, 34, 34, 36, 36, 33, 34, 37, 39, 37, 36, 35, 33, 32, 36, 30, 31, 43, 40, 40, 44, 43, 41, 39, 47, 40, 44, 45, 59, 46, 56, 40, 45, 47, 39, 43, 44, 40, 38, 47, 43, 42, 41, 0, 31, 27, 32, 29, 0, 31, 0, 30, 28, 28, 26, 27, 1, 27, 28, 30, 26, 0, 27, 27, 27, 25, 27, 29, 27, 27, 0, 26, 24, 33, 1, 25, 23, 29, 24, 23, 26, 27, 25, 27, 0, 25, 25, 28, 22, 29, 22, 24, 24, 58, 58, 67, 74, 57, 58, 63, 56, 56, 58, 61, 63, 61, 62, 56, 59, 57, 58, 56, 62, 76, 55, 57, 54, 54, 60, 53, 0, 2, 29, 31, 29, 30, 31, 28, 29, 29, 32, 28, 2, 30, 28, 27, 26, 32, 0, 27, 27, 28, 25, 28, 31, 28, 27, 28, 28, 31, 27, 26, 27, 2, 28, 24, 27, 0, 25, 0, 26, 29, 26, 26, 27, 0, 26, 25, 26, 25, 53, 50, 66, 51, 46, 78, 47, 53, 47, 63, 48, 64, 78, 71, 58, 67, 62, 61, 82, 59, 58, 56, 55, 55, 57, 64, 61, 57, 22, 50, 43, 46, 52, 42, 44, 39, 36, 34, 34, 33, 33, 35, 65, 62, 54, 71, 50, 51, 70, 57, 54, 55, 74, 50, 58, 51, 51, 63, 55, 53, 51, 53, 50, 53, 62, 50, 53, 50, 48, 50, 46, 49, 53, 58, 51, 50, 54, 64, 66, 70, 67, 58, 67, 45, 45, 45, 42, 40, 41, 39, 39, 42, 40, 37, 38, 43, 34, 33, 34, 30, 30, 30, 29, 29, 30, 29, 28, 28, 32, 33, 30, 36, 28, 44, 16, 14, 14, 12, 11, 11, 11, 10, 10, 11, 9, 11, 13, 8, 7, 7, 6, 5, 5, 5, 5, 5, 5, 5, 5, 6, 6, 5, 8, 5, 7, 64, 66, 68, 59, 58, 62, 52, 59, 64, 54, 50, 52, 66, 48, 46, 48, 40, 39, 40, 37, 43, 41, 38, 35, 40, 49, 34, 32, 33, 31, 37, 30, 28, 26, 40, 28, 26, 25, 24, 25, 25, 28, 23, 26, 24, 26, 26, 23, 26, 24, 24, 25, 23, 26, 22, 28, 22, 26, 25, 26, 26, 28, 43, 61, 70, 61, 53, 60, 65, 55, 59, 59, 62, 51, 51, 61, 57, 64, 68, 59, 63, 52, 52, 66, 51, 63, 60, 73, 52, 52, 58, 72, 59, 65, 54, 50, 59, 65, 49, 52, 48, 48, 62, 77, 48], \"xaxis\": \"x\", \"xbins\": {\"end\": 82.0, \"size\": 4, \"start\": 0.0}, \"yaxis\": \"y\"}, {\"legendgroup\": \"Queen\", \"marker\": {\"color\": \"lightgreen\"}, \"mode\": \"lines\", \"name\": \"Queen\", \"showlegend\": false, \"type\": \"scatter\", \"x\": [0.0, 0.158, 0.316, 0.474, 0.632, 0.79, 0.948, 1.106, 1.264, 1.422, 1.58, 1.738, 1.896, 2.054, 2.212, 2.37, 2.528, 2.686, 2.844, 3.002, 3.16, 3.318, 3.476, 3.634, 3.792, 3.95, 4.108, 4.266, 4.424, 4.582, 4.74, 4.898, 5.056, 5.214, 5.372, 5.53, 5.688, 5.846, 6.004, 6.162, 6.32, 6.478, 6.636, 6.794, 6.952, 7.11, 7.268, 7.426, 7.584, 7.742, 7.9, 8.058, 8.216, 8.374, 8.532, 8.69, 8.848, 9.006, 9.164, 9.322, 9.48, 9.638, 9.796, 9.954, 10.112, 10.27, 10.428, 10.586, 10.744, 10.902, 11.06, 11.218, 11.376, 11.534, 11.692, 11.85, 12.008, 12.166, 12.324, 12.482, 12.64, 12.798, 12.956, 13.114, 13.272, 13.43, 13.588, 13.746, 13.904, 14.062, 14.22, 14.378, 14.536, 14.694, 14.852, 15.01, 15.168, 15.326, 15.484, 15.642, 15.8, 15.958, 16.116, 16.274, 16.432, 16.59, 16.748, 16.906, 17.064, 17.222, 17.38, 17.538, 17.696, 17.854, 18.012, 18.17, 18.328, 18.486, 18.644, 18.802, 18.96, 19.118, 19.276, 19.434, 19.592, 19.75, 19.908, 20.066, 20.224, 20.382, 20.54, 20.698, 20.856, 21.014, 21.172, 21.33, 21.488, 21.646, 21.804, 21.962, 22.12, 22.278, 22.436, 22.594, 22.752, 22.91, 23.068, 23.226, 23.384, 23.542, 23.7, 23.858, 24.016, 24.174, 24.332, 24.49, 24.648, 24.806, 24.964, 25.122, 25.28, 25.438, 25.596, 25.754, 25.912, 26.07, 26.228, 26.386, 26.544, 26.702, 26.86, 27.018, 27.176, 27.334, 27.492, 27.65, 27.808, 27.966, 28.124, 28.282, 28.44, 28.598, 28.756, 28.914, 29.072, 29.23, 29.388, 29.546, 29.704, 29.862, 30.02, 30.178, 30.336, 30.494, 30.652, 30.81, 30.968, 31.126, 31.284, 31.442, 31.6, 31.758, 31.916, 32.074, 32.232, 32.39, 32.548, 32.706, 32.864, 33.022, 33.18, 33.338, 33.496, 33.654, 33.812, 33.97, 34.128, 34.286, 34.444, 34.602, 34.76, 34.918, 35.076, 35.234, 35.392, 35.55, 35.708, 35.866, 36.024, 36.182, 36.34, 36.498, 36.656, 36.814, 36.972, 37.13, 37.288, 37.446, 37.604, 37.762, 37.92, 38.078, 38.236, 38.394, 38.552, 38.71, 38.868, 39.026, 39.184, 39.342, 39.5, 39.658, 39.816, 39.974, 40.132, 40.29, 40.448, 40.606, 40.764, 40.922, 41.08, 41.238, 41.396, 41.554, 41.712, 41.87, 42.028, 42.186, 42.344, 42.502, 42.66, 42.818, 42.976, 43.134, 43.292, 43.45, 43.608, 43.766, 43.924, 44.082, 44.24, 44.398, 44.556, 44.714, 44.872, 45.03, 45.188, 45.346, 45.504, 45.662, 45.82, 45.978, 46.136, 46.294, 46.452, 46.61, 46.768, 46.926, 47.084, 47.242, 47.4, 47.558, 47.716, 47.874, 48.032, 48.19, 48.348, 48.506, 48.664, 48.822, 48.98, 49.138, 49.296, 49.454, 49.612, 49.77, 49.928, 50.086, 50.244, 50.402, 50.56, 50.718, 50.876, 51.034, 51.192, 51.35, 51.508, 51.666, 51.824, 51.982, 52.14, 52.298, 52.456, 52.614, 52.772, 52.93, 53.088, 53.246, 53.404, 53.562, 53.72, 53.878, 54.036, 54.194, 54.352, 54.51, 54.668, 54.826, 54.984, 55.142, 55.3, 55.458, 55.616, 55.774, 55.932, 56.09, 56.248, 56.406, 56.564, 56.722, 56.88, 57.038, 57.196, 57.354, 57.512, 57.67, 57.828, 57.986, 58.144, 58.302, 58.46, 58.618, 58.776, 58.934, 59.092, 59.25, 59.408, 59.566, 59.724, 59.882, 60.04, 60.198, 60.356, 60.514, 60.672, 60.83, 60.988, 61.146, 61.304, 61.462, 61.62, 61.778, 61.936, 62.094, 62.252, 62.41, 62.568, 62.726, 62.884, 63.042, 63.2, 63.358, 63.516, 63.674, 63.832, 63.99, 64.148, 64.306, 64.464, 64.622, 64.78, 64.938, 65.096, 65.254, 65.412, 65.57, 65.728, 65.886, 66.044, 66.202, 66.36, 66.518, 66.676, 66.834, 66.992, 67.15, 67.308, 67.466, 67.624, 67.782, 67.94, 68.098, 68.256, 68.414, 68.572, 68.73, 68.888, 69.046, 69.204, 69.362, 69.52, 69.678, 69.836, 69.994, 70.152, 70.31, 70.468, 70.626, 70.784, 70.942, 71.1, 71.258, 71.416, 71.574, 71.732, 71.89, 72.048, 72.206, 72.364, 72.522, 72.68, 72.838, 72.996, 73.154, 73.312, 73.47, 73.628, 73.786, 73.944, 74.102, 74.26, 74.418, 74.576, 74.734, 74.892, 75.05, 75.208, 75.366, 75.524, 75.682, 75.84, 75.998, 76.156, 76.314, 76.472, 76.63, 76.788, 76.946, 77.104, 77.262, 77.42, 77.578, 77.736, 77.894, 78.052, 78.21, 78.368, 78.526, 78.684, 78.842], \"xaxis\": \"x\", \"y\": [0.007880474950279584, 0.0079528915516952, 0.008024973254415575, 0.008096728308669742, 0.008168165791923657, 0.008239295561975894, 0.008310128207044293, 0.008380674992944672, 0.008450947807472848, 0.008520959102110778, 0.00859072183118764, 0.008660249388635336, 0.008729555542487671, 0.008798654367280348, 0.0088675601745179, 0.00893628744138096, 0.009004850737855395, 0.009073264652471083, 0.009141543716845366, 0.00920970232923161, 0.00927775467727929, 0.009345714660216413, 0.009413595810669919, 0.009481411216342921, 0.00954917344177124, 0.009616894450383663, 0.009684585527092641, 0.009752257201642708, 0.009819919172945104, 0.009887580234626022, 0.009955248202015916, 0.010022929840804697, 0.010090630797586398, 0.01015835553251306, 0.010226107254274478, 0.010293887857615766, 0.010361697863599972, 0.010429536362816972, 0.010497400961733945, 0.010565287732375393, 0.010633191165513306, 0.010701104127539945, 0.010769017821186822, 0.010836921750244328, 0.010904803688426523, 0.01097264965251535, 0.011040443879907848, 0.011108168810678585, 0.011175805074258041, 0.011243331480815692, 0.01131072501742412, 0.011377960849068145, 0.01144501232454982, 0.01151185098732729, 0.011578446591312202, 0.01164476712163696, 0.011710778820389612, 0.011776446217300921, 0.011841732165354016, 0.011906597881274484, 0.011971002990844122, 0.012034905578969683, 0.01209826224442331, 0.012161028159159714, 0.012223157132101642, 0.01228460167727295, 0.012345313086146769, 0.012405241504063969, 0.012464336010566375, 0.012522544703477774, 0.012579814786555546, 0.01263609266052573, 0.01269132401730477, 0.012745453937202753, 0.012798426988893686, 0.012850187331932003, 0.012900678821586152, 0.01294984511575435, 0.012997629783721999, 0.013043976416514627, 0.013088828738596093, 0.013132130720658547, 0.013173826693246958, 0.013213861460959446, 0.013252180416962642, 0.013288729657561237, 0.01332345609656005, 0.01335630757915819, 0.01338723299511645, 0.013416182390940494, 0.013443107080826007, 0.013467959756115323, 0.013490694593018833, 0.01351126735836015, 0.013529635513108568, 0.013545758313469516, 0.013559596909309593, 0.013571114439700573, 0.013580276125374411, 0.013587049357889873, 0.013591403785319846, 0.013593311394278218, 0.013592746588114572, 0.01358968626111523, 0.013584109868559563, 0.013575999492491391, 0.013565339903076283, 0.013552118615426843, 0.01353632594178995, 0.013517955039000822, 0.013497001951121558, 0.013473465647193143, 0.013447348054041979, 0.013418654084093871, 0.013387391658161064, 0.013353571723178472, 0.013317208264878849, 0.013278318315406545, 0.013236921955882287, 0.013193042313942515, 0.013146705556287157, 0.0130979408762817, 0.013046780476669032, 0.012993259547457465, 0.012937416239060504, 0.012879291630774392, 0.012818929694687483, 0.0127563772551253, 0.012691683943742529, 0.01262490215038151, 0.012556086969824047, 0.012485296144570215, 0.01241259000378396, 0.012338031398551734, 0.0122616856336051, 0.012183620395663572, 0.012103905678557923, 0.012022613705298321, 0.011939818847254249, 0.011855597540617074, 0.011770028200316718, 0.01168319113156711, 0.011595168439215299, 0.011506043935070067, 0.011415903043386287, 0.0113248327046804, 0.011232921278052444, 0.011140258442188085, 0.011046935095212826, 0.010953043253568665, 0.010858675950080705, 0.010763927131378396, 0.01066889155483354, 0.010573664685172528, 0.010478342590917743, 0.010383021840808103, 0.010287799400344475, 0.010192772528601696, 0.010098038675443163, 0.010003695379269931, 0.00990984016543038, 0.009816570445411739, 0.009723983416928919, 0.009632175965021063, 0.009541244564260322, 0.00945128518217198, 0.009362393183959478, 0.00927466323862218, 0.00918818922654812, 0.009103064148658966, 0.009019380037178145, 0.008937227868088706, 0.008856697475341482, 0.008777877466869491, 0.008700855142459553, 0.00862571641352694, 0.008552545724834883, 0.008481425978195642, 0.00841243845818633, 0.008345662759908059, 0.008281176718813624, 0.008219056342625115, 0.008159375745359588, 0.00810220708347795, 0.008047620494169063, 0.007995684035778636, 0.007946463630390303, 0.007900023008563479, 0.007856423656231423, 0.007815724763760816, 0.00777798317717279, 0.007743253351524182, 0.0077115873064466985, 0.007683034583841006, 0.007657642207721856, 0.007635454646210378, 0.007616513775668917, 0.007600858846974204, 0.007588526453924263, 0.007579550503775054, 0.007573962189902942, 0.007571789966589555, 0.007573059525926234, 0.007577793776835886, 0.00758601282621051, 0.007597733962163849, 0.007612971639398811, 0.007631737466690739, 0.007654040196487799, 0.007679885716630947, 0.007709277044196568, 0.007742214321465573, 0.007778694814023284, 0.007818712910995479, 0.007862260127425792, 0.007909325108800797, 0.007959893637728803, 0.008013948642779082, 0.008071470209487954, 0.008132435593538321, 0.008196819236118869, 0.008264592781468951, 0.008335725096614503, 0.008410182293299717, 0.008487927752118388, 0.008568922148847684, 0.008653123482986101, 0.008740487108495714, 0.008830965766747592, 0.008924509621667203, 0.009021066297074993, 0.009120580916215095, 0.009222996143462923, 0.009328252228200048, 0.00943628705084213, 0.009547036171003076, 0.009660432877775606, 0.009776408242105614, 0.00989489117123442, 0.010015808465180024, 0.010139084875225015, 0.010264643164375383, 0.010392404169751165, 0.010522286866866262, 0.010654208435750958, 0.010788084328867619, 0.01092382834076585, 0.011061352679419916, 0.011200568039188114, 0.011341383675329155, 0.011483707480008298, 0.011627446059721352, 0.011772504814062114, 0.011918788015754921, 0.01206619889187097, 0.012214639706143959, 0.012364011842297535, 0.012514215888294345, 0.012665151721413385, 0.012816718594060382, 0.012968815220213373, 0.013121339862403042, 0.013274190419126449, 0.013427264512589812, 0.013580459576675735, 0.013733672945027921, 0.013886801939146121, 0.01403974395638282, 0.01419239655773277, 0.014344657555306575, 0.014496425099378313, 0.014647597764898981, 0.014798074637366848, 0.01494775539794681, 0.015096540407732215, 0.015244330791043465, 0.015391028517659257, 0.015536536483878335, 0.01568075859231121, 0.01582359983030416, 0.015964966346899433, 0.016104765528239046, 0.01624290607132226, 0.016379298056029515, 0.0165138530153295, 0.01664648400358933, 0.016777105662911254, 0.016905634287423244, 0.01703198788545535, 0.01715608623953673, 0.017277850964153407, 0.017397205561211097, 0.017514075473151106, 0.017628388133672814, 0.017740073016020166, 0.01784906167879447, 0.01795528780926047, 0.01805868726411727, 0.01815919810771035, 0.018256760647665772, 0.01835131746793204, 0.018442813459219904, 0.018531195846834932, 0.018616414215902027, 0.018698420533985505, 0.018777169171113006, 0.01885261691721503, 0.018924722996996653, 0.018993449082261752, 0.019058759301713527, 0.019120620248259265, 0.019179000983850877, 0.01923387304189541, 0.019285210427273772, 0.019332989614008554, 0.019377189540624472, 0.019417791603247997, 0.019454779646495172, 0.01948813995219836, 0.0195178612260258, 0.01954393458204827, 0.01956635352531063, 0.019585113932465745, 0.01960021403053106, 0.019611654373828093, 0.019619437819167012, 0.019623569499338384, 0.019624056794975267, 0.019620909304849225, 0.019614138814663524, 0.019603759264407713, 0.01958978671433673, 0.01957223930963848, 0.01955113724385235, 0.019526502721101475, 0.019498359917200943, 0.019466734939702107, 0.019431655786934607, 0.01939315230610424, 0.019351256150505806, 0.01930600073590756, 0.01925742119616384, 0.01920555433810989, 0.019150438595793184, 0.01909211398409272, 0.0190306220517773, 0.018966005834052325, 0.018898309804642816, 0.018827579827459407, 0.01875386310789241, 0.01867720814377777, 0.018597664676077128, 0.01851528363931345, 0.018430117111801272, 0.018342218265710693, 0.01825164131700162, 0.018158441475264842, 0.01806267489350411, 0.017964398617893628, 0.017863670537542963, 0.017760549334301507, 0.017655094432632943, 0.017547365949590128, 0.017437424644918664, 0.017325331871318506, 0.017211149524890532, 0.01709493999579576, 0.016976766119153403, 0.01685669112620426, 0.016734778595764745, 0.01661109240599721, 0.016485696686521605, 0.0163586557708929, 0.01623003414946953, 0.016099896422696502, 0.015968307254828253, 0.015835331328115015, 0.015701033297476803, 0.015565477745689813, 0.015428729139108529, 0.015290851783948433, 0.015151909783153, 0.015011966993869608, 0.01487108698555813, 0.014729332998757014, 0.014586767904530685, 0.014443454164622714, 0.014299453792339201, 0.014154828314186203, 0.014009638732285628, 0.013863945487593636, 0.013717808423945118, 0.013571286752948546, 0.013424439019753962, 0.013277323069717894, 0.013129996015987733, 0.01298251420802807, 0.012834933201111419, 0.012687307726794104, 0.012539691664399295, 0.01239213801352661, 0.012244698867608738, 0.012097425388533515, 0.011950367782349933, 0.011803575276075277, 0.011657096095619608, 0.01151097744484322, 0.011365265485761163, 0.011220005319908334, 0.011075240970876829, 0.010931015368036787, 0.010787370331450023, 0.01064434655798488, 0.010501983608639246, 0.010360319897077008, 0.010219392679382414, 0.010079238045034493, 0.009939890909103065, 0.009801385005665653, 0.009663752882443241, 0.009527025896651678, 0.009391234212063228, 0.009256406797271667, 0.009122571425152694, 0.008989754673509593, 0.00885798192689266, 0.008727277379579294, 0.008597664039700158, 0.008469163734494902, 0.008341797116680146, 0.008215583671910021, 0.008090541727308654, 0.007966688461052623, 0.007844039912979503, 0.007722610996197729, 0.007602415509671584, 0.007483466151753572, 0.00736577453463576, 0.007249351199689927, 0.007134205633665815, 0.00702034628571525, 0.006907780585209384, 0.006796514960314975, 0.006686554857295163, 0.006577904760499194, 0.006470568213004968, 0.006364547837877456, 0.006259845360005885, 0.006156461628481745, 0.006054396639479239, 0.0059536495595999064, 0.00585421874964244, 0.005756101788758643, 0.005659295498956553, 0.0055637959699115355, 0.005469598584046299, 0.005376698041840688, 0.005285088387332666, 0.00519476303377183, 0.005105714789387117, 0.005017935883231058, 0.004931417991063014, 0.00484615226123456, 0.004762129340540712, 0.004679339400001241, 0.004597772160537176, 0.004517416918508121, 0.004438262571076988, 0.004360297641369521, 0.004283510303396862, 0.004207888406710256, 0.004133419500758256, 0.004060090858917487, 0.003987889502169142, 0.003916802222394703, 0.0038468156052651474, 0.00377791605269933, 0.0037100898048681437, 0.0036433229617225415, 0.0035776015040244746, 0.0035129113138610605, 0.003449238194623698, 0.003386567890434927, 0.0033248861050071687, 0.003264178519918666, 0.0032044308122934693, 0.003145628671873229, 0.0030877578174700916, 0.0030308040127911737, 0.0029747530816264405, 0.0029195909223928463, 0.002865303522029202, 0.002811876969237109, 0.0027592974670647983, 0.002707551344831728, 0.0026566250693931363, 0.0026065052557448084, 0.002557178676969488, 0.002508632273527541, 0.002460853161895487], \"yaxis\": \"y\"}, {\"legendgroup\": \"The Beatles\", \"marker\": {\"color\": \"black\"}, \"mode\": \"lines\", \"name\": \"The Beatles\", \"showlegend\": false, \"type\": \"scatter\", \"x\": [0.0, 0.164, 0.328, 0.492, 0.656, 0.82, 0.984, 1.148, 1.312, 1.476, 1.64, 1.804, 1.968, 2.132, 2.296, 2.46, 2.624, 2.788, 2.952, 3.116, 3.28, 3.444, 3.608, 3.772, 3.936, 4.1, 4.264, 4.428, 4.592, 4.756, 4.92, 5.084, 5.248, 5.412, 5.576, 5.74, 5.904, 6.068, 6.232, 6.396, 6.56, 6.724, 6.888, 7.052, 7.216, 7.38, 7.544, 7.708, 7.872, 8.036, 8.2, 8.364, 8.528, 8.692, 8.856, 9.02, 9.184, 9.348, 9.512, 9.676, 9.84, 10.004, 10.168, 10.332, 10.496, 10.66, 10.824, 10.988, 11.152, 11.316, 11.48, 11.644, 11.808, 11.972, 12.136, 12.3, 12.464, 12.628, 12.792, 12.956, 13.12, 13.284, 13.448, 13.612, 13.776, 13.94, 14.104, 14.268, 14.432, 14.596, 14.76, 14.924, 15.088, 15.252, 15.416, 15.58, 15.744, 15.908, 16.072, 16.236, 16.4, 16.564, 16.728, 16.892, 17.056, 17.22, 17.384, 17.548, 17.712, 17.876, 18.04, 18.204, 18.368, 18.532, 18.696, 18.86, 19.024, 19.188, 19.352, 19.516, 19.68, 19.844, 20.008, 20.172, 20.336, 20.5, 20.664, 20.828, 20.992, 21.156, 21.32, 21.484, 21.648, 21.812, 21.976, 22.14, 22.304, 22.468, 22.632, 22.796, 22.96, 23.124, 23.288, 23.452, 23.616, 23.78, 23.944, 24.108, 24.272, 24.436, 24.6, 24.764, 24.928, 25.092, 25.256, 25.42, 25.584, 25.748, 25.912, 26.076, 26.24, 26.404, 26.568, 26.732, 26.896, 27.06, 27.224, 27.388, 27.552, 27.716, 27.88, 28.044, 28.208, 28.372, 28.536, 28.7, 28.864, 29.028, 29.192, 29.356, 29.52, 29.684, 29.848, 30.012, 30.176, 30.34, 30.504, 30.668, 30.832, 30.996, 31.16, 31.324, 31.488, 31.652, 31.816, 31.98, 32.144, 32.308, 32.472, 32.636, 32.8, 32.964, 33.128, 33.292, 33.456, 33.62, 33.784, 33.948, 34.112, 34.276, 34.44, 34.604, 34.768, 34.932, 35.096, 35.26, 35.424, 35.588, 35.752, 35.916, 36.08, 36.244, 36.408, 36.572, 36.736, 36.9, 37.064, 37.228, 37.392, 37.556, 37.72, 37.884, 38.048, 38.212, 38.376, 38.54, 38.704, 38.868, 39.032, 39.196, 39.36, 39.524, 39.688, 39.852, 40.016, 40.18, 40.344, 40.508, 40.672, 40.836, 41.0, 41.164, 41.328, 41.492, 41.656, 41.82, 41.984, 42.148, 42.312, 42.476, 42.64, 42.804, 42.968, 43.132, 43.296, 43.46, 43.624, 43.788, 43.952, 44.116, 44.28, 44.444, 44.608, 44.772, 44.936, 45.1, 45.264, 45.428, 45.592, 45.756, 45.92, 46.084, 46.248, 46.412, 46.576, 46.74, 46.904, 47.068, 47.232, 47.396, 47.56, 47.724, 47.888, 48.052, 48.216, 48.38, 48.544, 48.708, 48.872, 49.036, 49.2, 49.364, 49.528, 49.692, 49.856, 50.02, 50.184, 50.348, 50.512, 50.676, 50.84, 51.004, 51.168, 51.332, 51.496, 51.66, 51.824, 51.988, 52.152, 52.316, 52.48, 52.644, 52.808, 52.972, 53.136, 53.3, 53.464, 53.628, 53.792, 53.956, 54.12, 54.284, 54.448, 54.612, 54.776, 54.94, 55.104, 55.268, 55.432, 55.596, 55.76, 55.924, 56.088, 56.252, 56.416, 56.58, 56.744, 56.908, 57.072, 57.236, 57.4, 57.564, 57.728, 57.892, 58.056, 58.22, 58.384, 58.548, 58.712, 58.876, 59.04, 59.204, 59.368, 59.532, 59.696, 59.86, 60.024, 60.188, 60.352, 60.516, 60.68, 60.844, 61.008, 61.172, 61.336, 61.5, 61.664, 61.828, 61.992, 62.156, 62.32, 62.484, 62.648, 62.812, 62.976, 63.14, 63.304, 63.468, 63.632, 63.796, 63.96, 64.124, 64.288, 64.452, 64.616, 64.78, 64.944, 65.108, 65.272, 65.436, 65.6, 65.764, 65.928, 66.092, 66.256, 66.42, 66.584, 66.748, 66.912, 67.076, 67.24, 67.404, 67.568, 67.732, 67.896, 68.06, 68.224, 68.388, 68.552, 68.716, 68.88, 69.044, 69.208, 69.372, 69.536, 69.7, 69.864, 70.028, 70.192, 70.356, 70.52, 70.684, 70.848, 71.012, 71.176, 71.34, 71.504, 71.668, 71.832, 71.996, 72.16, 72.324, 72.488, 72.652, 72.816, 72.98, 73.144, 73.308, 73.472, 73.636, 73.8, 73.964, 74.128, 74.292, 74.456, 74.62, 74.784, 74.948, 75.112, 75.276, 75.44, 75.604, 75.768, 75.932, 76.096, 76.26, 76.424, 76.588, 76.752, 76.916, 77.08, 77.244, 77.408, 77.572, 77.736, 77.9, 78.064, 78.228, 78.392, 78.556, 78.72, 78.884, 79.048, 79.212, 79.376, 79.54, 79.704, 79.868, 80.032, 80.196, 80.36, 80.524, 80.688, 80.852, 81.016, 81.18, 81.344, 81.508, 81.672, 81.836], \"xaxis\": \"x\", \"y\": [0.004118276295815382, 0.004192974870302021, 0.004266062917942995, 0.004337445880999814, 0.0044070329153873215, 0.004474737079215268, 0.004540475500821576, 0.00460416952613916, 0.0046657448454095855, 0.00472513159942351, 0.0047822644656281155, 0.004837082724594197, 0.004889530307479084, 0.004939555825254944, 0.0049871125805944425, 0.005032158563416415, 0.00507465643119253, 0.005114573475201572, 0.005151881573990614, 0.005186557135361962, 0.005218581028251393, 0.00524793850589702, 0.005274619121719566, 0.0052986166393441305, 0.005319928938191579, 0.005338557916054596, 0.0053545093900504576, 0.005367792997309916, 0.005378422096720349, 0.005386413672992078, 0.005391788244260372, 0.005394569774372748, 0.005394785590942679, 0.005392466310177102, 0.005387645769407144, 0.005380360968169567, 0.005370652018601171, 0.005358562105820426, 0.00534413745887988, 0.005327427332780328, 0.005308484001943097, 0.005287362765440584, 0.005264121964187552, 0.005238823010196688, 0.005211530427901737, 0.005182311907450195, 0.0051512383697652, 0.005118384043072916, 0.005083826550487506, 0.0050476470081407395, 0.005009930133237703, 0.004970764361313836, 0.004930241971862165, 0.004888459221393054, 0.004845516482882679, 0.004801518390460834, 0.0047565739880842395, 0.004710796880838644, 0.004664305387412261, 0.004617222692185067, 0.004569676995283985, 0.004521801658863551, 0.004473735347786306, 0.004425622162797507, 0.004377611764215924, 0.00432985948409707, 0.004282526424768528, 0.004235779541589665, 0.004189791707751204, 0.004144741758904624, 0.004100814515398213, 0.004058200779896748, 0.004017097308175946, 0.003977706750912126, 0.003940237564332443, 0.0039049038876525872, 0.003871925385307426, 0.0038415270520763822, 0.0038139389793199726, 0.0037893960806768766, 0.0037681377757229546, 0.003750407630264453, 0.0037364529521275664, 0.0037265243415152333, 0.003720875195229407, 0.0037197611643025232, 0.003723439564845007, 0.003732168742195537, 0.003746207388756658, 0.003765813816208897, 0.003791245183120732, 0.003822756679307884, 0.0038606006686419947, 0.003905025792363818, 0.003956276035317613, 0.004014589757889348, 0.004080198696798999, 0.004153326938264349, 0.004234189867417363, 0.004322993098211605, 0.004419931388407281, 0.0045251875445563245, 0.004638931322229954, 0.004761318327032541, 0.00489248892222459, 0.005032567149031183, 0.0051816596659368845, 0.005339854713460492, 0.005507221111060252, 0.005683807292938618, 0.00586964038959312, 0.006064725361992898, 0.006269044195247112, 0.0064825551585692915, 0.006705192138228452, 0.006936864050012954, 0.007177454337514101, 0.007426820562263713, 0.007684794091432759, 0.007951179888416192, 0.008225756411194378, 0.008508275622873537, 0.0087984631182698, 0.009096018369814773, 0.009400615095428647, 0.009711901750332912, 0.010029502144062183, 0.010353016183189291, 0.010682020739502283, 0.01101607064257406, 0.011354699794849663, 0.011697422406547984, 0.012043734346842945, 0.012393114606957929, 0.012745026869984837, 0.013098921181433132, 0.013454235713730063, 0.013810398617139804, 0.014166829948852083, 0.014522943671318546, 0.014878149710291985, 0.015231856062458042, 0.01558347094204619, 0.015932404955371234, 0.016278073291895002, 0.016619897920112675, 0.016957309776364626, 0.0172897509345542, 0.017616676744717674, 0.017937557928446198, 0.018251882619299786, 0.01855915833658291, 0.018858913881165944, 0.019150701142436624, 0.019434096805947716, 0.019708703951886723, 0.019974153535127905, 0.02023010573833004, 0.020476251190309786, 0.020712312042744634, 0.020938042899133133, 0.02115323159085798, 0.021357699796149605, 0.02155130349872916, 0.021733933283909126, 0.02190551447094141, 0.022066007081417194, 0.022215405644531786, 0.022353738841024345, 0.022481068988577393, 0.02259749137240821, 0.0227031334256961, 0.022798153765358806, 0.022882741089513957, 0.022957112943728864, 0.023021514363872845, 0.02307621640403305, 0.023121514558536786, 0.023157727087635364, 0.023185193256846398, 0.023204271500320516, 0.02321533751889408, 0.023218782323712595, 0.023215010236459045, 0.023204436857299775, 0.02318748701166923, 0.023164592686955185, 0.023136190970022202, 0.023102721996324523, 0.02306462692111469, 0.023022345922954258, 0.022976316249382067, 0.02292697031419708, 0.022874733855371948, 0.02282002416213329, 0.022763248379230137, 0.02270480189586675, 0.0226450668262044, 0.02258441058774221, 0.022523184583274233, 0.022461722991491163, 0.022400341670655136, 0.0223393371791268, 0.022278985915869427, 0.022219543383397367, 0.02216124357497866, 0.022104298487246137, 0.022048897758720976, 0.021995208434108567, 0.021943374853591532, 0.021893518665720695, 0.02184573896189298, 0.0218001125298086, 0.021756694222719166, 0.021715517440716016, 0.021676594719766032, 0.021639918423681955, 0.02160546153371765, 0.021573178530008636, 0.02154300635863544, 0.021514865477674804, 0.02148866097522322, 0.02146428375203103, 0.02144161176107533, 0.021420511296128514, 0.021400838321148443, 0.02138243983212799, 0.021365155242898063, 0.02134881778628084, 0.02133325592194076, 0.021318294742280388, 0.021303757367779445, 0.021289466323276763, 0.02127524488684898, 0.02126091840314616, 0.021246315553302312, 0.021231269573848723, 0.0212156194174178, 0.021199210848434374, 0.021181897467447384, 0.021163541658256013, 0.02114401545252693, 0.021123201307181188, 0.021100992790445625, 0.021077295173111504, 0.02105202592221691, 0.021025115095065196, 0.02099650563220435, 0.020966153548715095, 0.020934028023885158, 0.020900111390075794, 0.020864399022309674, 0.020826899130820368, 0.02078763245949715, 0.020746631893828357, 0.020703941982587667, 0.02065961837811341, 0.020613727200597353, 0.020566344332321233, 0.020517554648251467, 0.02046745118982211, 0.020416134289098234, 0.02036371065081475, 0.020310292400025604, 0.02025599610327399, 0.020200941771304187, 0.020145251851378658, 0.020089050217240816, 0.020032461164673932, 0.019975608420451776, 0.019918614172258247, 0.019861598126873388, 0.019804676603585564, 0.01974796166939625, 0.01969156032214026, 0.019635573727153237, 0.01958009651258579, 0.019525216127894172, 0.01947101226943648, 0.01941755637647722, 0.01936491120025667, 0.01931313044812179, 0.019262258504048273, 0.019212330226214186, 0.019163370821622464, 0.019115395797115436, 0.01906841098548878, 0.01902241264479746, 0.01897738762835974, 0.018933313622411095, 0.018890159447843235, 0.01884788542198803, 0.01880644377597647, 0.01876577912282143, 0.018725828971043364, 0.018686524278382098, 0.018647790039917393, 0.01860954590475682, 0.01857170681534305, 0.0185341836633826, 0.018496883956405443, 0.018459712489026926, 0.018422572013100002, 0.018385363901113304, 0.018347988797407695, 0.018310347252046465, 0.018272340332479528, 0.018233870208485537, 0.0181948407062537, 0.018155157827874798, 0.018114730232943715, 0.01807346967942883, 0.018031291421432016, 0.01798811456194153, 0.017943862359163815, 0.01789846248550427, 0.017851847238746305, 0.017803953705447843, 0.01775472387703041, 0.01770410471947375, 0.017652048197944345, 0.01759851125807611, 0.017543455765982225, 0.017486848409405613, 0.017428660562709992, 0.017368868118671364, 0.017307451290249347, 0.01724439438569879, 0.017179685560522844, 0.017113316549869667, 0.017045282385036192, 0.01697558109776455, 0.01690421341600093, 0.016831182454734295, 0.016756493405445494, 0.01668015322757762, 0.016602170345288936, 0.016522554352572504, 0.01644131572962503, 0.016358465573124235, 0.016274015342832657, 0.016187976626689048, 0.016100360926280213, 0.016011179464309088, 0.015920443015392784, 0.015828161761239617, 0.01573434517097099, 0.015639001907073822, 0.015542139757196231, 0.015443765591734595, 0.01534388534690714, 0.015242504032769237, 0.015139625765400764, 0.015035253822287742, 0.01492939071972978, 0.014822038310933377, 0.014713197903298843, 0.014602870393276398, 0.01449105641705497, 0.01437775651525543, 0.014262971309727913, 0.014146701690500635, 0.014028949010893898, 0.013909715288797713, 0.01378900341211329, 0.013666817346376627, 0.013543162342615725, 0.013418045143540041, 0.01329147418622069, 0.013163459799491333, 0.013034014394381304, 0.012903152645983247, 0.01277089166525603, 0.012637251159368786, 0.01250225357930265, 0.01236592425354189, 0.012228291506804514, 0.0120893867628838, 0.011949244630794706, 0.011807902973542892, 0.01166540295895787, 0.011521789092155062, 0.011377109229313941, 0.01123141457258002, 0.011084759646017201, 0.01093720225265324, 0.01078880341277434, 0.010639627283735138, 0.010489741061657173, 0.010339214865491605, 0.010188121604020986, 0.010036536826469227, 0.009884538557478742, 0.009732207117298896, 0.009579624928109359, 0.009426876307476474, 0.00927404725000951, 0.009121225198345987, 0.0089684988046519, 0.008815957683872331, 0.008663692160011054, 0.008511793006753572, 0.008360351183776867, 0.008209457570110025, 0.008059202695923572, 0.007909676474130817, 0.007760967933182155, 0.0076131649524228415, 0.007466354001366365, 0.007320619884208906, 0.0071760454908760905, 0.007032711555851232, 0.006890696425984024, 0.006750075838422345, 0.006610922709745347, 0.006473306937306082, 0.006337295213715116, 0.006202950855314815, 0.0060703336454071355, 0.005939499692906428, 0.005810501306994056, 0.005683386888253931, 0.00555820083666792, 0.005434983476748941, 0.005313770999987295, 0.005194595424683911, 0.0050774845731429335, 0.0049624620660966515, 0.004849547334138321, 0.004738755645844376, 0.004630098152176991, 0.004523581946671323, 0.00441921014083084, 0.004316981954077559, 0.004216892817534227, 0.0041189344908510285, 0.0040230951912321525, 0.003929359733766701, 0.003837709682124741, 0.003748123508642645, 0.0036605767627925076, 0.003575042247008044, 0.003491490198824355, 0.003409888478280724, 0.003330202759534354, 0.003252396725638187, 0.0031764322654475666, 0.003102269671638269, 0.003029867838841616, 0.0029591844609311423, 0.0028901762265289383, 0.0028227990118377256, 0.0027570080699470456, 0.002692758215807785, 0.002630004006118233, 0.0025686999134167097, 0.0025088004937299665, 0.002450260547182558, 0.00239303527102989, 0.002337080404636242, 0.002282352365978211, 0.0022288083793135928, 0.0021764065937151006, 0.0021251061922272943, 0.0020748674914633767, 0.002025652031515583, 0.001977422656108852, 0.0019301435829815468, 0.0018837804645294035, 0.0018383004387992118, 0.0017936721709665819, 0.0017498658854777707, 0.0017068533890784209, 0.0016646080849920786, 0.0016231049785486113, 0.0015823206745968024, 0.0015422333670664205, 0.0015028228210729898, 0.001464070347983174, 0.0014259587738799533, 0.0013884724018850439, 0.0013515969688107483, 0.0013153195966250561, 0.0012796287392221606, 0.0012445141249957869, 0.0012099666957148434, 0.0011759785422000267, 0.0011425428372962682, 0.0011096537666293617, 0.00107730645762597, 0.0010454969072645518, 0.001014221909010815, 0.0009834789793751904, 0.0009532662845117875, 0.0009235825672584672, 0.0008944270749963101, 0.0008657994886840295, 0.0008376998533989886, 0.0008101285106917655, 0.0007830860330355139], \"yaxis\": \"y\"}],\n",
       "                        {\"barmode\": \"overlay\", \"hovermode\": \"closest\", \"legend\": {\"traceorder\": \"reversed\"}, \"template\": {\"data\": {\"bar\": [{\"error_x\": {\"color\": \"#2a3f5f\"}, \"error_y\": {\"color\": \"#2a3f5f\"}, \"marker\": {\"line\": {\"color\": \"#E5ECF6\", \"width\": 0.5}}, \"type\": \"bar\"}], \"barpolar\": [{\"marker\": {\"line\": {\"color\": \"#E5ECF6\", \"width\": 0.5}}, \"type\": \"barpolar\"}], \"carpet\": [{\"aaxis\": {\"endlinecolor\": \"#2a3f5f\", \"gridcolor\": \"white\", \"linecolor\": \"white\", \"minorgridcolor\": \"white\", \"startlinecolor\": \"#2a3f5f\"}, \"baxis\": {\"endlinecolor\": \"#2a3f5f\", \"gridcolor\": \"white\", \"linecolor\": \"white\", \"minorgridcolor\": \"white\", \"startlinecolor\": \"#2a3f5f\"}, \"type\": \"carpet\"}], \"choropleth\": [{\"colorbar\": {\"outlinewidth\": 0, \"ticks\": \"\"}, \"type\": \"choropleth\"}], \"contour\": [{\"colorbar\": {\"outlinewidth\": 0, \"ticks\": \"\"}, \"colorscale\": [[0.0, \"#0d0887\"], [0.1111111111111111, \"#46039f\"], [0.2222222222222222, \"#7201a8\"], [0.3333333333333333, \"#9c179e\"], [0.4444444444444444, \"#bd3786\"], [0.5555555555555556, \"#d8576b\"], [0.6666666666666666, \"#ed7953\"], [0.7777777777777778, \"#fb9f3a\"], [0.8888888888888888, \"#fdca26\"], [1.0, \"#f0f921\"]], \"type\": \"contour\"}], \"contourcarpet\": [{\"colorbar\": {\"outlinewidth\": 0, \"ticks\": \"\"}, \"type\": \"contourcarpet\"}], \"heatmap\": [{\"colorbar\": {\"outlinewidth\": 0, \"ticks\": \"\"}, \"colorscale\": [[0.0, \"#0d0887\"], [0.1111111111111111, \"#46039f\"], [0.2222222222222222, \"#7201a8\"], [0.3333333333333333, \"#9c179e\"], [0.4444444444444444, \"#bd3786\"], [0.5555555555555556, \"#d8576b\"], [0.6666666666666666, \"#ed7953\"], [0.7777777777777778, \"#fb9f3a\"], [0.8888888888888888, \"#fdca26\"], [1.0, \"#f0f921\"]], \"type\": \"heatmap\"}], \"heatmapgl\": [{\"colorbar\": {\"outlinewidth\": 0, \"ticks\": \"\"}, \"colorscale\": [[0.0, \"#0d0887\"], [0.1111111111111111, \"#46039f\"], [0.2222222222222222, \"#7201a8\"], [0.3333333333333333, \"#9c179e\"], [0.4444444444444444, \"#bd3786\"], [0.5555555555555556, \"#d8576b\"], [0.6666666666666666, \"#ed7953\"], [0.7777777777777778, \"#fb9f3a\"], [0.8888888888888888, \"#fdca26\"], [1.0, \"#f0f921\"]], \"type\": \"heatmapgl\"}], \"histogram\": [{\"marker\": {\"colorbar\": {\"outlinewidth\": 0, \"ticks\": \"\"}}, \"type\": \"histogram\"}], \"histogram2d\": [{\"colorbar\": {\"outlinewidth\": 0, \"ticks\": \"\"}, \"colorscale\": [[0.0, \"#0d0887\"], [0.1111111111111111, \"#46039f\"], [0.2222222222222222, \"#7201a8\"], [0.3333333333333333, \"#9c179e\"], [0.4444444444444444, \"#bd3786\"], [0.5555555555555556, \"#d8576b\"], [0.6666666666666666, \"#ed7953\"], [0.7777777777777778, \"#fb9f3a\"], [0.8888888888888888, \"#fdca26\"], [1.0, \"#f0f921\"]], \"type\": \"histogram2d\"}], \"histogram2dcontour\": [{\"colorbar\": {\"outlinewidth\": 0, \"ticks\": \"\"}, \"colorscale\": [[0.0, \"#0d0887\"], [0.1111111111111111, \"#46039f\"], [0.2222222222222222, \"#7201a8\"], [0.3333333333333333, \"#9c179e\"], [0.4444444444444444, \"#bd3786\"], [0.5555555555555556, \"#d8576b\"], [0.6666666666666666, \"#ed7953\"], [0.7777777777777778, \"#fb9f3a\"], [0.8888888888888888, \"#fdca26\"], [1.0, \"#f0f921\"]], \"type\": \"histogram2dcontour\"}], \"mesh3d\": [{\"colorbar\": {\"outlinewidth\": 0, \"ticks\": \"\"}, \"type\": \"mesh3d\"}], \"parcoords\": [{\"line\": {\"colorbar\": {\"outlinewidth\": 0, \"ticks\": \"\"}}, \"type\": \"parcoords\"}], \"pie\": [{\"automargin\": true, \"type\": \"pie\"}], \"scatter\": [{\"marker\": {\"colorbar\": {\"outlinewidth\": 0, \"ticks\": \"\"}}, \"type\": \"scatter\"}], \"scatter3d\": [{\"line\": {\"colorbar\": {\"outlinewidth\": 0, \"ticks\": \"\"}}, \"marker\": {\"colorbar\": {\"outlinewidth\": 0, \"ticks\": \"\"}}, \"type\": \"scatter3d\"}], \"scattercarpet\": [{\"marker\": {\"colorbar\": {\"outlinewidth\": 0, \"ticks\": \"\"}}, \"type\": \"scattercarpet\"}], \"scattergeo\": [{\"marker\": {\"colorbar\": {\"outlinewidth\": 0, \"ticks\": \"\"}}, \"type\": \"scattergeo\"}], \"scattergl\": [{\"marker\": {\"colorbar\": {\"outlinewidth\": 0, \"ticks\": \"\"}}, \"type\": \"scattergl\"}], \"scattermapbox\": [{\"marker\": {\"colorbar\": {\"outlinewidth\": 0, \"ticks\": \"\"}}, \"type\": \"scattermapbox\"}], \"scatterpolar\": [{\"marker\": {\"colorbar\": {\"outlinewidth\": 0, \"ticks\": \"\"}}, \"type\": \"scatterpolar\"}], \"scatterpolargl\": [{\"marker\": {\"colorbar\": {\"outlinewidth\": 0, \"ticks\": \"\"}}, \"type\": \"scatterpolargl\"}], \"scatterternary\": [{\"marker\": {\"colorbar\": {\"outlinewidth\": 0, \"ticks\": \"\"}}, \"type\": \"scatterternary\"}], \"surface\": [{\"colorbar\": {\"outlinewidth\": 0, \"ticks\": \"\"}, \"colorscale\": [[0.0, \"#0d0887\"], [0.1111111111111111, \"#46039f\"], [0.2222222222222222, \"#7201a8\"], [0.3333333333333333, \"#9c179e\"], [0.4444444444444444, \"#bd3786\"], [0.5555555555555556, \"#d8576b\"], [0.6666666666666666, \"#ed7953\"], [0.7777777777777778, \"#fb9f3a\"], [0.8888888888888888, \"#fdca26\"], [1.0, \"#f0f921\"]], \"type\": \"surface\"}], \"table\": [{\"cells\": {\"fill\": {\"color\": \"#EBF0F8\"}, \"line\": {\"color\": \"white\"}}, \"header\": {\"fill\": {\"color\": \"#C8D4E3\"}, \"line\": {\"color\": \"white\"}}, \"type\": \"table\"}]}, \"layout\": {\"annotationdefaults\": {\"arrowcolor\": \"#2a3f5f\", \"arrowhead\": 0, \"arrowwidth\": 1}, \"coloraxis\": {\"colorbar\": {\"outlinewidth\": 0, \"ticks\": \"\"}}, \"colorscale\": {\"diverging\": [[0, \"#8e0152\"], [0.1, \"#c51b7d\"], [0.2, \"#de77ae\"], [0.3, \"#f1b6da\"], [0.4, \"#fde0ef\"], [0.5, \"#f7f7f7\"], [0.6, \"#e6f5d0\"], [0.7, \"#b8e186\"], [0.8, \"#7fbc41\"], [0.9, \"#4d9221\"], [1, \"#276419\"]], \"sequential\": [[0.0, \"#0d0887\"], [0.1111111111111111, \"#46039f\"], [0.2222222222222222, \"#7201a8\"], [0.3333333333333333, \"#9c179e\"], [0.4444444444444444, \"#bd3786\"], [0.5555555555555556, \"#d8576b\"], [0.6666666666666666, \"#ed7953\"], [0.7777777777777778, \"#fb9f3a\"], [0.8888888888888888, \"#fdca26\"], [1.0, \"#f0f921\"]], \"sequentialminus\": [[0.0, \"#0d0887\"], [0.1111111111111111, \"#46039f\"], [0.2222222222222222, \"#7201a8\"], [0.3333333333333333, \"#9c179e\"], [0.4444444444444444, \"#bd3786\"], [0.5555555555555556, \"#d8576b\"], [0.6666666666666666, \"#ed7953\"], [0.7777777777777778, \"#fb9f3a\"], [0.8888888888888888, \"#fdca26\"], [1.0, \"#f0f921\"]]}, \"colorway\": [\"#636efa\", \"#EF553B\", \"#00cc96\", \"#ab63fa\", \"#FFA15A\", \"#19d3f3\", \"#FF6692\", \"#B6E880\", \"#FF97FF\", \"#FECB52\"], \"font\": {\"color\": \"#2a3f5f\"}, \"geo\": {\"bgcolor\": \"white\", \"lakecolor\": \"white\", \"landcolor\": \"#E5ECF6\", \"showlakes\": true, \"showland\": true, \"subunitcolor\": \"white\"}, \"hoverlabel\": {\"align\": \"left\"}, \"hovermode\": \"closest\", \"mapbox\": {\"style\": \"light\"}, \"paper_bgcolor\": \"white\", \"plot_bgcolor\": \"#E5ECF6\", \"polar\": {\"angularaxis\": {\"gridcolor\": \"white\", \"linecolor\": \"white\", \"ticks\": \"\"}, \"bgcolor\": \"#E5ECF6\", \"radialaxis\": {\"gridcolor\": \"white\", \"linecolor\": \"white\", \"ticks\": \"\"}}, \"scene\": {\"xaxis\": {\"backgroundcolor\": \"#E5ECF6\", \"gridcolor\": \"white\", \"gridwidth\": 2, \"linecolor\": \"white\", \"showbackground\": true, \"ticks\": \"\", \"zerolinecolor\": \"white\"}, \"yaxis\": {\"backgroundcolor\": \"#E5ECF6\", \"gridcolor\": \"white\", \"gridwidth\": 2, \"linecolor\": \"white\", \"showbackground\": true, \"ticks\": \"\", \"zerolinecolor\": \"white\"}, \"zaxis\": {\"backgroundcolor\": \"#E5ECF6\", \"gridcolor\": \"white\", \"gridwidth\": 2, \"linecolor\": \"white\", \"showbackground\": true, \"ticks\": \"\", \"zerolinecolor\": \"white\"}}, \"shapedefaults\": {\"line\": {\"color\": \"#2a3f5f\"}}, \"ternary\": {\"aaxis\": {\"gridcolor\": \"white\", \"linecolor\": \"white\", \"ticks\": \"\"}, \"baxis\": {\"gridcolor\": \"white\", \"linecolor\": \"white\", \"ticks\": \"\"}, \"bgcolor\": \"#E5ECF6\", \"caxis\": {\"gridcolor\": \"white\", \"linecolor\": \"white\", \"ticks\": \"\"}}, \"title\": {\"x\": 0.05}, \"xaxis\": {\"automargin\": true, \"gridcolor\": \"white\", \"linecolor\": \"white\", \"ticks\": \"\", \"title\": {\"standoff\": 15}, \"zerolinecolor\": \"white\", \"zerolinewidth\": 2}, \"yaxis\": {\"automargin\": true, \"gridcolor\": \"white\", \"linecolor\": \"white\", \"ticks\": \"\", \"title\": {\"standoff\": 15}, \"zerolinecolor\": \"white\", \"zerolinewidth\": 2}}}, \"title\": {\"text\": \"Distribui\\u00e7\\u00e3o de popularidade da m\\u00fasicas\"}, \"xaxis\": {\"anchor\": \"y2\", \"domain\": [0.0, 1.0], \"zeroline\": false}, \"yaxis\": {\"anchor\": \"free\", \"domain\": [0.0, 1], \"position\": 0.0}},\n",
       "                        {\"responsive\": true}\n",
       "                    ).then(function(){\n",
       "                            \n",
       "var gd = document.getElementById('7f3742f5-adfb-4bc0-b466-a91e7a5eaadf');\n",
       "var x = new MutationObserver(function (mutations, observer) {{\n",
       "        var display = window.getComputedStyle(gd).display;\n",
       "        if (!display || display === 'none') {{\n",
       "            console.log([gd, 'removed!']);\n",
       "            Plotly.purge(gd);\n",
       "            observer.disconnect();\n",
       "        }}\n",
       "}});\n",
       "\n",
       "// Listen for the removal of the full notebook cells\n",
       "var notebookContainer = gd.closest('#notebook-container');\n",
       "if (notebookContainer) {{\n",
       "    x.observe(notebookContainer, {childList: true});\n",
       "}}\n",
       "\n",
       "// Listen for the clearing of the current output cell\n",
       "var outputEl = gd.closest('.output');\n",
       "if (outputEl) {{\n",
       "    x.observe(outputEl, {childList: true});\n",
       "}}\n",
       "\n",
       "                        })\n",
       "                };\n",
       "                });\n",
       "            </script>\n",
       "        </div>"
      ]
     },
     "metadata": {},
     "output_type": "display_data"
    }
   ],
   "source": [
    "x1 = dados_aux[dados_aux[\"artist\"]==artista1][\"popularity\"]\n",
    "x2 = dados_aux[dados_aux[\"artist\"]==artista2][\"popularity\"]\n",
    "\n",
    "\n",
    "hist_data = [x1, x2]\n",
    "\n",
    "group_labels = [artista1,artista2]\n",
    "\n",
    "# Create distplot with curve_type set to 'normal'\n",
    "fig = ff.create_distplot(hist_data, group_labels, #colors=colors,\n",
    "                         bin_size=4, show_rug=False,show_hist=True,colors=[\"lightgreen\",\"black\"]\n",
    ")\n",
    "\n",
    "# Add title\n",
    "fig.update_layout(title_text='Distribuição de popularidade da músicas')\n",
    "fig.show()"
   ]
  },
  {
   "cell_type": "markdown",
   "metadata": {},
   "source": [
    "### Distribuição de popularidade - por Album"
   ]
  },
  {
   "cell_type": "code",
   "execution_count": 50,
   "metadata": {},
   "outputs": [
    {
     "data": {
      "application/vnd.plotly.v1+json": {
       "config": {
        "plotlyServerURL": "https://plot.ly"
       },
       "data": [
        {
         "legendgroup": "ANONYMOUS",
         "marker": {
          "color": "rgb(31, 119, 180)"
         },
         "mode": "lines",
         "name": "ANONYMOUS",
         "showlegend": true,
         "type": "scatter",
         "x": [
          15,
          15.11,
          15.22,
          15.33,
          15.44,
          15.55,
          15.66,
          15.77,
          15.88,
          15.99,
          16.1,
          16.21,
          16.32,
          16.43,
          16.54,
          16.65,
          16.76,
          16.87,
          16.98,
          17.09,
          17.2,
          17.31,
          17.42,
          17.53,
          17.64,
          17.75,
          17.86,
          17.97,
          18.08,
          18.19,
          18.3,
          18.41,
          18.52,
          18.63,
          18.740000000000002,
          18.85,
          18.96,
          19.07,
          19.18,
          19.29,
          19.4,
          19.509999999999998,
          19.62,
          19.73,
          19.84,
          19.95,
          20.06,
          20.17,
          20.28,
          20.39,
          20.5,
          20.61,
          20.72,
          20.83,
          20.94,
          21.05,
          21.16,
          21.27,
          21.38,
          21.490000000000002,
          21.6,
          21.71,
          21.82,
          21.93,
          22.04,
          22.15,
          22.259999999999998,
          22.37,
          22.48,
          22.59,
          22.7,
          22.81,
          22.92,
          23.03,
          23.14,
          23.25,
          23.36,
          23.47,
          23.58,
          23.689999999999998,
          23.8,
          23.91,
          24.02,
          24.130000000000003,
          24.240000000000002,
          24.35,
          24.46,
          24.57,
          24.68,
          24.79,
          24.9,
          25.009999999999998,
          25.119999999999997,
          25.23,
          25.34,
          25.45,
          25.560000000000002,
          25.67,
          25.78,
          25.89,
          26,
          26.11,
          26.22,
          26.33,
          26.439999999999998,
          26.55,
          26.66,
          26.77,
          26.880000000000003,
          26.990000000000002,
          27.1,
          27.21,
          27.32,
          27.43,
          27.54,
          27.65,
          27.759999999999998,
          27.869999999999997,
          27.98,
          28.09,
          28.2,
          28.310000000000002,
          28.42,
          28.53,
          28.64,
          28.75,
          28.86,
          28.97,
          29.08,
          29.189999999999998,
          29.3,
          29.41,
          29.52,
          29.630000000000003,
          29.740000000000002,
          29.85,
          29.96,
          30.07,
          30.18,
          30.29,
          30.4,
          30.509999999999998,
          30.619999999999997,
          30.73,
          30.84,
          30.95,
          31.06,
          31.17,
          31.28,
          31.39,
          31.5,
          31.61,
          31.72,
          31.83,
          31.94,
          32.05,
          32.16,
          32.269999999999996,
          32.379999999999995,
          32.489999999999995,
          32.6,
          32.71,
          32.82,
          32.93,
          33.04,
          33.15,
          33.260000000000005,
          33.370000000000005,
          33.480000000000004,
          33.59,
          33.7,
          33.81,
          33.92,
          34.03,
          34.14,
          34.25,
          34.36,
          34.47,
          34.58,
          34.69,
          34.8,
          34.91,
          35.019999999999996,
          35.129999999999995,
          35.239999999999995,
          35.35,
          35.46,
          35.57,
          35.68,
          35.79,
          35.9,
          36.010000000000005,
          36.120000000000005,
          36.230000000000004,
          36.34,
          36.45,
          36.56,
          36.67,
          36.78,
          36.89,
          37,
          37.11,
          37.22,
          37.33,
          37.44,
          37.55,
          37.66,
          37.769999999999996,
          37.879999999999995,
          37.989999999999995,
          38.1,
          38.21,
          38.32,
          38.43,
          38.54,
          38.65,
          38.760000000000005,
          38.870000000000005,
          38.980000000000004,
          39.09,
          39.2,
          39.31,
          39.42,
          39.53,
          39.64,
          39.75,
          39.86,
          39.97,
          40.08,
          40.19,
          40.3,
          40.41,
          40.519999999999996,
          40.629999999999995,
          40.739999999999995,
          40.85,
          40.96,
          41.07,
          41.18,
          41.29,
          41.4,
          41.510000000000005,
          41.620000000000005,
          41.730000000000004,
          41.84,
          41.95,
          42.06,
          42.17,
          42.28,
          42.39,
          42.5,
          42.61,
          42.72,
          42.83,
          42.94,
          43.05,
          43.16,
          43.269999999999996,
          43.379999999999995,
          43.489999999999995,
          43.6,
          43.71,
          43.82,
          43.93,
          44.04,
          44.15,
          44.260000000000005,
          44.370000000000005,
          44.480000000000004,
          44.59,
          44.7,
          44.81,
          44.92,
          45.03,
          45.14,
          45.25,
          45.36,
          45.47,
          45.58,
          45.69,
          45.8,
          45.91,
          46.019999999999996,
          46.129999999999995,
          46.239999999999995,
          46.35,
          46.46,
          46.57,
          46.68,
          46.79,
          46.9,
          47.01,
          47.12,
          47.23,
          47.34,
          47.45,
          47.56,
          47.67,
          47.78,
          47.89,
          48,
          48.11,
          48.22,
          48.33,
          48.44,
          48.55,
          48.66,
          48.77,
          48.88,
          48.99,
          49.1,
          49.21,
          49.32,
          49.43,
          49.54,
          49.65,
          49.76,
          49.87,
          49.98,
          50.09,
          50.2,
          50.31,
          50.42,
          50.53,
          50.64,
          50.75,
          50.86,
          50.97,
          51.08,
          51.19,
          51.3,
          51.41,
          51.52,
          51.63,
          51.74,
          51.85,
          51.96,
          52.07,
          52.18,
          52.29,
          52.4,
          52.51,
          52.62,
          52.73,
          52.84,
          52.95,
          53.06,
          53.17,
          53.28,
          53.39,
          53.5,
          53.61,
          53.72,
          53.83,
          53.94,
          54.05,
          54.16,
          54.27,
          54.38,
          54.49,
          54.6,
          54.71,
          54.82,
          54.93,
          55.04,
          55.15,
          55.26,
          55.37,
          55.48,
          55.59,
          55.7,
          55.81,
          55.92,
          56.03,
          56.14,
          56.25,
          56.36,
          56.47,
          56.58,
          56.69,
          56.8,
          56.91,
          57.02,
          57.13,
          57.24,
          57.35,
          57.46,
          57.57,
          57.68,
          57.79,
          57.9,
          58.01,
          58.12,
          58.23,
          58.34,
          58.45,
          58.56,
          58.67,
          58.78,
          58.89,
          59,
          59.11,
          59.22,
          59.33,
          59.44,
          59.55,
          59.66,
          59.77,
          59.88,
          59.99,
          60.1,
          60.21,
          60.32,
          60.43,
          60.54,
          60.65,
          60.76,
          60.87,
          60.98,
          61.09,
          61.2,
          61.31,
          61.42,
          61.53,
          61.64,
          61.75,
          61.86,
          61.97,
          62.08,
          62.19,
          62.3,
          62.41,
          62.52,
          62.63,
          62.74,
          62.85,
          62.96,
          63.07,
          63.18,
          63.29,
          63.4,
          63.51,
          63.62,
          63.73,
          63.84,
          63.95,
          64.06,
          64.17,
          64.28,
          64.39,
          64.5,
          64.61,
          64.72,
          64.83,
          64.94,
          65.05,
          65.16,
          65.27000000000001,
          65.38,
          65.49000000000001,
          65.6,
          65.71000000000001,
          65.82,
          65.93,
          66.03999999999999,
          66.15,
          66.25999999999999,
          66.37,
          66.47999999999999,
          66.59,
          66.7,
          66.81,
          66.92,
          67.03,
          67.14,
          67.25,
          67.36,
          67.47,
          67.58,
          67.69,
          67.8,
          67.91,
          68.02000000000001,
          68.13,
          68.24000000000001,
          68.35,
          68.46000000000001,
          68.57,
          68.68,
          68.78999999999999,
          68.9,
          69.00999999999999,
          69.12,
          69.22999999999999,
          69.34,
          69.45,
          69.56,
          69.67,
          69.78,
          69.89
         ],
         "xaxis": "x",
         "y": [
          0.02004172586262533,
          0.02012679721763495,
          0.020209272840815685,
          0.02028912239918786,
          0.02036631673519584,
          0.020440827888792916,
          0.020512629118686867,
          0.020581694922725786,
          0.020648001057405125,
          0.020711524556477432,
          0.020772243748647518,
          0.020830138274336735,
          0.020885189101500883,
          0.02093737854048752,
          0.020986690257919414,
          0.021033109289591824,
          0.021076622052372554,
          0.02111721635509474,
          0.02115488140843335,
          0.021189607833757652,
          0.021221387670952777,
          0.021250214385204986,
          0.021276082872745936,
          0.021298989465552767,
          0.021318931935001666,
          0.0213359094944739,
          0.021349922800914262,
          0.0213609739553431,
          0.02136906650232428,
          0.0213742054283922,
          0.02137639715944263,
          0.021375649557092664,
          0.021371971914016484,
          0.021365374948264647,
          0.02135587079657554,
          0.02134347300668878,
          0.021328196528671246,
          0.021310057705267563,
          0.021289074261287625,
          0.021265265292044835,
          0.02123865125085962,
          0.02120925393564368,
          0.021177096474581186,
          0.021142203310924135,
          0.021104600186919887,
          0.021064314126889402,
          0.021021373419475856,
          0.020975807599083768,
          0.020927647426529424,
          0.020876924868924278,
          0.020823673078813318,
          0.02076792637259123,
          0.020709720208219564,
          0.020649091162268676,
          0.020586076906308773,
          0.020520716182674627,
          0.0204530487796291,
          0.02038311550595096,
          0.020310958164972658,
          0.020236619528094243,
          0.02016014330779956,
          0.02008157413020142,
          0.020000957507142245,
          0.019918339807877144,
          0.019833768230366245,
          0.019747290772203354,
          0.019658956201207733,
          0.019568814025706295,
          0.01947691446453284,
          0.019383308416771366,
          0.019288047431270123,
          0.01919118367595297,
          0.019092769906954528,
          0.018992859437605057,
          0.018891506107291293,
          0.0187887642502186,
          0.01868468866409993,
          0.018579334578796486,
          0.018472757624934683,
          0.018365013802523717,
          0.018256159449597364,
          0.01814625121090355,
          0.01803534600666434,
          0.01792350100142886,
          0.017810773573040988,
          0.017697221281743045,
          0.01758290183943635,
          0.017467873079118748,
          0.017352192924518804,
          0.017235919359945468,
          0.01711911040037186,
          0.017001824061770667,
          0.0168841183317184,
          0.016766051140284944,
          0.016647680331224178,
          0.016529063633480744,
          0.01641025863302756,
          0.016291322745047757,
          0.016172313186474142,
          0.01605328694889867,
          0.01593430077186368,
          0.015815411116545875,
          0.015696674139843565,
          0.01557814566887677,
          0.015459881175909374,
          0.015341935753701595,
          0.01522436409130062,
          0.015107220450276388,
          0.014990558641409139,
          0.014874432001834382,
          0.014758893372650642,
          0.014643995076994558,
          0.014529788898587352,
          0.014416326060756119,
          0.014303657205932937,
          0.014191832375633965,
          0.014080900990920605,
          0.01397091183334384,
          0.013861913026372713,
          0.0137539520173073,
          0.013647075559676002,
          0.013541329696116792,
          0.013436759741741387,
          0.013333410267981004,
          0.013231325086912119,
          0.01313054723606015,
          0.013031118963678619,
          0.012933081714501318,
          0.012836476115964321,
          0.012741341964894773,
          0.012647718214663005,
          0.012555642962794222,
          0.012465153439036003,
          0.01237628599387752,
          0.01228907608751635,
          0.012203558279268473,
          0.01211976621741716,
          0.012037732629496126,
          0.011957489313002402,
          0.011879067126534382,
          0.011802495981350197,
          0.01172780483334194,
          0.011655021675420978,
          0.011584173530309673,
          0.011515286443735078,
          0.011448385478019827,
          0.011383494706065998,
          0.011320637205727397,
          0.011259835054566078,
          0.011201109324988886,
          0.011144480079760035,
          0.01108996636788581,
          0.011037586220867646,
          0.010987356649320025,
          0.010939293639949723,
          0.01089341215289328,
          0.010849726119409472,
          0.010808248439924152,
          0.010768990982424556,
          0.010731964581200773,
          0.010697179035932071,
          0.010664643111115982,
          0.01063436453583832,
          0.010606350003882539,
          0.01058060517417686,
          0.010557134671578124,
          0.010535942087991105,
          0.010517029983822672,
          0.010500399889769998,
          0.010486052308942466,
          0.010473986719316954,
          0.0104642015765264,
          0.010456694316981778,
          0.010451461361327708,
          0.010448498118231982,
          0.010447798988509758,
          0.01044935736958288,
          0.010453165660275184,
          0.010459215265944692,
          0.010467496603953672,
          0.010477999109477621,
          0.010490711241654275,
          0.010505620490073904,
          0.010522713381612089,
          0.010541975487606187,
          0.010563391431376808,
          0.010586944896095624,
          0.010612618633000516,
          0.010640394469959551,
          0.01067025332038469,
          0.010702175192496522,
          0.010736139198940767,
          0.010772123566757644,
          0.01081010564770476,
          0.010850061928934207,
          0.01089196804402429,
          0.010935798784366218,
          0.010981528110905914,
          0.011029129166240822,
          0.011078574287071484,
          0.011129835017007213,
          0.011182882119725403,
          0.011237685592483044,
          0.011294214679979517,
          0.011352437888568798,
          0.011412323000819425,
          0.011473837090419846,
          0.011536946537426658,
          0.011601617043852977,
          0.011667813649593673,
          0.01173550074868388,
          0.011804642105886878,
          0.011875200873607107,
          0.011947139609123589,
          0.012020420292138661,
          0.012095004342636646,
          0.012170852639046565,
          0.012247925536702621,
          0.01232618288659584,
          0.01240558405440977,
          0.01248608793983277,
          0.012567652996139019,
          0.012650237250029908,
          0.012733798321727205,
          0.01281829344530877,
          0.012903679489277387,
          0.012989912977352837,
          0.013076950109476774,
          0.013164746783019871,
          0.01325325861418008,
          0.013342440959560655,
          0.013432248937915912,
          0.013522637452052913,
          0.013613561210876294,
          0.013704974751563419,
          0.013796832461857008,
          0.013889088602461285,
          0.013981697329528368,
          0.014074612717220518,
          0.014167788780334195,
          0.01426117949697119,
          0.01435473883124214,
          0.014448420755987484,
          0.014542179275500567,
          0.014635968448237575,
          0.014729742409498755,
          0.014823455394065415,
          0.014917061758776525,
          0.01501051600502944,
          0.015103772801188738,
          0.01519678700488681,
          0.015289513685200491,
          0.015381908144687581,
          0.015473925941267081,
          0.0155655229099272,
          0.015656655184245197,
          0.0157472792177029,
          0.015837351804782487,
          0.015926830101826377,
          0.01601567164764603,
          0.016103834383864053,
          0.016191276674974463,
          0.016277957328106035,
          0.01636383561247409,
          0.01644887127850593,
          0.016533024576625976,
          0.016616256275686248,
          0.01669852768102883,
          0.016779800652166756,
          0.016860037620070423,
          0.016939201604046897,
          0.01701725622819966,
          0.01709416573745718,
          0.017169895013158857,
          0.01724440958818698,
          0.017317675661634658,
          0.017389660112999108,
          0.01746033051589118,
          0.017529655151251374,
          0.01759760302006446,
          0.01766414385556376,
          0.01772924813491821,
          0.01779288709039464,
          0.017855032719989,
          0.01791565779752047,
          0.017974735882182985,
          0.018032241327549464,
          0.018088149290024183,
          0.018142435736739976,
          0.018195077452896644,
          0.01824605204853833,
          0.018295337964767792,
          0.018342914479396136,
          0.018388761712026996,
          0.01843286062857537,
          0.018475193045220818,
          0.018515741631796458,
          0.018554489914614735,
          0.018591422278732384,
          0.01862652396965681,
          0.018659781094497233,
          0.01869118062256412,
          0.01872071038542113,
          0.018748359076394164,
          0.01877411624954304,
          0.0187979723181011,
          0.018819918552389216,
          0.01883994707721086,
          0.01885805086873516,
          0.018874223750875933,
          0.018888460391174186,
          0.01890075629619314,
          0.018911107806434006,
          0.01891951209078234,
          0.018925967140494,
          0.018930471762731223,
          0.01893302557365878,
          0.018933628991110875,
          0.018932283226839805,
          0.018928990278357576,
          0.01892375292038187,
          0.01891657469589819,
          0.018907459906849982,
          0.01889641360446914,
          0.0188834415792589,
          0.01886855035064209,
          0.01885174715628683,
          0.018833039941123116,
          0.018812437346062708,
          0.018789948696435584,
          0.018765583990155946,
          0.018739353885631024,
          0.01871126968942582,
          0.018681343343696772,
          0.018649587413408022,
          0.018616015073343026,
          0.018580640094924824,
          0.01854347683285828,
          0.018504540211606853,
          0.01846384571171744,
          0.018421409356005673,
          0.018377247695614673,
          0.018331377795959867,
          0.018283817222572184,
          0.01823458402685223,
          0.018183696731747277,
          0.018131174317363292,
          0.018077036206523733,
          0.018021302250286465,
          0.01796399271343065,
          0.017905128259924127,
          0.01784472993838269,
          0.017782819167531702,
          0.017719417721680404,
          0.017654547716219198,
          0.017588231593149747,
          0.017520492106657452,
          0.017451352308735606,
          0.01738083553487044,
          0.017308965389795653,
          0.01723576573332496,
          0.017161260666270797,
          0.0170854745164572,
          0.017008431824834185,
          0.016930157331701192,
          0.016850675963046402,
          0.01677001281700861,
          0.016688193150468142,
          0.01660524236577284,
          0.016521185997604906,
          0.016436049699994112,
          0.016349859233482523,
          0.016262640452445853,
          0.016174419292575827,
          0.016085221758528043,
          0.01599507391173942,
          0.015904001858419035,
          0.015812031737715792,
          0.0157191897100664,
          0.01562550194572649,
          0.015530994613487788,
          0.015435693869583824,
          0.015339625846786447,
          0.015242816643695421,
          0.01514529231422268,
          0.015047078857273065,
          0.01494820220662302,
          0.014848688220998302,
          0.014748562674351963,
          0.014647851246343413,
          0.014546579513019136,
          0.01444477293769583,
          0.014342456862046092,
          0.014239656497387107,
          0.014136396916172224,
          0.014032703043685528,
          0.013928599649939068,
          0.013824111341772615,
          0.013719262555155442,
          0.01361407754768952,
          0.013508580391313819,
          0.013402794965208622,
          0.013296744948899384,
          0.013190453815559064,
          0.013083944825508217,
          0.01297724101991159,
          0.012870365214670327,
          0.012763339994508722,
          0.012656187707254341,
          0.012548930458309987,
          0.01244159010531694,
          0.012334188253007698,
          0.012226746248246954,
          0.012119285175259814,
          0.012011825851045628,
          0.011904388820976209,
          0.011796994354577081,
          0.011689662441490311,
          0.01158241278761779,
          0.01147526481144311,
          0.01136823764053121,
          0.011261350108203998,
          0.011154620750390759,
          0.011048067802651896,
          0.010941709197374652,
          0.010835562561139437,
          0.010729645212255362,
          0.0106239741584636,
          0.010518566094807242,
          0.01041343740166634,
          0.010308604142956595,
          0.01020408206449048,
          0.010099886592499429,
          0.0099960328323157,
          0.009892535567212458,
          0.009789409257400926,
          0.009686668039183017,
          0.009584325724258255,
          0.009482395799183356,
          0.009380891424983379,
          0.009279825436912779,
          0.00917921034436506,
          0.009079058330929559,
          0.008979381254593855,
          0.008880190648090428,
          0.008781497719385916,
          0.008683313352311522,
          0.008585648107332956,
          0.008488512222458408,
          0.008391915614282751,
          0.008295867879166474,
          0.008200378294547476,
          0.008105455820384133,
          0.008011109100727729,
          0.00791734646542241,
          0.007824175931930848,
          0.0077316052072836355,
          0.007639641690150407,
          0.0075482924730307125,
          0.007457564344562353,
          0.007367463791945435,
          0.0072779970034793995,
          0.007189169871211344,
          0.007100987993692633,
          0.007013456678842277,
          0.006926580946913705,
          0.006840365533563273,
          0.006754814893017221,
          0.00666993320133519,
          0.0065857243597668425,
          0.006502191998199624,
          0.006419339478694171,
          0.006337169899105065,
          0.0062556860967836764,
          0.006174890652360324,
          0.006094785893602595,
          0.006015373899346823,
          0.005936656503499739,
          0.005858635299106765,
          0.005781311642484159,
          0.005704686657411427,
          0.005628761239380916,
          0.005553536059901057,
          0.005479011570850134,
          0.005405188008876815,
          0.005332065399844457,
          0.005259643563315218,
          0.005187922117071007,
          0.005116900481667215,
          0.0050465778850162886,
          0.004976953366997008,
          0.00490802578408648,
          0.004839793814010812,
          0.004772255960411339,
          0.00470541055752242,
          0.00463925577485774,
          0.004573789621901108,
          0.004509009952798603,
          0.004444914471048339,
          0.004381500734184503
         ],
         "yaxis": "y"
        },
        {
         "legendgroup": "cybersex",
         "marker": {
          "color": "rgb(255, 127, 14)"
         },
         "mode": "lines",
         "name": "cybersex",
         "showlegend": true,
         "type": "scatter",
         "x": [
          0,
          0.132,
          0.264,
          0.396,
          0.528,
          0.66,
          0.792,
          0.924,
          1.056,
          1.188,
          1.32,
          1.452,
          1.584,
          1.716,
          1.848,
          1.98,
          2.112,
          2.244,
          2.376,
          2.508,
          2.64,
          2.772,
          2.904,
          3.036,
          3.168,
          3.3,
          3.432,
          3.564,
          3.696,
          3.828,
          3.96,
          4.092,
          4.224,
          4.356,
          4.488,
          4.62,
          4.752,
          4.884,
          5.016,
          5.148,
          5.28,
          5.412,
          5.544,
          5.676,
          5.808,
          5.94,
          6.072,
          6.204,
          6.336,
          6.468,
          6.6,
          6.732,
          6.864,
          6.996,
          7.128,
          7.26,
          7.392,
          7.524,
          7.656,
          7.788,
          7.92,
          8.052,
          8.184,
          8.316,
          8.448,
          8.58,
          8.712,
          8.844,
          8.976,
          9.108,
          9.24,
          9.372,
          9.504,
          9.636,
          9.768,
          9.9,
          10.032,
          10.164,
          10.296,
          10.428,
          10.56,
          10.692,
          10.824,
          10.956,
          11.088,
          11.22,
          11.352,
          11.484,
          11.616,
          11.748,
          11.88,
          12.012,
          12.144,
          12.276,
          12.408,
          12.54,
          12.672,
          12.804,
          12.936,
          13.068,
          13.2,
          13.332,
          13.464,
          13.596,
          13.728,
          13.86,
          13.992,
          14.124,
          14.256,
          14.388,
          14.52,
          14.652,
          14.784,
          14.916,
          15.048,
          15.18,
          15.312,
          15.444,
          15.576,
          15.708,
          15.84,
          15.972,
          16.104,
          16.236,
          16.368,
          16.5,
          16.632,
          16.764,
          16.896,
          17.028,
          17.16,
          17.292,
          17.424,
          17.556,
          17.688,
          17.82,
          17.952,
          18.084,
          18.216,
          18.348,
          18.48,
          18.612,
          18.744,
          18.876,
          19.008,
          19.14,
          19.272,
          19.404,
          19.536,
          19.668,
          19.8,
          19.932,
          20.064,
          20.196,
          20.328,
          20.46,
          20.592,
          20.724,
          20.856,
          20.988,
          21.12,
          21.252,
          21.384,
          21.516,
          21.648,
          21.78,
          21.912,
          22.044,
          22.176,
          22.308,
          22.44,
          22.572,
          22.704,
          22.836,
          22.968,
          23.1,
          23.232,
          23.364,
          23.496,
          23.628,
          23.76,
          23.892,
          24.024,
          24.156,
          24.288,
          24.42,
          24.552,
          24.684,
          24.816,
          24.948,
          25.08,
          25.212,
          25.344,
          25.476,
          25.608,
          25.74,
          25.872,
          26.004,
          26.136,
          26.268,
          26.4,
          26.532,
          26.664,
          26.796,
          26.928,
          27.06,
          27.192,
          27.324,
          27.456,
          27.588,
          27.72,
          27.852,
          27.984,
          28.116,
          28.248,
          28.38,
          28.512,
          28.644,
          28.776,
          28.908,
          29.04,
          29.172,
          29.304,
          29.436,
          29.568,
          29.7,
          29.832,
          29.964,
          30.096,
          30.228,
          30.36,
          30.492,
          30.624,
          30.756,
          30.888,
          31.02,
          31.152,
          31.284,
          31.416,
          31.548,
          31.68,
          31.812,
          31.944,
          32.076,
          32.208,
          32.34,
          32.472,
          32.604,
          32.736,
          32.868,
          33,
          33.132,
          33.264,
          33.396,
          33.528,
          33.66,
          33.792,
          33.924,
          34.056,
          34.188,
          34.32,
          34.452,
          34.584,
          34.716,
          34.848,
          34.98,
          35.112,
          35.244,
          35.376,
          35.508,
          35.64,
          35.772,
          35.904,
          36.036,
          36.168,
          36.3,
          36.432,
          36.564,
          36.696,
          36.828,
          36.96,
          37.092,
          37.224,
          37.356,
          37.488,
          37.62,
          37.752,
          37.884,
          38.016,
          38.148,
          38.28,
          38.412,
          38.544,
          38.676,
          38.808,
          38.94,
          39.072,
          39.204,
          39.336,
          39.468,
          39.6,
          39.732,
          39.864,
          39.996,
          40.128,
          40.26,
          40.392,
          40.524,
          40.656,
          40.788,
          40.92,
          41.052,
          41.184,
          41.316,
          41.448,
          41.58,
          41.712,
          41.844,
          41.976,
          42.108,
          42.24,
          42.372,
          42.504,
          42.636,
          42.768,
          42.9,
          43.032,
          43.164,
          43.296,
          43.428,
          43.56,
          43.692,
          43.824,
          43.956,
          44.088,
          44.22,
          44.352,
          44.484,
          44.616,
          44.748,
          44.88,
          45.012,
          45.144,
          45.276,
          45.408,
          45.54,
          45.672,
          45.804,
          45.936,
          46.068,
          46.2,
          46.332,
          46.464,
          46.596,
          46.728,
          46.86,
          46.992,
          47.124,
          47.256,
          47.388,
          47.52,
          47.652,
          47.784,
          47.916,
          48.048,
          48.18,
          48.312,
          48.444,
          48.576,
          48.708,
          48.84,
          48.972,
          49.104,
          49.236,
          49.368,
          49.5,
          49.632,
          49.764,
          49.896,
          50.028,
          50.16,
          50.292,
          50.424,
          50.556,
          50.688,
          50.82,
          50.952,
          51.084,
          51.216,
          51.348,
          51.48,
          51.612,
          51.744,
          51.876,
          52.008,
          52.14,
          52.272,
          52.404,
          52.536,
          52.668,
          52.8,
          52.932,
          53.064,
          53.196,
          53.328,
          53.46,
          53.592,
          53.724,
          53.856,
          53.988,
          54.12,
          54.252,
          54.384,
          54.516,
          54.648,
          54.78,
          54.912,
          55.044,
          55.176,
          55.308,
          55.44,
          55.572,
          55.704,
          55.836,
          55.968,
          56.1,
          56.232,
          56.364,
          56.496,
          56.628,
          56.76,
          56.892,
          57.024,
          57.156,
          57.288,
          57.42,
          57.552,
          57.684,
          57.816,
          57.948,
          58.08,
          58.212,
          58.344,
          58.476,
          58.608,
          58.74,
          58.872,
          59.004,
          59.136,
          59.268,
          59.4,
          59.532,
          59.664,
          59.796,
          59.928,
          60.06,
          60.192,
          60.324,
          60.456,
          60.588,
          60.72,
          60.852,
          60.984,
          61.116,
          61.248,
          61.38,
          61.512,
          61.644,
          61.776,
          61.908,
          62.04,
          62.172,
          62.304,
          62.436,
          62.568,
          62.7,
          62.832,
          62.964,
          63.096,
          63.228,
          63.36,
          63.492,
          63.624,
          63.756,
          63.888,
          64.02,
          64.152,
          64.284,
          64.416,
          64.548,
          64.68,
          64.812,
          64.944,
          65.076,
          65.208,
          65.34,
          65.472,
          65.604,
          65.736,
          65.868
         ],
         "xaxis": "x",
         "y": [
          0.01619886740701635,
          0.0162741227011369,
          0.016348137452405365,
          0.016420902160857842,
          0.016492407809120514,
          0.01656264586057735,
          0.016631608257095785,
          0.0166992874163171,
          0.016765676228518694,
          0.016830768053056323,
          0.01689455671439449,
          0.016957036497734335,
          0.0170182021442485,
          0.017078048845933124,
          0.017136572240087827,
          0.017193768403434735,
          0.017249633845888436,
          0.017304165503989017,
          0.017357360734010806,
          0.01740921730476004,
          0.017459733390074998,
          0.017508907561042387,
          0.01755673877794449,
          0.01760322638195158,
          0.017648370086574782,
          0.017692169968894382,
          0.017734626460579488,
          0.01777574033871465,
          0.017815512716449558,
          0.017853945033488083,
          0.017891039046433056,
          0.017926796819003343,
          0.01796122071214001,
          0.01799431337401819,
          0.018026077729981646,
          0.01805651697241679,
          0.018085634550583096,
          0.018113434160416886,
          0.01813991973432498,
          0.01816509543098534,
          0.018188965625171073,
          0.01821153489761438,
          0.018232808024926862,
          0.018252789969592197,
          0.018271485870047264,
          0.018288901030867395,
          0.018305040913071127,
          0.018319911124559746,
          0.018333517410706306,
          0.0183458656451088,
          0.01835696182052143,
          0.018366812039977982,
          0.018375422508120406,
          0.018382799522745717,
          0.018388949466583634,
          0.018393878799316875,
          0.018397594049855845,
          0.018400101808878504,
          0.018401408721646112,
          0.018401521481104615,
          0.01840044682128127,
          0.01839819151098524,
          0.018394762347820403,
          0.018390166152518077,
          0.01838440976359678,
          0.018377500032355294,
          0.018369443818205097,
          0.018360247984347104,
          0.018349919393797477,
          0.01833846490576629,
          0.018325891372392347,
          0.018312205635836798,
          0.018297414525737413,
          0.01828152485702497,
          0.018264543428102194,
          0.018246477019385515,
          0.018227332392208657,
          0.018207116288087077,
          0.018185835428341075,
          0.0181634965140751,
          0.018140106226509974,
          0.018115671227664287,
          0.018090198161380362,
          0.018063693654689916,
          0.018036164319513544,
          0.018007616754688042,
          0.01797805754831451,
          0.01794749328042009,
          0.01791593052592532,
          0.017883375857908643,
          0.01784983585115936,
          0.017815317086009246,
          0.017779826152433287,
          0.0177433696544089,
          0.01770595421452304,
          0.01766758647881588,
          0.01762827312184949,
          0.017588020851989496,
          0.01754683641688752,
          0.017504726609151512,
          0.017461698272191267,
          0.017417758306225613,
          0.01737291367443799,
          0.01732717140926644,
          0.017280538618814244,
          0.017233022493366883,
          0.017184630312001115,
          0.017135369449271604,
          0.01708524738196057,
          0.017034271695875815,
          0.01698245009268234,
          0.01692979039675272,
          0.016876300562021593,
          0.016821988678829263,
          0.016766862980739844,
          0.016710931851319118,
          0.0166542038308575,
          0.016596687623023635,
          0.01653839210143417,
          0.01647932631612546,
          0.01641949949991318,
          0.01635892107462587,
          0.016297600657198843,
          0.016235548065614933,
          0.01617277332467899,
          0.016109286671613116,
          0.0160450985614602,
          0.015980219672283257,
          0.015914660910148877,
          0.015848433413882874,
          0.015781548559587192,
          0.015714017964907054,
          0.01564585349303792,
          0.015577067256462278,
          0.015507671620406609,
          0.015437679206009339,
          0.015367102893191195,
          0.015295955823219501,
          0.01522425140095884,
          0.015152003296800689,
          0.015079225448265229,
          0.015005932061269094,
          0.014932137611053222,
          0.014857856842765561,
          0.014783104771693844,
          0.014707896683144277,
          0.01463224813196238,
          0.01455617494169283,
          0.014479693203375695,
          0.014402819273976956,
          0.014325569774451713,
          0.014247961587439125,
          0.014170011854588486,
          0.014091737973516608,
          0.0140131575943969,
          0.013934288616181395,
          0.013855149182457227,
          0.013775757676939712,
          0.013696132718604658,
          0.013616293156463028,
          0.013536258063981585,
          0.013456046733153617,
          0.013375678668224313,
          0.013295173579075899,
          0.013214551374277954,
          0.013133832153808955,
          0.013053036201455323,
          0.012972183976894947,
          0.012891296107472241,
          0.012810393379672477,
          0.012729496730303363,
          0.012648627237392221,
          0.012567806110807557,
          0.012487054682614102,
          0.012406394397170657,
          0.01232584680098058,
          0.012245433532304898,
          0.012165176310548288,
          0.012085096925428637,
          0.012005217225940864,
          0.011925559109126155,
          0.011846144508657949,
          0.011766995383255928,
          0.011688133704939999,
          0.011609581447135827,
          0.011531360572644101,
          0.011453493021485541,
          0.011376000698633967,
          0.011298905461649753,
          0.011222229108226074,
          0.011145993363660534,
          0.011070219868264605,
          0.010994930164723613,
          0.010920145685419807,
          0.010845887739731079,
          0.010772177501318142,
          0.010699035995412496,
          0.010626484086117934,
          0.010554542463737977,
          0.010483231632141618,
          0.010412571896179843,
          0.010342583349165024,
          0.010273285860425333,
          0.010204699062946238,
          0.010136842341110846,
          0.010069734818550806,
          0.010003395346119352,
          0.0099378424899978,
          0.009873094519946668,
          0.009809169397712342,
          0.009746084765600186,
          0.009683857935224423,
          0.009622505876445269,
          0.00956204520650326,
          0.009502492179360661,
          0.009443862675259434,
          0.009386172190505141,
          0.009329435827485685,
          0.009273668284933726,
          0.009218883848441129,
          0.009165096381233601,
          0.00911231931521343,
          0.009060565642277783,
          0.00900984790591975,
          0.00896017819311927,
          0.008911568126530163,
          0.008864028856969911,
          0.008817571056217818,
          0.008772204910127377,
          0.008727940112057965,
          0.008684785856630938,
          0.008642750833814562,
          0.008601843223342232,
          0.008562070689467778,
          0.008523440376061517,
          0.008485958902050233,
          0.008449632357204084,
          0.008414466298272947,
          0.008380465745474453,
          0.008347635179335691,
          0.008315978537889998,
          0.008285499214230255,
          0.008256200054419476,
          0.00822808335575934,
          0.008201150865416921,
          0.008175403779409555,
          0.008150842741947497,
          0.008127467845133666,
          0.008105278629019523,
          0.008084274082015773,
          0.00806445264165633,
          0.008045812195713627,
          0.008028350083663156,
          0.008012063098494816,
          0.007996947488868195,
          0.007982998961609032,
          0.00797021268454337,
          0.007958583289666093,
          0.007948104876639855,
          0.007938771016620608,
          0.007930574756405347,
          0.007923508622897616,
          0.007917564627886039,
          0.007912734273131035,
          0.007909008555754474,
          0.007906377973926975,
          0.007904832532847284,
          0.007904361751008065,
          0.007904954666742075,
          0.007906599845042687,
          0.007909285384652597,
          0.007912998925414054,
          0.007917727655874299,
          0.007923458321139337,
          0.007930177230969207,
          0.007937870268107843,
          0.007946522896840206,
          0.007956120171769769,
          0.007966646746808746,
          0.007978086884373717,
          0.007990424464779164,
          0.008003642995821264,
          0.008017725622544209,
          0.008032655137181316,
          0.008048413989263101,
          0.008064984295884385,
          0.00808234785212259,
          0.008100486141599028,
          0.008119380347175457,
          0.008139011361777576,
          0.008159359799337542,
          0.008180406005847456,
          0.008202130070515448,
          0.008224511837016692,
          0.008247530914830823,
          0.008271166690657958,
          0.008295398339905117,
          0.008320204838234981,
          0.008345564973169111,
          0.008371457355737378,
          0.008397860432165932,
          0.008424752495595624,
          0.008452111697823068,
          0.008479916061056606,
          0.008508143489679352,
          0.008536771782011638,
          0.008565778642065468,
          0.008595141691283054,
          0.008624838480252504,
          0.008654846500392784,
          0.008685143195601121,
          0.008715705973855448,
          0.00874651221876478,
          0.008777539301060774,
          0.00880876459002336,
          0.008840165464833866,
          0.008871719325848954,
          0.008903403605788708,
          0.008935195780832777,
          0.008967073381617957,
          0.008999014004131304,
          0.009030995320492684,
          0.00906299508962084,
          0.009094991167777263,
          0.009126961518982313,
          0.009158884225298003,
          0.009190737496972197,
          0.009222499682439112,
          0.009254149278170873,
          0.009285664938375536,
          0.009317025484536572,
          0.009348209914789423,
          0.009379197413130662,
          0.009409967358455392,
          0.00944049933341894,
          0.009470773133118794,
          0.009500768773592945,
          0.00953046650013116,
          0.009559846795395604,
          0.009588890387347443,
          0.009617578256976482,
          0.009645891645830629,
          0.009673812063342602,
          0.009701321293950954,
          0.009728401404013121,
          0.009755034748508123,
          0.009781203977526728,
          0.009806892042547047,
          0.009832082202493719,
          0.009856758029579141,
          0.009880903414925021,
          0.00990450257396298,
          0.009927540051613089,
          0.009950000727239228,
          0.009971869819380292,
          0.0099931328902566,
          0.010013775850051157,
          0.010033784960964923,
          0.01005314684104609,
          0.010071848467793292,
          0.010089877181532656,
          0.010107220688568947,
          0.010123867064111154,
          0.01013980475497293,
          0.010155022582048557,
          0.010169509742565279,
          0.010183255812112733,
          0.010196250746450641,
          0.010208484883095906,
          0.010219948942690448,
          0.010230634030151202,
          0.010240531635603753,
          0.010249633635101464,
          0.010257932291131866,
          0.010265420252912166,
          0.010272090556475894,
          0.010277936624553086,
          0.010282952266246145,
          0.010287131676503719,
          0.010290469435395013,
          0.0102929605071876,
          0.010294600239230874,
          0.010295384360648228,
          0.010295308980840894,
          0.010294370587806405,
          0.010292566046274505,
          0.010289892595664195,
          0.01028634784786468,
          0.010281929784843855,
          0.010276636756087445,
          0.01027046747587275,
          0.010263421020380097,
          0.010255496824645802,
          0.010246694679360313,
          0.010237014727515401,
          0.01022645746090407,
          0.01021502371647688,
          0.010202714672559121,
          0.010189531844932162,
          0.010175477082783508,
          0.010160552564529236,
          0.010144760793513065,
          0.010128104593586262,
          0.010110587104572256,
          0.010092211777620427,
          0.01007298237045309,
          0.010052902942509904,
          0.010031977849994083,
          0.010010211740824457,
          0.009987609549497864,
          0.009964176491865893,
          0.00993991805983054,
          0.009914840015962729,
          0.009888948388048335,
          0.009862249463565615,
          0.009834749784098592,
          0.009806456139690556,
          0.00977737556314164,
          0.009747515324255291,
          0.009716882924037258,
          0.009685486088851466,
          0.00965333276453705,
          0.009620431110490501,
          0.009586789493716979,
          0.00955241648285514,
          0.009517320842179038,
          0.009481511525581365,
          0.009444997670541959,
          0.009407788592085301,
          0.009369893776730977,
          0.009331322876440763,
          0.009292085702566186,
          0.0092521922198001,
          0.009211652540136036,
          0.009170476916838654,
          0.00912867573842913,
          0.009086259522688468,
          0.009043238910682545,
          0.008999624660811778,
          0.008955427642888954,
          0.00891065883224813,
          0.008865329303887828,
          0.008819450226651456,
          0.008773032857447897,
          0.008726088535515151,
          0.008678628676729604,
          0.008630664767963961,
          0.008582208361496044,
          0.008533271069471292,
          0.00848386455842121,
          0.008434000543840178,
          0.008383690784822904,
          0.008332947078764684,
          0.008281781256126504,
          0.008230205175267116,
          0.00817823071734385,
          0.008125869781284082,
          0.008073134278829152,
          0.008020036129652191,
          0.007966587256551626,
          0.00791279958072177,
          0.00785868501710174,
          0.007804255469804295,
          0.007749522827625489,
          0.007694498959636497,
          0.00763919571085854,
          0.007583624898021825,
          0.007527798305409567,
          0.007471727680787524,
          0.007415424731420146,
          0.00735890112017359,
          0.007302168461706426,
          0.007245238318748263,
          0.007188122198466805,
          0.0071308315489235705,
          0.007073377755618496,
          0.007015772138123643,
          0.006958025946805915,
          0.0069001503596389565,
          0.006842156479104026,
          0.006784055329179785,
          0.006725857852420758,
          0.00666757490712418,
          0.0066092172645848745,
          0.006550795606437819,
          0.006492320522087891,
          0.00643380250622625,
          0.0063752519564328975,
          0.006316679170864543,
          0.006258094346027422,
          0.006199507574634024,
          0.006140928843543191,
          0.006082368031782519,
          0.0060238349086525304,
          0.005965339131911281,
          0.00590689024603885,
          0.005848497680580467,
          0.0057901707485674,
          0.005731918645014414,
          0.005673750445492909
         ],
         "yaxis": "y"
        },
        {
         "legendgroup": "digital druglord",
         "marker": {
          "color": "rgb(44, 160, 44)"
         },
         "mode": "lines",
         "name": "digital druglord",
         "showlegend": true,
         "type": "scatter",
         "x": [
          53,
          53.05,
          53.1,
          53.15,
          53.2,
          53.25,
          53.3,
          53.35,
          53.4,
          53.45,
          53.5,
          53.55,
          53.6,
          53.65,
          53.7,
          53.75,
          53.8,
          53.85,
          53.9,
          53.95,
          54,
          54.05,
          54.1,
          54.15,
          54.2,
          54.25,
          54.3,
          54.35,
          54.4,
          54.45,
          54.5,
          54.55,
          54.6,
          54.65,
          54.7,
          54.75,
          54.8,
          54.85,
          54.9,
          54.95,
          55,
          55.05,
          55.1,
          55.15,
          55.2,
          55.25,
          55.3,
          55.35,
          55.4,
          55.45,
          55.5,
          55.55,
          55.6,
          55.65,
          55.7,
          55.75,
          55.8,
          55.85,
          55.9,
          55.95,
          56,
          56.05,
          56.1,
          56.15,
          56.2,
          56.25,
          56.3,
          56.35,
          56.4,
          56.45,
          56.5,
          56.55,
          56.6,
          56.65,
          56.7,
          56.75,
          56.8,
          56.85,
          56.9,
          56.95,
          57,
          57.05,
          57.1,
          57.15,
          57.2,
          57.25,
          57.3,
          57.35,
          57.4,
          57.45,
          57.5,
          57.55,
          57.6,
          57.65,
          57.7,
          57.75,
          57.8,
          57.85,
          57.9,
          57.95,
          58,
          58.05,
          58.1,
          58.15,
          58.2,
          58.25,
          58.3,
          58.35,
          58.4,
          58.45,
          58.5,
          58.55,
          58.6,
          58.65,
          58.7,
          58.75,
          58.8,
          58.85,
          58.9,
          58.95,
          59,
          59.05,
          59.1,
          59.15,
          59.2,
          59.25,
          59.3,
          59.35,
          59.4,
          59.45,
          59.5,
          59.55,
          59.6,
          59.65,
          59.7,
          59.75,
          59.8,
          59.85,
          59.9,
          59.95,
          60,
          60.05,
          60.1,
          60.15,
          60.2,
          60.25,
          60.3,
          60.35,
          60.4,
          60.45,
          60.5,
          60.55,
          60.6,
          60.65,
          60.7,
          60.75,
          60.8,
          60.85,
          60.9,
          60.95,
          61,
          61.05,
          61.1,
          61.15,
          61.2,
          61.25,
          61.3,
          61.35,
          61.4,
          61.45,
          61.5,
          61.55,
          61.6,
          61.65,
          61.7,
          61.75,
          61.8,
          61.85,
          61.9,
          61.95,
          62,
          62.05,
          62.1,
          62.15,
          62.2,
          62.25,
          62.3,
          62.35,
          62.4,
          62.45,
          62.5,
          62.55,
          62.6,
          62.65,
          62.7,
          62.75,
          62.8,
          62.85,
          62.9,
          62.95,
          63,
          63.05,
          63.1,
          63.15,
          63.2,
          63.25,
          63.3,
          63.35,
          63.4,
          63.45,
          63.5,
          63.55,
          63.6,
          63.65,
          63.7,
          63.75,
          63.8,
          63.85,
          63.9,
          63.95,
          64,
          64.05,
          64.1,
          64.15,
          64.2,
          64.25,
          64.3,
          64.35,
          64.4,
          64.45,
          64.5,
          64.55,
          64.6,
          64.65,
          64.7,
          64.75,
          64.8,
          64.85,
          64.9,
          64.95,
          65,
          65.05,
          65.1,
          65.15,
          65.2,
          65.25,
          65.3,
          65.35,
          65.4,
          65.45,
          65.5,
          65.55,
          65.6,
          65.65,
          65.7,
          65.75,
          65.8,
          65.85,
          65.9,
          65.95,
          66,
          66.05,
          66.1,
          66.15,
          66.2,
          66.25,
          66.3,
          66.35,
          66.4,
          66.45,
          66.5,
          66.55,
          66.6,
          66.65,
          66.7,
          66.75,
          66.8,
          66.85,
          66.9,
          66.95,
          67,
          67.05,
          67.1,
          67.15,
          67.2,
          67.25,
          67.3,
          67.35,
          67.4,
          67.45,
          67.5,
          67.55,
          67.6,
          67.65,
          67.7,
          67.75,
          67.8,
          67.85,
          67.9,
          67.95,
          68,
          68.05,
          68.1,
          68.15,
          68.2,
          68.25,
          68.3,
          68.35,
          68.4,
          68.45,
          68.5,
          68.55,
          68.6,
          68.65,
          68.7,
          68.75,
          68.8,
          68.85,
          68.9,
          68.95,
          69,
          69.05,
          69.1,
          69.15,
          69.2,
          69.25,
          69.3,
          69.35,
          69.4,
          69.45,
          69.5,
          69.55,
          69.6,
          69.65,
          69.7,
          69.75,
          69.8,
          69.85,
          69.9,
          69.95,
          70,
          70.05,
          70.1,
          70.15,
          70.2,
          70.25,
          70.3,
          70.35,
          70.4,
          70.45,
          70.5,
          70.55,
          70.6,
          70.65,
          70.7,
          70.75,
          70.8,
          70.85,
          70.9,
          70.95,
          71,
          71.05,
          71.1,
          71.15,
          71.2,
          71.25,
          71.3,
          71.35,
          71.4,
          71.45,
          71.5,
          71.55,
          71.6,
          71.65,
          71.7,
          71.75,
          71.8,
          71.85,
          71.9,
          71.95,
          72,
          72.05,
          72.1,
          72.15,
          72.2,
          72.25,
          72.3,
          72.35,
          72.4,
          72.45,
          72.5,
          72.55,
          72.6,
          72.65,
          72.7,
          72.75,
          72.8,
          72.85,
          72.9,
          72.95,
          73,
          73.05,
          73.1,
          73.15,
          73.2,
          73.25,
          73.3,
          73.35,
          73.4,
          73.45,
          73.5,
          73.55,
          73.6,
          73.65,
          73.7,
          73.75,
          73.8,
          73.85,
          73.9,
          73.95,
          74,
          74.05,
          74.1,
          74.15,
          74.2,
          74.25,
          74.3,
          74.35,
          74.4,
          74.45,
          74.5,
          74.55,
          74.6,
          74.65,
          74.7,
          74.75,
          74.8,
          74.85,
          74.9,
          74.95,
          75,
          75.05,
          75.1,
          75.15,
          75.2,
          75.25,
          75.3,
          75.35,
          75.4,
          75.45,
          75.5,
          75.55,
          75.6,
          75.65,
          75.7,
          75.75,
          75.8,
          75.85,
          75.9,
          75.95,
          76,
          76.05,
          76.1,
          76.15,
          76.2,
          76.25,
          76.3,
          76.35,
          76.4,
          76.45,
          76.5,
          76.55,
          76.6,
          76.65,
          76.7,
          76.75,
          76.8,
          76.85,
          76.9,
          76.95,
          77,
          77.05,
          77.1,
          77.15,
          77.2,
          77.25,
          77.3,
          77.35,
          77.4,
          77.45,
          77.5,
          77.55,
          77.6,
          77.65,
          77.7,
          77.75,
          77.8,
          77.85,
          77.9,
          77.95
         ],
         "xaxis": "x",
         "y": [
          0.03694115958875622,
          0.037079306744608194,
          0.037215776669689456,
          0.037350555436636144,
          0.03748362950799156,
          0.03761498573910794,
          0.0377446113808788,
          0.03787249408230065,
          0.03799862189286333,
          0.0381229832647689,
          0.03824556705497799,
          0.038366362527083794,
          0.03848535935301307,
          0.038602547614554304,
          0.038717917804712995,
          0.03883146082889376,
          0.0389431680059101,
          0.0390530310688216,
          0.039161042165599076,
          0.03926719385961859,
          0.039371479129984184,
          0.039473891371680975,
          0.03957442439555851,
          0.039673072428146036,
          0.0397698301113005,
          0.03986469250168802,
          0.039957655070100746,
          0.04004871370060985,
          0.04013786468955627,
          0.04022510474438094,
          0.04031043098229557,
          0.04039384092879639,
          0.040475332516021784,
          0.04055490408095672,
          0.04063255436348473,
          0.040708282504290566,
          0.040782088042615,
          0.040853970913864175,
          0.040923931447075616,
          0.04099197036224364,
          0.041058088767506044,
          0.04112228815619496,
          0.04118457040375434,
          0.04124493776452646,
          0.041303392868410505,
          0.041359938717395586,
          0.04141457868197139,
          0.041467316497418825,
          0.041518156259983986,
          0.041567102422938304,
          0.04161415979252755,
          0.041659333523813236,
          0.04170262911640915,
          0.04174405241011618,
          0.04178360958045875,
          0.041821307134125886,
          0.04185715190432027,
          0.041891151046018295,
          0.041923312031144744,
          0.041953642643665114,
          0.04198215097459891,
          0.042008845416957444,
          0.04203373466060922,
          0.04205682768707647,
          0.04207813376426606,
          0.04209766244113822,
          0.04211542354231642,
          0.04213142716264182,
          0.04214568366167557,
          0.04215820365815238,
          0.04216899802438875,
          0.04217807788064918,
          0.04218545458947357,
          0.042191139749969395,
          0.04219514519207164,
          0.04219748297077407,
          0.042198165360334855,
          0.04219720484845993,
          0.04219461413046722,
          0.042190406103434976,
          0.042184593860337335,
          0.042177190684170085,
          0.042168210042070026,
          0.042157665579430625,
          0.04214557111401722,
          0.042131940630084505,
          0.0421167882724995,
          0.04210012834087256,
          0.042081975283699495,
          0.04206234369251746,
          0.04204124829607732,
          0.04201870395453532,
          0.041994725653666416,
          0.04196932849910217,
          0.04194252771059542,
          0.04191433861631434,
          0.041884776647168304,
          0.04185385733116782,
          0.041821596287820825,
          0.04178800922256763,
          0.0417531119212567,
          0.04171692024466301,
          0.041679450123051735,
          0.041640717550788436,
          0.04160073858099825,
          0.04155952932027559,
          0.04151710592344626,
          0.04147348458838378,
          0.04142868155088135,
          0.04138271307958118,
          0.04133559547096282,
          0.041287345044391514,
          0.041237978137228556,
          0.0411875111000045,
          0.041135960291656545,
          0.041083342074831664,
          0.041029672811255934,
          0.040974968857171744,
          0.040919246558843596,
          0.04086252224813341,
          0.04080481223814619,
          0.04074613281894698,
          0.040686500253349786,
          0.04062593077277911,
          0.04056444057320464,
          0.040502045811149905,
          0.04043876259977516,
          0.04037460700503491,
          0.04030959504191082,
          0.04024374267071969,
          0.040177065793497564,
          0.04010958025045952,
          0.040041301816535514,
          0.03997224619798267,
          0.039902429029073594,
          0.039831865868861095,
          0.03976057219801915,
          0.03968856341575991,
          0.03961585483682687,
          0.039542461688563735,
          0.039468399108059056,
          0.03939368213936611,
          0.03931832573079785,
          0.03924234473229671,
          0.03916575389287854,
          0.03908856785815066,
          0.03901080116790322,
          0.03893246825377369,
          0.03885358343698381,
          0.038774160926148354,
          0.03869421481515542,
          0.03861375908111733,
          0.03853280758239181,
          0.0384513740566725,
          0.038369472119148346,
          0.03828711526073116,
          0.038204316846350415,
          0.0381210901133148,
          0.038037448169739724,
          0.03795340399303979,
          0.03786897042848581,
          0.037784160187825135,
          0.03769898584796506,
          0.03761345984971777,
          0.03752759449660666,
          0.0374414019537328,
          0.03735489424670081,
          0.0372680832606033,
          0.03718098073906307,
          0.03709359828333204,
          0.037005947351446314,
          0.03691803925743623,
          0.03682988517059082,
          0.036741496114775486,
          0.03665288296780243,
          0.03656405646085265,
          0.03647502717794875,
          0.03638580555547783,
          0.03629640188176351,
          0.036206826296686166,
          0.036117088791350824,
          0.03602719920780151,
          0.035937167238781605,
          0.035847002427539264,
          0.035756714167676916,
          0.03566631170304443,
          0.03557580412767478,
          0.03548520038576185,
          0.03539450927167925,
          0.03530373943003971,
          0.03521289935579409,
          0.03512199739436937,
          0.03503104174184509,
          0.03494004044516727,
          0.03484900140239936,
          0.03475793236300928,
          0.03466684092819241,
          0.03457573455122921,
          0.03448462053787757,
          0.03439350604679856,
          0.0343023980900157,
          0.034211303533406526,
          0.03412022909722639,
          0.034029181356663635,
          0.033938166742425634,
          0.0338471915413554,
          0.03375626189707791,
          0.03366538381067585,
          0.03357456314139434,
          0.03348380560737387,
          0.03339311678641139,
          0.03330250211674869,
          0.03321196689788787,
          0.0331215162914335,
          0.03303115532196072,
          0.032940888877909254,
          0.0328507217125027,
          0.03276065844469267,
          0.03267070356012756,
          0.03258086141214534,
          0.03249113622279031,
          0.03240153208385285,
          0.03231205295793255,
          0.03222270267952375,
          0.032133484956123504,
          0.03204440336936123,
          0.03195546137615008,
          0.03186666230985957,
          0.031778009381508765,
          0.03168950568098035,
          0.0316011541782544,
          0.03151295772466229,
          0.03142491905415986,
          0.03133704078461969,
          0.03124932541914216,
          0.03116177534738468,
          0.03107439284690911,
          0.030987180084546796,
          0.030900139117780695,
          0.0308132718961446,
          0.030726580262638737,
          0.030640065955161475,
          0.030553730607956842,
          0.030467575753077274,
          0.030381602821861475,
          0.030295813146426424,
          0.03021020796117382,
          0.030124788404310057,
          0.030039555519379278,
          0.02995451025680944,
          0.029869653475470496,
          0.029784985944244488,
          0.02970050834360696,
          0.02961622126721933,
          0.02953212522353166,
          0.02944822063739504,
          0.029364507851683663,
          0.029280987128925483,
          0.029197658652941293,
          0.02911452253049143,
          0.02903157879292973,
          0.028948827397863912,
          0.02886626823082225,
          0.028783901106925316,
          0.02870172577256289,
          0.02861974190707467,
          0.02853794912443484,
          0.028456346974939428,
          0.02837493494689597,
          0.028293712468314774,
          0.02821267890860105,
          0.028131833580247536,
          0.0280511757405264,
          0.027970704593180247,
          0.02789041929011134,
          0.027810318933068,
          0.027730402575328102,
          0.027650669223378402,
          0.027571117838589242,
          0.027491747338883765,
          0.027412556600400918,
          0.027333544459151673,
          0.027254709712667358,
          0.02717605112163965,
          0.027097567411551542,
          0.02701925727429792,
          0.026941119369795853,
          0.026863152327583156,
          0.026785354748404787,
          0.026707725205786296,
          0.026630262247593243,
          0.02655296439757647,
          0.026475830156901727,
          0.02639885800566347,
          0.026322046404381905,
          0.02624539379548225,
          0.02616889860475596,
          0.026092559242802894,
          0.02601637410645368,
          0.02594034158017186,
          0.025864460037434523,
          0.02578872784209146,
          0.025713143349701664,
          0.025637704908846502,
          0.025562410862419404,
          0.025487259548890567,
          0.025412249303546942,
          0.02533737845970628,
          0.02526264534990485,
          0.025188048307058362,
          0.02511358566559518,
          0.025039255762561618,
          0.02496505693869878,
          0.024890987539490046,
          0.024817045916179302,
          0.024743230426758907,
          0.024669539436927273,
          0.024595971321015583,
          0.02452252446288312,
          0.024449197256781116,
          0.024375988108184282,
          0.024302895434590247,
          0.024229917666286266,
          0.024157053247083008,
          0.0240843006350152,
          0.024011658303008852,
          0.023939124739514952,
          0.023866698449109398,
          0.023794377953059092,
          0.023722161789854108,
          0.023650048515705614,
          0.023578036705009943,
          0.023506124950778407,
          0.0234343118650331,
          0.023362596079168567,
          0.023290976244279504,
          0.023219451031454712,
          0.023148019132037134,
          0.02307667925785044,
          0.023005430141392308,
          0.022934270535994325,
          0.02286319921594924,
          0.02279221497660554,
          0.022721316634429792,
          0.022650503027036997,
          0.022579773013189464,
          0.02250912547276457,
          0.02243855930669179,
          0.02236807343685957,
          0.022297666805992534,
          0.022227338377499316,
          0.022157087135291974,
          0.02208691208357734,
          0.022016812246620776,
          0.021946786668483497,
          0.021876834412733255,
          0.02180695456213015,
          0.021737146218287345,
          0.021667408501307932,
          0.02159774054939875,
          0.02152814151846149,
          0.021458610581662416,
          0.021389146928981292,
          0.021319749766740278,
          0.021250418317114005,
          0.021181151817621167,
          0.021111949520599152,
          0.02104281069266233,
          0.020973734614144722,
          0.020904720578528678,
          0.02083576789185965,
          0.020766875872148885,
          0.020698043848764457,
          0.020629271161811964,
          0.02056055716150579,
          0.020491901207531853,
          0.020423302668403153,
          0.020354760920809036,
          0.020286275348958993,
          0.02021784534392246,
          0.020149470302965447,
          0.02008114962888494,
          0.020012882729342495,
          0.01994466901619769,
          0.019876507904842914,
          0.019808398813540008,
          0.019740341162760428,
          0.01967233437452955,
          0.019604377871776265,
          0.019536471077689067,
          0.01946861341507941,
          0.01940080430575354,
          0.019333043169893746,
          0.019265329425450048,
          0.01919766248754341,
          0.01913004176788106,
          0.019062466674185513,
          0.018994936609637626,
          0.01892745097233509,
          0.018860009154766877,
          0.018792610543304875,
          0.018725254517713244,
          0.018657940450676702,
          0.018590667707348275,
          0.018523435644917527,
          0.018456243612199778,
          0.018389090949247424,
          0.018321976986983804,
          0.0182549010468605,
          0.018187862440538594,
          0.018120860469594578,
          0.01805389442525173,
          0.017986963588137176,
          0.017920067228065533,
          0.01785320460384959,
          0.01778637496313823,
          0.01771957754228258,
          0.017652811566230338,
          0.017586076248449035,
          0.017519370790878324,
          0.01745269438391179,
          0.01738604620640858,
          0.017319425425735037,
          0.01725283119783656,
          0.017186262667340104,
          0.01711971896768703,
          0.01705319922129695,
          0.01698670253976221,
          0.016920228024073395,
          0.01685377476487568,
          0.01678734184275589,
          0.016720928328560668,
          0.016654533283745006,
          0.01658815576075163,
          0.01652179480342067,
          0.01645544944742946,
          0.016389118720762416,
          0.016322801644210527,
          0.016256497231900213,
          0.016190204491851306,
          0.01612392242656342,
          0.016057650033630806,
          0.01599138630638486,
          0.015925130234563843,
          0.015858880805009593,
          0.015792637002390156,
          0.01572639780994829,
          0.015660162210274914,
          0.015593929186106895,
          0.015527697721148702,
          0.015461466800916791,
          0.015395235413606535,
          0.015329002550980571,
          0.015262767209277807,
          0.015196528390142515,
          0.015130285101572327,
          0.015064036358884593,
          0.01499778118570001,
          0.014931518614942699,
          0.014865247689855872,
          0.014798967465031856,
          0.014732677007455869,
          0.014666375397562437,
          0.014600061730303197,
          0.014533735116225499,
          0.014467394682560444,
          0.014401039574319353,
          0.014334668955397815,
          0.014268282009685947,
          0.014201877942184065,
          0.014135455980122292,
          0.01406901537408348,
          0.014002555399127916,
          0.01393607535591898,
          0.0138695745718484,
          0.013803052402160166,
          0.013736508231071833,
          0.013669941472892225,
          0.013603351573134243,
          0.013536738009621867,
          0.013470100293589842,
          0.013403437970775417,
          0.013336750622500598,
          0.01327003786674408,
          0.013203299359201556,
          0.013136534794333337,
          0.013069743906398378,
          0.013002926470473318,
          0.0129360823034557,
          0.012869211265050315,
          0.012802313258737317,
          0.012735388232721509,
          0.012668436180861501,
          0.012601457143577775,
          0.012534451208738877,
          0.012467418512524283,
          0.012400359240263706,
          0.01233327362725124,
          0.012266161959533837,
          0.012199024574673215
         ],
         "yaxis": "y"
        },
        {
         "legendgroup": "Help",
         "marker": {
          "color": "rgb(214, 39, 40)"
         },
         "mode": "lines",
         "name": "Help",
         "showlegend": true,
         "type": "scatter",
         "x": [
          43,
          43.028,
          43.056,
          43.084,
          43.112,
          43.14,
          43.168,
          43.196,
          43.224,
          43.252,
          43.28,
          43.308,
          43.336,
          43.364,
          43.392,
          43.42,
          43.448,
          43.476,
          43.504,
          43.532,
          43.56,
          43.588,
          43.616,
          43.644,
          43.672,
          43.7,
          43.728,
          43.756,
          43.784,
          43.812,
          43.84,
          43.868,
          43.896,
          43.924,
          43.952,
          43.98,
          44.008,
          44.036,
          44.064,
          44.092,
          44.12,
          44.148,
          44.176,
          44.204,
          44.232,
          44.26,
          44.288,
          44.316,
          44.344,
          44.372,
          44.4,
          44.428,
          44.456,
          44.484,
          44.512,
          44.54,
          44.568,
          44.596000000000004,
          44.624,
          44.652,
          44.68,
          44.708,
          44.736,
          44.764,
          44.792,
          44.82,
          44.848,
          44.876,
          44.903999999999996,
          44.932,
          44.96,
          44.988,
          45.016,
          45.044,
          45.072,
          45.1,
          45.128,
          45.156,
          45.184,
          45.212,
          45.24,
          45.268,
          45.296,
          45.324,
          45.352,
          45.38,
          45.408,
          45.436,
          45.464,
          45.492,
          45.52,
          45.548,
          45.576,
          45.604,
          45.632,
          45.66,
          45.688,
          45.716,
          45.744,
          45.772,
          45.8,
          45.828,
          45.856,
          45.884,
          45.912,
          45.94,
          45.968,
          45.996,
          46.024,
          46.052,
          46.08,
          46.108,
          46.136,
          46.164,
          46.192,
          46.22,
          46.248,
          46.275999999999996,
          46.304,
          46.332,
          46.36,
          46.388,
          46.416,
          46.444,
          46.472,
          46.5,
          46.528,
          46.556,
          46.584,
          46.612,
          46.64,
          46.668,
          46.696,
          46.724000000000004,
          46.752,
          46.78,
          46.808,
          46.836,
          46.864,
          46.892,
          46.92,
          46.948,
          46.976,
          47.004,
          47.032,
          47.06,
          47.088,
          47.116,
          47.144,
          47.172,
          47.2,
          47.228,
          47.256,
          47.284,
          47.312,
          47.34,
          47.368,
          47.396,
          47.424,
          47.452,
          47.480000000000004,
          47.508,
          47.536,
          47.564,
          47.592,
          47.62,
          47.647999999999996,
          47.676,
          47.704,
          47.732,
          47.76,
          47.788,
          47.816,
          47.844,
          47.872,
          47.9,
          47.928,
          47.956,
          47.984,
          48.012,
          48.04,
          48.068,
          48.096000000000004,
          48.124,
          48.152,
          48.18,
          48.208,
          48.236,
          48.264,
          48.292,
          48.32,
          48.348,
          48.376,
          48.403999999999996,
          48.432,
          48.46,
          48.488,
          48.516,
          48.544,
          48.572,
          48.6,
          48.628,
          48.656,
          48.684,
          48.712,
          48.74,
          48.768,
          48.796,
          48.824,
          48.852000000000004,
          48.88,
          48.908,
          48.936,
          48.964,
          48.992,
          49.019999999999996,
          49.048,
          49.076,
          49.104,
          49.132,
          49.16,
          49.188,
          49.216,
          49.244,
          49.272,
          49.3,
          49.328,
          49.356,
          49.384,
          49.412,
          49.44,
          49.468,
          49.496,
          49.524,
          49.552,
          49.58,
          49.608,
          49.636,
          49.664,
          49.692,
          49.72,
          49.748,
          49.775999999999996,
          49.804,
          49.832,
          49.86,
          49.888,
          49.916,
          49.944,
          49.972,
          50,
          50.028,
          50.056,
          50.084,
          50.112,
          50.14,
          50.168,
          50.196,
          50.224000000000004,
          50.252,
          50.28,
          50.308,
          50.336,
          50.364,
          50.392,
          50.42,
          50.448,
          50.476,
          50.504,
          50.532,
          50.56,
          50.588,
          50.616,
          50.644,
          50.672,
          50.7,
          50.728,
          50.756,
          50.784,
          50.812,
          50.84,
          50.868,
          50.896,
          50.924,
          50.952,
          50.980000000000004,
          51.007999999999996,
          51.036,
          51.064,
          51.092,
          51.12,
          51.147999999999996,
          51.176,
          51.204,
          51.232,
          51.26,
          51.288,
          51.316,
          51.344,
          51.372,
          51.4,
          51.428,
          51.456,
          51.484,
          51.512,
          51.54,
          51.568,
          51.596000000000004,
          51.624,
          51.652,
          51.68,
          51.708,
          51.736000000000004,
          51.763999999999996,
          51.792,
          51.82,
          51.848,
          51.876,
          51.903999999999996,
          51.932,
          51.96,
          51.988,
          52.016,
          52.044,
          52.072,
          52.1,
          52.128,
          52.156,
          52.184,
          52.212,
          52.24,
          52.268,
          52.296,
          52.324,
          52.352000000000004,
          52.38,
          52.408,
          52.436,
          52.464,
          52.492000000000004,
          52.519999999999996,
          52.548,
          52.576,
          52.604,
          52.632,
          52.66,
          52.688,
          52.716,
          52.744,
          52.772,
          52.8,
          52.828,
          52.856,
          52.884,
          52.912,
          52.94,
          52.968,
          52.996,
          53.024,
          53.052,
          53.08,
          53.108000000000004,
          53.135999999999996,
          53.164,
          53.192,
          53.22,
          53.248,
          53.275999999999996,
          53.304,
          53.332,
          53.36,
          53.388,
          53.416,
          53.444,
          53.472,
          53.5,
          53.528,
          53.556,
          53.584,
          53.612,
          53.64,
          53.668,
          53.696,
          53.724000000000004,
          53.752,
          53.78,
          53.808,
          53.836,
          53.864000000000004,
          53.891999999999996,
          53.92,
          53.948,
          53.976,
          54.004,
          54.032,
          54.06,
          54.088,
          54.116,
          54.144,
          54.172,
          54.2,
          54.228,
          54.256,
          54.284,
          54.312,
          54.34,
          54.368,
          54.396,
          54.424,
          54.452,
          54.480000000000004,
          54.507999999999996,
          54.536,
          54.564,
          54.592,
          54.62,
          54.647999999999996,
          54.676,
          54.704,
          54.732,
          54.76,
          54.788,
          54.816,
          54.844,
          54.872,
          54.9,
          54.928,
          54.956,
          54.984,
          55.012,
          55.04,
          55.068,
          55.096000000000004,
          55.124,
          55.152,
          55.18,
          55.208,
          55.236000000000004,
          55.263999999999996,
          55.292,
          55.32,
          55.348,
          55.376,
          55.403999999999996,
          55.432,
          55.46,
          55.488,
          55.516,
          55.544,
          55.572,
          55.6,
          55.628,
          55.656,
          55.684,
          55.712,
          55.74,
          55.768,
          55.796,
          55.824,
          55.852000000000004,
          55.88,
          55.908,
          55.936,
          55.964,
          55.992000000000004,
          56.019999999999996,
          56.048,
          56.076,
          56.104,
          56.132,
          56.16,
          56.188,
          56.216,
          56.244,
          56.272,
          56.3,
          56.328,
          56.356,
          56.384,
          56.412,
          56.44,
          56.468,
          56.496,
          56.524,
          56.552,
          56.58,
          56.608000000000004,
          56.635999999999996,
          56.664,
          56.692,
          56.72,
          56.748,
          56.775999999999996,
          56.804,
          56.832,
          56.86,
          56.888,
          56.916,
          56.944,
          56.972
         ],
         "xaxis": "x",
         "y": [
          0.050676671860643174,
          0.050858021087932,
          0.05103811360733867,
          0.05121694856457407,
          0.05139452543676961,
          0.0515708440281927,
          0.05174590446577094,
          0.05191970719442757,
          0.05209225297223167,
          0.05226354286536556,
          0.05243357824291216,
          0.05260236077146667,
          0.05276989240957476,
          0.0529361754020011,
          0.0531012122738322,
          0.053265005824416775,
          0.0534275591211479,
          0.0535888754930903,
          0.05374895852445755,
          0.053907812047943045,
          0.05406544013790866,
          0.05422184710343614,
          0.054377037481245394,
          0.05453101602848429,
          0.054683787715394463,
          0.05483535771785838,
          0.054985731409832074,
          0.05513491435566895,
          0.05528291230233923,
          0.05542973117155037,
          0.05557537705177423,
          0.055719856190184804,
          0.055863174984513764,
          0.05600533997482777,
          0.05614635783523347,
          0.056286235365516,
          0.05642497948271652,
          0.056562597212653686,
          0.056699095681396174,
          0.056834482106690454,
          0.056968763789350896,
          0.05710194810461696,
          0.05723404249348412,
          0.05736505445401404,
          0.05749499153262995,
          0.057623861315402966,
          0.05775167141933565,
          0.05787842948364868,
          0.058004143161076,
          0.05812882010917546,
          0.05825246798165992,
          0.05837509441975539,
          0.058496707043591716,
          0.05861731344363201,
          0.058736921172146975,
          0.058855537734739144,
          0.05897317058192389,
          0.059089827100772443,
          0.0592055146066227,
          0.059320240334864126,
          0.059434011432801664,
          0.059546834951605,
          0.059658717838348356,
          0.059769666928146635,
          0.05987968893639315,
          0.05998879045110493,
          0.060096977925380074,
          0.060204257669973255,
          0.06031063584599434,
          0.060416118457734994,
          0.06052071134562876,
          0.06062442017934936,
          0.06072725045105216,
          0.06082920746876349,
          0.0609302963499227,
          0.06103052201508142,
          0.06112988918176464,
          0.061228402358497816,
          0.061326065839004504,
          0.06142288369657854,
          0.061518859778634694,
          0.06161399770144229,
          0.06170830084504504,
          0.061801772348370726,
          0.06189441510453501,
          0.06198623175634193,
          0.06207722469198512,
          0.06216739604095243,
          0.06225674767013724,
          0.06234528118015932,
          0.06243299790189792,
          0.06251989889323971,
          0.06260598493604431,
          0.06269125653332938,
          0.06277571390667759,
          0.06285935699386748,
          0.06294218544673043,
          0.06302419862923464,
          0.06310539561579875,
          0.06318577518983581,
          0.06326533584252887,
          0.06334407577183995,
          0.06342199288175225,
          0.06349908478174789,
          0.06357534878652026,
          0.06365078191592247,
          0.06372538089515209,
          0.06379914215517196,
          0.06387206183336747,
          0.06394413577443993,
          0.06401535953153599,
          0.0640857283676122,
          0.06415523725703451,
          0.06422388088741171,
          0.06429165366166208,
          0.06435854970031173,
          0.06442456284402379,
          0.064489686656357,
          0.0645539144267518,
          0.0646172391737426,
          0.06467965364839429,
          0.06474115033796066,
          0.06480172146976296,
          0.06486135901528614,
          0.06492005469449016,
          0.06497779998033408,
          0.06503458610350989,
          0.0650904040573833,
          0.06514524460313866,
          0.06519909827512442,
          0.06525195538639629,
          0.06530380603445443,
          0.06535464010717107,
          0.06540444728890511,
          0.06545321706679953,
          0.06550093873725821,
          0.06554760141259752,
          0.06559319402786895,
          0.06563770534784828,
          0.06568112397418699,
          0.06572343835272132,
          0.06576463678093471,
          0.06580470741556814,
          0.06584363828037462,
          0.06588141727401202,
          0.06591803217806982,
          0.06595347066522424,
          0.06598772030751719,
          0.06602076858475311,
          0.06605260289300892,
          0.06608321055325125,
          0.06611257882005596,
          0.06614069489042379,
          0.0661675459126873,
          0.06619311899550251,
          0.06621740121692045,
          0.0662403796335321,
          0.06626204128968155,
          0.06628237322674063,
          0.06630136249244031,
          0.06631899615025157,
          0.06633526128881088,
          0.06635014503138369,
          0.06636363454535987,
          0.0663757170517755,
          0.0663863798348542,
          0.06639561025156268,
          0.06640339574117385,
          0.06640972383483164,
          0.06641458216511124,
          0.06641795847556883,
          0.06641984063027463,
          0.06642021662332297,
          0.06641907458831361,
          0.06641640280779816,
          0.06641218972268513,
          0.06640642394159839,
          0.06639909425018213,
          0.06639018962034715,
          0.06637969921945198,
          0.06636761241941311,
          0.06635391880573886,
          0.06633860818648023,
          0.0663216706010939,
          0.06630309632921101,
          0.06628287589930656,
          0.06626100009726336,
          0.06623745997482539,
          0.06621224685793502,
          0.06618535235494867,
          0.06615676836472546,
          0.06612648708458399,
          0.06609450101812168,
          0.06606080298289195,
          0.06602538611793396,
          0.06598824389115025,
          0.06594937010652745,
          0.06590875891119502,
          0.06586640480231817,
          0.06582230263381936,
          0.06577644762292517,
          0.06572883535653319,
          0.06567946179739564,
          0.0656283232901147,
          0.06557541656694664,
          0.06552073875340997,
          0.0654642873736944,
          0.06540606035586684,
          0.06534605603687099,
          0.06528427316731719,
          0.06522071091605902,
          0.06515536887455399,
          0.06508824706100505,
          0.06501934592427998,
          0.06494866634760611,
          0.06487620965203798,
          0.06480197759969497,
          0.06472597239676693,
          0.06464819669628571,
          0.06456865360066032,
          0.06448734666397399,
          0.0644042798940412,
          0.06431945775422336,
          0.06423288516500132,
          0.06414456750530367,
          0.0640545106135895,
          0.06396272078868454,
          0.06386920479037021,
          0.06377396983972392,
          0.06367702361921111,
          0.06357837427252798,
          0.06347803040419431,
          0.06337600107889728,
          0.0632722958205848,
          0.06316692461131003,
          0.063059897889826,
          0.06295122654993181,
          0.06284092193857035,
          0.06272899585367851,
          0.06261546054179054,
          0.06250032869539594,
          0.062383613450052736,
          0.06226532838125723,
          0.062145487501072356,
          0.062024105254515474,
          0.061901196515707683,
          0.061776776583786344,
          0.06165086117858319,
          0.06152346643606943,
          0.06139460890357093,
          0.061264305534755044,
          0.0611325736843924,
          0.06099943110289549,
          0.06086489593063771,
          0.060728986692055065,
          0.060591722289533724,
          0.06045312199708674,
          0.060313205453823376,
          0.06017199265721369,
          0.06002950395615297,
          0.05988576004382837,
          0.05974078195039276,
          0.05959459103544881,
          0.05944720898034736,
          0.059298657780304444,
          0.05914895973634103,
          0.05899813744704923,
          0.05884621380019036,
          0.05869321196412831,
          0.05853915537910317,
          0.05838406774835006,
          0.058227973029067445,
          0.05807089542323968,
          0.05791285936831908,
          0.05775388952777248,
          0.057594010781496736,
          0.05743324821610922,
          0.05727162711511721,
          0.05710917294897311,
          0.05694591136501933,
          0.05678186817732879,
          0.05661706935644703,
          0.05645154101904011,
          0.056285309417455236,
          0.05611840092919875,
          0.055950842046337754,
          0.055782659364830615,
          0.05561387957379174,
          0.05544452944469802,
          0.05527463582054037,
          0.055104225604928045,
          0.054933325751150765,
          0.05476196325120423,
          0.054590165124786524,
          0.054417958408268415,
          0.05424537014364664,
          0.05407242736748349,
          0.05389915709984068,
          0.053725586333212075,
          0.0535517420214609,
          0.05337765106876941,
          0.053203340318604596,
          0.05302883654270696,
          0.05285416643010827,
          0.05267935657618386,
          0.052504433471745424,
          0.05232942349218002,
          0.052154352886641345,
          0.05197924776729873,
          0.051804134098649715,
          0.05162903768690192,
          0.051453984169429756,
          0.051278999004311675,
          0.05110410745995352,
          0.05092933460480292,
          0.05075470529716183,
          0.05058024417510004,
          0.05040597564647712,
          0.0502319238790775,
          0.050058112790863286,
          0.049884566040350554,
          0.049711307017113904,
          0.04953835883242457,
          0.04936574431002645,
          0.049193485977055515,
          0.0490216060551068,
          0.048850126451454035,
          0.04867906875042616,
          0.04850845420494552,
          0.04833830372823192,
          0.048168637885676754,
          0.0479994768868918,
          0.047830840577936254,
          0.047662748433726476,
          0.047495219550631594,
          0.04732827263926045,
          0.047161926017440785,
          0.04699619760339716,
          0.04683110490912875,
          0.04666666503399212,
          0.046502894658491105,
          0.04633981003827648,
          0.04617742699836049,
          0.046015760927546556,
          0.04585482677307858,
          0.04569463903551185,
          0.045535211763808134,
          0.045376558550657226,
          0.04521869252802745,
          0.04506162636294685,
          0.0449053722535174,
          0.04474994192516352,
          0.044595346627117914,
          0.04444159712914421,
          0.044288703718499814,
          0.04413667619713914,
          0.04398552387915907,
          0.04383525558848722,
          0.043685879656813746,
          0.04353740392176801,
          0.04338983572534078,
          0.04324318191255169,
          0.04309744883036298,
          0.04295264232683956,
          0.042808767750555414,
          0.04266582995024639,
          0.04252383327470907,
          0.042382781572945505,
          0.042242678194553025,
          0.042103525990359526,
          0.04196532731330176,
          0.041828084019547566,
          0.04169179746985964,
          0.04155646853120087,
          0.041422097578579134,
          0.04128868449713017,
          0.04115622868443746,
          0.04102472905308758,
          0.04089418403345824,
          0.040764591576738514,
          0.04063594915817744,
          0.04050825378056102,
          0.04038150197791336,
          0.040255689819420626,
          0.04013081291357496,
          0.04000686641253582,
          0.03988384501670585,
          0.03976174297951856,
          0.03964055411243464,
          0.03952027179014411,
          0.03940088895597051,
          0.03928239812747498,
          0.03916479140225513,
          0.039048060463936676,
          0.03893219658835363,
          0.03881719064991314,
          0.03870303312814168,
          0.0385897141144078,
          0.03847722331881885,
          0.038365550077286155,
          0.03825468335875534,
          0.0381446117725973,
          0.03803532357615546,
          0.037926806682445045,
          0.03781904866799967,
          0.03771203678086098,
          0.03760575794870647,
          0.0375001987871109,
          0.037395345607936684,
          0.03729118442784813,
          0.03718770097694486,
          0.03708488070750997,
          0.03698270880286649,
          0.0368811701863394,
          0.0367802495303155,
          0.03667993126539857,
          0.036580199589652744,
          0.03648103847792997,
          0.036382431691276015,
          0.036284362786409785,
          0.03618681512527076,
          0.036089771884629175,
          0.03599321606575369,
          0.03589713050413133,
          0.03580149787923417,
          0.03570630072432745,
          0.03561152143631397,
          0.035517142285609184,
          0.03542314542604175,
          0.035329512904774124,
          0.03523622667223799,
          0.03514326859207887,
          0.03505062045110513,
          0.03495826396923562,
          0.034866180809440615,
          0.034774352587671156,
          0.03468276088277149,
          0.03459138724636904,
          0.034500213212737225,
          0.03440922030862523,
          0.03431839006305078,
          0.03422770401704972,
          0.03413714373337795,
          0.034046690806160664,
          0.03395632687048385,
          0.03386603361192331,
          0.033775792776006265,
          0.033685586177600806,
          0.03359539571022858,
          0.03350520335529574,
          0.033414991191238315,
          0.03332474140257637,
          0.03323443628887352,
          0.03314405827359707,
          0.03305358991287421,
          0.03296301390414064,
          0.03287231309467658,
          0.03278147049002739,
          0.03269046926230353,
          0.03259929275835681,
          0.03250792450782881,
          0.03241634823106779,
          0.03232454784691052,
          0.03223250748032552,
          0.032140211469914116,
          0.0320476443752663,
          0.031954790984167585,
          0.031861636319654774,
          0.0317681656469161,
          0.03167436448003427,
          0.031580218588568555,
          0.031485714003973916,
          0.031390837025854185,
          0.03129557422804636,
          0.031199912464534872,
          0.031103838875192222,
          0.03100734089134455,
          0.030910406241159788,
          0.030813022954856627,
          0.030715179369732275,
          0.03061686413500738,
          0.03051806621648648,
          0.0304187749010325,
          0.030318979800853876,
          0.030218670857602995,
          0.030117838346284967,
          0.030016472878975468,
          0.029914565408346885,
          0.029812107231001726,
          0.029709089990613256,
          0.02960550568087169,
          0.029501346648236264,
          0.029396605594493037,
          0.02929127557911728,
          0.029185350021441098,
          0.029078822702625965,
          0.02897168776744036,
          0.028863939725842617,
          0.02875557345436944,
          0.028646584197330405
         ],
         "yaxis": "y"
        },
        {
         "legendgroup": "Deadroses",
         "marker": {
          "color": "rgb(148, 103, 189)"
         },
         "mode": "lines",
         "name": "Deadroses",
         "showlegend": true,
         "type": "scatter",
         "x": [
          46,
          46.066,
          46.132,
          46.198,
          46.264,
          46.33,
          46.396,
          46.462,
          46.528,
          46.594,
          46.66,
          46.726,
          46.792,
          46.858,
          46.924,
          46.99,
          47.056,
          47.122,
          47.188,
          47.254,
          47.32,
          47.386,
          47.452,
          47.518,
          47.584,
          47.65,
          47.716,
          47.782,
          47.848,
          47.914,
          47.98,
          48.046,
          48.112,
          48.178,
          48.244,
          48.31,
          48.376,
          48.442,
          48.508,
          48.574,
          48.64,
          48.706,
          48.772,
          48.838,
          48.903999999999996,
          48.97,
          49.036,
          49.102,
          49.168,
          49.234,
          49.3,
          49.366,
          49.432,
          49.498,
          49.564,
          49.63,
          49.696,
          49.762,
          49.828,
          49.894,
          49.96,
          50.025999999999996,
          50.092,
          50.158,
          50.224000000000004,
          50.29,
          50.356,
          50.422,
          50.488,
          50.554,
          50.62,
          50.686,
          50.752,
          50.818,
          50.884,
          50.95,
          51.016,
          51.082,
          51.147999999999996,
          51.214,
          51.28,
          51.346000000000004,
          51.412,
          51.478,
          51.544,
          51.61,
          51.676,
          51.742,
          51.808,
          51.874,
          51.94,
          52.006,
          52.072,
          52.138,
          52.204,
          52.269999999999996,
          52.336,
          52.402,
          52.468,
          52.534,
          52.6,
          52.666,
          52.732,
          52.798,
          52.864,
          52.93,
          52.996,
          53.062,
          53.128,
          53.194,
          53.26,
          53.326,
          53.392,
          53.458,
          53.524,
          53.59,
          53.656,
          53.722,
          53.788,
          53.854,
          53.92,
          53.986,
          54.052,
          54.118,
          54.184,
          54.25,
          54.316,
          54.382,
          54.448,
          54.513999999999996,
          54.58,
          54.646,
          54.712,
          54.778,
          54.844,
          54.91,
          54.976,
          55.042,
          55.108000000000004,
          55.174,
          55.24,
          55.306,
          55.372,
          55.438,
          55.504,
          55.57,
          55.635999999999996,
          55.702,
          55.768,
          55.834,
          55.9,
          55.966,
          56.032,
          56.098,
          56.164,
          56.230000000000004,
          56.296,
          56.362,
          56.428,
          56.494,
          56.56,
          56.626,
          56.692,
          56.757999999999996,
          56.824,
          56.89,
          56.956,
          57.022,
          57.088,
          57.153999999999996,
          57.22,
          57.286,
          57.352000000000004,
          57.418,
          57.484,
          57.55,
          57.616,
          57.682,
          57.748,
          57.814,
          57.88,
          57.946,
          58.012,
          58.078,
          58.144,
          58.21,
          58.275999999999996,
          58.342,
          58.408,
          58.474000000000004,
          58.54,
          58.606,
          58.672,
          58.738,
          58.804,
          58.87,
          58.936,
          59.002,
          59.068,
          59.134,
          59.2,
          59.266,
          59.332,
          59.397999999999996,
          59.464,
          59.53,
          59.596000000000004,
          59.662,
          59.728,
          59.794,
          59.86,
          59.926,
          59.992000000000004,
          60.058,
          60.124,
          60.19,
          60.256,
          60.322,
          60.388,
          60.454,
          60.519999999999996,
          60.586,
          60.652,
          60.718,
          60.784,
          60.85,
          60.916,
          60.982,
          61.048,
          61.114000000000004,
          61.18,
          61.246,
          61.312,
          61.378,
          61.444,
          61.51,
          61.576,
          61.641999999999996,
          61.708,
          61.774,
          61.84,
          61.906,
          61.972,
          62.038,
          62.104,
          62.17,
          62.236000000000004,
          62.302,
          62.367999999999995,
          62.434,
          62.5,
          62.566,
          62.632000000000005,
          62.698,
          62.763999999999996,
          62.83,
          62.896,
          62.962,
          63.028,
          63.094,
          63.16,
          63.226,
          63.292,
          63.358000000000004,
          63.424,
          63.489999999999995,
          63.556,
          63.622,
          63.688,
          63.754000000000005,
          63.82,
          63.885999999999996,
          63.952,
          64.018,
          64.084,
          64.15,
          64.21600000000001,
          64.282,
          64.348,
          64.414,
          64.48,
          64.54599999999999,
          64.612,
          64.678,
          64.744,
          64.81,
          64.876,
          64.94200000000001,
          65.008,
          65.074,
          65.14,
          65.206,
          65.27199999999999,
          65.338,
          65.404,
          65.47,
          65.536,
          65.602,
          65.668,
          65.73400000000001,
          65.8,
          65.866,
          65.932,
          65.998,
          66.064,
          66.13,
          66.196,
          66.262,
          66.328,
          66.394,
          66.46000000000001,
          66.526,
          66.592,
          66.658,
          66.724,
          66.78999999999999,
          66.856,
          66.922,
          66.988,
          67.054,
          67.12,
          67.186,
          67.252,
          67.318,
          67.384,
          67.45,
          67.51599999999999,
          67.582,
          67.648,
          67.714,
          67.78,
          67.846,
          67.912,
          67.97800000000001,
          68.044,
          68.11,
          68.176,
          68.242,
          68.30799999999999,
          68.374,
          68.44,
          68.506,
          68.572,
          68.638,
          68.70400000000001,
          68.77,
          68.836,
          68.902,
          68.968,
          69.03399999999999,
          69.1,
          69.166,
          69.232,
          69.298,
          69.364,
          69.43,
          69.496,
          69.562,
          69.628,
          69.694,
          69.76,
          69.826,
          69.892,
          69.958,
          70.024,
          70.09,
          70.156,
          70.22200000000001,
          70.288,
          70.354,
          70.42,
          70.486,
          70.55199999999999,
          70.618,
          70.684,
          70.75,
          70.816,
          70.882,
          70.94800000000001,
          71.014,
          71.08,
          71.146,
          71.212,
          71.27799999999999,
          71.344,
          71.41,
          71.476,
          71.542,
          71.608,
          71.674,
          71.74,
          71.806,
          71.872,
          71.938,
          72.004,
          72.07,
          72.136,
          72.202,
          72.268,
          72.334,
          72.4,
          72.46600000000001,
          72.532,
          72.598,
          72.664,
          72.73,
          72.79599999999999,
          72.862,
          72.928,
          72.994,
          73.06,
          73.126,
          73.19200000000001,
          73.258,
          73.324,
          73.39,
          73.456,
          73.52199999999999,
          73.588,
          73.654,
          73.72,
          73.786,
          73.852,
          73.918,
          73.98400000000001,
          74.05,
          74.116,
          74.182,
          74.248,
          74.314,
          74.38,
          74.446,
          74.512,
          74.578,
          74.644,
          74.71000000000001,
          74.776,
          74.842,
          74.908,
          74.974,
          75.03999999999999,
          75.106,
          75.172,
          75.238,
          75.304,
          75.37,
          75.436,
          75.502,
          75.568,
          75.634,
          75.7,
          75.76599999999999,
          75.832,
          75.898,
          75.964,
          76.03,
          76.096,
          76.162,
          76.22800000000001,
          76.294,
          76.36,
          76.426,
          76.492,
          76.55799999999999,
          76.624,
          76.69,
          76.756,
          76.822,
          76.888,
          76.95400000000001,
          77.02,
          77.086,
          77.152,
          77.218,
          77.28399999999999,
          77.35,
          77.416,
          77.482,
          77.548,
          77.614,
          77.68,
          77.746,
          77.812,
          77.878,
          77.944,
          78.00999999999999,
          78.076,
          78.142,
          78.208,
          78.274,
          78.34,
          78.406,
          78.47200000000001,
          78.538,
          78.604,
          78.67,
          78.73599999999999,
          78.80199999999999,
          78.868,
          78.934
         ],
         "xaxis": "x",
         "y": [
          0.02753716427670108,
          0.027693178046164346,
          0.027848156819744615,
          0.028002088035416234,
          0.028154959624712345,
          0.028306760015614975,
          0.028457478135025163,
          0.02860710341080887,
          0.028755625773415464,
          0.02890303565706508,
          0.029049324000502145,
          0.029194482247312498,
          0.02933850234580214,
          0.029481376748435734,
          0.029623098410833965,
          0.029763660790328418,
          0.029903057844074148,
          0.030041284026719555,
          0.03017833428763424,
          0.030314204067695635,
          0.030448889295635984,
          0.030582386383951055,
          0.03071469222437322,
          0.030845804182911458,
          0.030975720094461145,
          0.031104438256987617,
          0.031231957425287105,
          0.03135827680432982,
          0.031483396042189825,
          0.03160731522256708,
          0.031730034856907466,
          0.03185155587612705,
          0.031971879621946815,
          0.03209100783784541,
          0.03220894265963703,
          0.03232568660568231,
          0.03244124256674068,
          0.032555613795472726,
          0.03266880389560155,
          0.03278081681074272,
          0.03289165681291274,
          0.03300132849072582,
          0.03310983673729003,
          0.033217186737813466,
          0.03332338395693167,
          0.033428434125768104,
          0.03353234322873944,
          0.03363511749011792,
          0.03373676336036348,
          0.03383728750223821,
          0.03393669677671655,
          0.034034998228704434,
          0.03413219907258093,
          0.034228306677576585,
          0.03432332855300223,
          0.03441727233334267,
          0.03451014576323006,
          0.03460195668231106,
          0.034692713010023385,
          0.034782422730296206,
          0.034871093876189876,
          0.03495873451449017,
          0.03504535273027263,
          0.0351309566114522,
          0.035215554233334126,
          0.03529915364318145,
          0.03538176284481522,
          0.03546338978326245,
          0.0355440423294685,
          0.03562372826508884,
          0.035702455267376344,
          0.03578023089417978,
          0.03585706256906901,
          0.035932957566602544,
          0.03600792299775307,
          0.036081965795506155,
          0.03615509270064754,
          0.036227310247754115,
          0.036298624751403594,
          0.036369042292617795,
          0.036438568705553974,
          0.03650720956445886,
          0.03657497017089958,
          0.03664185554128543,
          0.03670787039469426,
          0.036773019141017084,
          0.036837305869433914,
          0.03690073433723404,
          0.03696330795899315,
          0.03702502979611971,
          0.03708590254678264,
          0.037145928536231554,
          0.03720510970752158,
          0.037263447612652746,
          0.03732094340413517,
          0.0373775978269898,
          0.037433411211194485,
          0.03748838346458474,
          0.03754251406621789,
          0.03759580206020925,
          0.0376482460500481,
          0.03769984419340093,
          0.03775059419740929,
          0.037800493314488294,
          0.03784953833863238,
          0.0378977256022335,
          0.03794505097341699,
          0.03799150985389956,
          0.03803709717737373,
          0.0380818074084218,
          0.03812563454196271,
          0.03816857210323423,
          0.03821061314831216,
          0.03825175026516834,
          0.03829197557526802,
          0.03833128073570707,
          0.03836965694188887,
          0.038407094930739995,
          0.03844358498446353,
          0.03847911693482812,
          0.03851368016799045,
          0.038547263629848144,
          0.03857985583191979,
          0.03861144485774805,
          0.03864201836982118,
          0.038671563617008395,
          0.038700067442502935,
          0.03872751629226731,
          0.038753896223973766,
          0.03877919291643312,
          0.03880339167950426,
          0.03882647746447641,
          0.038848434874915405,
          0.038869248177965096,
          0.03888890131609446,
          0.03890737791928027,
          0.03892466131761518,
          0.03894073455433029,
          0.03895558039922088,
          0.03896918136246397,
          0.03898151970881519,
          0.03899257747217297,
          0.039002336470496994,
          0.03901077832106775,
          0.039017884456073876,
          0.039023636138513014,
          0.03902801447839255,
          0.03903100044921524,
          0.03903257490473531,
          0.03903271859596982,
          0.039031412188449986,
          0.03902863627969696,
          0.03902437141690622,
          0.039018598114824686,
          0.03901129687380423,
          0.03900244819801527,
          0.03899203261380394,
          0.03898003068817618,
          0.038966423047391785,
          0.03895119039565168,
          0.038934313533861335,
          0.0389157733784531,
          0.038895550980250576,
          0.03887362754335753,
          0.03884998444405449,
          0.03882460324968529,
          0.03879746573751693,
          0.03876855391355507,
          0.03873785003129835,
          0.038705336610414295,
          0.038670996455319774,
          0.03863481267364925,
          0.03859676869459386,
          0.03855684828709484,
          0.038515035577874564,
          0.03847131506928907,
          0.03842567165698572,
          0.03837809064735011,
          0.03832855777472632,
          0.03827705921839527,
          0.03822358161929542,
          0.03816811209647119,
          0.038110638263234034,
          0.03805114824302178,
          0.03798963068494208,
          0.03792607477898588,
          0.03786047027089769,
          0.03779280747668897,
          0.0377230772967822,
          0.03765127122977273,
          0.037577381385796575,
          0.03750140049949204,
          0.03742332194254427,
          0.03734313973580112,
          0.0372608485609505,
          0.03717644377174835,
          0.03708992140478813,
          0.037001278189802075,
          0.036910511559485805,
          0.036817619658837425,
          0.03672260135400384,
          0.03662545624062614,
          0.0365261846516775,
          0.03642478766478711,
          0.03632126710904376,
          0.03621562557127392,
          0.03610786640178905,
          0.03599799371959756,
          0.03588601241707736,
          0.03577192816410563,
          0.035655747411642326,
          0.03553747739476514,
          0.035417126135153805,
          0.03529470244302176,
          0.035170215918494806,
          0.03504367695243519,
          0.03491509672671198,
          0.034784487213917234,
          0.03465186117652943,
          0.034517232165525054,
          0.03438061451844061,
          0.03424202335688673,
          0.034101474583517914,
          0.033958984878460274,
          0.033814571695201655,
          0.03366825325594778,
          0.033520048546449445,
          0.033369977310305166,
          0.03321806004274539,
          0.0330643179839037,
          0.03290877311158118,
          0.03275144813351127,
          0.032592366479131336,
          0.03243155229086919,
          0.03226903041495175,
          0.03210482639174461,
          0.03193896644563064,
          0.031771477474436906,
          0.03160238703841873,
          0.03143172334881101,
          0.03125951525595607,
          0.03108579223701881,
          0.030910584383299043,
          0.030733922387152553,
          0.030555837528530822,
          0.030376361661151922,
          0.030195527198312977,
          0.030013367098356596,
          0.029829914849803154,
          0.029645204456160736,
          0.029459270420425558,
          0.029272147729284832,
          0.029083871837035456,
          0.028894478649230608,
          0.02870400450606764,
          0.028512486165530395,
          0.028319960786298958,
          0.028126465910440136,
          0.027932039445892107,
          0.027736719648756614,
          0.027540545105412505,
          0.027343554714463487,
          0.027145787668534482,
          0.026947283435929576,
          0.0267480817421652,
          0.026548222551392765,
          0.026347746047723213,
          0.02614669261646823,
          0.025945102825310498,
          0.025743017405417352,
          0.02554047723251061,
          0.025337523307905892,
          0.02513419673953509,
          0.024930538722964628,
          0.024726590522422546,
          0.024522393451847455,
          0.02431798885597195,
          0.0241134180914532,
          0.023908722508062613,
          0.023703943429948072,
          0.023499122136979262,
          0.023294299846189057,
          0.02308951769332248,
          0.022884816714504676,
          0.022680237828039105,
          0.022475821816347167,
          0.022271609308060433,
          0.022067640760275602,
          0.02186395644098308,
          0.021660596411678796,
          0.02145760051017033,
          0.021255008333585484,
          0.021052859221594056,
          0.020851192239851036,
          0.02065004616367116,
          0.020449459461942304,
          0.020249470281286822,
          0.020050116430478788,
          0.0198514353651248,
          0.01965346417261583,
          0.01945623955735775,
          0.019259797826286805,
          0.019064174874677285,
          0.01886940617224755,
          0.01867552674957034,
          0.018482571184793132,
          0.01829057359067441,
          0.018099567601940633,
          0.01790958636296885,
          0.017720662515799627,
          0.01753282818848465,
          0.017346114983772885,
          0.01716055396813884,
          0.016976175661157104,
          0.01679301002522518,
          0.016611086455638413,
          0.016430433771018806,
          0.016251080204101084,
          0.01607305339287664,
          0.01589638037209822,
          0.015721087565146095,
          0.015547200776257557,
          0.01537474518311997,
          0.015203745329828476,
          0.01503422512020876,
          0.01486620781150488,
          0.014699716008432147,
          0.014534771657594477,
          0.014371396042266378,
          0.014209609777537754,
          0.014049432805821249,
          0.013890884392720576,
          0.013733983123258407,
          0.013578746898462033,
          0.013425192932305255,
          0.01327333774900378,
          0.013123197180662622,
          0.012974786365272186,
          0.01282811974505122,
          0.012683211065132934,
          0.01254007337259214,
          0.012398719015809365,
          0.012259159644169418,
          0.012121406208090215,
          0.01198546895937871,
          0.011851357451909924,
          0.011719080542624967,
          0.011588646392844706,
          0.011460062469893907,
          0.011333335549032389,
          0.011208471715688142,
          0.011085476367988668,
          0.010964354219585023,
          0.010845109302764529,
          0.010727744971847007,
          0.010612263906859891,
          0.010498668117487033,
          0.010386958947286218,
          0.010277137078170443,
          0.010169202535147654,
          0.010063154691313678,
          0.009958992273093218,
          0.009856713365723383,
          0.00975631541897479,
          0.009657795253104288,
          0.009561149065034295,
          0.009466372434753135,
          0.009373460331930808,
          0.009282407122744977,
          0.009193206576911169,
          0.009105851874912238,
          0.009020335615420977,
          0.00893664982291085,
          0.00885478595544884,
          0.008774734912665297,
          0.008696487043894825,
          0.008620032156483118,
          0.00854535952425384,
          0.008472457896130306,
          0.00840131550490641,
          0.008331920076161204,
          0.00826425883731206,
          0.00819831852680055,
          0.008134085403405968,
          0.008071545255680965,
          0.008010683411504254,
          0.007951484747744698,
          0.007893933700031849,
          0.00783801427262755,
          0.007783710048393587,
          0.007731004198850047,
          0.00767987949431945,
          0.007630318314151547,
          0.007582302657023799,
          0.007535814151312512,
          0.007490834065529776,
          0.00744734331882126,
          0.007405322491520205,
          0.007364751835752579,
          0.007325611286088872,
          0.007287880470237747,
          0.007251538719776954,
          0.007216565080916864,
          0.007182938325292148,
          0.007150636960777092,
          0.007119639242320052,
          0.007089923182792701,
          0.007061466563849745,
          0.007034246946794776,
          0.007008241683447967,
          0.006983427927011527,
          0.006959782642928632,
          0.0069372826197318166,
          0.0069159044798767265,
          0.00689562469055718,
          0.0068764195744977176,
          0.006858265320719497,
          0.006841137995275847,
          0.006825013551953543,
          0.006809867842936093,
          0.006795676629425197,
          0.006782415592216771,
          0.006770060342227834,
          0.006758586430970646,
          0.006747969360970565,
          0.006738184596124052,
          0.006729207571993349,
          0.006721013706034417,
          0.006713578407754712,
          0.006706877088797423,
          0.006700885172948884,
          0.006695578106065866,
          0.006690931365919522,
          0.006686920471952765,
          0.006683520994947971,
          0.006680708566601839,
          0.006678458889004358,
          0.006676747744018872,
          0.0066755510025602064,
          0.006674844633767923,
          0.00667460471407182,
          0.006674807436146757,
          0.006675429117754026,
          0.00667644621046645,
          0.006677835308274501,
          0.006679573156070696,
          0.006681636658009659,
          0.006684002885741211,
          0.006686649086513928,
          0.006689552691146648,
          0.006692691321865463,
          0.006696042800003728,
          0.006699585153562779,
          0.00670329662463095,
          0.0067071556766586495,
          0.006711141001587261,
          0.006715231526829694,
          0.006719406422100406,
          0.006723645106092911,
          0.006727927253002647,
          0.006732232798893342,
          0.006736541947904869,
          0.006740835178300822,
          0.006745093248353972,
          0.006749297202067875,
          0.006753428374732991,
          0.006757468398315649,
          0.006761399206678383,
          0.006765203040630092,
          0.006768862452804651,
          0.0067723603123666185,
          0.006775679809542746,
          0.006778804459978098,
          0.0067817181089156586,
          0.006784404935198305,
          0.006786849455092237,
          0.006789036525930876,
          0.0067909513495784295,
          0.006792579475712366,
          0.0067939068049240854,
          0.006794919591637208,
          0.0067956044468429405,
          0.006795948340652112,
          0.0067959386046634535,
          0.0067955629341479255,
          0.00679480939004885,
          0.00679366640079776,
          0.006792122763945948,
          0.006790167647611787,
          0.0067877905917439665,
          0.006784981509200913,
          0.006781730686646705,
          0.006778028785263934,
          0.006773866841283998,
          0.006769236266335468,
          0.0067641288476111994,
          0.006758536747854989,
          0.006752452505168648,
          0.006745869032640506,
          0.006738779617796333
         ],
         "yaxis": "y"
        }
       ],
       "layout": {
        "barmode": "overlay",
        "hovermode": "closest",
        "legend": {
         "traceorder": "reversed"
        },
        "template": {
         "data": {
          "bar": [
           {
            "error_x": {
             "color": "#2a3f5f"
            },
            "error_y": {
             "color": "#2a3f5f"
            },
            "marker": {
             "line": {
              "color": "#E5ECF6",
              "width": 0.5
             }
            },
            "type": "bar"
           }
          ],
          "barpolar": [
           {
            "marker": {
             "line": {
              "color": "#E5ECF6",
              "width": 0.5
             }
            },
            "type": "barpolar"
           }
          ],
          "carpet": [
           {
            "aaxis": {
             "endlinecolor": "#2a3f5f",
             "gridcolor": "white",
             "linecolor": "white",
             "minorgridcolor": "white",
             "startlinecolor": "#2a3f5f"
            },
            "baxis": {
             "endlinecolor": "#2a3f5f",
             "gridcolor": "white",
             "linecolor": "white",
             "minorgridcolor": "white",
             "startlinecolor": "#2a3f5f"
            },
            "type": "carpet"
           }
          ],
          "choropleth": [
           {
            "colorbar": {
             "outlinewidth": 0,
             "ticks": ""
            },
            "type": "choropleth"
           }
          ],
          "contour": [
           {
            "colorbar": {
             "outlinewidth": 0,
             "ticks": ""
            },
            "colorscale": [
             [
              0,
              "#0d0887"
             ],
             [
              0.1111111111111111,
              "#46039f"
             ],
             [
              0.2222222222222222,
              "#7201a8"
             ],
             [
              0.3333333333333333,
              "#9c179e"
             ],
             [
              0.4444444444444444,
              "#bd3786"
             ],
             [
              0.5555555555555556,
              "#d8576b"
             ],
             [
              0.6666666666666666,
              "#ed7953"
             ],
             [
              0.7777777777777778,
              "#fb9f3a"
             ],
             [
              0.8888888888888888,
              "#fdca26"
             ],
             [
              1,
              "#f0f921"
             ]
            ],
            "type": "contour"
           }
          ],
          "contourcarpet": [
           {
            "colorbar": {
             "outlinewidth": 0,
             "ticks": ""
            },
            "type": "contourcarpet"
           }
          ],
          "heatmap": [
           {
            "colorbar": {
             "outlinewidth": 0,
             "ticks": ""
            },
            "colorscale": [
             [
              0,
              "#0d0887"
             ],
             [
              0.1111111111111111,
              "#46039f"
             ],
             [
              0.2222222222222222,
              "#7201a8"
             ],
             [
              0.3333333333333333,
              "#9c179e"
             ],
             [
              0.4444444444444444,
              "#bd3786"
             ],
             [
              0.5555555555555556,
              "#d8576b"
             ],
             [
              0.6666666666666666,
              "#ed7953"
             ],
             [
              0.7777777777777778,
              "#fb9f3a"
             ],
             [
              0.8888888888888888,
              "#fdca26"
             ],
             [
              1,
              "#f0f921"
             ]
            ],
            "type": "heatmap"
           }
          ],
          "heatmapgl": [
           {
            "colorbar": {
             "outlinewidth": 0,
             "ticks": ""
            },
            "colorscale": [
             [
              0,
              "#0d0887"
             ],
             [
              0.1111111111111111,
              "#46039f"
             ],
             [
              0.2222222222222222,
              "#7201a8"
             ],
             [
              0.3333333333333333,
              "#9c179e"
             ],
             [
              0.4444444444444444,
              "#bd3786"
             ],
             [
              0.5555555555555556,
              "#d8576b"
             ],
             [
              0.6666666666666666,
              "#ed7953"
             ],
             [
              0.7777777777777778,
              "#fb9f3a"
             ],
             [
              0.8888888888888888,
              "#fdca26"
             ],
             [
              1,
              "#f0f921"
             ]
            ],
            "type": "heatmapgl"
           }
          ],
          "histogram": [
           {
            "marker": {
             "colorbar": {
              "outlinewidth": 0,
              "ticks": ""
             }
            },
            "type": "histogram"
           }
          ],
          "histogram2d": [
           {
            "colorbar": {
             "outlinewidth": 0,
             "ticks": ""
            },
            "colorscale": [
             [
              0,
              "#0d0887"
             ],
             [
              0.1111111111111111,
              "#46039f"
             ],
             [
              0.2222222222222222,
              "#7201a8"
             ],
             [
              0.3333333333333333,
              "#9c179e"
             ],
             [
              0.4444444444444444,
              "#bd3786"
             ],
             [
              0.5555555555555556,
              "#d8576b"
             ],
             [
              0.6666666666666666,
              "#ed7953"
             ],
             [
              0.7777777777777778,
              "#fb9f3a"
             ],
             [
              0.8888888888888888,
              "#fdca26"
             ],
             [
              1,
              "#f0f921"
             ]
            ],
            "type": "histogram2d"
           }
          ],
          "histogram2dcontour": [
           {
            "colorbar": {
             "outlinewidth": 0,
             "ticks": ""
            },
            "colorscale": [
             [
              0,
              "#0d0887"
             ],
             [
              0.1111111111111111,
              "#46039f"
             ],
             [
              0.2222222222222222,
              "#7201a8"
             ],
             [
              0.3333333333333333,
              "#9c179e"
             ],
             [
              0.4444444444444444,
              "#bd3786"
             ],
             [
              0.5555555555555556,
              "#d8576b"
             ],
             [
              0.6666666666666666,
              "#ed7953"
             ],
             [
              0.7777777777777778,
              "#fb9f3a"
             ],
             [
              0.8888888888888888,
              "#fdca26"
             ],
             [
              1,
              "#f0f921"
             ]
            ],
            "type": "histogram2dcontour"
           }
          ],
          "mesh3d": [
           {
            "colorbar": {
             "outlinewidth": 0,
             "ticks": ""
            },
            "type": "mesh3d"
           }
          ],
          "parcoords": [
           {
            "line": {
             "colorbar": {
              "outlinewidth": 0,
              "ticks": ""
             }
            },
            "type": "parcoords"
           }
          ],
          "pie": [
           {
            "automargin": true,
            "type": "pie"
           }
          ],
          "scatter": [
           {
            "marker": {
             "colorbar": {
              "outlinewidth": 0,
              "ticks": ""
             }
            },
            "type": "scatter"
           }
          ],
          "scatter3d": [
           {
            "line": {
             "colorbar": {
              "outlinewidth": 0,
              "ticks": ""
             }
            },
            "marker": {
             "colorbar": {
              "outlinewidth": 0,
              "ticks": ""
             }
            },
            "type": "scatter3d"
           }
          ],
          "scattercarpet": [
           {
            "marker": {
             "colorbar": {
              "outlinewidth": 0,
              "ticks": ""
             }
            },
            "type": "scattercarpet"
           }
          ],
          "scattergeo": [
           {
            "marker": {
             "colorbar": {
              "outlinewidth": 0,
              "ticks": ""
             }
            },
            "type": "scattergeo"
           }
          ],
          "scattergl": [
           {
            "marker": {
             "colorbar": {
              "outlinewidth": 0,
              "ticks": ""
             }
            },
            "type": "scattergl"
           }
          ],
          "scattermapbox": [
           {
            "marker": {
             "colorbar": {
              "outlinewidth": 0,
              "ticks": ""
             }
            },
            "type": "scattermapbox"
           }
          ],
          "scatterpolar": [
           {
            "marker": {
             "colorbar": {
              "outlinewidth": 0,
              "ticks": ""
             }
            },
            "type": "scatterpolar"
           }
          ],
          "scatterpolargl": [
           {
            "marker": {
             "colorbar": {
              "outlinewidth": 0,
              "ticks": ""
             }
            },
            "type": "scatterpolargl"
           }
          ],
          "scatterternary": [
           {
            "marker": {
             "colorbar": {
              "outlinewidth": 0,
              "ticks": ""
             }
            },
            "type": "scatterternary"
           }
          ],
          "surface": [
           {
            "colorbar": {
             "outlinewidth": 0,
             "ticks": ""
            },
            "colorscale": [
             [
              0,
              "#0d0887"
             ],
             [
              0.1111111111111111,
              "#46039f"
             ],
             [
              0.2222222222222222,
              "#7201a8"
             ],
             [
              0.3333333333333333,
              "#9c179e"
             ],
             [
              0.4444444444444444,
              "#bd3786"
             ],
             [
              0.5555555555555556,
              "#d8576b"
             ],
             [
              0.6666666666666666,
              "#ed7953"
             ],
             [
              0.7777777777777778,
              "#fb9f3a"
             ],
             [
              0.8888888888888888,
              "#fdca26"
             ],
             [
              1,
              "#f0f921"
             ]
            ],
            "type": "surface"
           }
          ],
          "table": [
           {
            "cells": {
             "fill": {
              "color": "#EBF0F8"
             },
             "line": {
              "color": "white"
             }
            },
            "header": {
             "fill": {
              "color": "#C8D4E3"
             },
             "line": {
              "color": "white"
             }
            },
            "type": "table"
           }
          ]
         },
         "layout": {
          "annotationdefaults": {
           "arrowcolor": "#2a3f5f",
           "arrowhead": 0,
           "arrowwidth": 1
          },
          "coloraxis": {
           "colorbar": {
            "outlinewidth": 0,
            "ticks": ""
           }
          },
          "colorscale": {
           "diverging": [
            [
             0,
             "#8e0152"
            ],
            [
             0.1,
             "#c51b7d"
            ],
            [
             0.2,
             "#de77ae"
            ],
            [
             0.3,
             "#f1b6da"
            ],
            [
             0.4,
             "#fde0ef"
            ],
            [
             0.5,
             "#f7f7f7"
            ],
            [
             0.6,
             "#e6f5d0"
            ],
            [
             0.7,
             "#b8e186"
            ],
            [
             0.8,
             "#7fbc41"
            ],
            [
             0.9,
             "#4d9221"
            ],
            [
             1,
             "#276419"
            ]
           ],
           "sequential": [
            [
             0,
             "#0d0887"
            ],
            [
             0.1111111111111111,
             "#46039f"
            ],
            [
             0.2222222222222222,
             "#7201a8"
            ],
            [
             0.3333333333333333,
             "#9c179e"
            ],
            [
             0.4444444444444444,
             "#bd3786"
            ],
            [
             0.5555555555555556,
             "#d8576b"
            ],
            [
             0.6666666666666666,
             "#ed7953"
            ],
            [
             0.7777777777777778,
             "#fb9f3a"
            ],
            [
             0.8888888888888888,
             "#fdca26"
            ],
            [
             1,
             "#f0f921"
            ]
           ],
           "sequentialminus": [
            [
             0,
             "#0d0887"
            ],
            [
             0.1111111111111111,
             "#46039f"
            ],
            [
             0.2222222222222222,
             "#7201a8"
            ],
            [
             0.3333333333333333,
             "#9c179e"
            ],
            [
             0.4444444444444444,
             "#bd3786"
            ],
            [
             0.5555555555555556,
             "#d8576b"
            ],
            [
             0.6666666666666666,
             "#ed7953"
            ],
            [
             0.7777777777777778,
             "#fb9f3a"
            ],
            [
             0.8888888888888888,
             "#fdca26"
            ],
            [
             1,
             "#f0f921"
            ]
           ]
          },
          "colorway": [
           "#636efa",
           "#EF553B",
           "#00cc96",
           "#ab63fa",
           "#FFA15A",
           "#19d3f3",
           "#FF6692",
           "#B6E880",
           "#FF97FF",
           "#FECB52"
          ],
          "font": {
           "color": "#2a3f5f"
          },
          "geo": {
           "bgcolor": "white",
           "lakecolor": "white",
           "landcolor": "#E5ECF6",
           "showlakes": true,
           "showland": true,
           "subunitcolor": "white"
          },
          "hoverlabel": {
           "align": "left"
          },
          "hovermode": "closest",
          "mapbox": {
           "style": "light"
          },
          "paper_bgcolor": "white",
          "plot_bgcolor": "#E5ECF6",
          "polar": {
           "angularaxis": {
            "gridcolor": "white",
            "linecolor": "white",
            "ticks": ""
           },
           "bgcolor": "#E5ECF6",
           "radialaxis": {
            "gridcolor": "white",
            "linecolor": "white",
            "ticks": ""
           }
          },
          "scene": {
           "xaxis": {
            "backgroundcolor": "#E5ECF6",
            "gridcolor": "white",
            "gridwidth": 2,
            "linecolor": "white",
            "showbackground": true,
            "ticks": "",
            "zerolinecolor": "white"
           },
           "yaxis": {
            "backgroundcolor": "#E5ECF6",
            "gridcolor": "white",
            "gridwidth": 2,
            "linecolor": "white",
            "showbackground": true,
            "ticks": "",
            "zerolinecolor": "white"
           },
           "zaxis": {
            "backgroundcolor": "#E5ECF6",
            "gridcolor": "white",
            "gridwidth": 2,
            "linecolor": "white",
            "showbackground": true,
            "ticks": "",
            "zerolinecolor": "white"
           }
          },
          "shapedefaults": {
           "line": {
            "color": "#2a3f5f"
           }
          },
          "ternary": {
           "aaxis": {
            "gridcolor": "white",
            "linecolor": "white",
            "ticks": ""
           },
           "baxis": {
            "gridcolor": "white",
            "linecolor": "white",
            "ticks": ""
           },
           "bgcolor": "#E5ECF6",
           "caxis": {
            "gridcolor": "white",
            "linecolor": "white",
            "ticks": ""
           }
          },
          "title": {
           "x": 0.05
          },
          "xaxis": {
           "automargin": true,
           "gridcolor": "white",
           "linecolor": "white",
           "ticks": "",
           "title": {
            "standoff": 15
           },
           "zerolinecolor": "white",
           "zerolinewidth": 2
          },
          "yaxis": {
           "automargin": true,
           "gridcolor": "white",
           "linecolor": "white",
           "ticks": "",
           "title": {
            "standoff": 15
           },
           "zerolinecolor": "white",
           "zerolinewidth": 2
          }
         }
        },
        "title": {
         "text": "Distribuição de popularidade da músicas"
        },
        "xaxis": {
         "anchor": "y2",
         "domain": [
          0,
          1
         ],
         "zeroline": false
        },
        "yaxis": {
         "anchor": "free",
         "domain": [
          0,
          1
         ],
         "position": 0
        }
       }
      },
      "text/html": [
       "<div>\n",
       "        \n",
       "        \n",
       "            <div id=\"059921d0-a7f2-4783-8776-d3e046c1b6c4\" class=\"plotly-graph-div\" style=\"height:525px; width:100%;\"></div>\n",
       "            <script type=\"text/javascript\">\n",
       "                require([\"plotly\"], function(Plotly) {\n",
       "                    window.PLOTLYENV=window.PLOTLYENV || {};\n",
       "                    \n",
       "                if (document.getElementById(\"059921d0-a7f2-4783-8776-d3e046c1b6c4\")) {\n",
       "                    Plotly.newPlot(\n",
       "                        '059921d0-a7f2-4783-8776-d3e046c1b6c4',\n",
       "                        [{\"legendgroup\": \"ANONYMOUS\", \"marker\": {\"color\": \"rgb(31, 119, 180)\"}, \"mode\": \"lines\", \"name\": \"ANONYMOUS\", \"showlegend\": true, \"type\": \"scatter\", \"x\": [15.0, 15.11, 15.22, 15.33, 15.44, 15.55, 15.66, 15.77, 15.88, 15.99, 16.1, 16.21, 16.32, 16.43, 16.54, 16.65, 16.76, 16.87, 16.98, 17.09, 17.2, 17.31, 17.42, 17.53, 17.64, 17.75, 17.86, 17.97, 18.08, 18.19, 18.3, 18.41, 18.52, 18.63, 18.740000000000002, 18.85, 18.96, 19.07, 19.18, 19.29, 19.4, 19.509999999999998, 19.62, 19.73, 19.84, 19.95, 20.06, 20.17, 20.28, 20.39, 20.5, 20.61, 20.72, 20.83, 20.94, 21.05, 21.16, 21.27, 21.38, 21.490000000000002, 21.6, 21.71, 21.82, 21.93, 22.04, 22.15, 22.259999999999998, 22.37, 22.48, 22.59, 22.7, 22.81, 22.92, 23.03, 23.14, 23.25, 23.36, 23.47, 23.58, 23.689999999999998, 23.8, 23.91, 24.02, 24.130000000000003, 24.240000000000002, 24.35, 24.46, 24.57, 24.68, 24.79, 24.9, 25.009999999999998, 25.119999999999997, 25.23, 25.34, 25.45, 25.560000000000002, 25.67, 25.78, 25.89, 26.0, 26.11, 26.22, 26.33, 26.439999999999998, 26.55, 26.66, 26.77, 26.880000000000003, 26.990000000000002, 27.1, 27.21, 27.32, 27.43, 27.54, 27.65, 27.759999999999998, 27.869999999999997, 27.98, 28.09, 28.2, 28.310000000000002, 28.42, 28.53, 28.64, 28.75, 28.86, 28.97, 29.08, 29.189999999999998, 29.3, 29.41, 29.52, 29.630000000000003, 29.740000000000002, 29.85, 29.96, 30.07, 30.18, 30.29, 30.4, 30.509999999999998, 30.619999999999997, 30.73, 30.84, 30.95, 31.06, 31.17, 31.28, 31.39, 31.5, 31.61, 31.72, 31.83, 31.94, 32.05, 32.16, 32.269999999999996, 32.379999999999995, 32.489999999999995, 32.6, 32.71, 32.82, 32.93, 33.04, 33.15, 33.260000000000005, 33.370000000000005, 33.480000000000004, 33.59, 33.7, 33.81, 33.92, 34.03, 34.14, 34.25, 34.36, 34.47, 34.58, 34.69, 34.8, 34.91, 35.019999999999996, 35.129999999999995, 35.239999999999995, 35.35, 35.46, 35.57, 35.68, 35.79, 35.9, 36.010000000000005, 36.120000000000005, 36.230000000000004, 36.34, 36.45, 36.56, 36.67, 36.78, 36.89, 37.0, 37.11, 37.22, 37.33, 37.44, 37.55, 37.66, 37.769999999999996, 37.879999999999995, 37.989999999999995, 38.1, 38.21, 38.32, 38.43, 38.54, 38.65, 38.760000000000005, 38.870000000000005, 38.980000000000004, 39.09, 39.2, 39.31, 39.42, 39.53, 39.64, 39.75, 39.86, 39.97, 40.08, 40.19, 40.3, 40.41, 40.519999999999996, 40.629999999999995, 40.739999999999995, 40.85, 40.96, 41.07, 41.18, 41.29, 41.4, 41.510000000000005, 41.620000000000005, 41.730000000000004, 41.84, 41.95, 42.06, 42.17, 42.28, 42.39, 42.5, 42.61, 42.72, 42.83, 42.94, 43.05, 43.16, 43.269999999999996, 43.379999999999995, 43.489999999999995, 43.6, 43.71, 43.82, 43.93, 44.04, 44.15, 44.260000000000005, 44.370000000000005, 44.480000000000004, 44.59, 44.7, 44.81, 44.92, 45.03, 45.14, 45.25, 45.36, 45.47, 45.58, 45.69, 45.8, 45.91, 46.019999999999996, 46.129999999999995, 46.239999999999995, 46.35, 46.46, 46.57, 46.68, 46.79, 46.9, 47.01, 47.12, 47.23, 47.34, 47.45, 47.56, 47.67, 47.78, 47.89, 48.0, 48.11, 48.22, 48.33, 48.44, 48.55, 48.66, 48.77, 48.88, 48.99, 49.1, 49.21, 49.32, 49.43, 49.54, 49.65, 49.76, 49.87, 49.98, 50.09, 50.2, 50.31, 50.42, 50.53, 50.64, 50.75, 50.86, 50.97, 51.08, 51.19, 51.3, 51.41, 51.52, 51.63, 51.74, 51.85, 51.96, 52.07, 52.18, 52.29, 52.4, 52.51, 52.62, 52.73, 52.84, 52.95, 53.06, 53.17, 53.28, 53.39, 53.5, 53.61, 53.72, 53.83, 53.94, 54.05, 54.16, 54.27, 54.38, 54.49, 54.6, 54.71, 54.82, 54.93, 55.04, 55.15, 55.26, 55.37, 55.48, 55.59, 55.7, 55.81, 55.92, 56.03, 56.14, 56.25, 56.36, 56.47, 56.58, 56.69, 56.8, 56.91, 57.02, 57.13, 57.24, 57.35, 57.46, 57.57, 57.68, 57.79, 57.9, 58.01, 58.12, 58.23, 58.34, 58.45, 58.56, 58.67, 58.78, 58.89, 59.0, 59.11, 59.22, 59.33, 59.44, 59.55, 59.66, 59.77, 59.88, 59.99, 60.1, 60.21, 60.32, 60.43, 60.54, 60.65, 60.76, 60.87, 60.98, 61.09, 61.2, 61.31, 61.42, 61.53, 61.64, 61.75, 61.86, 61.97, 62.08, 62.19, 62.3, 62.41, 62.52, 62.63, 62.74, 62.85, 62.96, 63.07, 63.18, 63.29, 63.4, 63.51, 63.62, 63.73, 63.84, 63.95, 64.06, 64.17, 64.28, 64.39, 64.5, 64.61, 64.72, 64.83, 64.94, 65.05, 65.16, 65.27000000000001, 65.38, 65.49000000000001, 65.6, 65.71000000000001, 65.82, 65.93, 66.03999999999999, 66.15, 66.25999999999999, 66.37, 66.47999999999999, 66.59, 66.7, 66.81, 66.92, 67.03, 67.14, 67.25, 67.36, 67.47, 67.58, 67.69, 67.8, 67.91, 68.02000000000001, 68.13, 68.24000000000001, 68.35, 68.46000000000001, 68.57, 68.68, 68.78999999999999, 68.9, 69.00999999999999, 69.12, 69.22999999999999, 69.34, 69.45, 69.56, 69.67, 69.78, 69.89], \"xaxis\": \"x\", \"y\": [0.02004172586262533, 0.02012679721763495, 0.020209272840815685, 0.02028912239918786, 0.02036631673519584, 0.020440827888792916, 0.020512629118686867, 0.020581694922725786, 0.020648001057405125, 0.020711524556477432, 0.020772243748647518, 0.020830138274336735, 0.020885189101500883, 0.02093737854048752, 0.020986690257919414, 0.021033109289591824, 0.021076622052372554, 0.02111721635509474, 0.02115488140843335, 0.021189607833757652, 0.021221387670952777, 0.021250214385204986, 0.021276082872745936, 0.021298989465552767, 0.021318931935001666, 0.0213359094944739, 0.021349922800914262, 0.0213609739553431, 0.02136906650232428, 0.0213742054283922, 0.02137639715944263, 0.021375649557092664, 0.021371971914016484, 0.021365374948264647, 0.02135587079657554, 0.02134347300668878, 0.021328196528671246, 0.021310057705267563, 0.021289074261287625, 0.021265265292044835, 0.02123865125085962, 0.02120925393564368, 0.021177096474581186, 0.021142203310924135, 0.021104600186919887, 0.021064314126889402, 0.021021373419475856, 0.020975807599083768, 0.020927647426529424, 0.020876924868924278, 0.020823673078813318, 0.02076792637259123, 0.020709720208219564, 0.020649091162268676, 0.020586076906308773, 0.020520716182674627, 0.0204530487796291, 0.02038311550595096, 0.020310958164972658, 0.020236619528094243, 0.02016014330779956, 0.02008157413020142, 0.020000957507142245, 0.019918339807877144, 0.019833768230366245, 0.019747290772203354, 0.019658956201207733, 0.019568814025706295, 0.01947691446453284, 0.019383308416771366, 0.019288047431270123, 0.01919118367595297, 0.019092769906954528, 0.018992859437605057, 0.018891506107291293, 0.0187887642502186, 0.01868468866409993, 0.018579334578796486, 0.018472757624934683, 0.018365013802523717, 0.018256159449597364, 0.01814625121090355, 0.01803534600666434, 0.01792350100142886, 0.017810773573040988, 0.017697221281743045, 0.01758290183943635, 0.017467873079118748, 0.017352192924518804, 0.017235919359945468, 0.01711911040037186, 0.017001824061770667, 0.0168841183317184, 0.016766051140284944, 0.016647680331224178, 0.016529063633480744, 0.01641025863302756, 0.016291322745047757, 0.016172313186474142, 0.01605328694889867, 0.01593430077186368, 0.015815411116545875, 0.015696674139843565, 0.01557814566887677, 0.015459881175909374, 0.015341935753701595, 0.01522436409130062, 0.015107220450276388, 0.014990558641409139, 0.014874432001834382, 0.014758893372650642, 0.014643995076994558, 0.014529788898587352, 0.014416326060756119, 0.014303657205932937, 0.014191832375633965, 0.014080900990920605, 0.01397091183334384, 0.013861913026372713, 0.0137539520173073, 0.013647075559676002, 0.013541329696116792, 0.013436759741741387, 0.013333410267981004, 0.013231325086912119, 0.01313054723606015, 0.013031118963678619, 0.012933081714501318, 0.012836476115964321, 0.012741341964894773, 0.012647718214663005, 0.012555642962794222, 0.012465153439036003, 0.01237628599387752, 0.01228907608751635, 0.012203558279268473, 0.01211976621741716, 0.012037732629496126, 0.011957489313002402, 0.011879067126534382, 0.011802495981350197, 0.01172780483334194, 0.011655021675420978, 0.011584173530309673, 0.011515286443735078, 0.011448385478019827, 0.011383494706065998, 0.011320637205727397, 0.011259835054566078, 0.011201109324988886, 0.011144480079760035, 0.01108996636788581, 0.011037586220867646, 0.010987356649320025, 0.010939293639949723, 0.01089341215289328, 0.010849726119409472, 0.010808248439924152, 0.010768990982424556, 0.010731964581200773, 0.010697179035932071, 0.010664643111115982, 0.01063436453583832, 0.010606350003882539, 0.01058060517417686, 0.010557134671578124, 0.010535942087991105, 0.010517029983822672, 0.010500399889769998, 0.010486052308942466, 0.010473986719316954, 0.0104642015765264, 0.010456694316981778, 0.010451461361327708, 0.010448498118231982, 0.010447798988509758, 0.01044935736958288, 0.010453165660275184, 0.010459215265944692, 0.010467496603953672, 0.010477999109477621, 0.010490711241654275, 0.010505620490073904, 0.010522713381612089, 0.010541975487606187, 0.010563391431376808, 0.010586944896095624, 0.010612618633000516, 0.010640394469959551, 0.01067025332038469, 0.010702175192496522, 0.010736139198940767, 0.010772123566757644, 0.01081010564770476, 0.010850061928934207, 0.01089196804402429, 0.010935798784366218, 0.010981528110905914, 0.011029129166240822, 0.011078574287071484, 0.011129835017007213, 0.011182882119725403, 0.011237685592483044, 0.011294214679979517, 0.011352437888568798, 0.011412323000819425, 0.011473837090419846, 0.011536946537426658, 0.011601617043852977, 0.011667813649593673, 0.01173550074868388, 0.011804642105886878, 0.011875200873607107, 0.011947139609123589, 0.012020420292138661, 0.012095004342636646, 0.012170852639046565, 0.012247925536702621, 0.01232618288659584, 0.01240558405440977, 0.01248608793983277, 0.012567652996139019, 0.012650237250029908, 0.012733798321727205, 0.01281829344530877, 0.012903679489277387, 0.012989912977352837, 0.013076950109476774, 0.013164746783019871, 0.01325325861418008, 0.013342440959560655, 0.013432248937915912, 0.013522637452052913, 0.013613561210876294, 0.013704974751563419, 0.013796832461857008, 0.013889088602461285, 0.013981697329528368, 0.014074612717220518, 0.014167788780334195, 0.01426117949697119, 0.01435473883124214, 0.014448420755987484, 0.014542179275500567, 0.014635968448237575, 0.014729742409498755, 0.014823455394065415, 0.014917061758776525, 0.01501051600502944, 0.015103772801188738, 0.01519678700488681, 0.015289513685200491, 0.015381908144687581, 0.015473925941267081, 0.0155655229099272, 0.015656655184245197, 0.0157472792177029, 0.015837351804782487, 0.015926830101826377, 0.01601567164764603, 0.016103834383864053, 0.016191276674974463, 0.016277957328106035, 0.01636383561247409, 0.01644887127850593, 0.016533024576625976, 0.016616256275686248, 0.01669852768102883, 0.016779800652166756, 0.016860037620070423, 0.016939201604046897, 0.01701725622819966, 0.01709416573745718, 0.017169895013158857, 0.01724440958818698, 0.017317675661634658, 0.017389660112999108, 0.01746033051589118, 0.017529655151251374, 0.01759760302006446, 0.01766414385556376, 0.01772924813491821, 0.01779288709039464, 0.017855032719989, 0.01791565779752047, 0.017974735882182985, 0.018032241327549464, 0.018088149290024183, 0.018142435736739976, 0.018195077452896644, 0.01824605204853833, 0.018295337964767792, 0.018342914479396136, 0.018388761712026996, 0.01843286062857537, 0.018475193045220818, 0.018515741631796458, 0.018554489914614735, 0.018591422278732384, 0.01862652396965681, 0.018659781094497233, 0.01869118062256412, 0.01872071038542113, 0.018748359076394164, 0.01877411624954304, 0.0187979723181011, 0.018819918552389216, 0.01883994707721086, 0.01885805086873516, 0.018874223750875933, 0.018888460391174186, 0.01890075629619314, 0.018911107806434006, 0.01891951209078234, 0.018925967140494, 0.018930471762731223, 0.01893302557365878, 0.018933628991110875, 0.018932283226839805, 0.018928990278357576, 0.01892375292038187, 0.01891657469589819, 0.018907459906849982, 0.01889641360446914, 0.0188834415792589, 0.01886855035064209, 0.01885174715628683, 0.018833039941123116, 0.018812437346062708, 0.018789948696435584, 0.018765583990155946, 0.018739353885631024, 0.01871126968942582, 0.018681343343696772, 0.018649587413408022, 0.018616015073343026, 0.018580640094924824, 0.01854347683285828, 0.018504540211606853, 0.01846384571171744, 0.018421409356005673, 0.018377247695614673, 0.018331377795959867, 0.018283817222572184, 0.01823458402685223, 0.018183696731747277, 0.018131174317363292, 0.018077036206523733, 0.018021302250286465, 0.01796399271343065, 0.017905128259924127, 0.01784472993838269, 0.017782819167531702, 0.017719417721680404, 0.017654547716219198, 0.017588231593149747, 0.017520492106657452, 0.017451352308735606, 0.01738083553487044, 0.017308965389795653, 0.01723576573332496, 0.017161260666270797, 0.0170854745164572, 0.017008431824834185, 0.016930157331701192, 0.016850675963046402, 0.01677001281700861, 0.016688193150468142, 0.01660524236577284, 0.016521185997604906, 0.016436049699994112, 0.016349859233482523, 0.016262640452445853, 0.016174419292575827, 0.016085221758528043, 0.01599507391173942, 0.015904001858419035, 0.015812031737715792, 0.0157191897100664, 0.01562550194572649, 0.015530994613487788, 0.015435693869583824, 0.015339625846786447, 0.015242816643695421, 0.01514529231422268, 0.015047078857273065, 0.01494820220662302, 0.014848688220998302, 0.014748562674351963, 0.014647851246343413, 0.014546579513019136, 0.01444477293769583, 0.014342456862046092, 0.014239656497387107, 0.014136396916172224, 0.014032703043685528, 0.013928599649939068, 0.013824111341772615, 0.013719262555155442, 0.01361407754768952, 0.013508580391313819, 0.013402794965208622, 0.013296744948899384, 0.013190453815559064, 0.013083944825508217, 0.01297724101991159, 0.012870365214670327, 0.012763339994508722, 0.012656187707254341, 0.012548930458309987, 0.01244159010531694, 0.012334188253007698, 0.012226746248246954, 0.012119285175259814, 0.012011825851045628, 0.011904388820976209, 0.011796994354577081, 0.011689662441490311, 0.01158241278761779, 0.01147526481144311, 0.01136823764053121, 0.011261350108203998, 0.011154620750390759, 0.011048067802651896, 0.010941709197374652, 0.010835562561139437, 0.010729645212255362, 0.0106239741584636, 0.010518566094807242, 0.01041343740166634, 0.010308604142956595, 0.01020408206449048, 0.010099886592499429, 0.0099960328323157, 0.009892535567212458, 0.009789409257400926, 0.009686668039183017, 0.009584325724258255, 0.009482395799183356, 0.009380891424983379, 0.009279825436912779, 0.00917921034436506, 0.009079058330929559, 0.008979381254593855, 0.008880190648090428, 0.008781497719385916, 0.008683313352311522, 0.008585648107332956, 0.008488512222458408, 0.008391915614282751, 0.008295867879166474, 0.008200378294547476, 0.008105455820384133, 0.008011109100727729, 0.00791734646542241, 0.007824175931930848, 0.0077316052072836355, 0.007639641690150407, 0.0075482924730307125, 0.007457564344562353, 0.007367463791945435, 0.0072779970034793995, 0.007189169871211344, 0.007100987993692633, 0.007013456678842277, 0.006926580946913705, 0.006840365533563273, 0.006754814893017221, 0.00666993320133519, 0.0065857243597668425, 0.006502191998199624, 0.006419339478694171, 0.006337169899105065, 0.0062556860967836764, 0.006174890652360324, 0.006094785893602595, 0.006015373899346823, 0.005936656503499739, 0.005858635299106765, 0.005781311642484159, 0.005704686657411427, 0.005628761239380916, 0.005553536059901057, 0.005479011570850134, 0.005405188008876815, 0.005332065399844457, 0.005259643563315218, 0.005187922117071007, 0.005116900481667215, 0.0050465778850162886, 0.004976953366997008, 0.00490802578408648, 0.004839793814010812, 0.004772255960411339, 0.00470541055752242, 0.00463925577485774, 0.004573789621901108, 0.004509009952798603, 0.004444914471048339, 0.004381500734184503], \"yaxis\": \"y\"}, {\"legendgroup\": \"cybersex\", \"marker\": {\"color\": \"rgb(255, 127, 14)\"}, \"mode\": \"lines\", \"name\": \"cybersex\", \"showlegend\": true, \"type\": \"scatter\", \"x\": [0.0, 0.132, 0.264, 0.396, 0.528, 0.66, 0.792, 0.924, 1.056, 1.188, 1.32, 1.452, 1.584, 1.716, 1.848, 1.98, 2.112, 2.244, 2.376, 2.508, 2.64, 2.772, 2.904, 3.036, 3.168, 3.3, 3.432, 3.564, 3.696, 3.828, 3.96, 4.092, 4.224, 4.356, 4.488, 4.62, 4.752, 4.884, 5.016, 5.148, 5.28, 5.412, 5.544, 5.676, 5.808, 5.94, 6.072, 6.204, 6.336, 6.468, 6.6, 6.732, 6.864, 6.996, 7.128, 7.26, 7.392, 7.524, 7.656, 7.788, 7.92, 8.052, 8.184, 8.316, 8.448, 8.58, 8.712, 8.844, 8.976, 9.108, 9.24, 9.372, 9.504, 9.636, 9.768, 9.9, 10.032, 10.164, 10.296, 10.428, 10.56, 10.692, 10.824, 10.956, 11.088, 11.22, 11.352, 11.484, 11.616, 11.748, 11.88, 12.012, 12.144, 12.276, 12.408, 12.54, 12.672, 12.804, 12.936, 13.068, 13.2, 13.332, 13.464, 13.596, 13.728, 13.86, 13.992, 14.124, 14.256, 14.388, 14.52, 14.652, 14.784, 14.916, 15.048, 15.18, 15.312, 15.444, 15.576, 15.708, 15.84, 15.972, 16.104, 16.236, 16.368, 16.5, 16.632, 16.764, 16.896, 17.028, 17.16, 17.292, 17.424, 17.556, 17.688, 17.82, 17.952, 18.084, 18.216, 18.348, 18.48, 18.612, 18.744, 18.876, 19.008, 19.14, 19.272, 19.404, 19.536, 19.668, 19.8, 19.932, 20.064, 20.196, 20.328, 20.46, 20.592, 20.724, 20.856, 20.988, 21.12, 21.252, 21.384, 21.516, 21.648, 21.78, 21.912, 22.044, 22.176, 22.308, 22.44, 22.572, 22.704, 22.836, 22.968, 23.1, 23.232, 23.364, 23.496, 23.628, 23.76, 23.892, 24.024, 24.156, 24.288, 24.42, 24.552, 24.684, 24.816, 24.948, 25.08, 25.212, 25.344, 25.476, 25.608, 25.74, 25.872, 26.004, 26.136, 26.268, 26.4, 26.532, 26.664, 26.796, 26.928, 27.06, 27.192, 27.324, 27.456, 27.588, 27.72, 27.852, 27.984, 28.116, 28.248, 28.38, 28.512, 28.644, 28.776, 28.908, 29.04, 29.172, 29.304, 29.436, 29.568, 29.7, 29.832, 29.964, 30.096, 30.228, 30.36, 30.492, 30.624, 30.756, 30.888, 31.02, 31.152, 31.284, 31.416, 31.548, 31.68, 31.812, 31.944, 32.076, 32.208, 32.34, 32.472, 32.604, 32.736, 32.868, 33.0, 33.132, 33.264, 33.396, 33.528, 33.66, 33.792, 33.924, 34.056, 34.188, 34.32, 34.452, 34.584, 34.716, 34.848, 34.98, 35.112, 35.244, 35.376, 35.508, 35.64, 35.772, 35.904, 36.036, 36.168, 36.3, 36.432, 36.564, 36.696, 36.828, 36.96, 37.092, 37.224, 37.356, 37.488, 37.62, 37.752, 37.884, 38.016, 38.148, 38.28, 38.412, 38.544, 38.676, 38.808, 38.94, 39.072, 39.204, 39.336, 39.468, 39.6, 39.732, 39.864, 39.996, 40.128, 40.26, 40.392, 40.524, 40.656, 40.788, 40.92, 41.052, 41.184, 41.316, 41.448, 41.58, 41.712, 41.844, 41.976, 42.108, 42.24, 42.372, 42.504, 42.636, 42.768, 42.9, 43.032, 43.164, 43.296, 43.428, 43.56, 43.692, 43.824, 43.956, 44.088, 44.22, 44.352, 44.484, 44.616, 44.748, 44.88, 45.012, 45.144, 45.276, 45.408, 45.54, 45.672, 45.804, 45.936, 46.068, 46.2, 46.332, 46.464, 46.596, 46.728, 46.86, 46.992, 47.124, 47.256, 47.388, 47.52, 47.652, 47.784, 47.916, 48.048, 48.18, 48.312, 48.444, 48.576, 48.708, 48.84, 48.972, 49.104, 49.236, 49.368, 49.5, 49.632, 49.764, 49.896, 50.028, 50.16, 50.292, 50.424, 50.556, 50.688, 50.82, 50.952, 51.084, 51.216, 51.348, 51.48, 51.612, 51.744, 51.876, 52.008, 52.14, 52.272, 52.404, 52.536, 52.668, 52.8, 52.932, 53.064, 53.196, 53.328, 53.46, 53.592, 53.724, 53.856, 53.988, 54.12, 54.252, 54.384, 54.516, 54.648, 54.78, 54.912, 55.044, 55.176, 55.308, 55.44, 55.572, 55.704, 55.836, 55.968, 56.1, 56.232, 56.364, 56.496, 56.628, 56.76, 56.892, 57.024, 57.156, 57.288, 57.42, 57.552, 57.684, 57.816, 57.948, 58.08, 58.212, 58.344, 58.476, 58.608, 58.74, 58.872, 59.004, 59.136, 59.268, 59.4, 59.532, 59.664, 59.796, 59.928, 60.06, 60.192, 60.324, 60.456, 60.588, 60.72, 60.852, 60.984, 61.116, 61.248, 61.38, 61.512, 61.644, 61.776, 61.908, 62.04, 62.172, 62.304, 62.436, 62.568, 62.7, 62.832, 62.964, 63.096, 63.228, 63.36, 63.492, 63.624, 63.756, 63.888, 64.02, 64.152, 64.284, 64.416, 64.548, 64.68, 64.812, 64.944, 65.076, 65.208, 65.34, 65.472, 65.604, 65.736, 65.868], \"xaxis\": \"x\", \"y\": [0.01619886740701635, 0.0162741227011369, 0.016348137452405365, 0.016420902160857842, 0.016492407809120514, 0.01656264586057735, 0.016631608257095785, 0.0166992874163171, 0.016765676228518694, 0.016830768053056323, 0.01689455671439449, 0.016957036497734335, 0.0170182021442485, 0.017078048845933124, 0.017136572240087827, 0.017193768403434735, 0.017249633845888436, 0.017304165503989017, 0.017357360734010806, 0.01740921730476004, 0.017459733390074998, 0.017508907561042387, 0.01755673877794449, 0.01760322638195158, 0.017648370086574782, 0.017692169968894382, 0.017734626460579488, 0.01777574033871465, 0.017815512716449558, 0.017853945033488083, 0.017891039046433056, 0.017926796819003343, 0.01796122071214001, 0.01799431337401819, 0.018026077729981646, 0.01805651697241679, 0.018085634550583096, 0.018113434160416886, 0.01813991973432498, 0.01816509543098534, 0.018188965625171073, 0.01821153489761438, 0.018232808024926862, 0.018252789969592197, 0.018271485870047264, 0.018288901030867395, 0.018305040913071127, 0.018319911124559746, 0.018333517410706306, 0.0183458656451088, 0.01835696182052143, 0.018366812039977982, 0.018375422508120406, 0.018382799522745717, 0.018388949466583634, 0.018393878799316875, 0.018397594049855845, 0.018400101808878504, 0.018401408721646112, 0.018401521481104615, 0.01840044682128127, 0.01839819151098524, 0.018394762347820403, 0.018390166152518077, 0.01838440976359678, 0.018377500032355294, 0.018369443818205097, 0.018360247984347104, 0.018349919393797477, 0.01833846490576629, 0.018325891372392347, 0.018312205635836798, 0.018297414525737413, 0.01828152485702497, 0.018264543428102194, 0.018246477019385515, 0.018227332392208657, 0.018207116288087077, 0.018185835428341075, 0.0181634965140751, 0.018140106226509974, 0.018115671227664287, 0.018090198161380362, 0.018063693654689916, 0.018036164319513544, 0.018007616754688042, 0.01797805754831451, 0.01794749328042009, 0.01791593052592532, 0.017883375857908643, 0.01784983585115936, 0.017815317086009246, 0.017779826152433287, 0.0177433696544089, 0.01770595421452304, 0.01766758647881588, 0.01762827312184949, 0.017588020851989496, 0.01754683641688752, 0.017504726609151512, 0.017461698272191267, 0.017417758306225613, 0.01737291367443799, 0.01732717140926644, 0.017280538618814244, 0.017233022493366883, 0.017184630312001115, 0.017135369449271604, 0.01708524738196057, 0.017034271695875815, 0.01698245009268234, 0.01692979039675272, 0.016876300562021593, 0.016821988678829263, 0.016766862980739844, 0.016710931851319118, 0.0166542038308575, 0.016596687623023635, 0.01653839210143417, 0.01647932631612546, 0.01641949949991318, 0.01635892107462587, 0.016297600657198843, 0.016235548065614933, 0.01617277332467899, 0.016109286671613116, 0.0160450985614602, 0.015980219672283257, 0.015914660910148877, 0.015848433413882874, 0.015781548559587192, 0.015714017964907054, 0.01564585349303792, 0.015577067256462278, 0.015507671620406609, 0.015437679206009339, 0.015367102893191195, 0.015295955823219501, 0.01522425140095884, 0.015152003296800689, 0.015079225448265229, 0.015005932061269094, 0.014932137611053222, 0.014857856842765561, 0.014783104771693844, 0.014707896683144277, 0.01463224813196238, 0.01455617494169283, 0.014479693203375695, 0.014402819273976956, 0.014325569774451713, 0.014247961587439125, 0.014170011854588486, 0.014091737973516608, 0.0140131575943969, 0.013934288616181395, 0.013855149182457227, 0.013775757676939712, 0.013696132718604658, 0.013616293156463028, 0.013536258063981585, 0.013456046733153617, 0.013375678668224313, 0.013295173579075899, 0.013214551374277954, 0.013133832153808955, 0.013053036201455323, 0.012972183976894947, 0.012891296107472241, 0.012810393379672477, 0.012729496730303363, 0.012648627237392221, 0.012567806110807557, 0.012487054682614102, 0.012406394397170657, 0.01232584680098058, 0.012245433532304898, 0.012165176310548288, 0.012085096925428637, 0.012005217225940864, 0.011925559109126155, 0.011846144508657949, 0.011766995383255928, 0.011688133704939999, 0.011609581447135827, 0.011531360572644101, 0.011453493021485541, 0.011376000698633967, 0.011298905461649753, 0.011222229108226074, 0.011145993363660534, 0.011070219868264605, 0.010994930164723613, 0.010920145685419807, 0.010845887739731079, 0.010772177501318142, 0.010699035995412496, 0.010626484086117934, 0.010554542463737977, 0.010483231632141618, 0.010412571896179843, 0.010342583349165024, 0.010273285860425333, 0.010204699062946238, 0.010136842341110846, 0.010069734818550806, 0.010003395346119352, 0.0099378424899978, 0.009873094519946668, 0.009809169397712342, 0.009746084765600186, 0.009683857935224423, 0.009622505876445269, 0.00956204520650326, 0.009502492179360661, 0.009443862675259434, 0.009386172190505141, 0.009329435827485685, 0.009273668284933726, 0.009218883848441129, 0.009165096381233601, 0.00911231931521343, 0.009060565642277783, 0.00900984790591975, 0.00896017819311927, 0.008911568126530163, 0.008864028856969911, 0.008817571056217818, 0.008772204910127377, 0.008727940112057965, 0.008684785856630938, 0.008642750833814562, 0.008601843223342232, 0.008562070689467778, 0.008523440376061517, 0.008485958902050233, 0.008449632357204084, 0.008414466298272947, 0.008380465745474453, 0.008347635179335691, 0.008315978537889998, 0.008285499214230255, 0.008256200054419476, 0.00822808335575934, 0.008201150865416921, 0.008175403779409555, 0.008150842741947497, 0.008127467845133666, 0.008105278629019523, 0.008084274082015773, 0.00806445264165633, 0.008045812195713627, 0.008028350083663156, 0.008012063098494816, 0.007996947488868195, 0.007982998961609032, 0.00797021268454337, 0.007958583289666093, 0.007948104876639855, 0.007938771016620608, 0.007930574756405347, 0.007923508622897616, 0.007917564627886039, 0.007912734273131035, 0.007909008555754474, 0.007906377973926975, 0.007904832532847284, 0.007904361751008065, 0.007904954666742075, 0.007906599845042687, 0.007909285384652597, 0.007912998925414054, 0.007917727655874299, 0.007923458321139337, 0.007930177230969207, 0.007937870268107843, 0.007946522896840206, 0.007956120171769769, 0.007966646746808746, 0.007978086884373717, 0.007990424464779164, 0.008003642995821264, 0.008017725622544209, 0.008032655137181316, 0.008048413989263101, 0.008064984295884385, 0.00808234785212259, 0.008100486141599028, 0.008119380347175457, 0.008139011361777576, 0.008159359799337542, 0.008180406005847456, 0.008202130070515448, 0.008224511837016692, 0.008247530914830823, 0.008271166690657958, 0.008295398339905117, 0.008320204838234981, 0.008345564973169111, 0.008371457355737378, 0.008397860432165932, 0.008424752495595624, 0.008452111697823068, 0.008479916061056606, 0.008508143489679352, 0.008536771782011638, 0.008565778642065468, 0.008595141691283054, 0.008624838480252504, 0.008654846500392784, 0.008685143195601121, 0.008715705973855448, 0.00874651221876478, 0.008777539301060774, 0.00880876459002336, 0.008840165464833866, 0.008871719325848954, 0.008903403605788708, 0.008935195780832777, 0.008967073381617957, 0.008999014004131304, 0.009030995320492684, 0.00906299508962084, 0.009094991167777263, 0.009126961518982313, 0.009158884225298003, 0.009190737496972197, 0.009222499682439112, 0.009254149278170873, 0.009285664938375536, 0.009317025484536572, 0.009348209914789423, 0.009379197413130662, 0.009409967358455392, 0.00944049933341894, 0.009470773133118794, 0.009500768773592945, 0.00953046650013116, 0.009559846795395604, 0.009588890387347443, 0.009617578256976482, 0.009645891645830629, 0.009673812063342602, 0.009701321293950954, 0.009728401404013121, 0.009755034748508123, 0.009781203977526728, 0.009806892042547047, 0.009832082202493719, 0.009856758029579141, 0.009880903414925021, 0.00990450257396298, 0.009927540051613089, 0.009950000727239228, 0.009971869819380292, 0.0099931328902566, 0.010013775850051157, 0.010033784960964923, 0.01005314684104609, 0.010071848467793292, 0.010089877181532656, 0.010107220688568947, 0.010123867064111154, 0.01013980475497293, 0.010155022582048557, 0.010169509742565279, 0.010183255812112733, 0.010196250746450641, 0.010208484883095906, 0.010219948942690448, 0.010230634030151202, 0.010240531635603753, 0.010249633635101464, 0.010257932291131866, 0.010265420252912166, 0.010272090556475894, 0.010277936624553086, 0.010282952266246145, 0.010287131676503719, 0.010290469435395013, 0.0102929605071876, 0.010294600239230874, 0.010295384360648228, 0.010295308980840894, 0.010294370587806405, 0.010292566046274505, 0.010289892595664195, 0.01028634784786468, 0.010281929784843855, 0.010276636756087445, 0.01027046747587275, 0.010263421020380097, 0.010255496824645802, 0.010246694679360313, 0.010237014727515401, 0.01022645746090407, 0.01021502371647688, 0.010202714672559121, 0.010189531844932162, 0.010175477082783508, 0.010160552564529236, 0.010144760793513065, 0.010128104593586262, 0.010110587104572256, 0.010092211777620427, 0.01007298237045309, 0.010052902942509904, 0.010031977849994083, 0.010010211740824457, 0.009987609549497864, 0.009964176491865893, 0.00993991805983054, 0.009914840015962729, 0.009888948388048335, 0.009862249463565615, 0.009834749784098592, 0.009806456139690556, 0.00977737556314164, 0.009747515324255291, 0.009716882924037258, 0.009685486088851466, 0.00965333276453705, 0.009620431110490501, 0.009586789493716979, 0.00955241648285514, 0.009517320842179038, 0.009481511525581365, 0.009444997670541959, 0.009407788592085301, 0.009369893776730977, 0.009331322876440763, 0.009292085702566186, 0.0092521922198001, 0.009211652540136036, 0.009170476916838654, 0.00912867573842913, 0.009086259522688468, 0.009043238910682545, 0.008999624660811778, 0.008955427642888954, 0.00891065883224813, 0.008865329303887828, 0.008819450226651456, 0.008773032857447897, 0.008726088535515151, 0.008678628676729604, 0.008630664767963961, 0.008582208361496044, 0.008533271069471292, 0.00848386455842121, 0.008434000543840178, 0.008383690784822904, 0.008332947078764684, 0.008281781256126504, 0.008230205175267116, 0.00817823071734385, 0.008125869781284082, 0.008073134278829152, 0.008020036129652191, 0.007966587256551626, 0.00791279958072177, 0.00785868501710174, 0.007804255469804295, 0.007749522827625489, 0.007694498959636497, 0.00763919571085854, 0.007583624898021825, 0.007527798305409567, 0.007471727680787524, 0.007415424731420146, 0.00735890112017359, 0.007302168461706426, 0.007245238318748263, 0.007188122198466805, 0.0071308315489235705, 0.007073377755618496, 0.007015772138123643, 0.006958025946805915, 0.0069001503596389565, 0.006842156479104026, 0.006784055329179785, 0.006725857852420758, 0.00666757490712418, 0.0066092172645848745, 0.006550795606437819, 0.006492320522087891, 0.00643380250622625, 0.0063752519564328975, 0.006316679170864543, 0.006258094346027422, 0.006199507574634024, 0.006140928843543191, 0.006082368031782519, 0.0060238349086525304, 0.005965339131911281, 0.00590689024603885, 0.005848497680580467, 0.0057901707485674, 0.005731918645014414, 0.005673750445492909], \"yaxis\": \"y\"}, {\"legendgroup\": \"digital druglord\", \"marker\": {\"color\": \"rgb(44, 160, 44)\"}, \"mode\": \"lines\", \"name\": \"digital druglord\", \"showlegend\": true, \"type\": \"scatter\", \"x\": [53.0, 53.05, 53.1, 53.15, 53.2, 53.25, 53.3, 53.35, 53.4, 53.45, 53.5, 53.55, 53.6, 53.65, 53.7, 53.75, 53.8, 53.85, 53.9, 53.95, 54.0, 54.05, 54.1, 54.15, 54.2, 54.25, 54.3, 54.35, 54.4, 54.45, 54.5, 54.55, 54.6, 54.65, 54.7, 54.75, 54.8, 54.85, 54.9, 54.95, 55.0, 55.05, 55.1, 55.15, 55.2, 55.25, 55.3, 55.35, 55.4, 55.45, 55.5, 55.55, 55.6, 55.65, 55.7, 55.75, 55.8, 55.85, 55.9, 55.95, 56.0, 56.05, 56.1, 56.15, 56.2, 56.25, 56.3, 56.35, 56.4, 56.45, 56.5, 56.55, 56.6, 56.65, 56.7, 56.75, 56.8, 56.85, 56.9, 56.95, 57.0, 57.05, 57.1, 57.15, 57.2, 57.25, 57.3, 57.35, 57.4, 57.45, 57.5, 57.55, 57.6, 57.65, 57.7, 57.75, 57.8, 57.85, 57.9, 57.95, 58.0, 58.05, 58.1, 58.15, 58.2, 58.25, 58.3, 58.35, 58.4, 58.45, 58.5, 58.55, 58.6, 58.65, 58.7, 58.75, 58.8, 58.85, 58.9, 58.95, 59.0, 59.05, 59.1, 59.15, 59.2, 59.25, 59.3, 59.35, 59.4, 59.45, 59.5, 59.55, 59.6, 59.65, 59.7, 59.75, 59.8, 59.85, 59.9, 59.95, 60.0, 60.05, 60.1, 60.15, 60.2, 60.25, 60.3, 60.35, 60.4, 60.45, 60.5, 60.55, 60.6, 60.65, 60.7, 60.75, 60.8, 60.85, 60.9, 60.95, 61.0, 61.05, 61.1, 61.15, 61.2, 61.25, 61.3, 61.35, 61.4, 61.45, 61.5, 61.55, 61.6, 61.65, 61.7, 61.75, 61.8, 61.85, 61.9, 61.95, 62.0, 62.05, 62.1, 62.15, 62.2, 62.25, 62.3, 62.35, 62.4, 62.45, 62.5, 62.55, 62.6, 62.65, 62.7, 62.75, 62.8, 62.85, 62.9, 62.95, 63.0, 63.05, 63.1, 63.15, 63.2, 63.25, 63.3, 63.35, 63.4, 63.45, 63.5, 63.55, 63.6, 63.65, 63.7, 63.75, 63.8, 63.85, 63.9, 63.95, 64.0, 64.05, 64.1, 64.15, 64.2, 64.25, 64.3, 64.35, 64.4, 64.45, 64.5, 64.55, 64.6, 64.65, 64.7, 64.75, 64.8, 64.85, 64.9, 64.95, 65.0, 65.05, 65.1, 65.15, 65.2, 65.25, 65.3, 65.35, 65.4, 65.45, 65.5, 65.55, 65.6, 65.65, 65.7, 65.75, 65.8, 65.85, 65.9, 65.95, 66.0, 66.05, 66.1, 66.15, 66.2, 66.25, 66.3, 66.35, 66.4, 66.45, 66.5, 66.55, 66.6, 66.65, 66.7, 66.75, 66.8, 66.85, 66.9, 66.95, 67.0, 67.05, 67.1, 67.15, 67.2, 67.25, 67.3, 67.35, 67.4, 67.45, 67.5, 67.55, 67.6, 67.65, 67.7, 67.75, 67.8, 67.85, 67.9, 67.95, 68.0, 68.05, 68.1, 68.15, 68.2, 68.25, 68.3, 68.35, 68.4, 68.45, 68.5, 68.55, 68.6, 68.65, 68.7, 68.75, 68.8, 68.85, 68.9, 68.95, 69.0, 69.05, 69.1, 69.15, 69.2, 69.25, 69.3, 69.35, 69.4, 69.45, 69.5, 69.55, 69.6, 69.65, 69.7, 69.75, 69.8, 69.85, 69.9, 69.95, 70.0, 70.05, 70.1, 70.15, 70.2, 70.25, 70.3, 70.35, 70.4, 70.45, 70.5, 70.55, 70.6, 70.65, 70.7, 70.75, 70.8, 70.85, 70.9, 70.95, 71.0, 71.05, 71.1, 71.15, 71.2, 71.25, 71.3, 71.35, 71.4, 71.45, 71.5, 71.55, 71.6, 71.65, 71.7, 71.75, 71.8, 71.85, 71.9, 71.95, 72.0, 72.05, 72.1, 72.15, 72.2, 72.25, 72.3, 72.35, 72.4, 72.45, 72.5, 72.55, 72.6, 72.65, 72.7, 72.75, 72.8, 72.85, 72.9, 72.95, 73.0, 73.05, 73.1, 73.15, 73.2, 73.25, 73.3, 73.35, 73.4, 73.45, 73.5, 73.55, 73.6, 73.65, 73.7, 73.75, 73.8, 73.85, 73.9, 73.95, 74.0, 74.05, 74.1, 74.15, 74.2, 74.25, 74.3, 74.35, 74.4, 74.45, 74.5, 74.55, 74.6, 74.65, 74.7, 74.75, 74.8, 74.85, 74.9, 74.95, 75.0, 75.05, 75.1, 75.15, 75.2, 75.25, 75.3, 75.35, 75.4, 75.45, 75.5, 75.55, 75.6, 75.65, 75.7, 75.75, 75.8, 75.85, 75.9, 75.95, 76.0, 76.05, 76.1, 76.15, 76.2, 76.25, 76.3, 76.35, 76.4, 76.45, 76.5, 76.55, 76.6, 76.65, 76.7, 76.75, 76.8, 76.85, 76.9, 76.95, 77.0, 77.05, 77.1, 77.15, 77.2, 77.25, 77.3, 77.35, 77.4, 77.45, 77.5, 77.55, 77.6, 77.65, 77.7, 77.75, 77.8, 77.85, 77.9, 77.95], \"xaxis\": \"x\", \"y\": [0.03694115958875622, 0.037079306744608194, 0.037215776669689456, 0.037350555436636144, 0.03748362950799156, 0.03761498573910794, 0.0377446113808788, 0.03787249408230065, 0.03799862189286333, 0.0381229832647689, 0.03824556705497799, 0.038366362527083794, 0.03848535935301307, 0.038602547614554304, 0.038717917804712995, 0.03883146082889376, 0.0389431680059101, 0.0390530310688216, 0.039161042165599076, 0.03926719385961859, 0.039371479129984184, 0.039473891371680975, 0.03957442439555851, 0.039673072428146036, 0.0397698301113005, 0.03986469250168802, 0.039957655070100746, 0.04004871370060985, 0.04013786468955627, 0.04022510474438094, 0.04031043098229557, 0.04039384092879639, 0.040475332516021784, 0.04055490408095672, 0.04063255436348473, 0.040708282504290566, 0.040782088042615, 0.040853970913864175, 0.040923931447075616, 0.04099197036224364, 0.041058088767506044, 0.04112228815619496, 0.04118457040375434, 0.04124493776452646, 0.041303392868410505, 0.041359938717395586, 0.04141457868197139, 0.041467316497418825, 0.041518156259983986, 0.041567102422938304, 0.04161415979252755, 0.041659333523813236, 0.04170262911640915, 0.04174405241011618, 0.04178360958045875, 0.041821307134125886, 0.04185715190432027, 0.041891151046018295, 0.041923312031144744, 0.041953642643665114, 0.04198215097459891, 0.042008845416957444, 0.04203373466060922, 0.04205682768707647, 0.04207813376426606, 0.04209766244113822, 0.04211542354231642, 0.04213142716264182, 0.04214568366167557, 0.04215820365815238, 0.04216899802438875, 0.04217807788064918, 0.04218545458947357, 0.042191139749969395, 0.04219514519207164, 0.04219748297077407, 0.042198165360334855, 0.04219720484845993, 0.04219461413046722, 0.042190406103434976, 0.042184593860337335, 0.042177190684170085, 0.042168210042070026, 0.042157665579430625, 0.04214557111401722, 0.042131940630084505, 0.0421167882724995, 0.04210012834087256, 0.042081975283699495, 0.04206234369251746, 0.04204124829607732, 0.04201870395453532, 0.041994725653666416, 0.04196932849910217, 0.04194252771059542, 0.04191433861631434, 0.041884776647168304, 0.04185385733116782, 0.041821596287820825, 0.04178800922256763, 0.0417531119212567, 0.04171692024466301, 0.041679450123051735, 0.041640717550788436, 0.04160073858099825, 0.04155952932027559, 0.04151710592344626, 0.04147348458838378, 0.04142868155088135, 0.04138271307958118, 0.04133559547096282, 0.041287345044391514, 0.041237978137228556, 0.0411875111000045, 0.041135960291656545, 0.041083342074831664, 0.041029672811255934, 0.040974968857171744, 0.040919246558843596, 0.04086252224813341, 0.04080481223814619, 0.04074613281894698, 0.040686500253349786, 0.04062593077277911, 0.04056444057320464, 0.040502045811149905, 0.04043876259977516, 0.04037460700503491, 0.04030959504191082, 0.04024374267071969, 0.040177065793497564, 0.04010958025045952, 0.040041301816535514, 0.03997224619798267, 0.039902429029073594, 0.039831865868861095, 0.03976057219801915, 0.03968856341575991, 0.03961585483682687, 0.039542461688563735, 0.039468399108059056, 0.03939368213936611, 0.03931832573079785, 0.03924234473229671, 0.03916575389287854, 0.03908856785815066, 0.03901080116790322, 0.03893246825377369, 0.03885358343698381, 0.038774160926148354, 0.03869421481515542, 0.03861375908111733, 0.03853280758239181, 0.0384513740566725, 0.038369472119148346, 0.03828711526073116, 0.038204316846350415, 0.0381210901133148, 0.038037448169739724, 0.03795340399303979, 0.03786897042848581, 0.037784160187825135, 0.03769898584796506, 0.03761345984971777, 0.03752759449660666, 0.0374414019537328, 0.03735489424670081, 0.0372680832606033, 0.03718098073906307, 0.03709359828333204, 0.037005947351446314, 0.03691803925743623, 0.03682988517059082, 0.036741496114775486, 0.03665288296780243, 0.03656405646085265, 0.03647502717794875, 0.03638580555547783, 0.03629640188176351, 0.036206826296686166, 0.036117088791350824, 0.03602719920780151, 0.035937167238781605, 0.035847002427539264, 0.035756714167676916, 0.03566631170304443, 0.03557580412767478, 0.03548520038576185, 0.03539450927167925, 0.03530373943003971, 0.03521289935579409, 0.03512199739436937, 0.03503104174184509, 0.03494004044516727, 0.03484900140239936, 0.03475793236300928, 0.03466684092819241, 0.03457573455122921, 0.03448462053787757, 0.03439350604679856, 0.0343023980900157, 0.034211303533406526, 0.03412022909722639, 0.034029181356663635, 0.033938166742425634, 0.0338471915413554, 0.03375626189707791, 0.03366538381067585, 0.03357456314139434, 0.03348380560737387, 0.03339311678641139, 0.03330250211674869, 0.03321196689788787, 0.0331215162914335, 0.03303115532196072, 0.032940888877909254, 0.0328507217125027, 0.03276065844469267, 0.03267070356012756, 0.03258086141214534, 0.03249113622279031, 0.03240153208385285, 0.03231205295793255, 0.03222270267952375, 0.032133484956123504, 0.03204440336936123, 0.03195546137615008, 0.03186666230985957, 0.031778009381508765, 0.03168950568098035, 0.0316011541782544, 0.03151295772466229, 0.03142491905415986, 0.03133704078461969, 0.03124932541914216, 0.03116177534738468, 0.03107439284690911, 0.030987180084546796, 0.030900139117780695, 0.0308132718961446, 0.030726580262638737, 0.030640065955161475, 0.030553730607956842, 0.030467575753077274, 0.030381602821861475, 0.030295813146426424, 0.03021020796117382, 0.030124788404310057, 0.030039555519379278, 0.02995451025680944, 0.029869653475470496, 0.029784985944244488, 0.02970050834360696, 0.02961622126721933, 0.02953212522353166, 0.02944822063739504, 0.029364507851683663, 0.029280987128925483, 0.029197658652941293, 0.02911452253049143, 0.02903157879292973, 0.028948827397863912, 0.02886626823082225, 0.028783901106925316, 0.02870172577256289, 0.02861974190707467, 0.02853794912443484, 0.028456346974939428, 0.02837493494689597, 0.028293712468314774, 0.02821267890860105, 0.028131833580247536, 0.0280511757405264, 0.027970704593180247, 0.02789041929011134, 0.027810318933068, 0.027730402575328102, 0.027650669223378402, 0.027571117838589242, 0.027491747338883765, 0.027412556600400918, 0.027333544459151673, 0.027254709712667358, 0.02717605112163965, 0.027097567411551542, 0.02701925727429792, 0.026941119369795853, 0.026863152327583156, 0.026785354748404787, 0.026707725205786296, 0.026630262247593243, 0.02655296439757647, 0.026475830156901727, 0.02639885800566347, 0.026322046404381905, 0.02624539379548225, 0.02616889860475596, 0.026092559242802894, 0.02601637410645368, 0.02594034158017186, 0.025864460037434523, 0.02578872784209146, 0.025713143349701664, 0.025637704908846502, 0.025562410862419404, 0.025487259548890567, 0.025412249303546942, 0.02533737845970628, 0.02526264534990485, 0.025188048307058362, 0.02511358566559518, 0.025039255762561618, 0.02496505693869878, 0.024890987539490046, 0.024817045916179302, 0.024743230426758907, 0.024669539436927273, 0.024595971321015583, 0.02452252446288312, 0.024449197256781116, 0.024375988108184282, 0.024302895434590247, 0.024229917666286266, 0.024157053247083008, 0.0240843006350152, 0.024011658303008852, 0.023939124739514952, 0.023866698449109398, 0.023794377953059092, 0.023722161789854108, 0.023650048515705614, 0.023578036705009943, 0.023506124950778407, 0.0234343118650331, 0.023362596079168567, 0.023290976244279504, 0.023219451031454712, 0.023148019132037134, 0.02307667925785044, 0.023005430141392308, 0.022934270535994325, 0.02286319921594924, 0.02279221497660554, 0.022721316634429792, 0.022650503027036997, 0.022579773013189464, 0.02250912547276457, 0.02243855930669179, 0.02236807343685957, 0.022297666805992534, 0.022227338377499316, 0.022157087135291974, 0.02208691208357734, 0.022016812246620776, 0.021946786668483497, 0.021876834412733255, 0.02180695456213015, 0.021737146218287345, 0.021667408501307932, 0.02159774054939875, 0.02152814151846149, 0.021458610581662416, 0.021389146928981292, 0.021319749766740278, 0.021250418317114005, 0.021181151817621167, 0.021111949520599152, 0.02104281069266233, 0.020973734614144722, 0.020904720578528678, 0.02083576789185965, 0.020766875872148885, 0.020698043848764457, 0.020629271161811964, 0.02056055716150579, 0.020491901207531853, 0.020423302668403153, 0.020354760920809036, 0.020286275348958993, 0.02021784534392246, 0.020149470302965447, 0.02008114962888494, 0.020012882729342495, 0.01994466901619769, 0.019876507904842914, 0.019808398813540008, 0.019740341162760428, 0.01967233437452955, 0.019604377871776265, 0.019536471077689067, 0.01946861341507941, 0.01940080430575354, 0.019333043169893746, 0.019265329425450048, 0.01919766248754341, 0.01913004176788106, 0.019062466674185513, 0.018994936609637626, 0.01892745097233509, 0.018860009154766877, 0.018792610543304875, 0.018725254517713244, 0.018657940450676702, 0.018590667707348275, 0.018523435644917527, 0.018456243612199778, 0.018389090949247424, 0.018321976986983804, 0.0182549010468605, 0.018187862440538594, 0.018120860469594578, 0.01805389442525173, 0.017986963588137176, 0.017920067228065533, 0.01785320460384959, 0.01778637496313823, 0.01771957754228258, 0.017652811566230338, 0.017586076248449035, 0.017519370790878324, 0.01745269438391179, 0.01738604620640858, 0.017319425425735037, 0.01725283119783656, 0.017186262667340104, 0.01711971896768703, 0.01705319922129695, 0.01698670253976221, 0.016920228024073395, 0.01685377476487568, 0.01678734184275589, 0.016720928328560668, 0.016654533283745006, 0.01658815576075163, 0.01652179480342067, 0.01645544944742946, 0.016389118720762416, 0.016322801644210527, 0.016256497231900213, 0.016190204491851306, 0.01612392242656342, 0.016057650033630806, 0.01599138630638486, 0.015925130234563843, 0.015858880805009593, 0.015792637002390156, 0.01572639780994829, 0.015660162210274914, 0.015593929186106895, 0.015527697721148702, 0.015461466800916791, 0.015395235413606535, 0.015329002550980571, 0.015262767209277807, 0.015196528390142515, 0.015130285101572327, 0.015064036358884593, 0.01499778118570001, 0.014931518614942699, 0.014865247689855872, 0.014798967465031856, 0.014732677007455869, 0.014666375397562437, 0.014600061730303197, 0.014533735116225499, 0.014467394682560444, 0.014401039574319353, 0.014334668955397815, 0.014268282009685947, 0.014201877942184065, 0.014135455980122292, 0.01406901537408348, 0.014002555399127916, 0.01393607535591898, 0.0138695745718484, 0.013803052402160166, 0.013736508231071833, 0.013669941472892225, 0.013603351573134243, 0.013536738009621867, 0.013470100293589842, 0.013403437970775417, 0.013336750622500598, 0.01327003786674408, 0.013203299359201556, 0.013136534794333337, 0.013069743906398378, 0.013002926470473318, 0.0129360823034557, 0.012869211265050315, 0.012802313258737317, 0.012735388232721509, 0.012668436180861501, 0.012601457143577775, 0.012534451208738877, 0.012467418512524283, 0.012400359240263706, 0.01233327362725124, 0.012266161959533837, 0.012199024574673215], \"yaxis\": \"y\"}, {\"legendgroup\": \"Help\", \"marker\": {\"color\": \"rgb(214, 39, 40)\"}, \"mode\": \"lines\", \"name\": \"Help\", \"showlegend\": true, \"type\": \"scatter\", \"x\": [43.0, 43.028, 43.056, 43.084, 43.112, 43.14, 43.168, 43.196, 43.224, 43.252, 43.28, 43.308, 43.336, 43.364, 43.392, 43.42, 43.448, 43.476, 43.504, 43.532, 43.56, 43.588, 43.616, 43.644, 43.672, 43.7, 43.728, 43.756, 43.784, 43.812, 43.84, 43.868, 43.896, 43.924, 43.952, 43.98, 44.008, 44.036, 44.064, 44.092, 44.12, 44.148, 44.176, 44.204, 44.232, 44.26, 44.288, 44.316, 44.344, 44.372, 44.4, 44.428, 44.456, 44.484, 44.512, 44.54, 44.568, 44.596000000000004, 44.624, 44.652, 44.68, 44.708, 44.736, 44.764, 44.792, 44.82, 44.848, 44.876, 44.903999999999996, 44.932, 44.96, 44.988, 45.016, 45.044, 45.072, 45.1, 45.128, 45.156, 45.184, 45.212, 45.24, 45.268, 45.296, 45.324, 45.352, 45.38, 45.408, 45.436, 45.464, 45.492, 45.52, 45.548, 45.576, 45.604, 45.632, 45.66, 45.688, 45.716, 45.744, 45.772, 45.8, 45.828, 45.856, 45.884, 45.912, 45.94, 45.968, 45.996, 46.024, 46.052, 46.08, 46.108, 46.136, 46.164, 46.192, 46.22, 46.248, 46.275999999999996, 46.304, 46.332, 46.36, 46.388, 46.416, 46.444, 46.472, 46.5, 46.528, 46.556, 46.584, 46.612, 46.64, 46.668, 46.696, 46.724000000000004, 46.752, 46.78, 46.808, 46.836, 46.864, 46.892, 46.92, 46.948, 46.976, 47.004, 47.032, 47.06, 47.088, 47.116, 47.144, 47.172, 47.2, 47.228, 47.256, 47.284, 47.312, 47.34, 47.368, 47.396, 47.424, 47.452, 47.480000000000004, 47.508, 47.536, 47.564, 47.592, 47.62, 47.647999999999996, 47.676, 47.704, 47.732, 47.76, 47.788, 47.816, 47.844, 47.872, 47.9, 47.928, 47.956, 47.984, 48.012, 48.04, 48.068, 48.096000000000004, 48.124, 48.152, 48.18, 48.208, 48.236, 48.264, 48.292, 48.32, 48.348, 48.376, 48.403999999999996, 48.432, 48.46, 48.488, 48.516, 48.544, 48.572, 48.6, 48.628, 48.656, 48.684, 48.712, 48.74, 48.768, 48.796, 48.824, 48.852000000000004, 48.88, 48.908, 48.936, 48.964, 48.992, 49.019999999999996, 49.048, 49.076, 49.104, 49.132, 49.16, 49.188, 49.216, 49.244, 49.272, 49.3, 49.328, 49.356, 49.384, 49.412, 49.44, 49.468, 49.496, 49.524, 49.552, 49.58, 49.608, 49.636, 49.664, 49.692, 49.72, 49.748, 49.775999999999996, 49.804, 49.832, 49.86, 49.888, 49.916, 49.944, 49.972, 50.0, 50.028, 50.056, 50.084, 50.112, 50.14, 50.168, 50.196, 50.224000000000004, 50.252, 50.28, 50.308, 50.336, 50.364, 50.392, 50.42, 50.448, 50.476, 50.504, 50.532, 50.56, 50.588, 50.616, 50.644, 50.672, 50.7, 50.728, 50.756, 50.784, 50.812, 50.84, 50.868, 50.896, 50.924, 50.952, 50.980000000000004, 51.007999999999996, 51.036, 51.064, 51.092, 51.12, 51.147999999999996, 51.176, 51.204, 51.232, 51.26, 51.288, 51.316, 51.344, 51.372, 51.4, 51.428, 51.456, 51.484, 51.512, 51.54, 51.568, 51.596000000000004, 51.624, 51.652, 51.68, 51.708, 51.736000000000004, 51.763999999999996, 51.792, 51.82, 51.848, 51.876, 51.903999999999996, 51.932, 51.96, 51.988, 52.016, 52.044, 52.072, 52.1, 52.128, 52.156, 52.184, 52.212, 52.24, 52.268, 52.296, 52.324, 52.352000000000004, 52.38, 52.408, 52.436, 52.464, 52.492000000000004, 52.519999999999996, 52.548, 52.576, 52.604, 52.632, 52.66, 52.688, 52.716, 52.744, 52.772, 52.8, 52.828, 52.856, 52.884, 52.912, 52.94, 52.968, 52.996, 53.024, 53.052, 53.08, 53.108000000000004, 53.135999999999996, 53.164, 53.192, 53.22, 53.248, 53.275999999999996, 53.304, 53.332, 53.36, 53.388, 53.416, 53.444, 53.472, 53.5, 53.528, 53.556, 53.584, 53.612, 53.64, 53.668, 53.696, 53.724000000000004, 53.752, 53.78, 53.808, 53.836, 53.864000000000004, 53.891999999999996, 53.92, 53.948, 53.976, 54.004, 54.032, 54.06, 54.088, 54.116, 54.144, 54.172, 54.2, 54.228, 54.256, 54.284, 54.312, 54.34, 54.368, 54.396, 54.424, 54.452, 54.480000000000004, 54.507999999999996, 54.536, 54.564, 54.592, 54.62, 54.647999999999996, 54.676, 54.704, 54.732, 54.76, 54.788, 54.816, 54.844, 54.872, 54.9, 54.928, 54.956, 54.984, 55.012, 55.04, 55.068, 55.096000000000004, 55.124, 55.152, 55.18, 55.208, 55.236000000000004, 55.263999999999996, 55.292, 55.32, 55.348, 55.376, 55.403999999999996, 55.432, 55.46, 55.488, 55.516, 55.544, 55.572, 55.6, 55.628, 55.656, 55.684, 55.712, 55.74, 55.768, 55.796, 55.824, 55.852000000000004, 55.88, 55.908, 55.936, 55.964, 55.992000000000004, 56.019999999999996, 56.048, 56.076, 56.104, 56.132, 56.16, 56.188, 56.216, 56.244, 56.272, 56.3, 56.328, 56.356, 56.384, 56.412, 56.44, 56.468, 56.496, 56.524, 56.552, 56.58, 56.608000000000004, 56.635999999999996, 56.664, 56.692, 56.72, 56.748, 56.775999999999996, 56.804, 56.832, 56.86, 56.888, 56.916, 56.944, 56.972], \"xaxis\": \"x\", \"y\": [0.050676671860643174, 0.050858021087932, 0.05103811360733867, 0.05121694856457407, 0.05139452543676961, 0.0515708440281927, 0.05174590446577094, 0.05191970719442757, 0.05209225297223167, 0.05226354286536556, 0.05243357824291216, 0.05260236077146667, 0.05276989240957476, 0.0529361754020011, 0.0531012122738322, 0.053265005824416775, 0.0534275591211479, 0.0535888754930903, 0.05374895852445755, 0.053907812047943045, 0.05406544013790866, 0.05422184710343614, 0.054377037481245394, 0.05453101602848429, 0.054683787715394463, 0.05483535771785838, 0.054985731409832074, 0.05513491435566895, 0.05528291230233923, 0.05542973117155037, 0.05557537705177423, 0.055719856190184804, 0.055863174984513764, 0.05600533997482777, 0.05614635783523347, 0.056286235365516, 0.05642497948271652, 0.056562597212653686, 0.056699095681396174, 0.056834482106690454, 0.056968763789350896, 0.05710194810461696, 0.05723404249348412, 0.05736505445401404, 0.05749499153262995, 0.057623861315402966, 0.05775167141933565, 0.05787842948364868, 0.058004143161076, 0.05812882010917546, 0.05825246798165992, 0.05837509441975539, 0.058496707043591716, 0.05861731344363201, 0.058736921172146975, 0.058855537734739144, 0.05897317058192389, 0.059089827100772443, 0.0592055146066227, 0.059320240334864126, 0.059434011432801664, 0.059546834951605, 0.059658717838348356, 0.059769666928146635, 0.05987968893639315, 0.05998879045110493, 0.060096977925380074, 0.060204257669973255, 0.06031063584599434, 0.060416118457734994, 0.06052071134562876, 0.06062442017934936, 0.06072725045105216, 0.06082920746876349, 0.0609302963499227, 0.06103052201508142, 0.06112988918176464, 0.061228402358497816, 0.061326065839004504, 0.06142288369657854, 0.061518859778634694, 0.06161399770144229, 0.06170830084504504, 0.061801772348370726, 0.06189441510453501, 0.06198623175634193, 0.06207722469198512, 0.06216739604095243, 0.06225674767013724, 0.06234528118015932, 0.06243299790189792, 0.06251989889323971, 0.06260598493604431, 0.06269125653332938, 0.06277571390667759, 0.06285935699386748, 0.06294218544673043, 0.06302419862923464, 0.06310539561579875, 0.06318577518983581, 0.06326533584252887, 0.06334407577183995, 0.06342199288175225, 0.06349908478174789, 0.06357534878652026, 0.06365078191592247, 0.06372538089515209, 0.06379914215517196, 0.06387206183336747, 0.06394413577443993, 0.06401535953153599, 0.0640857283676122, 0.06415523725703451, 0.06422388088741171, 0.06429165366166208, 0.06435854970031173, 0.06442456284402379, 0.064489686656357, 0.0645539144267518, 0.0646172391737426, 0.06467965364839429, 0.06474115033796066, 0.06480172146976296, 0.06486135901528614, 0.06492005469449016, 0.06497779998033408, 0.06503458610350989, 0.0650904040573833, 0.06514524460313866, 0.06519909827512442, 0.06525195538639629, 0.06530380603445443, 0.06535464010717107, 0.06540444728890511, 0.06545321706679953, 0.06550093873725821, 0.06554760141259752, 0.06559319402786895, 0.06563770534784828, 0.06568112397418699, 0.06572343835272132, 0.06576463678093471, 0.06580470741556814, 0.06584363828037462, 0.06588141727401202, 0.06591803217806982, 0.06595347066522424, 0.06598772030751719, 0.06602076858475311, 0.06605260289300892, 0.06608321055325125, 0.06611257882005596, 0.06614069489042379, 0.0661675459126873, 0.06619311899550251, 0.06621740121692045, 0.0662403796335321, 0.06626204128968155, 0.06628237322674063, 0.06630136249244031, 0.06631899615025157, 0.06633526128881088, 0.06635014503138369, 0.06636363454535987, 0.0663757170517755, 0.0663863798348542, 0.06639561025156268, 0.06640339574117385, 0.06640972383483164, 0.06641458216511124, 0.06641795847556883, 0.06641984063027463, 0.06642021662332297, 0.06641907458831361, 0.06641640280779816, 0.06641218972268513, 0.06640642394159839, 0.06639909425018213, 0.06639018962034715, 0.06637969921945198, 0.06636761241941311, 0.06635391880573886, 0.06633860818648023, 0.0663216706010939, 0.06630309632921101, 0.06628287589930656, 0.06626100009726336, 0.06623745997482539, 0.06621224685793502, 0.06618535235494867, 0.06615676836472546, 0.06612648708458399, 0.06609450101812168, 0.06606080298289195, 0.06602538611793396, 0.06598824389115025, 0.06594937010652745, 0.06590875891119502, 0.06586640480231817, 0.06582230263381936, 0.06577644762292517, 0.06572883535653319, 0.06567946179739564, 0.0656283232901147, 0.06557541656694664, 0.06552073875340997, 0.0654642873736944, 0.06540606035586684, 0.06534605603687099, 0.06528427316731719, 0.06522071091605902, 0.06515536887455399, 0.06508824706100505, 0.06501934592427998, 0.06494866634760611, 0.06487620965203798, 0.06480197759969497, 0.06472597239676693, 0.06464819669628571, 0.06456865360066032, 0.06448734666397399, 0.0644042798940412, 0.06431945775422336, 0.06423288516500132, 0.06414456750530367, 0.0640545106135895, 0.06396272078868454, 0.06386920479037021, 0.06377396983972392, 0.06367702361921111, 0.06357837427252798, 0.06347803040419431, 0.06337600107889728, 0.0632722958205848, 0.06316692461131003, 0.063059897889826, 0.06295122654993181, 0.06284092193857035, 0.06272899585367851, 0.06261546054179054, 0.06250032869539594, 0.062383613450052736, 0.06226532838125723, 0.062145487501072356, 0.062024105254515474, 0.061901196515707683, 0.061776776583786344, 0.06165086117858319, 0.06152346643606943, 0.06139460890357093, 0.061264305534755044, 0.0611325736843924, 0.06099943110289549, 0.06086489593063771, 0.060728986692055065, 0.060591722289533724, 0.06045312199708674, 0.060313205453823376, 0.06017199265721369, 0.06002950395615297, 0.05988576004382837, 0.05974078195039276, 0.05959459103544881, 0.05944720898034736, 0.059298657780304444, 0.05914895973634103, 0.05899813744704923, 0.05884621380019036, 0.05869321196412831, 0.05853915537910317, 0.05838406774835006, 0.058227973029067445, 0.05807089542323968, 0.05791285936831908, 0.05775388952777248, 0.057594010781496736, 0.05743324821610922, 0.05727162711511721, 0.05710917294897311, 0.05694591136501933, 0.05678186817732879, 0.05661706935644703, 0.05645154101904011, 0.056285309417455236, 0.05611840092919875, 0.055950842046337754, 0.055782659364830615, 0.05561387957379174, 0.05544452944469802, 0.05527463582054037, 0.055104225604928045, 0.054933325751150765, 0.05476196325120423, 0.054590165124786524, 0.054417958408268415, 0.05424537014364664, 0.05407242736748349, 0.05389915709984068, 0.053725586333212075, 0.0535517420214609, 0.05337765106876941, 0.053203340318604596, 0.05302883654270696, 0.05285416643010827, 0.05267935657618386, 0.052504433471745424, 0.05232942349218002, 0.052154352886641345, 0.05197924776729873, 0.051804134098649715, 0.05162903768690192, 0.051453984169429756, 0.051278999004311675, 0.05110410745995352, 0.05092933460480292, 0.05075470529716183, 0.05058024417510004, 0.05040597564647712, 0.0502319238790775, 0.050058112790863286, 0.049884566040350554, 0.049711307017113904, 0.04953835883242457, 0.04936574431002645, 0.049193485977055515, 0.0490216060551068, 0.048850126451454035, 0.04867906875042616, 0.04850845420494552, 0.04833830372823192, 0.048168637885676754, 0.0479994768868918, 0.047830840577936254, 0.047662748433726476, 0.047495219550631594, 0.04732827263926045, 0.047161926017440785, 0.04699619760339716, 0.04683110490912875, 0.04666666503399212, 0.046502894658491105, 0.04633981003827648, 0.04617742699836049, 0.046015760927546556, 0.04585482677307858, 0.04569463903551185, 0.045535211763808134, 0.045376558550657226, 0.04521869252802745, 0.04506162636294685, 0.0449053722535174, 0.04474994192516352, 0.044595346627117914, 0.04444159712914421, 0.044288703718499814, 0.04413667619713914, 0.04398552387915907, 0.04383525558848722, 0.043685879656813746, 0.04353740392176801, 0.04338983572534078, 0.04324318191255169, 0.04309744883036298, 0.04295264232683956, 0.042808767750555414, 0.04266582995024639, 0.04252383327470907, 0.042382781572945505, 0.042242678194553025, 0.042103525990359526, 0.04196532731330176, 0.041828084019547566, 0.04169179746985964, 0.04155646853120087, 0.041422097578579134, 0.04128868449713017, 0.04115622868443746, 0.04102472905308758, 0.04089418403345824, 0.040764591576738514, 0.04063594915817744, 0.04050825378056102, 0.04038150197791336, 0.040255689819420626, 0.04013081291357496, 0.04000686641253582, 0.03988384501670585, 0.03976174297951856, 0.03964055411243464, 0.03952027179014411, 0.03940088895597051, 0.03928239812747498, 0.03916479140225513, 0.039048060463936676, 0.03893219658835363, 0.03881719064991314, 0.03870303312814168, 0.0385897141144078, 0.03847722331881885, 0.038365550077286155, 0.03825468335875534, 0.0381446117725973, 0.03803532357615546, 0.037926806682445045, 0.03781904866799967, 0.03771203678086098, 0.03760575794870647, 0.0375001987871109, 0.037395345607936684, 0.03729118442784813, 0.03718770097694486, 0.03708488070750997, 0.03698270880286649, 0.0368811701863394, 0.0367802495303155, 0.03667993126539857, 0.036580199589652744, 0.03648103847792997, 0.036382431691276015, 0.036284362786409785, 0.03618681512527076, 0.036089771884629175, 0.03599321606575369, 0.03589713050413133, 0.03580149787923417, 0.03570630072432745, 0.03561152143631397, 0.035517142285609184, 0.03542314542604175, 0.035329512904774124, 0.03523622667223799, 0.03514326859207887, 0.03505062045110513, 0.03495826396923562, 0.034866180809440615, 0.034774352587671156, 0.03468276088277149, 0.03459138724636904, 0.034500213212737225, 0.03440922030862523, 0.03431839006305078, 0.03422770401704972, 0.03413714373337795, 0.034046690806160664, 0.03395632687048385, 0.03386603361192331, 0.033775792776006265, 0.033685586177600806, 0.03359539571022858, 0.03350520335529574, 0.033414991191238315, 0.03332474140257637, 0.03323443628887352, 0.03314405827359707, 0.03305358991287421, 0.03296301390414064, 0.03287231309467658, 0.03278147049002739, 0.03269046926230353, 0.03259929275835681, 0.03250792450782881, 0.03241634823106779, 0.03232454784691052, 0.03223250748032552, 0.032140211469914116, 0.0320476443752663, 0.031954790984167585, 0.031861636319654774, 0.0317681656469161, 0.03167436448003427, 0.031580218588568555, 0.031485714003973916, 0.031390837025854185, 0.03129557422804636, 0.031199912464534872, 0.031103838875192222, 0.03100734089134455, 0.030910406241159788, 0.030813022954856627, 0.030715179369732275, 0.03061686413500738, 0.03051806621648648, 0.0304187749010325, 0.030318979800853876, 0.030218670857602995, 0.030117838346284967, 0.030016472878975468, 0.029914565408346885, 0.029812107231001726, 0.029709089990613256, 0.02960550568087169, 0.029501346648236264, 0.029396605594493037, 0.02929127557911728, 0.029185350021441098, 0.029078822702625965, 0.02897168776744036, 0.028863939725842617, 0.02875557345436944, 0.028646584197330405], \"yaxis\": \"y\"}, {\"legendgroup\": \"Deadroses\", \"marker\": {\"color\": \"rgb(148, 103, 189)\"}, \"mode\": \"lines\", \"name\": \"Deadroses\", \"showlegend\": true, \"type\": \"scatter\", \"x\": [46.0, 46.066, 46.132, 46.198, 46.264, 46.33, 46.396, 46.462, 46.528, 46.594, 46.66, 46.726, 46.792, 46.858, 46.924, 46.99, 47.056, 47.122, 47.188, 47.254, 47.32, 47.386, 47.452, 47.518, 47.584, 47.65, 47.716, 47.782, 47.848, 47.914, 47.98, 48.046, 48.112, 48.178, 48.244, 48.31, 48.376, 48.442, 48.508, 48.574, 48.64, 48.706, 48.772, 48.838, 48.903999999999996, 48.97, 49.036, 49.102, 49.168, 49.234, 49.3, 49.366, 49.432, 49.498, 49.564, 49.63, 49.696, 49.762, 49.828, 49.894, 49.96, 50.025999999999996, 50.092, 50.158, 50.224000000000004, 50.29, 50.356, 50.422, 50.488, 50.554, 50.62, 50.686, 50.752, 50.818, 50.884, 50.95, 51.016, 51.082, 51.147999999999996, 51.214, 51.28, 51.346000000000004, 51.412, 51.478, 51.544, 51.61, 51.676, 51.742, 51.808, 51.874, 51.94, 52.006, 52.072, 52.138, 52.204, 52.269999999999996, 52.336, 52.402, 52.468, 52.534, 52.6, 52.666, 52.732, 52.798, 52.864, 52.93, 52.996, 53.062, 53.128, 53.194, 53.26, 53.326, 53.392, 53.458, 53.524, 53.59, 53.656, 53.722, 53.788, 53.854, 53.92, 53.986, 54.052, 54.118, 54.184, 54.25, 54.316, 54.382, 54.448, 54.513999999999996, 54.58, 54.646, 54.712, 54.778, 54.844, 54.91, 54.976, 55.042, 55.108000000000004, 55.174, 55.24, 55.306, 55.372, 55.438, 55.504, 55.57, 55.635999999999996, 55.702, 55.768, 55.834, 55.9, 55.966, 56.032, 56.098, 56.164, 56.230000000000004, 56.296, 56.362, 56.428, 56.494, 56.56, 56.626, 56.692, 56.757999999999996, 56.824, 56.89, 56.956, 57.022, 57.088, 57.153999999999996, 57.22, 57.286, 57.352000000000004, 57.418, 57.484, 57.55, 57.616, 57.682, 57.748, 57.814, 57.88, 57.946, 58.012, 58.078, 58.144, 58.21, 58.275999999999996, 58.342, 58.408, 58.474000000000004, 58.54, 58.606, 58.672, 58.738, 58.804, 58.87, 58.936, 59.002, 59.068, 59.134, 59.2, 59.266, 59.332, 59.397999999999996, 59.464, 59.53, 59.596000000000004, 59.662, 59.728, 59.794, 59.86, 59.926, 59.992000000000004, 60.058, 60.124, 60.19, 60.256, 60.322, 60.388, 60.454, 60.519999999999996, 60.586, 60.652, 60.718, 60.784, 60.85, 60.916, 60.982, 61.048, 61.114000000000004, 61.18, 61.246, 61.312, 61.378, 61.444, 61.51, 61.576, 61.641999999999996, 61.708, 61.774, 61.84, 61.906, 61.972, 62.038, 62.104, 62.17, 62.236000000000004, 62.302, 62.367999999999995, 62.434, 62.5, 62.566, 62.632000000000005, 62.698, 62.763999999999996, 62.83, 62.896, 62.962, 63.028, 63.094, 63.16, 63.226, 63.292, 63.358000000000004, 63.424, 63.489999999999995, 63.556, 63.622, 63.688, 63.754000000000005, 63.82, 63.885999999999996, 63.952, 64.018, 64.084, 64.15, 64.21600000000001, 64.282, 64.348, 64.414, 64.48, 64.54599999999999, 64.612, 64.678, 64.744, 64.81, 64.876, 64.94200000000001, 65.008, 65.074, 65.14, 65.206, 65.27199999999999, 65.338, 65.404, 65.47, 65.536, 65.602, 65.668, 65.73400000000001, 65.8, 65.866, 65.932, 65.998, 66.064, 66.13, 66.196, 66.262, 66.328, 66.394, 66.46000000000001, 66.526, 66.592, 66.658, 66.724, 66.78999999999999, 66.856, 66.922, 66.988, 67.054, 67.12, 67.186, 67.252, 67.318, 67.384, 67.45, 67.51599999999999, 67.582, 67.648, 67.714, 67.78, 67.846, 67.912, 67.97800000000001, 68.044, 68.11, 68.176, 68.242, 68.30799999999999, 68.374, 68.44, 68.506, 68.572, 68.638, 68.70400000000001, 68.77, 68.836, 68.902, 68.968, 69.03399999999999, 69.1, 69.166, 69.232, 69.298, 69.364, 69.43, 69.496, 69.562, 69.628, 69.694, 69.76, 69.826, 69.892, 69.958, 70.024, 70.09, 70.156, 70.22200000000001, 70.288, 70.354, 70.42, 70.486, 70.55199999999999, 70.618, 70.684, 70.75, 70.816, 70.882, 70.94800000000001, 71.014, 71.08, 71.146, 71.212, 71.27799999999999, 71.344, 71.41, 71.476, 71.542, 71.608, 71.674, 71.74, 71.806, 71.872, 71.938, 72.004, 72.07, 72.136, 72.202, 72.268, 72.334, 72.4, 72.46600000000001, 72.532, 72.598, 72.664, 72.73, 72.79599999999999, 72.862, 72.928, 72.994, 73.06, 73.126, 73.19200000000001, 73.258, 73.324, 73.39, 73.456, 73.52199999999999, 73.588, 73.654, 73.72, 73.786, 73.852, 73.918, 73.98400000000001, 74.05, 74.116, 74.182, 74.248, 74.314, 74.38, 74.446, 74.512, 74.578, 74.644, 74.71000000000001, 74.776, 74.842, 74.908, 74.974, 75.03999999999999, 75.106, 75.172, 75.238, 75.304, 75.37, 75.436, 75.502, 75.568, 75.634, 75.7, 75.76599999999999, 75.832, 75.898, 75.964, 76.03, 76.096, 76.162, 76.22800000000001, 76.294, 76.36, 76.426, 76.492, 76.55799999999999, 76.624, 76.69, 76.756, 76.822, 76.888, 76.95400000000001, 77.02, 77.086, 77.152, 77.218, 77.28399999999999, 77.35, 77.416, 77.482, 77.548, 77.614, 77.68, 77.746, 77.812, 77.878, 77.944, 78.00999999999999, 78.076, 78.142, 78.208, 78.274, 78.34, 78.406, 78.47200000000001, 78.538, 78.604, 78.67, 78.73599999999999, 78.80199999999999, 78.868, 78.934], \"xaxis\": \"x\", \"y\": [0.02753716427670108, 0.027693178046164346, 0.027848156819744615, 0.028002088035416234, 0.028154959624712345, 0.028306760015614975, 0.028457478135025163, 0.02860710341080887, 0.028755625773415464, 0.02890303565706508, 0.029049324000502145, 0.029194482247312498, 0.02933850234580214, 0.029481376748435734, 0.029623098410833965, 0.029763660790328418, 0.029903057844074148, 0.030041284026719555, 0.03017833428763424, 0.030314204067695635, 0.030448889295635984, 0.030582386383951055, 0.03071469222437322, 0.030845804182911458, 0.030975720094461145, 0.031104438256987617, 0.031231957425287105, 0.03135827680432982, 0.031483396042189825, 0.03160731522256708, 0.031730034856907466, 0.03185155587612705, 0.031971879621946815, 0.03209100783784541, 0.03220894265963703, 0.03232568660568231, 0.03244124256674068, 0.032555613795472726, 0.03266880389560155, 0.03278081681074272, 0.03289165681291274, 0.03300132849072582, 0.03310983673729003, 0.033217186737813466, 0.03332338395693167, 0.033428434125768104, 0.03353234322873944, 0.03363511749011792, 0.03373676336036348, 0.03383728750223821, 0.03393669677671655, 0.034034998228704434, 0.03413219907258093, 0.034228306677576585, 0.03432332855300223, 0.03441727233334267, 0.03451014576323006, 0.03460195668231106, 0.034692713010023385, 0.034782422730296206, 0.034871093876189876, 0.03495873451449017, 0.03504535273027263, 0.0351309566114522, 0.035215554233334126, 0.03529915364318145, 0.03538176284481522, 0.03546338978326245, 0.0355440423294685, 0.03562372826508884, 0.035702455267376344, 0.03578023089417978, 0.03585706256906901, 0.035932957566602544, 0.03600792299775307, 0.036081965795506155, 0.03615509270064754, 0.036227310247754115, 0.036298624751403594, 0.036369042292617795, 0.036438568705553974, 0.03650720956445886, 0.03657497017089958, 0.03664185554128543, 0.03670787039469426, 0.036773019141017084, 0.036837305869433914, 0.03690073433723404, 0.03696330795899315, 0.03702502979611971, 0.03708590254678264, 0.037145928536231554, 0.03720510970752158, 0.037263447612652746, 0.03732094340413517, 0.0373775978269898, 0.037433411211194485, 0.03748838346458474, 0.03754251406621789, 0.03759580206020925, 0.0376482460500481, 0.03769984419340093, 0.03775059419740929, 0.037800493314488294, 0.03784953833863238, 0.0378977256022335, 0.03794505097341699, 0.03799150985389956, 0.03803709717737373, 0.0380818074084218, 0.03812563454196271, 0.03816857210323423, 0.03821061314831216, 0.03825175026516834, 0.03829197557526802, 0.03833128073570707, 0.03836965694188887, 0.038407094930739995, 0.03844358498446353, 0.03847911693482812, 0.03851368016799045, 0.038547263629848144, 0.03857985583191979, 0.03861144485774805, 0.03864201836982118, 0.038671563617008395, 0.038700067442502935, 0.03872751629226731, 0.038753896223973766, 0.03877919291643312, 0.03880339167950426, 0.03882647746447641, 0.038848434874915405, 0.038869248177965096, 0.03888890131609446, 0.03890737791928027, 0.03892466131761518, 0.03894073455433029, 0.03895558039922088, 0.03896918136246397, 0.03898151970881519, 0.03899257747217297, 0.039002336470496994, 0.03901077832106775, 0.039017884456073876, 0.039023636138513014, 0.03902801447839255, 0.03903100044921524, 0.03903257490473531, 0.03903271859596982, 0.039031412188449986, 0.03902863627969696, 0.03902437141690622, 0.039018598114824686, 0.03901129687380423, 0.03900244819801527, 0.03899203261380394, 0.03898003068817618, 0.038966423047391785, 0.03895119039565168, 0.038934313533861335, 0.0389157733784531, 0.038895550980250576, 0.03887362754335753, 0.03884998444405449, 0.03882460324968529, 0.03879746573751693, 0.03876855391355507, 0.03873785003129835, 0.038705336610414295, 0.038670996455319774, 0.03863481267364925, 0.03859676869459386, 0.03855684828709484, 0.038515035577874564, 0.03847131506928907, 0.03842567165698572, 0.03837809064735011, 0.03832855777472632, 0.03827705921839527, 0.03822358161929542, 0.03816811209647119, 0.038110638263234034, 0.03805114824302178, 0.03798963068494208, 0.03792607477898588, 0.03786047027089769, 0.03779280747668897, 0.0377230772967822, 0.03765127122977273, 0.037577381385796575, 0.03750140049949204, 0.03742332194254427, 0.03734313973580112, 0.0372608485609505, 0.03717644377174835, 0.03708992140478813, 0.037001278189802075, 0.036910511559485805, 0.036817619658837425, 0.03672260135400384, 0.03662545624062614, 0.0365261846516775, 0.03642478766478711, 0.03632126710904376, 0.03621562557127392, 0.03610786640178905, 0.03599799371959756, 0.03588601241707736, 0.03577192816410563, 0.035655747411642326, 0.03553747739476514, 0.035417126135153805, 0.03529470244302176, 0.035170215918494806, 0.03504367695243519, 0.03491509672671198, 0.034784487213917234, 0.03465186117652943, 0.034517232165525054, 0.03438061451844061, 0.03424202335688673, 0.034101474583517914, 0.033958984878460274, 0.033814571695201655, 0.03366825325594778, 0.033520048546449445, 0.033369977310305166, 0.03321806004274539, 0.0330643179839037, 0.03290877311158118, 0.03275144813351127, 0.032592366479131336, 0.03243155229086919, 0.03226903041495175, 0.03210482639174461, 0.03193896644563064, 0.031771477474436906, 0.03160238703841873, 0.03143172334881101, 0.03125951525595607, 0.03108579223701881, 0.030910584383299043, 0.030733922387152553, 0.030555837528530822, 0.030376361661151922, 0.030195527198312977, 0.030013367098356596, 0.029829914849803154, 0.029645204456160736, 0.029459270420425558, 0.029272147729284832, 0.029083871837035456, 0.028894478649230608, 0.02870400450606764, 0.028512486165530395, 0.028319960786298958, 0.028126465910440136, 0.027932039445892107, 0.027736719648756614, 0.027540545105412505, 0.027343554714463487, 0.027145787668534482, 0.026947283435929576, 0.0267480817421652, 0.026548222551392765, 0.026347746047723213, 0.02614669261646823, 0.025945102825310498, 0.025743017405417352, 0.02554047723251061, 0.025337523307905892, 0.02513419673953509, 0.024930538722964628, 0.024726590522422546, 0.024522393451847455, 0.02431798885597195, 0.0241134180914532, 0.023908722508062613, 0.023703943429948072, 0.023499122136979262, 0.023294299846189057, 0.02308951769332248, 0.022884816714504676, 0.022680237828039105, 0.022475821816347167, 0.022271609308060433, 0.022067640760275602, 0.02186395644098308, 0.021660596411678796, 0.02145760051017033, 0.021255008333585484, 0.021052859221594056, 0.020851192239851036, 0.02065004616367116, 0.020449459461942304, 0.020249470281286822, 0.020050116430478788, 0.0198514353651248, 0.01965346417261583, 0.01945623955735775, 0.019259797826286805, 0.019064174874677285, 0.01886940617224755, 0.01867552674957034, 0.018482571184793132, 0.01829057359067441, 0.018099567601940633, 0.01790958636296885, 0.017720662515799627, 0.01753282818848465, 0.017346114983772885, 0.01716055396813884, 0.016976175661157104, 0.01679301002522518, 0.016611086455638413, 0.016430433771018806, 0.016251080204101084, 0.01607305339287664, 0.01589638037209822, 0.015721087565146095, 0.015547200776257557, 0.01537474518311997, 0.015203745329828476, 0.01503422512020876, 0.01486620781150488, 0.014699716008432147, 0.014534771657594477, 0.014371396042266378, 0.014209609777537754, 0.014049432805821249, 0.013890884392720576, 0.013733983123258407, 0.013578746898462033, 0.013425192932305255, 0.01327333774900378, 0.013123197180662622, 0.012974786365272186, 0.01282811974505122, 0.012683211065132934, 0.01254007337259214, 0.012398719015809365, 0.012259159644169418, 0.012121406208090215, 0.01198546895937871, 0.011851357451909924, 0.011719080542624967, 0.011588646392844706, 0.011460062469893907, 0.011333335549032389, 0.011208471715688142, 0.011085476367988668, 0.010964354219585023, 0.010845109302764529, 0.010727744971847007, 0.010612263906859891, 0.010498668117487033, 0.010386958947286218, 0.010277137078170443, 0.010169202535147654, 0.010063154691313678, 0.009958992273093218, 0.009856713365723383, 0.00975631541897479, 0.009657795253104288, 0.009561149065034295, 0.009466372434753135, 0.009373460331930808, 0.009282407122744977, 0.009193206576911169, 0.009105851874912238, 0.009020335615420977, 0.00893664982291085, 0.00885478595544884, 0.008774734912665297, 0.008696487043894825, 0.008620032156483118, 0.00854535952425384, 0.008472457896130306, 0.00840131550490641, 0.008331920076161204, 0.00826425883731206, 0.00819831852680055, 0.008134085403405968, 0.008071545255680965, 0.008010683411504254, 0.007951484747744698, 0.007893933700031849, 0.00783801427262755, 0.007783710048393587, 0.007731004198850047, 0.00767987949431945, 0.007630318314151547, 0.007582302657023799, 0.007535814151312512, 0.007490834065529776, 0.00744734331882126, 0.007405322491520205, 0.007364751835752579, 0.007325611286088872, 0.007287880470237747, 0.007251538719776954, 0.007216565080916864, 0.007182938325292148, 0.007150636960777092, 0.007119639242320052, 0.007089923182792701, 0.007061466563849745, 0.007034246946794776, 0.007008241683447967, 0.006983427927011527, 0.006959782642928632, 0.0069372826197318166, 0.0069159044798767265, 0.00689562469055718, 0.0068764195744977176, 0.006858265320719497, 0.006841137995275847, 0.006825013551953543, 0.006809867842936093, 0.006795676629425197, 0.006782415592216771, 0.006770060342227834, 0.006758586430970646, 0.006747969360970565, 0.006738184596124052, 0.006729207571993349, 0.006721013706034417, 0.006713578407754712, 0.006706877088797423, 0.006700885172948884, 0.006695578106065866, 0.006690931365919522, 0.006686920471952765, 0.006683520994947971, 0.006680708566601839, 0.006678458889004358, 0.006676747744018872, 0.0066755510025602064, 0.006674844633767923, 0.00667460471407182, 0.006674807436146757, 0.006675429117754026, 0.00667644621046645, 0.006677835308274501, 0.006679573156070696, 0.006681636658009659, 0.006684002885741211, 0.006686649086513928, 0.006689552691146648, 0.006692691321865463, 0.006696042800003728, 0.006699585153562779, 0.00670329662463095, 0.0067071556766586495, 0.006711141001587261, 0.006715231526829694, 0.006719406422100406, 0.006723645106092911, 0.006727927253002647, 0.006732232798893342, 0.006736541947904869, 0.006740835178300822, 0.006745093248353972, 0.006749297202067875, 0.006753428374732991, 0.006757468398315649, 0.006761399206678383, 0.006765203040630092, 0.006768862452804651, 0.0067723603123666185, 0.006775679809542746, 0.006778804459978098, 0.0067817181089156586, 0.006784404935198305, 0.006786849455092237, 0.006789036525930876, 0.0067909513495784295, 0.006792579475712366, 0.0067939068049240854, 0.006794919591637208, 0.0067956044468429405, 0.006795948340652112, 0.0067959386046634535, 0.0067955629341479255, 0.00679480939004885, 0.00679366640079776, 0.006792122763945948, 0.006790167647611787, 0.0067877905917439665, 0.006784981509200913, 0.006781730686646705, 0.006778028785263934, 0.006773866841283998, 0.006769236266335468, 0.0067641288476111994, 0.006758536747854989, 0.006752452505168648, 0.006745869032640506, 0.006738779617796333], \"yaxis\": \"y\"}],\n",
       "                        {\"barmode\": \"overlay\", \"hovermode\": \"closest\", \"legend\": {\"traceorder\": \"reversed\"}, \"template\": {\"data\": {\"bar\": [{\"error_x\": {\"color\": \"#2a3f5f\"}, \"error_y\": {\"color\": \"#2a3f5f\"}, \"marker\": {\"line\": {\"color\": \"#E5ECF6\", \"width\": 0.5}}, \"type\": \"bar\"}], \"barpolar\": [{\"marker\": {\"line\": {\"color\": \"#E5ECF6\", \"width\": 0.5}}, \"type\": \"barpolar\"}], \"carpet\": [{\"aaxis\": {\"endlinecolor\": \"#2a3f5f\", \"gridcolor\": \"white\", \"linecolor\": \"white\", \"minorgridcolor\": \"white\", \"startlinecolor\": \"#2a3f5f\"}, \"baxis\": {\"endlinecolor\": \"#2a3f5f\", \"gridcolor\": \"white\", \"linecolor\": \"white\", \"minorgridcolor\": \"white\", \"startlinecolor\": \"#2a3f5f\"}, \"type\": \"carpet\"}], \"choropleth\": [{\"colorbar\": {\"outlinewidth\": 0, \"ticks\": \"\"}, \"type\": \"choropleth\"}], \"contour\": [{\"colorbar\": {\"outlinewidth\": 0, \"ticks\": \"\"}, \"colorscale\": [[0.0, \"#0d0887\"], [0.1111111111111111, \"#46039f\"], [0.2222222222222222, \"#7201a8\"], [0.3333333333333333, \"#9c179e\"], [0.4444444444444444, \"#bd3786\"], [0.5555555555555556, \"#d8576b\"], [0.6666666666666666, \"#ed7953\"], [0.7777777777777778, \"#fb9f3a\"], [0.8888888888888888, \"#fdca26\"], [1.0, \"#f0f921\"]], \"type\": \"contour\"}], \"contourcarpet\": [{\"colorbar\": {\"outlinewidth\": 0, \"ticks\": \"\"}, \"type\": \"contourcarpet\"}], \"heatmap\": [{\"colorbar\": {\"outlinewidth\": 0, \"ticks\": \"\"}, \"colorscale\": [[0.0, \"#0d0887\"], [0.1111111111111111, \"#46039f\"], [0.2222222222222222, \"#7201a8\"], [0.3333333333333333, \"#9c179e\"], [0.4444444444444444, \"#bd3786\"], [0.5555555555555556, \"#d8576b\"], [0.6666666666666666, \"#ed7953\"], [0.7777777777777778, \"#fb9f3a\"], [0.8888888888888888, \"#fdca26\"], [1.0, \"#f0f921\"]], \"type\": \"heatmap\"}], \"heatmapgl\": [{\"colorbar\": {\"outlinewidth\": 0, \"ticks\": \"\"}, \"colorscale\": [[0.0, \"#0d0887\"], [0.1111111111111111, \"#46039f\"], [0.2222222222222222, \"#7201a8\"], [0.3333333333333333, \"#9c179e\"], [0.4444444444444444, \"#bd3786\"], [0.5555555555555556, \"#d8576b\"], [0.6666666666666666, \"#ed7953\"], [0.7777777777777778, \"#fb9f3a\"], [0.8888888888888888, \"#fdca26\"], [1.0, \"#f0f921\"]], \"type\": \"heatmapgl\"}], \"histogram\": [{\"marker\": {\"colorbar\": {\"outlinewidth\": 0, \"ticks\": \"\"}}, \"type\": \"histogram\"}], \"histogram2d\": [{\"colorbar\": {\"outlinewidth\": 0, \"ticks\": \"\"}, \"colorscale\": [[0.0, \"#0d0887\"], [0.1111111111111111, \"#46039f\"], [0.2222222222222222, \"#7201a8\"], [0.3333333333333333, \"#9c179e\"], [0.4444444444444444, \"#bd3786\"], [0.5555555555555556, \"#d8576b\"], [0.6666666666666666, \"#ed7953\"], [0.7777777777777778, \"#fb9f3a\"], [0.8888888888888888, \"#fdca26\"], [1.0, \"#f0f921\"]], \"type\": \"histogram2d\"}], \"histogram2dcontour\": [{\"colorbar\": {\"outlinewidth\": 0, \"ticks\": \"\"}, \"colorscale\": [[0.0, \"#0d0887\"], [0.1111111111111111, \"#46039f\"], [0.2222222222222222, \"#7201a8\"], [0.3333333333333333, \"#9c179e\"], [0.4444444444444444, \"#bd3786\"], [0.5555555555555556, \"#d8576b\"], [0.6666666666666666, \"#ed7953\"], [0.7777777777777778, \"#fb9f3a\"], [0.8888888888888888, \"#fdca26\"], [1.0, \"#f0f921\"]], \"type\": \"histogram2dcontour\"}], \"mesh3d\": [{\"colorbar\": {\"outlinewidth\": 0, \"ticks\": \"\"}, \"type\": \"mesh3d\"}], \"parcoords\": [{\"line\": {\"colorbar\": {\"outlinewidth\": 0, \"ticks\": \"\"}}, \"type\": \"parcoords\"}], \"pie\": [{\"automargin\": true, \"type\": \"pie\"}], \"scatter\": [{\"marker\": {\"colorbar\": {\"outlinewidth\": 0, \"ticks\": \"\"}}, \"type\": \"scatter\"}], \"scatter3d\": [{\"line\": {\"colorbar\": {\"outlinewidth\": 0, \"ticks\": \"\"}}, \"marker\": {\"colorbar\": {\"outlinewidth\": 0, \"ticks\": \"\"}}, \"type\": \"scatter3d\"}], \"scattercarpet\": [{\"marker\": {\"colorbar\": {\"outlinewidth\": 0, \"ticks\": \"\"}}, \"type\": \"scattercarpet\"}], \"scattergeo\": [{\"marker\": {\"colorbar\": {\"outlinewidth\": 0, \"ticks\": \"\"}}, \"type\": \"scattergeo\"}], \"scattergl\": [{\"marker\": {\"colorbar\": {\"outlinewidth\": 0, \"ticks\": \"\"}}, \"type\": \"scattergl\"}], \"scattermapbox\": [{\"marker\": {\"colorbar\": {\"outlinewidth\": 0, \"ticks\": \"\"}}, \"type\": \"scattermapbox\"}], \"scatterpolar\": [{\"marker\": {\"colorbar\": {\"outlinewidth\": 0, \"ticks\": \"\"}}, \"type\": \"scatterpolar\"}], \"scatterpolargl\": [{\"marker\": {\"colorbar\": {\"outlinewidth\": 0, \"ticks\": \"\"}}, \"type\": \"scatterpolargl\"}], \"scatterternary\": [{\"marker\": {\"colorbar\": {\"outlinewidth\": 0, \"ticks\": \"\"}}, \"type\": \"scatterternary\"}], \"surface\": [{\"colorbar\": {\"outlinewidth\": 0, \"ticks\": \"\"}, \"colorscale\": [[0.0, \"#0d0887\"], [0.1111111111111111, \"#46039f\"], [0.2222222222222222, \"#7201a8\"], [0.3333333333333333, \"#9c179e\"], [0.4444444444444444, \"#bd3786\"], [0.5555555555555556, \"#d8576b\"], [0.6666666666666666, \"#ed7953\"], [0.7777777777777778, \"#fb9f3a\"], [0.8888888888888888, \"#fdca26\"], [1.0, \"#f0f921\"]], \"type\": \"surface\"}], \"table\": [{\"cells\": {\"fill\": {\"color\": \"#EBF0F8\"}, \"line\": {\"color\": \"white\"}}, \"header\": {\"fill\": {\"color\": \"#C8D4E3\"}, \"line\": {\"color\": \"white\"}}, \"type\": \"table\"}]}, \"layout\": {\"annotationdefaults\": {\"arrowcolor\": \"#2a3f5f\", \"arrowhead\": 0, \"arrowwidth\": 1}, \"coloraxis\": {\"colorbar\": {\"outlinewidth\": 0, \"ticks\": \"\"}}, \"colorscale\": {\"diverging\": [[0, \"#8e0152\"], [0.1, \"#c51b7d\"], [0.2, \"#de77ae\"], [0.3, \"#f1b6da\"], [0.4, \"#fde0ef\"], [0.5, \"#f7f7f7\"], [0.6, \"#e6f5d0\"], [0.7, \"#b8e186\"], [0.8, \"#7fbc41\"], [0.9, \"#4d9221\"], [1, \"#276419\"]], \"sequential\": [[0.0, \"#0d0887\"], [0.1111111111111111, \"#46039f\"], [0.2222222222222222, \"#7201a8\"], [0.3333333333333333, \"#9c179e\"], [0.4444444444444444, \"#bd3786\"], [0.5555555555555556, \"#d8576b\"], [0.6666666666666666, \"#ed7953\"], [0.7777777777777778, \"#fb9f3a\"], [0.8888888888888888, \"#fdca26\"], [1.0, \"#f0f921\"]], \"sequentialminus\": [[0.0, \"#0d0887\"], [0.1111111111111111, \"#46039f\"], [0.2222222222222222, \"#7201a8\"], [0.3333333333333333, \"#9c179e\"], [0.4444444444444444, \"#bd3786\"], [0.5555555555555556, \"#d8576b\"], [0.6666666666666666, \"#ed7953\"], [0.7777777777777778, \"#fb9f3a\"], [0.8888888888888888, \"#fdca26\"], [1.0, \"#f0f921\"]]}, \"colorway\": [\"#636efa\", \"#EF553B\", \"#00cc96\", \"#ab63fa\", \"#FFA15A\", \"#19d3f3\", \"#FF6692\", \"#B6E880\", \"#FF97FF\", \"#FECB52\"], \"font\": {\"color\": \"#2a3f5f\"}, \"geo\": {\"bgcolor\": \"white\", \"lakecolor\": \"white\", \"landcolor\": \"#E5ECF6\", \"showlakes\": true, \"showland\": true, \"subunitcolor\": \"white\"}, \"hoverlabel\": {\"align\": \"left\"}, \"hovermode\": \"closest\", \"mapbox\": {\"style\": \"light\"}, \"paper_bgcolor\": \"white\", \"plot_bgcolor\": \"#E5ECF6\", \"polar\": {\"angularaxis\": {\"gridcolor\": \"white\", \"linecolor\": \"white\", \"ticks\": \"\"}, \"bgcolor\": \"#E5ECF6\", \"radialaxis\": {\"gridcolor\": \"white\", \"linecolor\": \"white\", \"ticks\": \"\"}}, \"scene\": {\"xaxis\": {\"backgroundcolor\": \"#E5ECF6\", \"gridcolor\": \"white\", \"gridwidth\": 2, \"linecolor\": \"white\", \"showbackground\": true, \"ticks\": \"\", \"zerolinecolor\": \"white\"}, \"yaxis\": {\"backgroundcolor\": \"#E5ECF6\", \"gridcolor\": \"white\", \"gridwidth\": 2, \"linecolor\": \"white\", \"showbackground\": true, \"ticks\": \"\", \"zerolinecolor\": \"white\"}, \"zaxis\": {\"backgroundcolor\": \"#E5ECF6\", \"gridcolor\": \"white\", \"gridwidth\": 2, \"linecolor\": \"white\", \"showbackground\": true, \"ticks\": \"\", \"zerolinecolor\": \"white\"}}, \"shapedefaults\": {\"line\": {\"color\": \"#2a3f5f\"}}, \"ternary\": {\"aaxis\": {\"gridcolor\": \"white\", \"linecolor\": \"white\", \"ticks\": \"\"}, \"baxis\": {\"gridcolor\": \"white\", \"linecolor\": \"white\", \"ticks\": \"\"}, \"bgcolor\": \"#E5ECF6\", \"caxis\": {\"gridcolor\": \"white\", \"linecolor\": \"white\", \"ticks\": \"\"}}, \"title\": {\"x\": 0.05}, \"xaxis\": {\"automargin\": true, \"gridcolor\": \"white\", \"linecolor\": \"white\", \"ticks\": \"\", \"title\": {\"standoff\": 15}, \"zerolinecolor\": \"white\", \"zerolinewidth\": 2}, \"yaxis\": {\"automargin\": true, \"gridcolor\": \"white\", \"linecolor\": \"white\", \"ticks\": \"\", \"title\": {\"standoff\": 15}, \"zerolinecolor\": \"white\", \"zerolinewidth\": 2}}}, \"title\": {\"text\": \"Distribui\\u00e7\\u00e3o de popularidade da m\\u00fasicas\"}, \"xaxis\": {\"anchor\": \"y2\", \"domain\": [0.0, 1.0], \"zeroline\": false}, \"yaxis\": {\"anchor\": \"free\", \"domain\": [0.0, 1], \"position\": 0.0}},\n",
       "                        {\"responsive\": true}\n",
       "                    ).then(function(){\n",
       "                            \n",
       "var gd = document.getElementById('059921d0-a7f2-4783-8776-d3e046c1b6c4');\n",
       "var x = new MutationObserver(function (mutations, observer) {{\n",
       "        var display = window.getComputedStyle(gd).display;\n",
       "        if (!display || display === 'none') {{\n",
       "            console.log([gd, 'removed!']);\n",
       "            Plotly.purge(gd);\n",
       "            observer.disconnect();\n",
       "        }}\n",
       "}});\n",
       "\n",
       "// Listen for the removal of the full notebook cells\n",
       "var notebookContainer = gd.closest('#notebook-container');\n",
       "if (notebookContainer) {{\n",
       "    x.observe(notebookContainer, {childList: true});\n",
       "}}\n",
       "\n",
       "// Listen for the clearing of the current output cell\n",
       "var outputEl = gd.closest('.output');\n",
       "if (outputEl) {{\n",
       "    x.observe(outputEl, {childList: true});\n",
       "}}\n",
       "\n",
       "                        })\n",
       "                };\n",
       "                });\n",
       "            </script>\n",
       "        </div>"
      ]
     },
     "metadata": {},
     "output_type": "display_data"
    }
   ],
   "source": [
    "dados_artista = dados_aux[dados_aux[\"artist\"]==artista1][[\"popularity\",\"album\"]]\n",
    "albums=dados_artista[\"album\"].unique()\n",
    "dic={}\n",
    "for album in albums:\n",
    "    dic[album]=dados_artista[dados_artista[\"album\"]==album][\"popularity\"]\n",
    "\n",
    "l=list(dic.values())\n",
    "#group_labels = [artista1,artista2]\n",
    "\n",
    "# Create distplot with curve_type set to 'normal'\n",
    "fig = ff.create_distplot(hist_data=l, group_labels=albums,show_rug=False,bin_size=5,show_hist=False)\n",
    "\n",
    "\n",
    "# Add title\n",
    "fig.update_layout(title_text='Distribuição de popularidade da músicas')\n",
    "fig.show()\n"
   ]
  },
  {
   "cell_type": "markdown",
   "metadata": {},
   "source": [
    "### Correlação variáveis"
   ]
  },
  {
   "cell_type": "code",
   "execution_count": 51,
   "metadata": {
    "ExecuteTime": {
     "end_time": "2020-07-17T22:46:12.820721Z",
     "start_time": "2020-07-17T22:46:12.750713Z"
    }
   },
   "outputs": [
    {
     "data": {
      "application/vnd.plotly.v1+json": {
       "config": {
        "plotlyServerURL": "https://plot.ly"
       },
       "data": [
        {
         "colorscale": [
          [
           0,
           "green"
          ],
          [
           0.5,
           "white"
          ],
          [
           1,
           "black"
          ]
         ],
         "type": "heatmap",
         "x": [
          "acousticness",
          "danceability",
          "energy",
          "instrumentalness",
          "liveness",
          "loudness",
          "speechiness",
          "tempo",
          "valence",
          "popularity"
         ],
         "y": [
          "acousticness",
          "danceability",
          "energy",
          "instrumentalness",
          "liveness",
          "loudness",
          "speechiness",
          "tempo",
          "valence",
          "popularity"
         ],
         "z": [
          [
           1,
           -0.15272311738840244,
           -0.40279371199671643,
           0.09162582330976547,
           -0.013003985079855085,
           -0.22478084498954418,
           0.12185506912028599,
           -0.08978233535958986,
           0.1216128182717198,
           0.16250492088957155
          ],
          [
           -0.15272311738840244,
           1,
           0.03403101177066628,
           -0.10476006776008441,
           -0.21636976134598462,
           0.11393022604447066,
           -0.07470600660203867,
           -0.05426152479625338,
           0.24637610978505914,
           -0.028569208206349252
          ],
          [
           -0.40279371199671643,
           0.03403101177066628,
           1,
           -0.0917770621099679,
           0.13562550388913824,
           0.7301875526636697,
           0.19582001634181692,
           0.12623634168791562,
           0.34312623115867513,
           -0.11451692088397637
          ],
          [
           0.09162582330976547,
           -0.10476006776008441,
           -0.0917770621099679,
           1,
           -0.07157894860290882,
           -0.0458657963702175,
           -0.13946507267017835,
           -0.007145332048218728,
           -0.22415079265814253,
           -0.03373671297975181
          ],
          [
           -0.013003985079855085,
           -0.21636976134598462,
           0.13562550388913824,
           -0.07157894860290882,
           1,
           -0.029127574693403373,
           0.20473480166709732,
           -0.10091617049340078,
           -0.12360203328347456,
           -0.017377618661288022
          ],
          [
           -0.22478084498954418,
           0.11393022604447066,
           0.7301875526636697,
           -0.0458657963702175,
           -0.029127574693403373,
           1,
           0.1028817880791935,
           -0.03555250928324428,
           0.413435135585395,
           -0.17812103169096732
          ],
          [
           0.12185506912028599,
           -0.07470600660203867,
           0.19582001634181692,
           -0.13946507267017835,
           0.20473480166709732,
           0.1028817880791935,
           1,
           -0.1417223794402067,
           0.3877850208258461,
           0.007656667084062389
          ],
          [
           -0.08978233535958986,
           -0.05426152479625338,
           0.12623634168791562,
           -0.007145332048218728,
           -0.10091617049340078,
           -0.03555250928324428,
           -0.1417223794402067,
           1,
           0.06094862388542017,
           0.01989712465493158
          ],
          [
           0.1216128182717198,
           0.24637610978505914,
           0.34312623115867513,
           -0.22415079265814253,
           -0.12360203328347456,
           0.413435135585395,
           0.3877850208258461,
           0.06094862388542017,
           1,
           -0.06291365779637079
          ],
          [
           0.16250492088957155,
           -0.028569208206349252,
           -0.11451692088397637,
           -0.03373671297975181,
           -0.017377618661288022,
           -0.17812103169096732,
           0.007656667084062389,
           0.01989712465493158,
           -0.06291365779637079,
           1
          ]
         ]
        }
       ],
       "layout": {
        "template": {
         "data": {
          "bar": [
           {
            "error_x": {
             "color": "#2a3f5f"
            },
            "error_y": {
             "color": "#2a3f5f"
            },
            "marker": {
             "line": {
              "color": "#E5ECF6",
              "width": 0.5
             }
            },
            "type": "bar"
           }
          ],
          "barpolar": [
           {
            "marker": {
             "line": {
              "color": "#E5ECF6",
              "width": 0.5
             }
            },
            "type": "barpolar"
           }
          ],
          "carpet": [
           {
            "aaxis": {
             "endlinecolor": "#2a3f5f",
             "gridcolor": "white",
             "linecolor": "white",
             "minorgridcolor": "white",
             "startlinecolor": "#2a3f5f"
            },
            "baxis": {
             "endlinecolor": "#2a3f5f",
             "gridcolor": "white",
             "linecolor": "white",
             "minorgridcolor": "white",
             "startlinecolor": "#2a3f5f"
            },
            "type": "carpet"
           }
          ],
          "choropleth": [
           {
            "colorbar": {
             "outlinewidth": 0,
             "ticks": ""
            },
            "type": "choropleth"
           }
          ],
          "contour": [
           {
            "colorbar": {
             "outlinewidth": 0,
             "ticks": ""
            },
            "colorscale": [
             [
              0,
              "#0d0887"
             ],
             [
              0.1111111111111111,
              "#46039f"
             ],
             [
              0.2222222222222222,
              "#7201a8"
             ],
             [
              0.3333333333333333,
              "#9c179e"
             ],
             [
              0.4444444444444444,
              "#bd3786"
             ],
             [
              0.5555555555555556,
              "#d8576b"
             ],
             [
              0.6666666666666666,
              "#ed7953"
             ],
             [
              0.7777777777777778,
              "#fb9f3a"
             ],
             [
              0.8888888888888888,
              "#fdca26"
             ],
             [
              1,
              "#f0f921"
             ]
            ],
            "type": "contour"
           }
          ],
          "contourcarpet": [
           {
            "colorbar": {
             "outlinewidth": 0,
             "ticks": ""
            },
            "type": "contourcarpet"
           }
          ],
          "heatmap": [
           {
            "colorbar": {
             "outlinewidth": 0,
             "ticks": ""
            },
            "colorscale": [
             [
              0,
              "#0d0887"
             ],
             [
              0.1111111111111111,
              "#46039f"
             ],
             [
              0.2222222222222222,
              "#7201a8"
             ],
             [
              0.3333333333333333,
              "#9c179e"
             ],
             [
              0.4444444444444444,
              "#bd3786"
             ],
             [
              0.5555555555555556,
              "#d8576b"
             ],
             [
              0.6666666666666666,
              "#ed7953"
             ],
             [
              0.7777777777777778,
              "#fb9f3a"
             ],
             [
              0.8888888888888888,
              "#fdca26"
             ],
             [
              1,
              "#f0f921"
             ]
            ],
            "type": "heatmap"
           }
          ],
          "heatmapgl": [
           {
            "colorbar": {
             "outlinewidth": 0,
             "ticks": ""
            },
            "colorscale": [
             [
              0,
              "#0d0887"
             ],
             [
              0.1111111111111111,
              "#46039f"
             ],
             [
              0.2222222222222222,
              "#7201a8"
             ],
             [
              0.3333333333333333,
              "#9c179e"
             ],
             [
              0.4444444444444444,
              "#bd3786"
             ],
             [
              0.5555555555555556,
              "#d8576b"
             ],
             [
              0.6666666666666666,
              "#ed7953"
             ],
             [
              0.7777777777777778,
              "#fb9f3a"
             ],
             [
              0.8888888888888888,
              "#fdca26"
             ],
             [
              1,
              "#f0f921"
             ]
            ],
            "type": "heatmapgl"
           }
          ],
          "histogram": [
           {
            "marker": {
             "colorbar": {
              "outlinewidth": 0,
              "ticks": ""
             }
            },
            "type": "histogram"
           }
          ],
          "histogram2d": [
           {
            "colorbar": {
             "outlinewidth": 0,
             "ticks": ""
            },
            "colorscale": [
             [
              0,
              "#0d0887"
             ],
             [
              0.1111111111111111,
              "#46039f"
             ],
             [
              0.2222222222222222,
              "#7201a8"
             ],
             [
              0.3333333333333333,
              "#9c179e"
             ],
             [
              0.4444444444444444,
              "#bd3786"
             ],
             [
              0.5555555555555556,
              "#d8576b"
             ],
             [
              0.6666666666666666,
              "#ed7953"
             ],
             [
              0.7777777777777778,
              "#fb9f3a"
             ],
             [
              0.8888888888888888,
              "#fdca26"
             ],
             [
              1,
              "#f0f921"
             ]
            ],
            "type": "histogram2d"
           }
          ],
          "histogram2dcontour": [
           {
            "colorbar": {
             "outlinewidth": 0,
             "ticks": ""
            },
            "colorscale": [
             [
              0,
              "#0d0887"
             ],
             [
              0.1111111111111111,
              "#46039f"
             ],
             [
              0.2222222222222222,
              "#7201a8"
             ],
             [
              0.3333333333333333,
              "#9c179e"
             ],
             [
              0.4444444444444444,
              "#bd3786"
             ],
             [
              0.5555555555555556,
              "#d8576b"
             ],
             [
              0.6666666666666666,
              "#ed7953"
             ],
             [
              0.7777777777777778,
              "#fb9f3a"
             ],
             [
              0.8888888888888888,
              "#fdca26"
             ],
             [
              1,
              "#f0f921"
             ]
            ],
            "type": "histogram2dcontour"
           }
          ],
          "mesh3d": [
           {
            "colorbar": {
             "outlinewidth": 0,
             "ticks": ""
            },
            "type": "mesh3d"
           }
          ],
          "parcoords": [
           {
            "line": {
             "colorbar": {
              "outlinewidth": 0,
              "ticks": ""
             }
            },
            "type": "parcoords"
           }
          ],
          "pie": [
           {
            "automargin": true,
            "type": "pie"
           }
          ],
          "scatter": [
           {
            "marker": {
             "colorbar": {
              "outlinewidth": 0,
              "ticks": ""
             }
            },
            "type": "scatter"
           }
          ],
          "scatter3d": [
           {
            "line": {
             "colorbar": {
              "outlinewidth": 0,
              "ticks": ""
             }
            },
            "marker": {
             "colorbar": {
              "outlinewidth": 0,
              "ticks": ""
             }
            },
            "type": "scatter3d"
           }
          ],
          "scattercarpet": [
           {
            "marker": {
             "colorbar": {
              "outlinewidth": 0,
              "ticks": ""
             }
            },
            "type": "scattercarpet"
           }
          ],
          "scattergeo": [
           {
            "marker": {
             "colorbar": {
              "outlinewidth": 0,
              "ticks": ""
             }
            },
            "type": "scattergeo"
           }
          ],
          "scattergl": [
           {
            "marker": {
             "colorbar": {
              "outlinewidth": 0,
              "ticks": ""
             }
            },
            "type": "scattergl"
           }
          ],
          "scattermapbox": [
           {
            "marker": {
             "colorbar": {
              "outlinewidth": 0,
              "ticks": ""
             }
            },
            "type": "scattermapbox"
           }
          ],
          "scatterpolar": [
           {
            "marker": {
             "colorbar": {
              "outlinewidth": 0,
              "ticks": ""
             }
            },
            "type": "scatterpolar"
           }
          ],
          "scatterpolargl": [
           {
            "marker": {
             "colorbar": {
              "outlinewidth": 0,
              "ticks": ""
             }
            },
            "type": "scatterpolargl"
           }
          ],
          "scatterternary": [
           {
            "marker": {
             "colorbar": {
              "outlinewidth": 0,
              "ticks": ""
             }
            },
            "type": "scatterternary"
           }
          ],
          "surface": [
           {
            "colorbar": {
             "outlinewidth": 0,
             "ticks": ""
            },
            "colorscale": [
             [
              0,
              "#0d0887"
             ],
             [
              0.1111111111111111,
              "#46039f"
             ],
             [
              0.2222222222222222,
              "#7201a8"
             ],
             [
              0.3333333333333333,
              "#9c179e"
             ],
             [
              0.4444444444444444,
              "#bd3786"
             ],
             [
              0.5555555555555556,
              "#d8576b"
             ],
             [
              0.6666666666666666,
              "#ed7953"
             ],
             [
              0.7777777777777778,
              "#fb9f3a"
             ],
             [
              0.8888888888888888,
              "#fdca26"
             ],
             [
              1,
              "#f0f921"
             ]
            ],
            "type": "surface"
           }
          ],
          "table": [
           {
            "cells": {
             "fill": {
              "color": "#EBF0F8"
             },
             "line": {
              "color": "white"
             }
            },
            "header": {
             "fill": {
              "color": "#C8D4E3"
             },
             "line": {
              "color": "white"
             }
            },
            "type": "table"
           }
          ]
         },
         "layout": {
          "annotationdefaults": {
           "arrowcolor": "#2a3f5f",
           "arrowhead": 0,
           "arrowwidth": 1
          },
          "coloraxis": {
           "colorbar": {
            "outlinewidth": 0,
            "ticks": ""
           }
          },
          "colorscale": {
           "diverging": [
            [
             0,
             "#8e0152"
            ],
            [
             0.1,
             "#c51b7d"
            ],
            [
             0.2,
             "#de77ae"
            ],
            [
             0.3,
             "#f1b6da"
            ],
            [
             0.4,
             "#fde0ef"
            ],
            [
             0.5,
             "#f7f7f7"
            ],
            [
             0.6,
             "#e6f5d0"
            ],
            [
             0.7,
             "#b8e186"
            ],
            [
             0.8,
             "#7fbc41"
            ],
            [
             0.9,
             "#4d9221"
            ],
            [
             1,
             "#276419"
            ]
           ],
           "sequential": [
            [
             0,
             "#0d0887"
            ],
            [
             0.1111111111111111,
             "#46039f"
            ],
            [
             0.2222222222222222,
             "#7201a8"
            ],
            [
             0.3333333333333333,
             "#9c179e"
            ],
            [
             0.4444444444444444,
             "#bd3786"
            ],
            [
             0.5555555555555556,
             "#d8576b"
            ],
            [
             0.6666666666666666,
             "#ed7953"
            ],
            [
             0.7777777777777778,
             "#fb9f3a"
            ],
            [
             0.8888888888888888,
             "#fdca26"
            ],
            [
             1,
             "#f0f921"
            ]
           ],
           "sequentialminus": [
            [
             0,
             "#0d0887"
            ],
            [
             0.1111111111111111,
             "#46039f"
            ],
            [
             0.2222222222222222,
             "#7201a8"
            ],
            [
             0.3333333333333333,
             "#9c179e"
            ],
            [
             0.4444444444444444,
             "#bd3786"
            ],
            [
             0.5555555555555556,
             "#d8576b"
            ],
            [
             0.6666666666666666,
             "#ed7953"
            ],
            [
             0.7777777777777778,
             "#fb9f3a"
            ],
            [
             0.8888888888888888,
             "#fdca26"
            ],
            [
             1,
             "#f0f921"
            ]
           ]
          },
          "colorway": [
           "#636efa",
           "#EF553B",
           "#00cc96",
           "#ab63fa",
           "#FFA15A",
           "#19d3f3",
           "#FF6692",
           "#B6E880",
           "#FF97FF",
           "#FECB52"
          ],
          "font": {
           "color": "#2a3f5f"
          },
          "geo": {
           "bgcolor": "white",
           "lakecolor": "white",
           "landcolor": "#E5ECF6",
           "showlakes": true,
           "showland": true,
           "subunitcolor": "white"
          },
          "hoverlabel": {
           "align": "left"
          },
          "hovermode": "closest",
          "mapbox": {
           "style": "light"
          },
          "paper_bgcolor": "white",
          "plot_bgcolor": "#E5ECF6",
          "polar": {
           "angularaxis": {
            "gridcolor": "white",
            "linecolor": "white",
            "ticks": ""
           },
           "bgcolor": "#E5ECF6",
           "radialaxis": {
            "gridcolor": "white",
            "linecolor": "white",
            "ticks": ""
           }
          },
          "scene": {
           "xaxis": {
            "backgroundcolor": "#E5ECF6",
            "gridcolor": "white",
            "gridwidth": 2,
            "linecolor": "white",
            "showbackground": true,
            "ticks": "",
            "zerolinecolor": "white"
           },
           "yaxis": {
            "backgroundcolor": "#E5ECF6",
            "gridcolor": "white",
            "gridwidth": 2,
            "linecolor": "white",
            "showbackground": true,
            "ticks": "",
            "zerolinecolor": "white"
           },
           "zaxis": {
            "backgroundcolor": "#E5ECF6",
            "gridcolor": "white",
            "gridwidth": 2,
            "linecolor": "white",
            "showbackground": true,
            "ticks": "",
            "zerolinecolor": "white"
           }
          },
          "shapedefaults": {
           "line": {
            "color": "#2a3f5f"
           }
          },
          "ternary": {
           "aaxis": {
            "gridcolor": "white",
            "linecolor": "white",
            "ticks": ""
           },
           "baxis": {
            "gridcolor": "white",
            "linecolor": "white",
            "ticks": ""
           },
           "bgcolor": "#E5ECF6",
           "caxis": {
            "gridcolor": "white",
            "linecolor": "white",
            "ticks": ""
           }
          },
          "title": {
           "x": 0.05
          },
          "xaxis": {
           "automargin": true,
           "gridcolor": "white",
           "linecolor": "white",
           "ticks": "",
           "title": {
            "standoff": 15
           },
           "zerolinecolor": "white",
           "zerolinewidth": 2
          },
          "yaxis": {
           "automargin": true,
           "gridcolor": "white",
           "linecolor": "white",
           "ticks": "",
           "title": {
            "standoff": 15
           },
           "zerolinecolor": "white",
           "zerolinewidth": 2
          }
         }
        },
        "title": {
         "text": "Correlação entre as variáveis Queen"
        },
        "xaxis": {
         "nticks": 36
        }
       }
      },
      "text/html": [
       "<div>\n",
       "        \n",
       "        \n",
       "            <div id=\"99b4305e-37bb-4432-873b-927f1d59207b\" class=\"plotly-graph-div\" style=\"height:525px; width:100%;\"></div>\n",
       "            <script type=\"text/javascript\">\n",
       "                require([\"plotly\"], function(Plotly) {\n",
       "                    window.PLOTLYENV=window.PLOTLYENV || {};\n",
       "                    \n",
       "                if (document.getElementById(\"99b4305e-37bb-4432-873b-927f1d59207b\")) {\n",
       "                    Plotly.newPlot(\n",
       "                        '99b4305e-37bb-4432-873b-927f1d59207b',\n",
       "                        [{\"colorscale\": [[0.0, \"green\"], [0.5, \"white\"], [1.0, \"black\"]], \"type\": \"heatmap\", \"x\": [\"acousticness\", \"danceability\", \"energy\", \"instrumentalness\", \"liveness\", \"loudness\", \"speechiness\", \"tempo\", \"valence\", \"popularity\"], \"y\": [\"acousticness\", \"danceability\", \"energy\", \"instrumentalness\", \"liveness\", \"loudness\", \"speechiness\", \"tempo\", \"valence\", \"popularity\"], \"z\": [[1.0, -0.15272311738840244, -0.40279371199671643, 0.09162582330976547, -0.013003985079855085, -0.22478084498954418, 0.12185506912028599, -0.08978233535958986, 0.1216128182717198, 0.16250492088957155], [-0.15272311738840244, 1.0, 0.03403101177066628, -0.10476006776008441, -0.21636976134598462, 0.11393022604447066, -0.07470600660203867, -0.05426152479625338, 0.24637610978505914, -0.028569208206349252], [-0.40279371199671643, 0.03403101177066628, 1.0, -0.0917770621099679, 0.13562550388913824, 0.7301875526636697, 0.19582001634181692, 0.12623634168791562, 0.34312623115867513, -0.11451692088397637], [0.09162582330976547, -0.10476006776008441, -0.0917770621099679, 1.0, -0.07157894860290882, -0.0458657963702175, -0.13946507267017835, -0.007145332048218728, -0.22415079265814253, -0.03373671297975181], [-0.013003985079855085, -0.21636976134598462, 0.13562550388913824, -0.07157894860290882, 1.0, -0.029127574693403373, 0.20473480166709732, -0.10091617049340078, -0.12360203328347456, -0.017377618661288022], [-0.22478084498954418, 0.11393022604447066, 0.7301875526636697, -0.0458657963702175, -0.029127574693403373, 1.0, 0.1028817880791935, -0.03555250928324428, 0.413435135585395, -0.17812103169096732], [0.12185506912028599, -0.07470600660203867, 0.19582001634181692, -0.13946507267017835, 0.20473480166709732, 0.1028817880791935, 1.0, -0.1417223794402067, 0.3877850208258461, 0.007656667084062389], [-0.08978233535958986, -0.05426152479625338, 0.12623634168791562, -0.007145332048218728, -0.10091617049340078, -0.03555250928324428, -0.1417223794402067, 1.0, 0.06094862388542017, 0.01989712465493158], [0.1216128182717198, 0.24637610978505914, 0.34312623115867513, -0.22415079265814253, -0.12360203328347456, 0.413435135585395, 0.3877850208258461, 0.06094862388542017, 1.0, -0.06291365779637079], [0.16250492088957155, -0.028569208206349252, -0.11451692088397637, -0.03373671297975181, -0.017377618661288022, -0.17812103169096732, 0.007656667084062389, 0.01989712465493158, -0.06291365779637079, 1.0]]}],\n",
       "                        {\"template\": {\"data\": {\"bar\": [{\"error_x\": {\"color\": \"#2a3f5f\"}, \"error_y\": {\"color\": \"#2a3f5f\"}, \"marker\": {\"line\": {\"color\": \"#E5ECF6\", \"width\": 0.5}}, \"type\": \"bar\"}], \"barpolar\": [{\"marker\": {\"line\": {\"color\": \"#E5ECF6\", \"width\": 0.5}}, \"type\": \"barpolar\"}], \"carpet\": [{\"aaxis\": {\"endlinecolor\": \"#2a3f5f\", \"gridcolor\": \"white\", \"linecolor\": \"white\", \"minorgridcolor\": \"white\", \"startlinecolor\": \"#2a3f5f\"}, \"baxis\": {\"endlinecolor\": \"#2a3f5f\", \"gridcolor\": \"white\", \"linecolor\": \"white\", \"minorgridcolor\": \"white\", \"startlinecolor\": \"#2a3f5f\"}, \"type\": \"carpet\"}], \"choropleth\": [{\"colorbar\": {\"outlinewidth\": 0, \"ticks\": \"\"}, \"type\": \"choropleth\"}], \"contour\": [{\"colorbar\": {\"outlinewidth\": 0, \"ticks\": \"\"}, \"colorscale\": [[0.0, \"#0d0887\"], [0.1111111111111111, \"#46039f\"], [0.2222222222222222, \"#7201a8\"], [0.3333333333333333, \"#9c179e\"], [0.4444444444444444, \"#bd3786\"], [0.5555555555555556, \"#d8576b\"], [0.6666666666666666, \"#ed7953\"], [0.7777777777777778, \"#fb9f3a\"], [0.8888888888888888, \"#fdca26\"], [1.0, \"#f0f921\"]], \"type\": \"contour\"}], \"contourcarpet\": [{\"colorbar\": {\"outlinewidth\": 0, \"ticks\": \"\"}, \"type\": \"contourcarpet\"}], \"heatmap\": [{\"colorbar\": {\"outlinewidth\": 0, \"ticks\": \"\"}, \"colorscale\": [[0.0, \"#0d0887\"], [0.1111111111111111, \"#46039f\"], [0.2222222222222222, \"#7201a8\"], [0.3333333333333333, \"#9c179e\"], [0.4444444444444444, \"#bd3786\"], [0.5555555555555556, \"#d8576b\"], [0.6666666666666666, \"#ed7953\"], [0.7777777777777778, \"#fb9f3a\"], [0.8888888888888888, \"#fdca26\"], [1.0, \"#f0f921\"]], \"type\": \"heatmap\"}], \"heatmapgl\": [{\"colorbar\": {\"outlinewidth\": 0, \"ticks\": \"\"}, \"colorscale\": [[0.0, \"#0d0887\"], [0.1111111111111111, \"#46039f\"], [0.2222222222222222, \"#7201a8\"], [0.3333333333333333, \"#9c179e\"], [0.4444444444444444, \"#bd3786\"], [0.5555555555555556, \"#d8576b\"], [0.6666666666666666, \"#ed7953\"], [0.7777777777777778, \"#fb9f3a\"], [0.8888888888888888, \"#fdca26\"], [1.0, \"#f0f921\"]], \"type\": \"heatmapgl\"}], \"histogram\": [{\"marker\": {\"colorbar\": {\"outlinewidth\": 0, \"ticks\": \"\"}}, \"type\": \"histogram\"}], \"histogram2d\": [{\"colorbar\": {\"outlinewidth\": 0, \"ticks\": \"\"}, \"colorscale\": [[0.0, \"#0d0887\"], [0.1111111111111111, \"#46039f\"], [0.2222222222222222, \"#7201a8\"], [0.3333333333333333, \"#9c179e\"], [0.4444444444444444, \"#bd3786\"], [0.5555555555555556, \"#d8576b\"], [0.6666666666666666, \"#ed7953\"], [0.7777777777777778, \"#fb9f3a\"], [0.8888888888888888, \"#fdca26\"], [1.0, \"#f0f921\"]], \"type\": \"histogram2d\"}], \"histogram2dcontour\": [{\"colorbar\": {\"outlinewidth\": 0, \"ticks\": \"\"}, \"colorscale\": [[0.0, \"#0d0887\"], [0.1111111111111111, \"#46039f\"], [0.2222222222222222, \"#7201a8\"], [0.3333333333333333, \"#9c179e\"], [0.4444444444444444, \"#bd3786\"], [0.5555555555555556, \"#d8576b\"], [0.6666666666666666, \"#ed7953\"], [0.7777777777777778, \"#fb9f3a\"], [0.8888888888888888, \"#fdca26\"], [1.0, \"#f0f921\"]], \"type\": \"histogram2dcontour\"}], \"mesh3d\": [{\"colorbar\": {\"outlinewidth\": 0, \"ticks\": \"\"}, \"type\": \"mesh3d\"}], \"parcoords\": [{\"line\": {\"colorbar\": {\"outlinewidth\": 0, \"ticks\": \"\"}}, \"type\": \"parcoords\"}], \"pie\": [{\"automargin\": true, \"type\": \"pie\"}], \"scatter\": [{\"marker\": {\"colorbar\": {\"outlinewidth\": 0, \"ticks\": \"\"}}, \"type\": \"scatter\"}], \"scatter3d\": [{\"line\": {\"colorbar\": {\"outlinewidth\": 0, \"ticks\": \"\"}}, \"marker\": {\"colorbar\": {\"outlinewidth\": 0, \"ticks\": \"\"}}, \"type\": \"scatter3d\"}], \"scattercarpet\": [{\"marker\": {\"colorbar\": {\"outlinewidth\": 0, \"ticks\": \"\"}}, \"type\": \"scattercarpet\"}], \"scattergeo\": [{\"marker\": {\"colorbar\": {\"outlinewidth\": 0, \"ticks\": \"\"}}, \"type\": \"scattergeo\"}], \"scattergl\": [{\"marker\": {\"colorbar\": {\"outlinewidth\": 0, \"ticks\": \"\"}}, \"type\": \"scattergl\"}], \"scattermapbox\": [{\"marker\": {\"colorbar\": {\"outlinewidth\": 0, \"ticks\": \"\"}}, \"type\": \"scattermapbox\"}], \"scatterpolar\": [{\"marker\": {\"colorbar\": {\"outlinewidth\": 0, \"ticks\": \"\"}}, \"type\": \"scatterpolar\"}], \"scatterpolargl\": [{\"marker\": {\"colorbar\": {\"outlinewidth\": 0, \"ticks\": \"\"}}, \"type\": \"scatterpolargl\"}], \"scatterternary\": [{\"marker\": {\"colorbar\": {\"outlinewidth\": 0, \"ticks\": \"\"}}, \"type\": \"scatterternary\"}], \"surface\": [{\"colorbar\": {\"outlinewidth\": 0, \"ticks\": \"\"}, \"colorscale\": [[0.0, \"#0d0887\"], [0.1111111111111111, \"#46039f\"], [0.2222222222222222, \"#7201a8\"], [0.3333333333333333, \"#9c179e\"], [0.4444444444444444, \"#bd3786\"], [0.5555555555555556, \"#d8576b\"], [0.6666666666666666, \"#ed7953\"], [0.7777777777777778, \"#fb9f3a\"], [0.8888888888888888, \"#fdca26\"], [1.0, \"#f0f921\"]], \"type\": \"surface\"}], \"table\": [{\"cells\": {\"fill\": {\"color\": \"#EBF0F8\"}, \"line\": {\"color\": \"white\"}}, \"header\": {\"fill\": {\"color\": \"#C8D4E3\"}, \"line\": {\"color\": \"white\"}}, \"type\": \"table\"}]}, \"layout\": {\"annotationdefaults\": {\"arrowcolor\": \"#2a3f5f\", \"arrowhead\": 0, \"arrowwidth\": 1}, \"coloraxis\": {\"colorbar\": {\"outlinewidth\": 0, \"ticks\": \"\"}}, \"colorscale\": {\"diverging\": [[0, \"#8e0152\"], [0.1, \"#c51b7d\"], [0.2, \"#de77ae\"], [0.3, \"#f1b6da\"], [0.4, \"#fde0ef\"], [0.5, \"#f7f7f7\"], [0.6, \"#e6f5d0\"], [0.7, \"#b8e186\"], [0.8, \"#7fbc41\"], [0.9, \"#4d9221\"], [1, \"#276419\"]], \"sequential\": [[0.0, \"#0d0887\"], [0.1111111111111111, \"#46039f\"], [0.2222222222222222, \"#7201a8\"], [0.3333333333333333, \"#9c179e\"], [0.4444444444444444, \"#bd3786\"], [0.5555555555555556, \"#d8576b\"], [0.6666666666666666, \"#ed7953\"], [0.7777777777777778, \"#fb9f3a\"], [0.8888888888888888, \"#fdca26\"], [1.0, \"#f0f921\"]], \"sequentialminus\": [[0.0, \"#0d0887\"], [0.1111111111111111, \"#46039f\"], [0.2222222222222222, \"#7201a8\"], [0.3333333333333333, \"#9c179e\"], [0.4444444444444444, \"#bd3786\"], [0.5555555555555556, \"#d8576b\"], [0.6666666666666666, \"#ed7953\"], [0.7777777777777778, \"#fb9f3a\"], [0.8888888888888888, \"#fdca26\"], [1.0, \"#f0f921\"]]}, \"colorway\": [\"#636efa\", \"#EF553B\", \"#00cc96\", \"#ab63fa\", \"#FFA15A\", \"#19d3f3\", \"#FF6692\", \"#B6E880\", \"#FF97FF\", \"#FECB52\"], \"font\": {\"color\": \"#2a3f5f\"}, \"geo\": {\"bgcolor\": \"white\", \"lakecolor\": \"white\", \"landcolor\": \"#E5ECF6\", \"showlakes\": true, \"showland\": true, \"subunitcolor\": \"white\"}, \"hoverlabel\": {\"align\": \"left\"}, \"hovermode\": \"closest\", \"mapbox\": {\"style\": \"light\"}, \"paper_bgcolor\": \"white\", \"plot_bgcolor\": \"#E5ECF6\", \"polar\": {\"angularaxis\": {\"gridcolor\": \"white\", \"linecolor\": \"white\", \"ticks\": \"\"}, \"bgcolor\": \"#E5ECF6\", \"radialaxis\": {\"gridcolor\": \"white\", \"linecolor\": \"white\", \"ticks\": \"\"}}, \"scene\": {\"xaxis\": {\"backgroundcolor\": \"#E5ECF6\", \"gridcolor\": \"white\", \"gridwidth\": 2, \"linecolor\": \"white\", \"showbackground\": true, \"ticks\": \"\", \"zerolinecolor\": \"white\"}, \"yaxis\": {\"backgroundcolor\": \"#E5ECF6\", \"gridcolor\": \"white\", \"gridwidth\": 2, \"linecolor\": \"white\", \"showbackground\": true, \"ticks\": \"\", \"zerolinecolor\": \"white\"}, \"zaxis\": {\"backgroundcolor\": \"#E5ECF6\", \"gridcolor\": \"white\", \"gridwidth\": 2, \"linecolor\": \"white\", \"showbackground\": true, \"ticks\": \"\", \"zerolinecolor\": \"white\"}}, \"shapedefaults\": {\"line\": {\"color\": \"#2a3f5f\"}}, \"ternary\": {\"aaxis\": {\"gridcolor\": \"white\", \"linecolor\": \"white\", \"ticks\": \"\"}, \"baxis\": {\"gridcolor\": \"white\", \"linecolor\": \"white\", \"ticks\": \"\"}, \"bgcolor\": \"#E5ECF6\", \"caxis\": {\"gridcolor\": \"white\", \"linecolor\": \"white\", \"ticks\": \"\"}}, \"title\": {\"x\": 0.05}, \"xaxis\": {\"automargin\": true, \"gridcolor\": \"white\", \"linecolor\": \"white\", \"ticks\": \"\", \"title\": {\"standoff\": 15}, \"zerolinecolor\": \"white\", \"zerolinewidth\": 2}, \"yaxis\": {\"automargin\": true, \"gridcolor\": \"white\", \"linecolor\": \"white\", \"ticks\": \"\", \"title\": {\"standoff\": 15}, \"zerolinecolor\": \"white\", \"zerolinewidth\": 2}}}, \"title\": {\"text\": \"Correla\\u00e7\\u00e3o entre as vari\\u00e1veis Queen\"}, \"xaxis\": {\"nticks\": 36}},\n",
       "                        {\"responsive\": true}\n",
       "                    ).then(function(){\n",
       "                            \n",
       "var gd = document.getElementById('99b4305e-37bb-4432-873b-927f1d59207b');\n",
       "var x = new MutationObserver(function (mutations, observer) {{\n",
       "        var display = window.getComputedStyle(gd).display;\n",
       "        if (!display || display === 'none') {{\n",
       "            console.log([gd, 'removed!']);\n",
       "            Plotly.purge(gd);\n",
       "            observer.disconnect();\n",
       "        }}\n",
       "}});\n",
       "\n",
       "// Listen for the removal of the full notebook cells\n",
       "var notebookContainer = gd.closest('#notebook-container');\n",
       "if (notebookContainer) {{\n",
       "    x.observe(notebookContainer, {childList: true});\n",
       "}}\n",
       "\n",
       "// Listen for the clearing of the current output cell\n",
       "var outputEl = gd.closest('.output');\n",
       "if (outputEl) {{\n",
       "    x.observe(outputEl, {childList: true});\n",
       "}}\n",
       "\n",
       "                        })\n",
       "                };\n",
       "                });\n",
       "            </script>\n",
       "        </div>"
      ]
     },
     "metadata": {},
     "output_type": "display_data"
    },
    {
     "data": {
      "application/vnd.plotly.v1+json": {
       "config": {
        "plotlyServerURL": "https://plot.ly"
       },
       "data": [
        {
         "colorscale": [
          [
           0,
           "green"
          ],
          [
           0.5,
           "white"
          ],
          [
           1,
           "black"
          ]
         ],
         "type": "heatmap",
         "x": [
          "acousticness",
          "danceability",
          "energy",
          "instrumentalness",
          "liveness",
          "loudness",
          "speechiness",
          "tempo",
          "valence",
          "popularity"
         ],
         "y": [
          "acousticness",
          "danceability",
          "energy",
          "instrumentalness",
          "liveness",
          "loudness",
          "speechiness",
          "tempo",
          "valence",
          "popularity"
         ],
         "z": [
          [
           1,
           0.06057893632441521,
           -0.6387972192159631,
           0.10228096757699838,
           -0.10898805721772795,
           -0.5579422197320656,
           0.32753595999439056,
           -0.08718765358047599,
           -0.19735342738726325,
           -0.28578198747527356
          ],
          [
           0.06057893632441521,
           1,
           -0.08098378951245018,
           -0.06595019261409028,
           -0.19580456038767427,
           -0.10223282490152051,
           0.24803545068662908,
           -0.08993318743555602,
           0.40466674762632665,
           -0.15272343363770005
          ],
          [
           -0.6387972192159631,
           -0.08098378951245018,
           1,
           -0.06916013776189836,
           0.2860199727829115,
           0.7383046587740504,
           -0.2865687445860107,
           0.14544669341824243,
           0.3650133958307924,
           0.16020863438247832
          ],
          [
           0.10228096757699838,
           -0.06595019261409028,
           -0.06916013776189836,
           1,
           -0.006668486293812324,
           -0.12356556678447762,
           -0.07165548829954017,
           -0.020134424554044225,
           -0.3203053233551892,
           -0.042284464635784495
          ],
          [
           -0.10898805721772795,
           -0.19580456038767427,
           0.2860199727829115,
           -0.006668486293812324,
           1,
           0.07618199885571436,
           0.07312243205968964,
           -0.10697524081611606,
           0.022190376222873207,
           -0.07632239593582872
          ],
          [
           -0.5579422197320656,
           -0.10223282490152051,
           0.7383046587740504,
           -0.12356556678447762,
           0.07618199885571436,
           1,
           -0.5606636265148438,
           0.1904448574599577,
           0.19793513490339962,
           0.3475504927838518
          ],
          [
           0.32753595999439056,
           0.24803545068662908,
           -0.2865687445860107,
           -0.07165548829954017,
           0.07312243205968964,
           -0.5606636265148438,
           1,
           -0.12301327682355426,
           0.13277624519807624,
           -0.37691868292216646
          ],
          [
           -0.08718765358047599,
           -0.08993318743555602,
           0.14544669341824243,
           -0.020134424554044225,
           -0.10697524081611606,
           0.1904448574599577,
           -0.12301327682355426,
           1,
           0.06646047328481898,
           0.09610755784610718
          ],
          [
           -0.19735342738726325,
           0.40466674762632665,
           0.3650133958307924,
           -0.3203053233551892,
           0.022190376222873207,
           0.19793513490339962,
           0.13277624519807624,
           0.06646047328481898,
           1,
           -0.014056506619693536
          ],
          [
           -0.28578198747527356,
           -0.15272343363770005,
           0.16020863438247832,
           -0.042284464635784495,
           -0.07632239593582872,
           0.3475504927838518,
           -0.37691868292216646,
           0.09610755784610718,
           -0.014056506619693536,
           1
          ]
         ]
        }
       ],
       "layout": {
        "template": {
         "data": {
          "bar": [
           {
            "error_x": {
             "color": "#2a3f5f"
            },
            "error_y": {
             "color": "#2a3f5f"
            },
            "marker": {
             "line": {
              "color": "#E5ECF6",
              "width": 0.5
             }
            },
            "type": "bar"
           }
          ],
          "barpolar": [
           {
            "marker": {
             "line": {
              "color": "#E5ECF6",
              "width": 0.5
             }
            },
            "type": "barpolar"
           }
          ],
          "carpet": [
           {
            "aaxis": {
             "endlinecolor": "#2a3f5f",
             "gridcolor": "white",
             "linecolor": "white",
             "minorgridcolor": "white",
             "startlinecolor": "#2a3f5f"
            },
            "baxis": {
             "endlinecolor": "#2a3f5f",
             "gridcolor": "white",
             "linecolor": "white",
             "minorgridcolor": "white",
             "startlinecolor": "#2a3f5f"
            },
            "type": "carpet"
           }
          ],
          "choropleth": [
           {
            "colorbar": {
             "outlinewidth": 0,
             "ticks": ""
            },
            "type": "choropleth"
           }
          ],
          "contour": [
           {
            "colorbar": {
             "outlinewidth": 0,
             "ticks": ""
            },
            "colorscale": [
             [
              0,
              "#0d0887"
             ],
             [
              0.1111111111111111,
              "#46039f"
             ],
             [
              0.2222222222222222,
              "#7201a8"
             ],
             [
              0.3333333333333333,
              "#9c179e"
             ],
             [
              0.4444444444444444,
              "#bd3786"
             ],
             [
              0.5555555555555556,
              "#d8576b"
             ],
             [
              0.6666666666666666,
              "#ed7953"
             ],
             [
              0.7777777777777778,
              "#fb9f3a"
             ],
             [
              0.8888888888888888,
              "#fdca26"
             ],
             [
              1,
              "#f0f921"
             ]
            ],
            "type": "contour"
           }
          ],
          "contourcarpet": [
           {
            "colorbar": {
             "outlinewidth": 0,
             "ticks": ""
            },
            "type": "contourcarpet"
           }
          ],
          "heatmap": [
           {
            "colorbar": {
             "outlinewidth": 0,
             "ticks": ""
            },
            "colorscale": [
             [
              0,
              "#0d0887"
             ],
             [
              0.1111111111111111,
              "#46039f"
             ],
             [
              0.2222222222222222,
              "#7201a8"
             ],
             [
              0.3333333333333333,
              "#9c179e"
             ],
             [
              0.4444444444444444,
              "#bd3786"
             ],
             [
              0.5555555555555556,
              "#d8576b"
             ],
             [
              0.6666666666666666,
              "#ed7953"
             ],
             [
              0.7777777777777778,
              "#fb9f3a"
             ],
             [
              0.8888888888888888,
              "#fdca26"
             ],
             [
              1,
              "#f0f921"
             ]
            ],
            "type": "heatmap"
           }
          ],
          "heatmapgl": [
           {
            "colorbar": {
             "outlinewidth": 0,
             "ticks": ""
            },
            "colorscale": [
             [
              0,
              "#0d0887"
             ],
             [
              0.1111111111111111,
              "#46039f"
             ],
             [
              0.2222222222222222,
              "#7201a8"
             ],
             [
              0.3333333333333333,
              "#9c179e"
             ],
             [
              0.4444444444444444,
              "#bd3786"
             ],
             [
              0.5555555555555556,
              "#d8576b"
             ],
             [
              0.6666666666666666,
              "#ed7953"
             ],
             [
              0.7777777777777778,
              "#fb9f3a"
             ],
             [
              0.8888888888888888,
              "#fdca26"
             ],
             [
              1,
              "#f0f921"
             ]
            ],
            "type": "heatmapgl"
           }
          ],
          "histogram": [
           {
            "marker": {
             "colorbar": {
              "outlinewidth": 0,
              "ticks": ""
             }
            },
            "type": "histogram"
           }
          ],
          "histogram2d": [
           {
            "colorbar": {
             "outlinewidth": 0,
             "ticks": ""
            },
            "colorscale": [
             [
              0,
              "#0d0887"
             ],
             [
              0.1111111111111111,
              "#46039f"
             ],
             [
              0.2222222222222222,
              "#7201a8"
             ],
             [
              0.3333333333333333,
              "#9c179e"
             ],
             [
              0.4444444444444444,
              "#bd3786"
             ],
             [
              0.5555555555555556,
              "#d8576b"
             ],
             [
              0.6666666666666666,
              "#ed7953"
             ],
             [
              0.7777777777777778,
              "#fb9f3a"
             ],
             [
              0.8888888888888888,
              "#fdca26"
             ],
             [
              1,
              "#f0f921"
             ]
            ],
            "type": "histogram2d"
           }
          ],
          "histogram2dcontour": [
           {
            "colorbar": {
             "outlinewidth": 0,
             "ticks": ""
            },
            "colorscale": [
             [
              0,
              "#0d0887"
             ],
             [
              0.1111111111111111,
              "#46039f"
             ],
             [
              0.2222222222222222,
              "#7201a8"
             ],
             [
              0.3333333333333333,
              "#9c179e"
             ],
             [
              0.4444444444444444,
              "#bd3786"
             ],
             [
              0.5555555555555556,
              "#d8576b"
             ],
             [
              0.6666666666666666,
              "#ed7953"
             ],
             [
              0.7777777777777778,
              "#fb9f3a"
             ],
             [
              0.8888888888888888,
              "#fdca26"
             ],
             [
              1,
              "#f0f921"
             ]
            ],
            "type": "histogram2dcontour"
           }
          ],
          "mesh3d": [
           {
            "colorbar": {
             "outlinewidth": 0,
             "ticks": ""
            },
            "type": "mesh3d"
           }
          ],
          "parcoords": [
           {
            "line": {
             "colorbar": {
              "outlinewidth": 0,
              "ticks": ""
             }
            },
            "type": "parcoords"
           }
          ],
          "pie": [
           {
            "automargin": true,
            "type": "pie"
           }
          ],
          "scatter": [
           {
            "marker": {
             "colorbar": {
              "outlinewidth": 0,
              "ticks": ""
             }
            },
            "type": "scatter"
           }
          ],
          "scatter3d": [
           {
            "line": {
             "colorbar": {
              "outlinewidth": 0,
              "ticks": ""
             }
            },
            "marker": {
             "colorbar": {
              "outlinewidth": 0,
              "ticks": ""
             }
            },
            "type": "scatter3d"
           }
          ],
          "scattercarpet": [
           {
            "marker": {
             "colorbar": {
              "outlinewidth": 0,
              "ticks": ""
             }
            },
            "type": "scattercarpet"
           }
          ],
          "scattergeo": [
           {
            "marker": {
             "colorbar": {
              "outlinewidth": 0,
              "ticks": ""
             }
            },
            "type": "scattergeo"
           }
          ],
          "scattergl": [
           {
            "marker": {
             "colorbar": {
              "outlinewidth": 0,
              "ticks": ""
             }
            },
            "type": "scattergl"
           }
          ],
          "scattermapbox": [
           {
            "marker": {
             "colorbar": {
              "outlinewidth": 0,
              "ticks": ""
             }
            },
            "type": "scattermapbox"
           }
          ],
          "scatterpolar": [
           {
            "marker": {
             "colorbar": {
              "outlinewidth": 0,
              "ticks": ""
             }
            },
            "type": "scatterpolar"
           }
          ],
          "scatterpolargl": [
           {
            "marker": {
             "colorbar": {
              "outlinewidth": 0,
              "ticks": ""
             }
            },
            "type": "scatterpolargl"
           }
          ],
          "scatterternary": [
           {
            "marker": {
             "colorbar": {
              "outlinewidth": 0,
              "ticks": ""
             }
            },
            "type": "scatterternary"
           }
          ],
          "surface": [
           {
            "colorbar": {
             "outlinewidth": 0,
             "ticks": ""
            },
            "colorscale": [
             [
              0,
              "#0d0887"
             ],
             [
              0.1111111111111111,
              "#46039f"
             ],
             [
              0.2222222222222222,
              "#7201a8"
             ],
             [
              0.3333333333333333,
              "#9c179e"
             ],
             [
              0.4444444444444444,
              "#bd3786"
             ],
             [
              0.5555555555555556,
              "#d8576b"
             ],
             [
              0.6666666666666666,
              "#ed7953"
             ],
             [
              0.7777777777777778,
              "#fb9f3a"
             ],
             [
              0.8888888888888888,
              "#fdca26"
             ],
             [
              1,
              "#f0f921"
             ]
            ],
            "type": "surface"
           }
          ],
          "table": [
           {
            "cells": {
             "fill": {
              "color": "#EBF0F8"
             },
             "line": {
              "color": "white"
             }
            },
            "header": {
             "fill": {
              "color": "#C8D4E3"
             },
             "line": {
              "color": "white"
             }
            },
            "type": "table"
           }
          ]
         },
         "layout": {
          "annotationdefaults": {
           "arrowcolor": "#2a3f5f",
           "arrowhead": 0,
           "arrowwidth": 1
          },
          "coloraxis": {
           "colorbar": {
            "outlinewidth": 0,
            "ticks": ""
           }
          },
          "colorscale": {
           "diverging": [
            [
             0,
             "#8e0152"
            ],
            [
             0.1,
             "#c51b7d"
            ],
            [
             0.2,
             "#de77ae"
            ],
            [
             0.3,
             "#f1b6da"
            ],
            [
             0.4,
             "#fde0ef"
            ],
            [
             0.5,
             "#f7f7f7"
            ],
            [
             0.6,
             "#e6f5d0"
            ],
            [
             0.7,
             "#b8e186"
            ],
            [
             0.8,
             "#7fbc41"
            ],
            [
             0.9,
             "#4d9221"
            ],
            [
             1,
             "#276419"
            ]
           ],
           "sequential": [
            [
             0,
             "#0d0887"
            ],
            [
             0.1111111111111111,
             "#46039f"
            ],
            [
             0.2222222222222222,
             "#7201a8"
            ],
            [
             0.3333333333333333,
             "#9c179e"
            ],
            [
             0.4444444444444444,
             "#bd3786"
            ],
            [
             0.5555555555555556,
             "#d8576b"
            ],
            [
             0.6666666666666666,
             "#ed7953"
            ],
            [
             0.7777777777777778,
             "#fb9f3a"
            ],
            [
             0.8888888888888888,
             "#fdca26"
            ],
            [
             1,
             "#f0f921"
            ]
           ],
           "sequentialminus": [
            [
             0,
             "#0d0887"
            ],
            [
             0.1111111111111111,
             "#46039f"
            ],
            [
             0.2222222222222222,
             "#7201a8"
            ],
            [
             0.3333333333333333,
             "#9c179e"
            ],
            [
             0.4444444444444444,
             "#bd3786"
            ],
            [
             0.5555555555555556,
             "#d8576b"
            ],
            [
             0.6666666666666666,
             "#ed7953"
            ],
            [
             0.7777777777777778,
             "#fb9f3a"
            ],
            [
             0.8888888888888888,
             "#fdca26"
            ],
            [
             1,
             "#f0f921"
            ]
           ]
          },
          "colorway": [
           "#636efa",
           "#EF553B",
           "#00cc96",
           "#ab63fa",
           "#FFA15A",
           "#19d3f3",
           "#FF6692",
           "#B6E880",
           "#FF97FF",
           "#FECB52"
          ],
          "font": {
           "color": "#2a3f5f"
          },
          "geo": {
           "bgcolor": "white",
           "lakecolor": "white",
           "landcolor": "#E5ECF6",
           "showlakes": true,
           "showland": true,
           "subunitcolor": "white"
          },
          "hoverlabel": {
           "align": "left"
          },
          "hovermode": "closest",
          "mapbox": {
           "style": "light"
          },
          "paper_bgcolor": "white",
          "plot_bgcolor": "#E5ECF6",
          "polar": {
           "angularaxis": {
            "gridcolor": "white",
            "linecolor": "white",
            "ticks": ""
           },
           "bgcolor": "#E5ECF6",
           "radialaxis": {
            "gridcolor": "white",
            "linecolor": "white",
            "ticks": ""
           }
          },
          "scene": {
           "xaxis": {
            "backgroundcolor": "#E5ECF6",
            "gridcolor": "white",
            "gridwidth": 2,
            "linecolor": "white",
            "showbackground": true,
            "ticks": "",
            "zerolinecolor": "white"
           },
           "yaxis": {
            "backgroundcolor": "#E5ECF6",
            "gridcolor": "white",
            "gridwidth": 2,
            "linecolor": "white",
            "showbackground": true,
            "ticks": "",
            "zerolinecolor": "white"
           },
           "zaxis": {
            "backgroundcolor": "#E5ECF6",
            "gridcolor": "white",
            "gridwidth": 2,
            "linecolor": "white",
            "showbackground": true,
            "ticks": "",
            "zerolinecolor": "white"
           }
          },
          "shapedefaults": {
           "line": {
            "color": "#2a3f5f"
           }
          },
          "ternary": {
           "aaxis": {
            "gridcolor": "white",
            "linecolor": "white",
            "ticks": ""
           },
           "baxis": {
            "gridcolor": "white",
            "linecolor": "white",
            "ticks": ""
           },
           "bgcolor": "#E5ECF6",
           "caxis": {
            "gridcolor": "white",
            "linecolor": "white",
            "ticks": ""
           }
          },
          "title": {
           "x": 0.05
          },
          "xaxis": {
           "automargin": true,
           "gridcolor": "white",
           "linecolor": "white",
           "ticks": "",
           "title": {
            "standoff": 15
           },
           "zerolinecolor": "white",
           "zerolinewidth": 2
          },
          "yaxis": {
           "automargin": true,
           "gridcolor": "white",
           "linecolor": "white",
           "ticks": "",
           "title": {
            "standoff": 15
           },
           "zerolinecolor": "white",
           "zerolinewidth": 2
          }
         }
        },
        "title": {
         "text": "Correlação entre as variáveis The Beatles"
        },
        "xaxis": {
         "nticks": 36
        }
       }
      },
      "text/html": [
       "<div>\n",
       "        \n",
       "        \n",
       "            <div id=\"b5e46d79-516a-4c34-bfb0-1dc0683c4970\" class=\"plotly-graph-div\" style=\"height:525px; width:100%;\"></div>\n",
       "            <script type=\"text/javascript\">\n",
       "                require([\"plotly\"], function(Plotly) {\n",
       "                    window.PLOTLYENV=window.PLOTLYENV || {};\n",
       "                    \n",
       "                if (document.getElementById(\"b5e46d79-516a-4c34-bfb0-1dc0683c4970\")) {\n",
       "                    Plotly.newPlot(\n",
       "                        'b5e46d79-516a-4c34-bfb0-1dc0683c4970',\n",
       "                        [{\"colorscale\": [[0.0, \"green\"], [0.5, \"white\"], [1.0, \"black\"]], \"type\": \"heatmap\", \"x\": [\"acousticness\", \"danceability\", \"energy\", \"instrumentalness\", \"liveness\", \"loudness\", \"speechiness\", \"tempo\", \"valence\", \"popularity\"], \"y\": [\"acousticness\", \"danceability\", \"energy\", \"instrumentalness\", \"liveness\", \"loudness\", \"speechiness\", \"tempo\", \"valence\", \"popularity\"], \"z\": [[1.0, 0.06057893632441521, -0.6387972192159631, 0.10228096757699838, -0.10898805721772795, -0.5579422197320656, 0.32753595999439056, -0.08718765358047599, -0.19735342738726325, -0.28578198747527356], [0.06057893632441521, 1.0, -0.08098378951245018, -0.06595019261409028, -0.19580456038767427, -0.10223282490152051, 0.24803545068662908, -0.08993318743555602, 0.40466674762632665, -0.15272343363770005], [-0.6387972192159631, -0.08098378951245018, 1.0, -0.06916013776189836, 0.2860199727829115, 0.7383046587740504, -0.2865687445860107, 0.14544669341824243, 0.3650133958307924, 0.16020863438247832], [0.10228096757699838, -0.06595019261409028, -0.06916013776189836, 1.0, -0.006668486293812324, -0.12356556678447762, -0.07165548829954017, -0.020134424554044225, -0.3203053233551892, -0.042284464635784495], [-0.10898805721772795, -0.19580456038767427, 0.2860199727829115, -0.006668486293812324, 1.0, 0.07618199885571436, 0.07312243205968964, -0.10697524081611606, 0.022190376222873207, -0.07632239593582872], [-0.5579422197320656, -0.10223282490152051, 0.7383046587740504, -0.12356556678447762, 0.07618199885571436, 1.0, -0.5606636265148438, 0.1904448574599577, 0.19793513490339962, 0.3475504927838518], [0.32753595999439056, 0.24803545068662908, -0.2865687445860107, -0.07165548829954017, 0.07312243205968964, -0.5606636265148438, 1.0, -0.12301327682355426, 0.13277624519807624, -0.37691868292216646], [-0.08718765358047599, -0.08993318743555602, 0.14544669341824243, -0.020134424554044225, -0.10697524081611606, 0.1904448574599577, -0.12301327682355426, 1.0, 0.06646047328481898, 0.09610755784610718], [-0.19735342738726325, 0.40466674762632665, 0.3650133958307924, -0.3203053233551892, 0.022190376222873207, 0.19793513490339962, 0.13277624519807624, 0.06646047328481898, 1.0, -0.014056506619693536], [-0.28578198747527356, -0.15272343363770005, 0.16020863438247832, -0.042284464635784495, -0.07632239593582872, 0.3475504927838518, -0.37691868292216646, 0.09610755784610718, -0.014056506619693536, 1.0]]}],\n",
       "                        {\"template\": {\"data\": {\"bar\": [{\"error_x\": {\"color\": \"#2a3f5f\"}, \"error_y\": {\"color\": \"#2a3f5f\"}, \"marker\": {\"line\": {\"color\": \"#E5ECF6\", \"width\": 0.5}}, \"type\": \"bar\"}], \"barpolar\": [{\"marker\": {\"line\": {\"color\": \"#E5ECF6\", \"width\": 0.5}}, \"type\": \"barpolar\"}], \"carpet\": [{\"aaxis\": {\"endlinecolor\": \"#2a3f5f\", \"gridcolor\": \"white\", \"linecolor\": \"white\", \"minorgridcolor\": \"white\", \"startlinecolor\": \"#2a3f5f\"}, \"baxis\": {\"endlinecolor\": \"#2a3f5f\", \"gridcolor\": \"white\", \"linecolor\": \"white\", \"minorgridcolor\": \"white\", \"startlinecolor\": \"#2a3f5f\"}, \"type\": \"carpet\"}], \"choropleth\": [{\"colorbar\": {\"outlinewidth\": 0, \"ticks\": \"\"}, \"type\": \"choropleth\"}], \"contour\": [{\"colorbar\": {\"outlinewidth\": 0, \"ticks\": \"\"}, \"colorscale\": [[0.0, \"#0d0887\"], [0.1111111111111111, \"#46039f\"], [0.2222222222222222, \"#7201a8\"], [0.3333333333333333, \"#9c179e\"], [0.4444444444444444, \"#bd3786\"], [0.5555555555555556, \"#d8576b\"], [0.6666666666666666, \"#ed7953\"], [0.7777777777777778, \"#fb9f3a\"], [0.8888888888888888, \"#fdca26\"], [1.0, \"#f0f921\"]], \"type\": \"contour\"}], \"contourcarpet\": [{\"colorbar\": {\"outlinewidth\": 0, \"ticks\": \"\"}, \"type\": \"contourcarpet\"}], \"heatmap\": [{\"colorbar\": {\"outlinewidth\": 0, \"ticks\": \"\"}, \"colorscale\": [[0.0, \"#0d0887\"], [0.1111111111111111, \"#46039f\"], [0.2222222222222222, \"#7201a8\"], [0.3333333333333333, \"#9c179e\"], [0.4444444444444444, \"#bd3786\"], [0.5555555555555556, \"#d8576b\"], [0.6666666666666666, \"#ed7953\"], [0.7777777777777778, \"#fb9f3a\"], [0.8888888888888888, \"#fdca26\"], [1.0, \"#f0f921\"]], \"type\": \"heatmap\"}], \"heatmapgl\": [{\"colorbar\": {\"outlinewidth\": 0, \"ticks\": \"\"}, \"colorscale\": [[0.0, \"#0d0887\"], [0.1111111111111111, \"#46039f\"], [0.2222222222222222, \"#7201a8\"], [0.3333333333333333, \"#9c179e\"], [0.4444444444444444, \"#bd3786\"], [0.5555555555555556, \"#d8576b\"], [0.6666666666666666, \"#ed7953\"], [0.7777777777777778, \"#fb9f3a\"], [0.8888888888888888, \"#fdca26\"], [1.0, \"#f0f921\"]], \"type\": \"heatmapgl\"}], \"histogram\": [{\"marker\": {\"colorbar\": {\"outlinewidth\": 0, \"ticks\": \"\"}}, \"type\": \"histogram\"}], \"histogram2d\": [{\"colorbar\": {\"outlinewidth\": 0, \"ticks\": \"\"}, \"colorscale\": [[0.0, \"#0d0887\"], [0.1111111111111111, \"#46039f\"], [0.2222222222222222, \"#7201a8\"], [0.3333333333333333, \"#9c179e\"], [0.4444444444444444, \"#bd3786\"], [0.5555555555555556, \"#d8576b\"], [0.6666666666666666, \"#ed7953\"], [0.7777777777777778, \"#fb9f3a\"], [0.8888888888888888, \"#fdca26\"], [1.0, \"#f0f921\"]], \"type\": \"histogram2d\"}], \"histogram2dcontour\": [{\"colorbar\": {\"outlinewidth\": 0, \"ticks\": \"\"}, \"colorscale\": [[0.0, \"#0d0887\"], [0.1111111111111111, \"#46039f\"], [0.2222222222222222, \"#7201a8\"], [0.3333333333333333, \"#9c179e\"], [0.4444444444444444, \"#bd3786\"], [0.5555555555555556, \"#d8576b\"], [0.6666666666666666, \"#ed7953\"], [0.7777777777777778, \"#fb9f3a\"], [0.8888888888888888, \"#fdca26\"], [1.0, \"#f0f921\"]], \"type\": \"histogram2dcontour\"}], \"mesh3d\": [{\"colorbar\": {\"outlinewidth\": 0, \"ticks\": \"\"}, \"type\": \"mesh3d\"}], \"parcoords\": [{\"line\": {\"colorbar\": {\"outlinewidth\": 0, \"ticks\": \"\"}}, \"type\": \"parcoords\"}], \"pie\": [{\"automargin\": true, \"type\": \"pie\"}], \"scatter\": [{\"marker\": {\"colorbar\": {\"outlinewidth\": 0, \"ticks\": \"\"}}, \"type\": \"scatter\"}], \"scatter3d\": [{\"line\": {\"colorbar\": {\"outlinewidth\": 0, \"ticks\": \"\"}}, \"marker\": {\"colorbar\": {\"outlinewidth\": 0, \"ticks\": \"\"}}, \"type\": \"scatter3d\"}], \"scattercarpet\": [{\"marker\": {\"colorbar\": {\"outlinewidth\": 0, \"ticks\": \"\"}}, \"type\": \"scattercarpet\"}], \"scattergeo\": [{\"marker\": {\"colorbar\": {\"outlinewidth\": 0, \"ticks\": \"\"}}, \"type\": \"scattergeo\"}], \"scattergl\": [{\"marker\": {\"colorbar\": {\"outlinewidth\": 0, \"ticks\": \"\"}}, \"type\": \"scattergl\"}], \"scattermapbox\": [{\"marker\": {\"colorbar\": {\"outlinewidth\": 0, \"ticks\": \"\"}}, \"type\": \"scattermapbox\"}], \"scatterpolar\": [{\"marker\": {\"colorbar\": {\"outlinewidth\": 0, \"ticks\": \"\"}}, \"type\": \"scatterpolar\"}], \"scatterpolargl\": [{\"marker\": {\"colorbar\": {\"outlinewidth\": 0, \"ticks\": \"\"}}, \"type\": \"scatterpolargl\"}], \"scatterternary\": [{\"marker\": {\"colorbar\": {\"outlinewidth\": 0, \"ticks\": \"\"}}, \"type\": \"scatterternary\"}], \"surface\": [{\"colorbar\": {\"outlinewidth\": 0, \"ticks\": \"\"}, \"colorscale\": [[0.0, \"#0d0887\"], [0.1111111111111111, \"#46039f\"], [0.2222222222222222, \"#7201a8\"], [0.3333333333333333, \"#9c179e\"], [0.4444444444444444, \"#bd3786\"], [0.5555555555555556, \"#d8576b\"], [0.6666666666666666, \"#ed7953\"], [0.7777777777777778, \"#fb9f3a\"], [0.8888888888888888, \"#fdca26\"], [1.0, \"#f0f921\"]], \"type\": \"surface\"}], \"table\": [{\"cells\": {\"fill\": {\"color\": \"#EBF0F8\"}, \"line\": {\"color\": \"white\"}}, \"header\": {\"fill\": {\"color\": \"#C8D4E3\"}, \"line\": {\"color\": \"white\"}}, \"type\": \"table\"}]}, \"layout\": {\"annotationdefaults\": {\"arrowcolor\": \"#2a3f5f\", \"arrowhead\": 0, \"arrowwidth\": 1}, \"coloraxis\": {\"colorbar\": {\"outlinewidth\": 0, \"ticks\": \"\"}}, \"colorscale\": {\"diverging\": [[0, \"#8e0152\"], [0.1, \"#c51b7d\"], [0.2, \"#de77ae\"], [0.3, \"#f1b6da\"], [0.4, \"#fde0ef\"], [0.5, \"#f7f7f7\"], [0.6, \"#e6f5d0\"], [0.7, \"#b8e186\"], [0.8, \"#7fbc41\"], [0.9, \"#4d9221\"], [1, \"#276419\"]], \"sequential\": [[0.0, \"#0d0887\"], [0.1111111111111111, \"#46039f\"], [0.2222222222222222, \"#7201a8\"], [0.3333333333333333, \"#9c179e\"], [0.4444444444444444, \"#bd3786\"], [0.5555555555555556, \"#d8576b\"], [0.6666666666666666, \"#ed7953\"], [0.7777777777777778, \"#fb9f3a\"], [0.8888888888888888, \"#fdca26\"], [1.0, \"#f0f921\"]], \"sequentialminus\": [[0.0, \"#0d0887\"], [0.1111111111111111, \"#46039f\"], [0.2222222222222222, \"#7201a8\"], [0.3333333333333333, \"#9c179e\"], [0.4444444444444444, \"#bd3786\"], [0.5555555555555556, \"#d8576b\"], [0.6666666666666666, \"#ed7953\"], [0.7777777777777778, \"#fb9f3a\"], [0.8888888888888888, \"#fdca26\"], [1.0, \"#f0f921\"]]}, \"colorway\": [\"#636efa\", \"#EF553B\", \"#00cc96\", \"#ab63fa\", \"#FFA15A\", \"#19d3f3\", \"#FF6692\", \"#B6E880\", \"#FF97FF\", \"#FECB52\"], \"font\": {\"color\": \"#2a3f5f\"}, \"geo\": {\"bgcolor\": \"white\", \"lakecolor\": \"white\", \"landcolor\": \"#E5ECF6\", \"showlakes\": true, \"showland\": true, \"subunitcolor\": \"white\"}, \"hoverlabel\": {\"align\": \"left\"}, \"hovermode\": \"closest\", \"mapbox\": {\"style\": \"light\"}, \"paper_bgcolor\": \"white\", \"plot_bgcolor\": \"#E5ECF6\", \"polar\": {\"angularaxis\": {\"gridcolor\": \"white\", \"linecolor\": \"white\", \"ticks\": \"\"}, \"bgcolor\": \"#E5ECF6\", \"radialaxis\": {\"gridcolor\": \"white\", \"linecolor\": \"white\", \"ticks\": \"\"}}, \"scene\": {\"xaxis\": {\"backgroundcolor\": \"#E5ECF6\", \"gridcolor\": \"white\", \"gridwidth\": 2, \"linecolor\": \"white\", \"showbackground\": true, \"ticks\": \"\", \"zerolinecolor\": \"white\"}, \"yaxis\": {\"backgroundcolor\": \"#E5ECF6\", \"gridcolor\": \"white\", \"gridwidth\": 2, \"linecolor\": \"white\", \"showbackground\": true, \"ticks\": \"\", \"zerolinecolor\": \"white\"}, \"zaxis\": {\"backgroundcolor\": \"#E5ECF6\", \"gridcolor\": \"white\", \"gridwidth\": 2, \"linecolor\": \"white\", \"showbackground\": true, \"ticks\": \"\", \"zerolinecolor\": \"white\"}}, \"shapedefaults\": {\"line\": {\"color\": \"#2a3f5f\"}}, \"ternary\": {\"aaxis\": {\"gridcolor\": \"white\", \"linecolor\": \"white\", \"ticks\": \"\"}, \"baxis\": {\"gridcolor\": \"white\", \"linecolor\": \"white\", \"ticks\": \"\"}, \"bgcolor\": \"#E5ECF6\", \"caxis\": {\"gridcolor\": \"white\", \"linecolor\": \"white\", \"ticks\": \"\"}}, \"title\": {\"x\": 0.05}, \"xaxis\": {\"automargin\": true, \"gridcolor\": \"white\", \"linecolor\": \"white\", \"ticks\": \"\", \"title\": {\"standoff\": 15}, \"zerolinecolor\": \"white\", \"zerolinewidth\": 2}, \"yaxis\": {\"automargin\": true, \"gridcolor\": \"white\", \"linecolor\": \"white\", \"ticks\": \"\", \"title\": {\"standoff\": 15}, \"zerolinecolor\": \"white\", \"zerolinewidth\": 2}}}, \"title\": {\"text\": \"Correla\\u00e7\\u00e3o entre as vari\\u00e1veis The Beatles\"}, \"xaxis\": {\"nticks\": 36}},\n",
       "                        {\"responsive\": true}\n",
       "                    ).then(function(){\n",
       "                            \n",
       "var gd = document.getElementById('b5e46d79-516a-4c34-bfb0-1dc0683c4970');\n",
       "var x = new MutationObserver(function (mutations, observer) {{\n",
       "        var display = window.getComputedStyle(gd).display;\n",
       "        if (!display || display === 'none') {{\n",
       "            console.log([gd, 'removed!']);\n",
       "            Plotly.purge(gd);\n",
       "            observer.disconnect();\n",
       "        }}\n",
       "}});\n",
       "\n",
       "// Listen for the removal of the full notebook cells\n",
       "var notebookContainer = gd.closest('#notebook-container');\n",
       "if (notebookContainer) {{\n",
       "    x.observe(notebookContainer, {childList: true});\n",
       "}}\n",
       "\n",
       "// Listen for the clearing of the current output cell\n",
       "var outputEl = gd.closest('.output');\n",
       "if (outputEl) {{\n",
       "    x.observe(outputEl, {childList: true});\n",
       "}}\n",
       "\n",
       "                        })\n",
       "                };\n",
       "                });\n",
       "            </script>\n",
       "        </div>"
      ]
     },
     "metadata": {},
     "output_type": "display_data"
    }
   ],
   "source": [
    "variaveis=['acousticness',\n",
    "       'danceability', 'energy', 'instrumentalness', 'liveness', 'loudness',\n",
    "       'speechiness', 'tempo', 'valence', 'popularity']\n",
    "\n",
    "c1 = dados_aux[dados_aux[\"artist\"]==artista1][variaveis].corr()\n",
    "c2 = dados_aux[dados_aux[\"artist\"]==artista2][variaveis].corr()\n",
    "\n",
    "fig = go.Figure(data=go.Heatmap(\n",
    "        z=c1,\n",
    "        x=c1.columns,\n",
    "        y=c1.index,\n",
    "        colorscale=[\"green\",\"white\",\"black\"]))\n",
    "\n",
    "fig.update_layout(\n",
    "    title='Correlação entre as variáveis '+artista1,\n",
    "    xaxis_nticks=36)\n",
    "\n",
    "fig.show()\n",
    "\n",
    "fig = go.Figure(data=go.Heatmap(\n",
    "        z=c2,\n",
    "        x=c2.columns,\n",
    "        y=c2.index,\n",
    "        colorscale=[\"green\",\"white\",\"black\"]))\n",
    "\n",
    "fig.update_layout(\n",
    "    title='Correlação entre as variáveis '+artista2,\n",
    "    xaxis_nticks=36)\n",
    "\n",
    "fig.show()"
   ]
  },
  {
   "cell_type": "markdown",
   "metadata": {},
   "source": [
    "### Gráfico Radar"
   ]
  },
  {
   "cell_type": "code",
   "execution_count": 52,
   "metadata": {
    "ExecuteTime": {
     "end_time": "2020-07-17T22:47:03.873487Z",
     "start_time": "2020-07-17T22:47:03.739363Z"
    }
   },
   "outputs": [
    {
     "data": {
      "application/vnd.plotly.v1+json": {
       "config": {
        "plotlyServerURL": "https://plot.ly"
       },
       "data": [
        {
         "fill": "toself",
         "line": {
          "color": "green"
         },
         "name": "Queen",
         "r": [
          0.8556819664978143,
          0.1261368145934574,
          -0.31642678491367476,
          -0.13863225359044934,
          0.8556819664978143
         ],
         "theta": [
          "danceability",
          "energy",
          "instrumentalness",
          "popularity"
         ],
         "type": "scatterpolar"
        },
        {
         "fill": "toself",
         "line": {
          "color": "gray"
         },
         "name": "The Beatles",
         "r": [
          -0.1812032399642428,
          -0.026711325443322574,
          0.06700802504054272,
          0.02935741840738944,
          -0.1812032399642428
         ],
         "theta": [
          "danceability",
          "energy",
          "instrumentalness",
          "popularity"
         ],
         "type": "scatterpolar"
        }
       ],
       "layout": {
        "polar": {
         "radialaxis": {
          "range": [
           -1,
           1
          ],
          "visible": true
         }
        },
        "showlegend": true,
        "template": {
         "data": {
          "bar": [
           {
            "error_x": {
             "color": "#2a3f5f"
            },
            "error_y": {
             "color": "#2a3f5f"
            },
            "marker": {
             "line": {
              "color": "#E5ECF6",
              "width": 0.5
             }
            },
            "type": "bar"
           }
          ],
          "barpolar": [
           {
            "marker": {
             "line": {
              "color": "#E5ECF6",
              "width": 0.5
             }
            },
            "type": "barpolar"
           }
          ],
          "carpet": [
           {
            "aaxis": {
             "endlinecolor": "#2a3f5f",
             "gridcolor": "white",
             "linecolor": "white",
             "minorgridcolor": "white",
             "startlinecolor": "#2a3f5f"
            },
            "baxis": {
             "endlinecolor": "#2a3f5f",
             "gridcolor": "white",
             "linecolor": "white",
             "minorgridcolor": "white",
             "startlinecolor": "#2a3f5f"
            },
            "type": "carpet"
           }
          ],
          "choropleth": [
           {
            "colorbar": {
             "outlinewidth": 0,
             "ticks": ""
            },
            "type": "choropleth"
           }
          ],
          "contour": [
           {
            "colorbar": {
             "outlinewidth": 0,
             "ticks": ""
            },
            "colorscale": [
             [
              0,
              "#0d0887"
             ],
             [
              0.1111111111111111,
              "#46039f"
             ],
             [
              0.2222222222222222,
              "#7201a8"
             ],
             [
              0.3333333333333333,
              "#9c179e"
             ],
             [
              0.4444444444444444,
              "#bd3786"
             ],
             [
              0.5555555555555556,
              "#d8576b"
             ],
             [
              0.6666666666666666,
              "#ed7953"
             ],
             [
              0.7777777777777778,
              "#fb9f3a"
             ],
             [
              0.8888888888888888,
              "#fdca26"
             ],
             [
              1,
              "#f0f921"
             ]
            ],
            "type": "contour"
           }
          ],
          "contourcarpet": [
           {
            "colorbar": {
             "outlinewidth": 0,
             "ticks": ""
            },
            "type": "contourcarpet"
           }
          ],
          "heatmap": [
           {
            "colorbar": {
             "outlinewidth": 0,
             "ticks": ""
            },
            "colorscale": [
             [
              0,
              "#0d0887"
             ],
             [
              0.1111111111111111,
              "#46039f"
             ],
             [
              0.2222222222222222,
              "#7201a8"
             ],
             [
              0.3333333333333333,
              "#9c179e"
             ],
             [
              0.4444444444444444,
              "#bd3786"
             ],
             [
              0.5555555555555556,
              "#d8576b"
             ],
             [
              0.6666666666666666,
              "#ed7953"
             ],
             [
              0.7777777777777778,
              "#fb9f3a"
             ],
             [
              0.8888888888888888,
              "#fdca26"
             ],
             [
              1,
              "#f0f921"
             ]
            ],
            "type": "heatmap"
           }
          ],
          "heatmapgl": [
           {
            "colorbar": {
             "outlinewidth": 0,
             "ticks": ""
            },
            "colorscale": [
             [
              0,
              "#0d0887"
             ],
             [
              0.1111111111111111,
              "#46039f"
             ],
             [
              0.2222222222222222,
              "#7201a8"
             ],
             [
              0.3333333333333333,
              "#9c179e"
             ],
             [
              0.4444444444444444,
              "#bd3786"
             ],
             [
              0.5555555555555556,
              "#d8576b"
             ],
             [
              0.6666666666666666,
              "#ed7953"
             ],
             [
              0.7777777777777778,
              "#fb9f3a"
             ],
             [
              0.8888888888888888,
              "#fdca26"
             ],
             [
              1,
              "#f0f921"
             ]
            ],
            "type": "heatmapgl"
           }
          ],
          "histogram": [
           {
            "marker": {
             "colorbar": {
              "outlinewidth": 0,
              "ticks": ""
             }
            },
            "type": "histogram"
           }
          ],
          "histogram2d": [
           {
            "colorbar": {
             "outlinewidth": 0,
             "ticks": ""
            },
            "colorscale": [
             [
              0,
              "#0d0887"
             ],
             [
              0.1111111111111111,
              "#46039f"
             ],
             [
              0.2222222222222222,
              "#7201a8"
             ],
             [
              0.3333333333333333,
              "#9c179e"
             ],
             [
              0.4444444444444444,
              "#bd3786"
             ],
             [
              0.5555555555555556,
              "#d8576b"
             ],
             [
              0.6666666666666666,
              "#ed7953"
             ],
             [
              0.7777777777777778,
              "#fb9f3a"
             ],
             [
              0.8888888888888888,
              "#fdca26"
             ],
             [
              1,
              "#f0f921"
             ]
            ],
            "type": "histogram2d"
           }
          ],
          "histogram2dcontour": [
           {
            "colorbar": {
             "outlinewidth": 0,
             "ticks": ""
            },
            "colorscale": [
             [
              0,
              "#0d0887"
             ],
             [
              0.1111111111111111,
              "#46039f"
             ],
             [
              0.2222222222222222,
              "#7201a8"
             ],
             [
              0.3333333333333333,
              "#9c179e"
             ],
             [
              0.4444444444444444,
              "#bd3786"
             ],
             [
              0.5555555555555556,
              "#d8576b"
             ],
             [
              0.6666666666666666,
              "#ed7953"
             ],
             [
              0.7777777777777778,
              "#fb9f3a"
             ],
             [
              0.8888888888888888,
              "#fdca26"
             ],
             [
              1,
              "#f0f921"
             ]
            ],
            "type": "histogram2dcontour"
           }
          ],
          "mesh3d": [
           {
            "colorbar": {
             "outlinewidth": 0,
             "ticks": ""
            },
            "type": "mesh3d"
           }
          ],
          "parcoords": [
           {
            "line": {
             "colorbar": {
              "outlinewidth": 0,
              "ticks": ""
             }
            },
            "type": "parcoords"
           }
          ],
          "pie": [
           {
            "automargin": true,
            "type": "pie"
           }
          ],
          "scatter": [
           {
            "marker": {
             "colorbar": {
              "outlinewidth": 0,
              "ticks": ""
             }
            },
            "type": "scatter"
           }
          ],
          "scatter3d": [
           {
            "line": {
             "colorbar": {
              "outlinewidth": 0,
              "ticks": ""
             }
            },
            "marker": {
             "colorbar": {
              "outlinewidth": 0,
              "ticks": ""
             }
            },
            "type": "scatter3d"
           }
          ],
          "scattercarpet": [
           {
            "marker": {
             "colorbar": {
              "outlinewidth": 0,
              "ticks": ""
             }
            },
            "type": "scattercarpet"
           }
          ],
          "scattergeo": [
           {
            "marker": {
             "colorbar": {
              "outlinewidth": 0,
              "ticks": ""
             }
            },
            "type": "scattergeo"
           }
          ],
          "scattergl": [
           {
            "marker": {
             "colorbar": {
              "outlinewidth": 0,
              "ticks": ""
             }
            },
            "type": "scattergl"
           }
          ],
          "scattermapbox": [
           {
            "marker": {
             "colorbar": {
              "outlinewidth": 0,
              "ticks": ""
             }
            },
            "type": "scattermapbox"
           }
          ],
          "scatterpolar": [
           {
            "marker": {
             "colorbar": {
              "outlinewidth": 0,
              "ticks": ""
             }
            },
            "type": "scatterpolar"
           }
          ],
          "scatterpolargl": [
           {
            "marker": {
             "colorbar": {
              "outlinewidth": 0,
              "ticks": ""
             }
            },
            "type": "scatterpolargl"
           }
          ],
          "scatterternary": [
           {
            "marker": {
             "colorbar": {
              "outlinewidth": 0,
              "ticks": ""
             }
            },
            "type": "scatterternary"
           }
          ],
          "surface": [
           {
            "colorbar": {
             "outlinewidth": 0,
             "ticks": ""
            },
            "colorscale": [
             [
              0,
              "#0d0887"
             ],
             [
              0.1111111111111111,
              "#46039f"
             ],
             [
              0.2222222222222222,
              "#7201a8"
             ],
             [
              0.3333333333333333,
              "#9c179e"
             ],
             [
              0.4444444444444444,
              "#bd3786"
             ],
             [
              0.5555555555555556,
              "#d8576b"
             ],
             [
              0.6666666666666666,
              "#ed7953"
             ],
             [
              0.7777777777777778,
              "#fb9f3a"
             ],
             [
              0.8888888888888888,
              "#fdca26"
             ],
             [
              1,
              "#f0f921"
             ]
            ],
            "type": "surface"
           }
          ],
          "table": [
           {
            "cells": {
             "fill": {
              "color": "#EBF0F8"
             },
             "line": {
              "color": "white"
             }
            },
            "header": {
             "fill": {
              "color": "#C8D4E3"
             },
             "line": {
              "color": "white"
             }
            },
            "type": "table"
           }
          ]
         },
         "layout": {
          "annotationdefaults": {
           "arrowcolor": "#2a3f5f",
           "arrowhead": 0,
           "arrowwidth": 1
          },
          "coloraxis": {
           "colorbar": {
            "outlinewidth": 0,
            "ticks": ""
           }
          },
          "colorscale": {
           "diverging": [
            [
             0,
             "#8e0152"
            ],
            [
             0.1,
             "#c51b7d"
            ],
            [
             0.2,
             "#de77ae"
            ],
            [
             0.3,
             "#f1b6da"
            ],
            [
             0.4,
             "#fde0ef"
            ],
            [
             0.5,
             "#f7f7f7"
            ],
            [
             0.6,
             "#e6f5d0"
            ],
            [
             0.7,
             "#b8e186"
            ],
            [
             0.8,
             "#7fbc41"
            ],
            [
             0.9,
             "#4d9221"
            ],
            [
             1,
             "#276419"
            ]
           ],
           "sequential": [
            [
             0,
             "#0d0887"
            ],
            [
             0.1111111111111111,
             "#46039f"
            ],
            [
             0.2222222222222222,
             "#7201a8"
            ],
            [
             0.3333333333333333,
             "#9c179e"
            ],
            [
             0.4444444444444444,
             "#bd3786"
            ],
            [
             0.5555555555555556,
             "#d8576b"
            ],
            [
             0.6666666666666666,
             "#ed7953"
            ],
            [
             0.7777777777777778,
             "#fb9f3a"
            ],
            [
             0.8888888888888888,
             "#fdca26"
            ],
            [
             1,
             "#f0f921"
            ]
           ],
           "sequentialminus": [
            [
             0,
             "#0d0887"
            ],
            [
             0.1111111111111111,
             "#46039f"
            ],
            [
             0.2222222222222222,
             "#7201a8"
            ],
            [
             0.3333333333333333,
             "#9c179e"
            ],
            [
             0.4444444444444444,
             "#bd3786"
            ],
            [
             0.5555555555555556,
             "#d8576b"
            ],
            [
             0.6666666666666666,
             "#ed7953"
            ],
            [
             0.7777777777777778,
             "#fb9f3a"
            ],
            [
             0.8888888888888888,
             "#fdca26"
            ],
            [
             1,
             "#f0f921"
            ]
           ]
          },
          "colorway": [
           "#636efa",
           "#EF553B",
           "#00cc96",
           "#ab63fa",
           "#FFA15A",
           "#19d3f3",
           "#FF6692",
           "#B6E880",
           "#FF97FF",
           "#FECB52"
          ],
          "font": {
           "color": "#2a3f5f"
          },
          "geo": {
           "bgcolor": "white",
           "lakecolor": "white",
           "landcolor": "#E5ECF6",
           "showlakes": true,
           "showland": true,
           "subunitcolor": "white"
          },
          "hoverlabel": {
           "align": "left"
          },
          "hovermode": "closest",
          "mapbox": {
           "style": "light"
          },
          "paper_bgcolor": "white",
          "plot_bgcolor": "#E5ECF6",
          "polar": {
           "angularaxis": {
            "gridcolor": "white",
            "linecolor": "white",
            "ticks": ""
           },
           "bgcolor": "#E5ECF6",
           "radialaxis": {
            "gridcolor": "white",
            "linecolor": "white",
            "ticks": ""
           }
          },
          "scene": {
           "xaxis": {
            "backgroundcolor": "#E5ECF6",
            "gridcolor": "white",
            "gridwidth": 2,
            "linecolor": "white",
            "showbackground": true,
            "ticks": "",
            "zerolinecolor": "white"
           },
           "yaxis": {
            "backgroundcolor": "#E5ECF6",
            "gridcolor": "white",
            "gridwidth": 2,
            "linecolor": "white",
            "showbackground": true,
            "ticks": "",
            "zerolinecolor": "white"
           },
           "zaxis": {
            "backgroundcolor": "#E5ECF6",
            "gridcolor": "white",
            "gridwidth": 2,
            "linecolor": "white",
            "showbackground": true,
            "ticks": "",
            "zerolinecolor": "white"
           }
          },
          "shapedefaults": {
           "line": {
            "color": "#2a3f5f"
           }
          },
          "ternary": {
           "aaxis": {
            "gridcolor": "white",
            "linecolor": "white",
            "ticks": ""
           },
           "baxis": {
            "gridcolor": "white",
            "linecolor": "white",
            "ticks": ""
           },
           "bgcolor": "#E5ECF6",
           "caxis": {
            "gridcolor": "white",
            "linecolor": "white",
            "ticks": ""
           }
          },
          "title": {
           "x": 0.05
          },
          "xaxis": {
           "automargin": true,
           "gridcolor": "white",
           "linecolor": "white",
           "ticks": "",
           "title": {
            "standoff": 15
           },
           "zerolinecolor": "white",
           "zerolinewidth": 2
          },
          "yaxis": {
           "automargin": true,
           "gridcolor": "white",
           "linecolor": "white",
           "ticks": "",
           "title": {
            "standoff": 15
           },
           "zerolinecolor": "white",
           "zerolinewidth": 2
          }
         }
        }
       }
      },
      "text/html": [
       "<div>\n",
       "        \n",
       "        \n",
       "            <div id=\"81208ac3-ecdc-44ec-b38f-c184614674dd\" class=\"plotly-graph-div\" style=\"height:525px; width:100%;\"></div>\n",
       "            <script type=\"text/javascript\">\n",
       "                require([\"plotly\"], function(Plotly) {\n",
       "                    window.PLOTLYENV=window.PLOTLYENV || {};\n",
       "                    \n",
       "                if (document.getElementById(\"81208ac3-ecdc-44ec-b38f-c184614674dd\")) {\n",
       "                    Plotly.newPlot(\n",
       "                        '81208ac3-ecdc-44ec-b38f-c184614674dd',\n",
       "                        [{\"fill\": \"toself\", \"line\": {\"color\": \"green\"}, \"name\": \"Queen\", \"r\": [0.8556819664978143, 0.1261368145934574, -0.31642678491367476, -0.13863225359044934, 0.8556819664978143], \"theta\": [\"danceability\", \"energy\", \"instrumentalness\", \"popularity\"], \"type\": \"scatterpolar\"}, {\"fill\": \"toself\", \"line\": {\"color\": \"gray\"}, \"name\": \"The Beatles\", \"r\": [-0.1812032399642428, -0.026711325443322574, 0.06700802504054272, 0.02935741840738944, -0.1812032399642428], \"theta\": [\"danceability\", \"energy\", \"instrumentalness\", \"popularity\"], \"type\": \"scatterpolar\"}],\n",
       "                        {\"polar\": {\"radialaxis\": {\"range\": [-1, 1], \"visible\": true}}, \"showlegend\": true, \"template\": {\"data\": {\"bar\": [{\"error_x\": {\"color\": \"#2a3f5f\"}, \"error_y\": {\"color\": \"#2a3f5f\"}, \"marker\": {\"line\": {\"color\": \"#E5ECF6\", \"width\": 0.5}}, \"type\": \"bar\"}], \"barpolar\": [{\"marker\": {\"line\": {\"color\": \"#E5ECF6\", \"width\": 0.5}}, \"type\": \"barpolar\"}], \"carpet\": [{\"aaxis\": {\"endlinecolor\": \"#2a3f5f\", \"gridcolor\": \"white\", \"linecolor\": \"white\", \"minorgridcolor\": \"white\", \"startlinecolor\": \"#2a3f5f\"}, \"baxis\": {\"endlinecolor\": \"#2a3f5f\", \"gridcolor\": \"white\", \"linecolor\": \"white\", \"minorgridcolor\": \"white\", \"startlinecolor\": \"#2a3f5f\"}, \"type\": \"carpet\"}], \"choropleth\": [{\"colorbar\": {\"outlinewidth\": 0, \"ticks\": \"\"}, \"type\": \"choropleth\"}], \"contour\": [{\"colorbar\": {\"outlinewidth\": 0, \"ticks\": \"\"}, \"colorscale\": [[0.0, \"#0d0887\"], [0.1111111111111111, \"#46039f\"], [0.2222222222222222, \"#7201a8\"], [0.3333333333333333, \"#9c179e\"], [0.4444444444444444, \"#bd3786\"], [0.5555555555555556, \"#d8576b\"], [0.6666666666666666, \"#ed7953\"], [0.7777777777777778, \"#fb9f3a\"], [0.8888888888888888, \"#fdca26\"], [1.0, \"#f0f921\"]], \"type\": \"contour\"}], \"contourcarpet\": [{\"colorbar\": {\"outlinewidth\": 0, \"ticks\": \"\"}, \"type\": \"contourcarpet\"}], \"heatmap\": [{\"colorbar\": {\"outlinewidth\": 0, \"ticks\": \"\"}, \"colorscale\": [[0.0, \"#0d0887\"], [0.1111111111111111, \"#46039f\"], [0.2222222222222222, \"#7201a8\"], [0.3333333333333333, \"#9c179e\"], [0.4444444444444444, \"#bd3786\"], [0.5555555555555556, \"#d8576b\"], [0.6666666666666666, \"#ed7953\"], [0.7777777777777778, \"#fb9f3a\"], [0.8888888888888888, \"#fdca26\"], [1.0, \"#f0f921\"]], \"type\": \"heatmap\"}], \"heatmapgl\": [{\"colorbar\": {\"outlinewidth\": 0, \"ticks\": \"\"}, \"colorscale\": [[0.0, \"#0d0887\"], [0.1111111111111111, \"#46039f\"], [0.2222222222222222, \"#7201a8\"], [0.3333333333333333, \"#9c179e\"], [0.4444444444444444, \"#bd3786\"], [0.5555555555555556, \"#d8576b\"], [0.6666666666666666, \"#ed7953\"], [0.7777777777777778, \"#fb9f3a\"], [0.8888888888888888, \"#fdca26\"], [1.0, \"#f0f921\"]], \"type\": \"heatmapgl\"}], \"histogram\": [{\"marker\": {\"colorbar\": {\"outlinewidth\": 0, \"ticks\": \"\"}}, \"type\": \"histogram\"}], \"histogram2d\": [{\"colorbar\": {\"outlinewidth\": 0, \"ticks\": \"\"}, \"colorscale\": [[0.0, \"#0d0887\"], [0.1111111111111111, \"#46039f\"], [0.2222222222222222, \"#7201a8\"], [0.3333333333333333, \"#9c179e\"], [0.4444444444444444, \"#bd3786\"], [0.5555555555555556, \"#d8576b\"], [0.6666666666666666, \"#ed7953\"], [0.7777777777777778, \"#fb9f3a\"], [0.8888888888888888, \"#fdca26\"], [1.0, \"#f0f921\"]], \"type\": \"histogram2d\"}], \"histogram2dcontour\": [{\"colorbar\": {\"outlinewidth\": 0, \"ticks\": \"\"}, \"colorscale\": [[0.0, \"#0d0887\"], [0.1111111111111111, \"#46039f\"], [0.2222222222222222, \"#7201a8\"], [0.3333333333333333, \"#9c179e\"], [0.4444444444444444, \"#bd3786\"], [0.5555555555555556, \"#d8576b\"], [0.6666666666666666, \"#ed7953\"], [0.7777777777777778, \"#fb9f3a\"], [0.8888888888888888, \"#fdca26\"], [1.0, \"#f0f921\"]], \"type\": \"histogram2dcontour\"}], \"mesh3d\": [{\"colorbar\": {\"outlinewidth\": 0, \"ticks\": \"\"}, \"type\": \"mesh3d\"}], \"parcoords\": [{\"line\": {\"colorbar\": {\"outlinewidth\": 0, \"ticks\": \"\"}}, \"type\": \"parcoords\"}], \"pie\": [{\"automargin\": true, \"type\": \"pie\"}], \"scatter\": [{\"marker\": {\"colorbar\": {\"outlinewidth\": 0, \"ticks\": \"\"}}, \"type\": \"scatter\"}], \"scatter3d\": [{\"line\": {\"colorbar\": {\"outlinewidth\": 0, \"ticks\": \"\"}}, \"marker\": {\"colorbar\": {\"outlinewidth\": 0, \"ticks\": \"\"}}, \"type\": \"scatter3d\"}], \"scattercarpet\": [{\"marker\": {\"colorbar\": {\"outlinewidth\": 0, \"ticks\": \"\"}}, \"type\": \"scattercarpet\"}], \"scattergeo\": [{\"marker\": {\"colorbar\": {\"outlinewidth\": 0, \"ticks\": \"\"}}, \"type\": \"scattergeo\"}], \"scattergl\": [{\"marker\": {\"colorbar\": {\"outlinewidth\": 0, \"ticks\": \"\"}}, \"type\": \"scattergl\"}], \"scattermapbox\": [{\"marker\": {\"colorbar\": {\"outlinewidth\": 0, \"ticks\": \"\"}}, \"type\": \"scattermapbox\"}], \"scatterpolar\": [{\"marker\": {\"colorbar\": {\"outlinewidth\": 0, \"ticks\": \"\"}}, \"type\": \"scatterpolar\"}], \"scatterpolargl\": [{\"marker\": {\"colorbar\": {\"outlinewidth\": 0, \"ticks\": \"\"}}, \"type\": \"scatterpolargl\"}], \"scatterternary\": [{\"marker\": {\"colorbar\": {\"outlinewidth\": 0, \"ticks\": \"\"}}, \"type\": \"scatterternary\"}], \"surface\": [{\"colorbar\": {\"outlinewidth\": 0, \"ticks\": \"\"}, \"colorscale\": [[0.0, \"#0d0887\"], [0.1111111111111111, \"#46039f\"], [0.2222222222222222, \"#7201a8\"], [0.3333333333333333, \"#9c179e\"], [0.4444444444444444, \"#bd3786\"], [0.5555555555555556, \"#d8576b\"], [0.6666666666666666, \"#ed7953\"], [0.7777777777777778, \"#fb9f3a\"], [0.8888888888888888, \"#fdca26\"], [1.0, \"#f0f921\"]], \"type\": \"surface\"}], \"table\": [{\"cells\": {\"fill\": {\"color\": \"#EBF0F8\"}, \"line\": {\"color\": \"white\"}}, \"header\": {\"fill\": {\"color\": \"#C8D4E3\"}, \"line\": {\"color\": \"white\"}}, \"type\": \"table\"}]}, \"layout\": {\"annotationdefaults\": {\"arrowcolor\": \"#2a3f5f\", \"arrowhead\": 0, \"arrowwidth\": 1}, \"coloraxis\": {\"colorbar\": {\"outlinewidth\": 0, \"ticks\": \"\"}}, \"colorscale\": {\"diverging\": [[0, \"#8e0152\"], [0.1, \"#c51b7d\"], [0.2, \"#de77ae\"], [0.3, \"#f1b6da\"], [0.4, \"#fde0ef\"], [0.5, \"#f7f7f7\"], [0.6, \"#e6f5d0\"], [0.7, \"#b8e186\"], [0.8, \"#7fbc41\"], [0.9, \"#4d9221\"], [1, \"#276419\"]], \"sequential\": [[0.0, \"#0d0887\"], [0.1111111111111111, \"#46039f\"], [0.2222222222222222, \"#7201a8\"], [0.3333333333333333, \"#9c179e\"], [0.4444444444444444, \"#bd3786\"], [0.5555555555555556, \"#d8576b\"], [0.6666666666666666, \"#ed7953\"], [0.7777777777777778, \"#fb9f3a\"], [0.8888888888888888, \"#fdca26\"], [1.0, \"#f0f921\"]], \"sequentialminus\": [[0.0, \"#0d0887\"], [0.1111111111111111, \"#46039f\"], [0.2222222222222222, \"#7201a8\"], [0.3333333333333333, \"#9c179e\"], [0.4444444444444444, \"#bd3786\"], [0.5555555555555556, \"#d8576b\"], [0.6666666666666666, \"#ed7953\"], [0.7777777777777778, \"#fb9f3a\"], [0.8888888888888888, \"#fdca26\"], [1.0, \"#f0f921\"]]}, \"colorway\": [\"#636efa\", \"#EF553B\", \"#00cc96\", \"#ab63fa\", \"#FFA15A\", \"#19d3f3\", \"#FF6692\", \"#B6E880\", \"#FF97FF\", \"#FECB52\"], \"font\": {\"color\": \"#2a3f5f\"}, \"geo\": {\"bgcolor\": \"white\", \"lakecolor\": \"white\", \"landcolor\": \"#E5ECF6\", \"showlakes\": true, \"showland\": true, \"subunitcolor\": \"white\"}, \"hoverlabel\": {\"align\": \"left\"}, \"hovermode\": \"closest\", \"mapbox\": {\"style\": \"light\"}, \"paper_bgcolor\": \"white\", \"plot_bgcolor\": \"#E5ECF6\", \"polar\": {\"angularaxis\": {\"gridcolor\": \"white\", \"linecolor\": \"white\", \"ticks\": \"\"}, \"bgcolor\": \"#E5ECF6\", \"radialaxis\": {\"gridcolor\": \"white\", \"linecolor\": \"white\", \"ticks\": \"\"}}, \"scene\": {\"xaxis\": {\"backgroundcolor\": \"#E5ECF6\", \"gridcolor\": \"white\", \"gridwidth\": 2, \"linecolor\": \"white\", \"showbackground\": true, \"ticks\": \"\", \"zerolinecolor\": \"white\"}, \"yaxis\": {\"backgroundcolor\": \"#E5ECF6\", \"gridcolor\": \"white\", \"gridwidth\": 2, \"linecolor\": \"white\", \"showbackground\": true, \"ticks\": \"\", \"zerolinecolor\": \"white\"}, \"zaxis\": {\"backgroundcolor\": \"#E5ECF6\", \"gridcolor\": \"white\", \"gridwidth\": 2, \"linecolor\": \"white\", \"showbackground\": true, \"ticks\": \"\", \"zerolinecolor\": \"white\"}}, \"shapedefaults\": {\"line\": {\"color\": \"#2a3f5f\"}}, \"ternary\": {\"aaxis\": {\"gridcolor\": \"white\", \"linecolor\": \"white\", \"ticks\": \"\"}, \"baxis\": {\"gridcolor\": \"white\", \"linecolor\": \"white\", \"ticks\": \"\"}, \"bgcolor\": \"#E5ECF6\", \"caxis\": {\"gridcolor\": \"white\", \"linecolor\": \"white\", \"ticks\": \"\"}}, \"title\": {\"x\": 0.05}, \"xaxis\": {\"automargin\": true, \"gridcolor\": \"white\", \"linecolor\": \"white\", \"ticks\": \"\", \"title\": {\"standoff\": 15}, \"zerolinecolor\": \"white\", \"zerolinewidth\": 2}, \"yaxis\": {\"automargin\": true, \"gridcolor\": \"white\", \"linecolor\": \"white\", \"ticks\": \"\", \"title\": {\"standoff\": 15}, \"zerolinecolor\": \"white\", \"zerolinewidth\": 2}}}},\n",
       "                        {\"responsive\": true}\n",
       "                    ).then(function(){\n",
       "                            \n",
       "var gd = document.getElementById('81208ac3-ecdc-44ec-b38f-c184614674dd');\n",
       "var x = new MutationObserver(function (mutations, observer) {{\n",
       "        var display = window.getComputedStyle(gd).display;\n",
       "        if (!display || display === 'none') {{\n",
       "            console.log([gd, 'removed!']);\n",
       "            Plotly.purge(gd);\n",
       "            observer.disconnect();\n",
       "        }}\n",
       "}});\n",
       "\n",
       "// Listen for the removal of the full notebook cells\n",
       "var notebookContainer = gd.closest('#notebook-container');\n",
       "if (notebookContainer) {{\n",
       "    x.observe(notebookContainer, {childList: true});\n",
       "}}\n",
       "\n",
       "// Listen for the clearing of the current output cell\n",
       "var outputEl = gd.closest('.output');\n",
       "if (outputEl) {{\n",
       "    x.observe(outputEl, {childList: true});\n",
       "}}\n",
       "\n",
       "                        })\n",
       "                };\n",
       "                });\n",
       "            </script>\n",
       "        </div>"
      ]
     },
     "metadata": {},
     "output_type": "display_data"
    }
   ],
   "source": [
    "padroniza_variavel(dados_aux,'acousticness')\n",
    "padroniza_variavel(dados_aux,'danceability')\n",
    "padroniza_variavel(dados_aux,'energy')\n",
    "padroniza_variavel(dados_aux,'instrumentalness')\n",
    "padroniza_variavel(dados_aux,'liveness')\n",
    "padroniza_variavel(dados_aux,'loudness')\n",
    "padroniza_variavel(dados_aux,'speechiness')\n",
    "padroniza_variavel(dados_aux,'tempo')\n",
    "padroniza_variavel(dados_aux,'valence')\n",
    "padroniza_variavel(dados_aux,'popularity')\n",
    "\n",
    "\n",
    "aux=dados_aux.groupby(\"artist\",as_index=False).agg({'std_danceability':np.mean,\n",
    " 'std_energy':np.mean,\n",
    " 'std_instrumentalness':np.mean,\n",
    " 'std_popularity':np.mean})\n",
    "\n",
    "v1=np.asarray(aux[aux[\"artist\"]==artista1].iloc[0,1:])\n",
    "v1=np.concatenate((v1,[v1[0]]))\n",
    "v2=np.asarray(aux[aux[\"artist\"]==artista2].iloc[0,1:])\n",
    "v2=np.concatenate((v2,[v2[0]]))\n",
    "\n",
    "variaveis=[\"danceability\",\"energy\",\"instrumentalness\",\"popularity\"]\n",
    "fig = go.Figure()\n",
    "\n",
    "fig.add_trace(go.Scatterpolar(\n",
    "      r=v1,\n",
    "      theta=variaveis,\n",
    "      fill='toself',\n",
    "      name=artista1,\n",
    "    line =  dict(\n",
    "            color = 'green'\n",
    "        )\n",
    "    \n",
    "))\n",
    "fig.add_trace(go.Scatterpolar(\n",
    "      r=v2,\n",
    "      theta=variaveis,\n",
    "      fill='toself',\n",
    "      name=artista2,\n",
    "        line =  dict(\n",
    "            color = 'gray'\n",
    "        )\n",
    "))\n",
    "\n",
    "fig.update_layout(\n",
    "  polar=dict(\n",
    "    radialaxis=dict(\n",
    "      visible=True,\n",
    "      range=[-1, 1]\n",
    "    )),\n",
    "  showlegend=True\n",
    ")\n",
    "\n",
    "fig.show()"
   ]
  },
  {
   "cell_type": "markdown",
   "metadata": {},
   "source": [
    "## Construção de Modelo"
   ]
  },
  {
   "cell_type": "code",
   "execution_count": 57,
   "metadata": {},
   "outputs": [],
   "source": [
    "#Libs modelo\n",
    "from sklearn.model_selection import train_test_split\n",
    "from sklearn.model_selection import cross_validate\n",
    "from sklearn.metrics import roc_auc_score\n",
    "from sklearn.ensemble import RandomForestClassifier\n",
    "import xgboost as xgb\n",
    "from sklearn.metrics import confusion_matrix"
   ]
  },
  {
   "cell_type": "code",
   "execution_count": 58,
   "metadata": {},
   "outputs": [],
   "source": [
    "variaveis=['acousticness',\n",
    "       'danceability', 'energy', 'instrumentalness', 'liveness', 'loudness',\n",
    "       'speechiness', 'tempo', 'valence', 'popularity']\n",
    "\n",
    "variaveis_std=['std_'+i for i in variaveis]\n",
    "\n",
    "X=dados_aux[variaveis_std]\n",
    "y=dados_aux[\"artist\"]"
   ]
  },
  {
   "cell_type": "code",
   "execution_count": 59,
   "metadata": {},
   "outputs": [],
   "source": [
    "rf=RandomForestClassifier(max_depth=10,n_estimators=30,random_state=0)\n",
    "rf_scores = cross_validate(rf, X, y,\n",
    "                        scoring='roc_auc', cv=5,\n",
    "                         return_estimator=True)\n",
    "gboost=xgb.XGBClassifier(\n",
    "                        n_estimators=30,\n",
    "                        max_depth=10\n",
    "                            )\n",
    "gboost_scores = cross_validate(gboost, X, y,\n",
    "                        scoring='roc_auc', cv=5,\n",
    "                         return_estimator=True)"
   ]
  },
  {
   "cell_type": "markdown",
   "metadata": {},
   "source": [
    "## Seleção do modelo"
   ]
  },
  {
   "cell_type": "code",
   "execution_count": 68,
   "metadata": {},
   "outputs": [
    {
     "name": "stdout",
     "output_type": "stream",
     "text": [
      "Modelo escolhido: Random Forest (AUC:0.98)\n"
     ]
    }
   ],
   "source": [
    "rf_auc=rf_scores[\"test_score\"].mean()\n",
    "gboost_auc=gboost_scores[\"test_score\"].mean()\n",
    "\n",
    "escolha=max([rf_auc,gboost_auc])\n",
    "if escolha==rf_auc:\n",
    "    print(\"Modelo escolhido: Random Forest (AUC:{})\".format(rf_auc.round(2)))\n",
    "elif escolha==gboost_auc:\n",
    "    print(\"Modelo escolhido: XGBoost (AUC:{})\".format(gboost_auc.round(2)))  "
   ]
  },
  {
   "cell_type": "markdown",
   "metadata": {},
   "source": [
    "## Metricas modelo"
   ]
  },
  {
   "cell_type": "code",
   "execution_count": 63,
   "metadata": {},
   "outputs": [
    {
     "data": {
      "text/plain": [
       "array([[ 23,  11],\n",
       "       [  1, 151]])"
      ]
     },
     "execution_count": 63,
     "metadata": {},
     "output_type": "execute_result"
    }
   ],
   "source": [
    "#Randon forest\n",
    "y_pred=rf.fit(X_train,y_train).predict(X_test)\n",
    "confusion_matrix(y_test, y_pred, labels=[artista1,artista2])"
   ]
  },
  {
   "cell_type": "code",
   "execution_count": 64,
   "metadata": {},
   "outputs": [
    {
     "data": {
      "text/plain": [
       "array([[ 24,  10],\n",
       "       [  1, 151]])"
      ]
     },
     "execution_count": 64,
     "metadata": {},
     "output_type": "execute_result"
    }
   ],
   "source": [
    "#XGBoost\n",
    "y_pred=gboost.fit(X_train,y_train).predict(X_test)\n",
    "confusion_matrix(y_test, y_pred, labels=[artista1,artista2])"
   ]
  },
  {
   "cell_type": "markdown",
   "metadata": {},
   "source": [
    "## Importancia das variáveis"
   ]
  },
  {
   "cell_type": "code",
   "execution_count": 70,
   "metadata": {},
   "outputs": [
    {
     "data": {
      "application/vnd.plotly.v1+json": {
       "config": {
        "plotlyServerURL": "https://plot.ly"
       },
       "data": [
        {
         "orientation": "h",
         "type": "bar",
         "x": [
          0.03954936302724821,
          0.04624509161994582,
          0.06170742667424777,
          0.07097225755893771,
          0.09871662826176159,
          0.10005224928002708,
          0.10269592996736812,
          0.1259254549393539,
          0.16863479310937732,
          0.18550080556173254
         ],
         "y": [
          "tempo",
          "liveness",
          "energy",
          "popularity",
          "acousticness",
          "instrumentalness",
          "valence",
          "speechiness",
          "loudness",
          "danceability"
         ]
        }
       ],
       "layout": {
        "template": {
         "data": {
          "bar": [
           {
            "error_x": {
             "color": "#2a3f5f"
            },
            "error_y": {
             "color": "#2a3f5f"
            },
            "marker": {
             "line": {
              "color": "#E5ECF6",
              "width": 0.5
             }
            },
            "type": "bar"
           }
          ],
          "barpolar": [
           {
            "marker": {
             "line": {
              "color": "#E5ECF6",
              "width": 0.5
             }
            },
            "type": "barpolar"
           }
          ],
          "carpet": [
           {
            "aaxis": {
             "endlinecolor": "#2a3f5f",
             "gridcolor": "white",
             "linecolor": "white",
             "minorgridcolor": "white",
             "startlinecolor": "#2a3f5f"
            },
            "baxis": {
             "endlinecolor": "#2a3f5f",
             "gridcolor": "white",
             "linecolor": "white",
             "minorgridcolor": "white",
             "startlinecolor": "#2a3f5f"
            },
            "type": "carpet"
           }
          ],
          "choropleth": [
           {
            "colorbar": {
             "outlinewidth": 0,
             "ticks": ""
            },
            "type": "choropleth"
           }
          ],
          "contour": [
           {
            "colorbar": {
             "outlinewidth": 0,
             "ticks": ""
            },
            "colorscale": [
             [
              0,
              "#0d0887"
             ],
             [
              0.1111111111111111,
              "#46039f"
             ],
             [
              0.2222222222222222,
              "#7201a8"
             ],
             [
              0.3333333333333333,
              "#9c179e"
             ],
             [
              0.4444444444444444,
              "#bd3786"
             ],
             [
              0.5555555555555556,
              "#d8576b"
             ],
             [
              0.6666666666666666,
              "#ed7953"
             ],
             [
              0.7777777777777778,
              "#fb9f3a"
             ],
             [
              0.8888888888888888,
              "#fdca26"
             ],
             [
              1,
              "#f0f921"
             ]
            ],
            "type": "contour"
           }
          ],
          "contourcarpet": [
           {
            "colorbar": {
             "outlinewidth": 0,
             "ticks": ""
            },
            "type": "contourcarpet"
           }
          ],
          "heatmap": [
           {
            "colorbar": {
             "outlinewidth": 0,
             "ticks": ""
            },
            "colorscale": [
             [
              0,
              "#0d0887"
             ],
             [
              0.1111111111111111,
              "#46039f"
             ],
             [
              0.2222222222222222,
              "#7201a8"
             ],
             [
              0.3333333333333333,
              "#9c179e"
             ],
             [
              0.4444444444444444,
              "#bd3786"
             ],
             [
              0.5555555555555556,
              "#d8576b"
             ],
             [
              0.6666666666666666,
              "#ed7953"
             ],
             [
              0.7777777777777778,
              "#fb9f3a"
             ],
             [
              0.8888888888888888,
              "#fdca26"
             ],
             [
              1,
              "#f0f921"
             ]
            ],
            "type": "heatmap"
           }
          ],
          "heatmapgl": [
           {
            "colorbar": {
             "outlinewidth": 0,
             "ticks": ""
            },
            "colorscale": [
             [
              0,
              "#0d0887"
             ],
             [
              0.1111111111111111,
              "#46039f"
             ],
             [
              0.2222222222222222,
              "#7201a8"
             ],
             [
              0.3333333333333333,
              "#9c179e"
             ],
             [
              0.4444444444444444,
              "#bd3786"
             ],
             [
              0.5555555555555556,
              "#d8576b"
             ],
             [
              0.6666666666666666,
              "#ed7953"
             ],
             [
              0.7777777777777778,
              "#fb9f3a"
             ],
             [
              0.8888888888888888,
              "#fdca26"
             ],
             [
              1,
              "#f0f921"
             ]
            ],
            "type": "heatmapgl"
           }
          ],
          "histogram": [
           {
            "marker": {
             "colorbar": {
              "outlinewidth": 0,
              "ticks": ""
             }
            },
            "type": "histogram"
           }
          ],
          "histogram2d": [
           {
            "colorbar": {
             "outlinewidth": 0,
             "ticks": ""
            },
            "colorscale": [
             [
              0,
              "#0d0887"
             ],
             [
              0.1111111111111111,
              "#46039f"
             ],
             [
              0.2222222222222222,
              "#7201a8"
             ],
             [
              0.3333333333333333,
              "#9c179e"
             ],
             [
              0.4444444444444444,
              "#bd3786"
             ],
             [
              0.5555555555555556,
              "#d8576b"
             ],
             [
              0.6666666666666666,
              "#ed7953"
             ],
             [
              0.7777777777777778,
              "#fb9f3a"
             ],
             [
              0.8888888888888888,
              "#fdca26"
             ],
             [
              1,
              "#f0f921"
             ]
            ],
            "type": "histogram2d"
           }
          ],
          "histogram2dcontour": [
           {
            "colorbar": {
             "outlinewidth": 0,
             "ticks": ""
            },
            "colorscale": [
             [
              0,
              "#0d0887"
             ],
             [
              0.1111111111111111,
              "#46039f"
             ],
             [
              0.2222222222222222,
              "#7201a8"
             ],
             [
              0.3333333333333333,
              "#9c179e"
             ],
             [
              0.4444444444444444,
              "#bd3786"
             ],
             [
              0.5555555555555556,
              "#d8576b"
             ],
             [
              0.6666666666666666,
              "#ed7953"
             ],
             [
              0.7777777777777778,
              "#fb9f3a"
             ],
             [
              0.8888888888888888,
              "#fdca26"
             ],
             [
              1,
              "#f0f921"
             ]
            ],
            "type": "histogram2dcontour"
           }
          ],
          "mesh3d": [
           {
            "colorbar": {
             "outlinewidth": 0,
             "ticks": ""
            },
            "type": "mesh3d"
           }
          ],
          "parcoords": [
           {
            "line": {
             "colorbar": {
              "outlinewidth": 0,
              "ticks": ""
             }
            },
            "type": "parcoords"
           }
          ],
          "pie": [
           {
            "automargin": true,
            "type": "pie"
           }
          ],
          "scatter": [
           {
            "marker": {
             "colorbar": {
              "outlinewidth": 0,
              "ticks": ""
             }
            },
            "type": "scatter"
           }
          ],
          "scatter3d": [
           {
            "line": {
             "colorbar": {
              "outlinewidth": 0,
              "ticks": ""
             }
            },
            "marker": {
             "colorbar": {
              "outlinewidth": 0,
              "ticks": ""
             }
            },
            "type": "scatter3d"
           }
          ],
          "scattercarpet": [
           {
            "marker": {
             "colorbar": {
              "outlinewidth": 0,
              "ticks": ""
             }
            },
            "type": "scattercarpet"
           }
          ],
          "scattergeo": [
           {
            "marker": {
             "colorbar": {
              "outlinewidth": 0,
              "ticks": ""
             }
            },
            "type": "scattergeo"
           }
          ],
          "scattergl": [
           {
            "marker": {
             "colorbar": {
              "outlinewidth": 0,
              "ticks": ""
             }
            },
            "type": "scattergl"
           }
          ],
          "scattermapbox": [
           {
            "marker": {
             "colorbar": {
              "outlinewidth": 0,
              "ticks": ""
             }
            },
            "type": "scattermapbox"
           }
          ],
          "scatterpolar": [
           {
            "marker": {
             "colorbar": {
              "outlinewidth": 0,
              "ticks": ""
             }
            },
            "type": "scatterpolar"
           }
          ],
          "scatterpolargl": [
           {
            "marker": {
             "colorbar": {
              "outlinewidth": 0,
              "ticks": ""
             }
            },
            "type": "scatterpolargl"
           }
          ],
          "scatterternary": [
           {
            "marker": {
             "colorbar": {
              "outlinewidth": 0,
              "ticks": ""
             }
            },
            "type": "scatterternary"
           }
          ],
          "surface": [
           {
            "colorbar": {
             "outlinewidth": 0,
             "ticks": ""
            },
            "colorscale": [
             [
              0,
              "#0d0887"
             ],
             [
              0.1111111111111111,
              "#46039f"
             ],
             [
              0.2222222222222222,
              "#7201a8"
             ],
             [
              0.3333333333333333,
              "#9c179e"
             ],
             [
              0.4444444444444444,
              "#bd3786"
             ],
             [
              0.5555555555555556,
              "#d8576b"
             ],
             [
              0.6666666666666666,
              "#ed7953"
             ],
             [
              0.7777777777777778,
              "#fb9f3a"
             ],
             [
              0.8888888888888888,
              "#fdca26"
             ],
             [
              1,
              "#f0f921"
             ]
            ],
            "type": "surface"
           }
          ],
          "table": [
           {
            "cells": {
             "fill": {
              "color": "#EBF0F8"
             },
             "line": {
              "color": "white"
             }
            },
            "header": {
             "fill": {
              "color": "#C8D4E3"
             },
             "line": {
              "color": "white"
             }
            },
            "type": "table"
           }
          ]
         },
         "layout": {
          "annotationdefaults": {
           "arrowcolor": "#2a3f5f",
           "arrowhead": 0,
           "arrowwidth": 1
          },
          "coloraxis": {
           "colorbar": {
            "outlinewidth": 0,
            "ticks": ""
           }
          },
          "colorscale": {
           "diverging": [
            [
             0,
             "#8e0152"
            ],
            [
             0.1,
             "#c51b7d"
            ],
            [
             0.2,
             "#de77ae"
            ],
            [
             0.3,
             "#f1b6da"
            ],
            [
             0.4,
             "#fde0ef"
            ],
            [
             0.5,
             "#f7f7f7"
            ],
            [
             0.6,
             "#e6f5d0"
            ],
            [
             0.7,
             "#b8e186"
            ],
            [
             0.8,
             "#7fbc41"
            ],
            [
             0.9,
             "#4d9221"
            ],
            [
             1,
             "#276419"
            ]
           ],
           "sequential": [
            [
             0,
             "#0d0887"
            ],
            [
             0.1111111111111111,
             "#46039f"
            ],
            [
             0.2222222222222222,
             "#7201a8"
            ],
            [
             0.3333333333333333,
             "#9c179e"
            ],
            [
             0.4444444444444444,
             "#bd3786"
            ],
            [
             0.5555555555555556,
             "#d8576b"
            ],
            [
             0.6666666666666666,
             "#ed7953"
            ],
            [
             0.7777777777777778,
             "#fb9f3a"
            ],
            [
             0.8888888888888888,
             "#fdca26"
            ],
            [
             1,
             "#f0f921"
            ]
           ],
           "sequentialminus": [
            [
             0,
             "#0d0887"
            ],
            [
             0.1111111111111111,
             "#46039f"
            ],
            [
             0.2222222222222222,
             "#7201a8"
            ],
            [
             0.3333333333333333,
             "#9c179e"
            ],
            [
             0.4444444444444444,
             "#bd3786"
            ],
            [
             0.5555555555555556,
             "#d8576b"
            ],
            [
             0.6666666666666666,
             "#ed7953"
            ],
            [
             0.7777777777777778,
             "#fb9f3a"
            ],
            [
             0.8888888888888888,
             "#fdca26"
            ],
            [
             1,
             "#f0f921"
            ]
           ]
          },
          "colorway": [
           "#636efa",
           "#EF553B",
           "#00cc96",
           "#ab63fa",
           "#FFA15A",
           "#19d3f3",
           "#FF6692",
           "#B6E880",
           "#FF97FF",
           "#FECB52"
          ],
          "font": {
           "color": "#2a3f5f"
          },
          "geo": {
           "bgcolor": "white",
           "lakecolor": "white",
           "landcolor": "#E5ECF6",
           "showlakes": true,
           "showland": true,
           "subunitcolor": "white"
          },
          "hoverlabel": {
           "align": "left"
          },
          "hovermode": "closest",
          "mapbox": {
           "style": "light"
          },
          "paper_bgcolor": "white",
          "plot_bgcolor": "#E5ECF6",
          "polar": {
           "angularaxis": {
            "gridcolor": "white",
            "linecolor": "white",
            "ticks": ""
           },
           "bgcolor": "#E5ECF6",
           "radialaxis": {
            "gridcolor": "white",
            "linecolor": "white",
            "ticks": ""
           }
          },
          "scene": {
           "xaxis": {
            "backgroundcolor": "#E5ECF6",
            "gridcolor": "white",
            "gridwidth": 2,
            "linecolor": "white",
            "showbackground": true,
            "ticks": "",
            "zerolinecolor": "white"
           },
           "yaxis": {
            "backgroundcolor": "#E5ECF6",
            "gridcolor": "white",
            "gridwidth": 2,
            "linecolor": "white",
            "showbackground": true,
            "ticks": "",
            "zerolinecolor": "white"
           },
           "zaxis": {
            "backgroundcolor": "#E5ECF6",
            "gridcolor": "white",
            "gridwidth": 2,
            "linecolor": "white",
            "showbackground": true,
            "ticks": "",
            "zerolinecolor": "white"
           }
          },
          "shapedefaults": {
           "line": {
            "color": "#2a3f5f"
           }
          },
          "ternary": {
           "aaxis": {
            "gridcolor": "white",
            "linecolor": "white",
            "ticks": ""
           },
           "baxis": {
            "gridcolor": "white",
            "linecolor": "white",
            "ticks": ""
           },
           "bgcolor": "#E5ECF6",
           "caxis": {
            "gridcolor": "white",
            "linecolor": "white",
            "ticks": ""
           }
          },
          "title": {
           "x": 0.05
          },
          "xaxis": {
           "automargin": true,
           "gridcolor": "white",
           "linecolor": "white",
           "ticks": "",
           "title": {
            "standoff": 15
           },
           "zerolinecolor": "white",
           "zerolinewidth": 2
          },
          "yaxis": {
           "automargin": true,
           "gridcolor": "white",
           "linecolor": "white",
           "ticks": "",
           "title": {
            "standoff": 15
           },
           "zerolinecolor": "white",
           "zerolinewidth": 2
          }
         }
        }
       }
      },
      "text/html": [
       "<div>\n",
       "        \n",
       "        \n",
       "            <div id=\"e33571dc-2fe2-4641-822c-d7d21db72823\" class=\"plotly-graph-div\" style=\"height:525px; width:100%;\"></div>\n",
       "            <script type=\"text/javascript\">\n",
       "                require([\"plotly\"], function(Plotly) {\n",
       "                    window.PLOTLYENV=window.PLOTLYENV || {};\n",
       "                    \n",
       "                if (document.getElementById(\"e33571dc-2fe2-4641-822c-d7d21db72823\")) {\n",
       "                    Plotly.newPlot(\n",
       "                        'e33571dc-2fe2-4641-822c-d7d21db72823',\n",
       "                        [{\"orientation\": \"h\", \"type\": \"bar\", \"x\": [0.03954936302724821, 0.04624509161994582, 0.06170742667424777, 0.07097225755893771, 0.09871662826176159, 0.10005224928002708, 0.10269592996736812, 0.1259254549393539, 0.16863479310937732, 0.18550080556173254], \"y\": [\"tempo\", \"liveness\", \"energy\", \"popularity\", \"acousticness\", \"instrumentalness\", \"valence\", \"speechiness\", \"loudness\", \"danceability\"]}],\n",
       "                        {\"template\": {\"data\": {\"bar\": [{\"error_x\": {\"color\": \"#2a3f5f\"}, \"error_y\": {\"color\": \"#2a3f5f\"}, \"marker\": {\"line\": {\"color\": \"#E5ECF6\", \"width\": 0.5}}, \"type\": \"bar\"}], \"barpolar\": [{\"marker\": {\"line\": {\"color\": \"#E5ECF6\", \"width\": 0.5}}, \"type\": \"barpolar\"}], \"carpet\": [{\"aaxis\": {\"endlinecolor\": \"#2a3f5f\", \"gridcolor\": \"white\", \"linecolor\": \"white\", \"minorgridcolor\": \"white\", \"startlinecolor\": \"#2a3f5f\"}, \"baxis\": {\"endlinecolor\": \"#2a3f5f\", \"gridcolor\": \"white\", \"linecolor\": \"white\", \"minorgridcolor\": \"white\", \"startlinecolor\": \"#2a3f5f\"}, \"type\": \"carpet\"}], \"choropleth\": [{\"colorbar\": {\"outlinewidth\": 0, \"ticks\": \"\"}, \"type\": \"choropleth\"}], \"contour\": [{\"colorbar\": {\"outlinewidth\": 0, \"ticks\": \"\"}, \"colorscale\": [[0.0, \"#0d0887\"], [0.1111111111111111, \"#46039f\"], [0.2222222222222222, \"#7201a8\"], [0.3333333333333333, \"#9c179e\"], [0.4444444444444444, \"#bd3786\"], [0.5555555555555556, \"#d8576b\"], [0.6666666666666666, \"#ed7953\"], [0.7777777777777778, \"#fb9f3a\"], [0.8888888888888888, \"#fdca26\"], [1.0, \"#f0f921\"]], \"type\": \"contour\"}], \"contourcarpet\": [{\"colorbar\": {\"outlinewidth\": 0, \"ticks\": \"\"}, \"type\": \"contourcarpet\"}], \"heatmap\": [{\"colorbar\": {\"outlinewidth\": 0, \"ticks\": \"\"}, \"colorscale\": [[0.0, \"#0d0887\"], [0.1111111111111111, \"#46039f\"], [0.2222222222222222, \"#7201a8\"], [0.3333333333333333, \"#9c179e\"], [0.4444444444444444, \"#bd3786\"], [0.5555555555555556, \"#d8576b\"], [0.6666666666666666, \"#ed7953\"], [0.7777777777777778, \"#fb9f3a\"], [0.8888888888888888, \"#fdca26\"], [1.0, \"#f0f921\"]], \"type\": \"heatmap\"}], \"heatmapgl\": [{\"colorbar\": {\"outlinewidth\": 0, \"ticks\": \"\"}, \"colorscale\": [[0.0, \"#0d0887\"], [0.1111111111111111, \"#46039f\"], [0.2222222222222222, \"#7201a8\"], [0.3333333333333333, \"#9c179e\"], [0.4444444444444444, \"#bd3786\"], [0.5555555555555556, \"#d8576b\"], [0.6666666666666666, \"#ed7953\"], [0.7777777777777778, \"#fb9f3a\"], [0.8888888888888888, \"#fdca26\"], [1.0, \"#f0f921\"]], \"type\": \"heatmapgl\"}], \"histogram\": [{\"marker\": {\"colorbar\": {\"outlinewidth\": 0, \"ticks\": \"\"}}, \"type\": \"histogram\"}], \"histogram2d\": [{\"colorbar\": {\"outlinewidth\": 0, \"ticks\": \"\"}, \"colorscale\": [[0.0, \"#0d0887\"], [0.1111111111111111, \"#46039f\"], [0.2222222222222222, \"#7201a8\"], [0.3333333333333333, \"#9c179e\"], [0.4444444444444444, \"#bd3786\"], [0.5555555555555556, \"#d8576b\"], [0.6666666666666666, \"#ed7953\"], [0.7777777777777778, \"#fb9f3a\"], [0.8888888888888888, \"#fdca26\"], [1.0, \"#f0f921\"]], \"type\": \"histogram2d\"}], \"histogram2dcontour\": [{\"colorbar\": {\"outlinewidth\": 0, \"ticks\": \"\"}, \"colorscale\": [[0.0, \"#0d0887\"], [0.1111111111111111, \"#46039f\"], [0.2222222222222222, \"#7201a8\"], [0.3333333333333333, \"#9c179e\"], [0.4444444444444444, \"#bd3786\"], [0.5555555555555556, \"#d8576b\"], [0.6666666666666666, \"#ed7953\"], [0.7777777777777778, \"#fb9f3a\"], [0.8888888888888888, \"#fdca26\"], [1.0, \"#f0f921\"]], \"type\": \"histogram2dcontour\"}], \"mesh3d\": [{\"colorbar\": {\"outlinewidth\": 0, \"ticks\": \"\"}, \"type\": \"mesh3d\"}], \"parcoords\": [{\"line\": {\"colorbar\": {\"outlinewidth\": 0, \"ticks\": \"\"}}, \"type\": \"parcoords\"}], \"pie\": [{\"automargin\": true, \"type\": \"pie\"}], \"scatter\": [{\"marker\": {\"colorbar\": {\"outlinewidth\": 0, \"ticks\": \"\"}}, \"type\": \"scatter\"}], \"scatter3d\": [{\"line\": {\"colorbar\": {\"outlinewidth\": 0, \"ticks\": \"\"}}, \"marker\": {\"colorbar\": {\"outlinewidth\": 0, \"ticks\": \"\"}}, \"type\": \"scatter3d\"}], \"scattercarpet\": [{\"marker\": {\"colorbar\": {\"outlinewidth\": 0, \"ticks\": \"\"}}, \"type\": \"scattercarpet\"}], \"scattergeo\": [{\"marker\": {\"colorbar\": {\"outlinewidth\": 0, \"ticks\": \"\"}}, \"type\": \"scattergeo\"}], \"scattergl\": [{\"marker\": {\"colorbar\": {\"outlinewidth\": 0, \"ticks\": \"\"}}, \"type\": \"scattergl\"}], \"scattermapbox\": [{\"marker\": {\"colorbar\": {\"outlinewidth\": 0, \"ticks\": \"\"}}, \"type\": \"scattermapbox\"}], \"scatterpolar\": [{\"marker\": {\"colorbar\": {\"outlinewidth\": 0, \"ticks\": \"\"}}, \"type\": \"scatterpolar\"}], \"scatterpolargl\": [{\"marker\": {\"colorbar\": {\"outlinewidth\": 0, \"ticks\": \"\"}}, \"type\": \"scatterpolargl\"}], \"scatterternary\": [{\"marker\": {\"colorbar\": {\"outlinewidth\": 0, \"ticks\": \"\"}}, \"type\": \"scatterternary\"}], \"surface\": [{\"colorbar\": {\"outlinewidth\": 0, \"ticks\": \"\"}, \"colorscale\": [[0.0, \"#0d0887\"], [0.1111111111111111, \"#46039f\"], [0.2222222222222222, \"#7201a8\"], [0.3333333333333333, \"#9c179e\"], [0.4444444444444444, \"#bd3786\"], [0.5555555555555556, \"#d8576b\"], [0.6666666666666666, \"#ed7953\"], [0.7777777777777778, \"#fb9f3a\"], [0.8888888888888888, \"#fdca26\"], [1.0, \"#f0f921\"]], \"type\": \"surface\"}], \"table\": [{\"cells\": {\"fill\": {\"color\": \"#EBF0F8\"}, \"line\": {\"color\": \"white\"}}, \"header\": {\"fill\": {\"color\": \"#C8D4E3\"}, \"line\": {\"color\": \"white\"}}, \"type\": \"table\"}]}, \"layout\": {\"annotationdefaults\": {\"arrowcolor\": \"#2a3f5f\", \"arrowhead\": 0, \"arrowwidth\": 1}, \"coloraxis\": {\"colorbar\": {\"outlinewidth\": 0, \"ticks\": \"\"}}, \"colorscale\": {\"diverging\": [[0, \"#8e0152\"], [0.1, \"#c51b7d\"], [0.2, \"#de77ae\"], [0.3, \"#f1b6da\"], [0.4, \"#fde0ef\"], [0.5, \"#f7f7f7\"], [0.6, \"#e6f5d0\"], [0.7, \"#b8e186\"], [0.8, \"#7fbc41\"], [0.9, \"#4d9221\"], [1, \"#276419\"]], \"sequential\": [[0.0, \"#0d0887\"], [0.1111111111111111, \"#46039f\"], [0.2222222222222222, \"#7201a8\"], [0.3333333333333333, \"#9c179e\"], [0.4444444444444444, \"#bd3786\"], [0.5555555555555556, \"#d8576b\"], [0.6666666666666666, \"#ed7953\"], [0.7777777777777778, \"#fb9f3a\"], [0.8888888888888888, \"#fdca26\"], [1.0, \"#f0f921\"]], \"sequentialminus\": [[0.0, \"#0d0887\"], [0.1111111111111111, \"#46039f\"], [0.2222222222222222, \"#7201a8\"], [0.3333333333333333, \"#9c179e\"], [0.4444444444444444, \"#bd3786\"], [0.5555555555555556, \"#d8576b\"], [0.6666666666666666, \"#ed7953\"], [0.7777777777777778, \"#fb9f3a\"], [0.8888888888888888, \"#fdca26\"], [1.0, \"#f0f921\"]]}, \"colorway\": [\"#636efa\", \"#EF553B\", \"#00cc96\", \"#ab63fa\", \"#FFA15A\", \"#19d3f3\", \"#FF6692\", \"#B6E880\", \"#FF97FF\", \"#FECB52\"], \"font\": {\"color\": \"#2a3f5f\"}, \"geo\": {\"bgcolor\": \"white\", \"lakecolor\": \"white\", \"landcolor\": \"#E5ECF6\", \"showlakes\": true, \"showland\": true, \"subunitcolor\": \"white\"}, \"hoverlabel\": {\"align\": \"left\"}, \"hovermode\": \"closest\", \"mapbox\": {\"style\": \"light\"}, \"paper_bgcolor\": \"white\", \"plot_bgcolor\": \"#E5ECF6\", \"polar\": {\"angularaxis\": {\"gridcolor\": \"white\", \"linecolor\": \"white\", \"ticks\": \"\"}, \"bgcolor\": \"#E5ECF6\", \"radialaxis\": {\"gridcolor\": \"white\", \"linecolor\": \"white\", \"ticks\": \"\"}}, \"scene\": {\"xaxis\": {\"backgroundcolor\": \"#E5ECF6\", \"gridcolor\": \"white\", \"gridwidth\": 2, \"linecolor\": \"white\", \"showbackground\": true, \"ticks\": \"\", \"zerolinecolor\": \"white\"}, \"yaxis\": {\"backgroundcolor\": \"#E5ECF6\", \"gridcolor\": \"white\", \"gridwidth\": 2, \"linecolor\": \"white\", \"showbackground\": true, \"ticks\": \"\", \"zerolinecolor\": \"white\"}, \"zaxis\": {\"backgroundcolor\": \"#E5ECF6\", \"gridcolor\": \"white\", \"gridwidth\": 2, \"linecolor\": \"white\", \"showbackground\": true, \"ticks\": \"\", \"zerolinecolor\": \"white\"}}, \"shapedefaults\": {\"line\": {\"color\": \"#2a3f5f\"}}, \"ternary\": {\"aaxis\": {\"gridcolor\": \"white\", \"linecolor\": \"white\", \"ticks\": \"\"}, \"baxis\": {\"gridcolor\": \"white\", \"linecolor\": \"white\", \"ticks\": \"\"}, \"bgcolor\": \"#E5ECF6\", \"caxis\": {\"gridcolor\": \"white\", \"linecolor\": \"white\", \"ticks\": \"\"}}, \"title\": {\"x\": 0.05}, \"xaxis\": {\"automargin\": true, \"gridcolor\": \"white\", \"linecolor\": \"white\", \"ticks\": \"\", \"title\": {\"standoff\": 15}, \"zerolinecolor\": \"white\", \"zerolinewidth\": 2}, \"yaxis\": {\"automargin\": true, \"gridcolor\": \"white\", \"linecolor\": \"white\", \"ticks\": \"\", \"title\": {\"standoff\": 15}, \"zerolinecolor\": \"white\", \"zerolinewidth\": 2}}}},\n",
       "                        {\"responsive\": true}\n",
       "                    ).then(function(){\n",
       "                            \n",
       "var gd = document.getElementById('e33571dc-2fe2-4641-822c-d7d21db72823');\n",
       "var x = new MutationObserver(function (mutations, observer) {{\n",
       "        var display = window.getComputedStyle(gd).display;\n",
       "        if (!display || display === 'none') {{\n",
       "            console.log([gd, 'removed!']);\n",
       "            Plotly.purge(gd);\n",
       "            observer.disconnect();\n",
       "        }}\n",
       "}});\n",
       "\n",
       "// Listen for the removal of the full notebook cells\n",
       "var notebookContainer = gd.closest('#notebook-container');\n",
       "if (notebookContainer) {{\n",
       "    x.observe(notebookContainer, {childList: true});\n",
       "}}\n",
       "\n",
       "// Listen for the clearing of the current output cell\n",
       "var outputEl = gd.closest('.output');\n",
       "if (outputEl) {{\n",
       "    x.observe(outputEl, {childList: true});\n",
       "}}\n",
       "\n",
       "                        })\n",
       "                };\n",
       "                });\n",
       "            </script>\n",
       "        </div>"
      ]
     },
     "metadata": {},
     "output_type": "display_data"
    },
    {
     "data": {
      "text/html": [
       "<div>\n",
       "<style scoped>\n",
       "    .dataframe tbody tr th:only-of-type {\n",
       "        vertical-align: middle;\n",
       "    }\n",
       "\n",
       "    .dataframe tbody tr th {\n",
       "        vertical-align: top;\n",
       "    }\n",
       "\n",
       "    .dataframe thead th {\n",
       "        text-align: right;\n",
       "    }\n",
       "</style>\n",
       "<table border=\"1\" class=\"dataframe\">\n",
       "  <thead>\n",
       "    <tr style=\"text-align: right;\">\n",
       "      <th></th>\n",
       "      <th>variaveis</th>\n",
       "      <th>importancia</th>\n",
       "    </tr>\n",
       "  </thead>\n",
       "  <tbody>\n",
       "    <tr>\n",
       "      <th>1</th>\n",
       "      <td>danceability</td>\n",
       "      <td>0.185501</td>\n",
       "    </tr>\n",
       "    <tr>\n",
       "      <th>5</th>\n",
       "      <td>loudness</td>\n",
       "      <td>0.168635</td>\n",
       "    </tr>\n",
       "    <tr>\n",
       "      <th>6</th>\n",
       "      <td>speechiness</td>\n",
       "      <td>0.125925</td>\n",
       "    </tr>\n",
       "    <tr>\n",
       "      <th>8</th>\n",
       "      <td>valence</td>\n",
       "      <td>0.102696</td>\n",
       "    </tr>\n",
       "    <tr>\n",
       "      <th>3</th>\n",
       "      <td>instrumentalness</td>\n",
       "      <td>0.100052</td>\n",
       "    </tr>\n",
       "    <tr>\n",
       "      <th>0</th>\n",
       "      <td>acousticness</td>\n",
       "      <td>0.098717</td>\n",
       "    </tr>\n",
       "    <tr>\n",
       "      <th>9</th>\n",
       "      <td>popularity</td>\n",
       "      <td>0.070972</td>\n",
       "    </tr>\n",
       "    <tr>\n",
       "      <th>2</th>\n",
       "      <td>energy</td>\n",
       "      <td>0.061707</td>\n",
       "    </tr>\n",
       "    <tr>\n",
       "      <th>4</th>\n",
       "      <td>liveness</td>\n",
       "      <td>0.046245</td>\n",
       "    </tr>\n",
       "    <tr>\n",
       "      <th>7</th>\n",
       "      <td>tempo</td>\n",
       "      <td>0.039549</td>\n",
       "    </tr>\n",
       "  </tbody>\n",
       "</table>\n",
       "</div>"
      ],
      "text/plain": [
       "          variaveis  importancia\n",
       "1      danceability     0.185501\n",
       "5          loudness     0.168635\n",
       "6       speechiness     0.125925\n",
       "8           valence     0.102696\n",
       "3  instrumentalness     0.100052\n",
       "0      acousticness     0.098717\n",
       "9        popularity     0.070972\n",
       "2            energy     0.061707\n",
       "4          liveness     0.046245\n",
       "7             tempo     0.039549"
      ]
     },
     "execution_count": 70,
     "metadata": {},
     "output_type": "execute_result"
    }
   ],
   "source": [
    "#Randon Forest\n",
    "f_imp=rf.fit(X_train,y_train).feature_importances_\n",
    "aux={\"variaveis\":variaveis,\"importancia\":f_imp}\n",
    "aux1=pd.DataFrame(aux)\n",
    "aux2=aux1.sort_values(by=\"importancia\",ascending=True)\n",
    "fig = go.Figure(go.Bar(y=aux2[\"variaveis\"],x=aux2[\"importancia\"],orientation='h'))\n",
    "fig.show()\n",
    "rf.feature_importances_\n",
    "aux1.sort_values(by=\"importancia\",ascending=False)"
   ]
  },
  {
   "cell_type": "code",
   "execution_count": 71,
   "metadata": {},
   "outputs": [
    {
     "data": {
      "application/vnd.plotly.v1+json": {
       "config": {
        "plotlyServerURL": "https://plot.ly"
       },
       "data": [
        {
         "orientation": "h",
         "type": "bar",
         "x": [
          0.02822886034846306,
          0.031002860516309738,
          0.04128998890519142,
          0.056078147143125534,
          0.06613348424434662,
          0.07752007991075516,
          0.12208165973424911,
          0.17731840908527374,
          0.19584229588508606,
          0.20450425148010254
         ],
         "y": [
          "tempo",
          "popularity",
          "liveness",
          "valence",
          "energy",
          "speechiness",
          "acousticness",
          "loudness",
          "instrumentalness",
          "danceability"
         ]
        }
       ],
       "layout": {
        "template": {
         "data": {
          "bar": [
           {
            "error_x": {
             "color": "#2a3f5f"
            },
            "error_y": {
             "color": "#2a3f5f"
            },
            "marker": {
             "line": {
              "color": "#E5ECF6",
              "width": 0.5
             }
            },
            "type": "bar"
           }
          ],
          "barpolar": [
           {
            "marker": {
             "line": {
              "color": "#E5ECF6",
              "width": 0.5
             }
            },
            "type": "barpolar"
           }
          ],
          "carpet": [
           {
            "aaxis": {
             "endlinecolor": "#2a3f5f",
             "gridcolor": "white",
             "linecolor": "white",
             "minorgridcolor": "white",
             "startlinecolor": "#2a3f5f"
            },
            "baxis": {
             "endlinecolor": "#2a3f5f",
             "gridcolor": "white",
             "linecolor": "white",
             "minorgridcolor": "white",
             "startlinecolor": "#2a3f5f"
            },
            "type": "carpet"
           }
          ],
          "choropleth": [
           {
            "colorbar": {
             "outlinewidth": 0,
             "ticks": ""
            },
            "type": "choropleth"
           }
          ],
          "contour": [
           {
            "colorbar": {
             "outlinewidth": 0,
             "ticks": ""
            },
            "colorscale": [
             [
              0,
              "#0d0887"
             ],
             [
              0.1111111111111111,
              "#46039f"
             ],
             [
              0.2222222222222222,
              "#7201a8"
             ],
             [
              0.3333333333333333,
              "#9c179e"
             ],
             [
              0.4444444444444444,
              "#bd3786"
             ],
             [
              0.5555555555555556,
              "#d8576b"
             ],
             [
              0.6666666666666666,
              "#ed7953"
             ],
             [
              0.7777777777777778,
              "#fb9f3a"
             ],
             [
              0.8888888888888888,
              "#fdca26"
             ],
             [
              1,
              "#f0f921"
             ]
            ],
            "type": "contour"
           }
          ],
          "contourcarpet": [
           {
            "colorbar": {
             "outlinewidth": 0,
             "ticks": ""
            },
            "type": "contourcarpet"
           }
          ],
          "heatmap": [
           {
            "colorbar": {
             "outlinewidth": 0,
             "ticks": ""
            },
            "colorscale": [
             [
              0,
              "#0d0887"
             ],
             [
              0.1111111111111111,
              "#46039f"
             ],
             [
              0.2222222222222222,
              "#7201a8"
             ],
             [
              0.3333333333333333,
              "#9c179e"
             ],
             [
              0.4444444444444444,
              "#bd3786"
             ],
             [
              0.5555555555555556,
              "#d8576b"
             ],
             [
              0.6666666666666666,
              "#ed7953"
             ],
             [
              0.7777777777777778,
              "#fb9f3a"
             ],
             [
              0.8888888888888888,
              "#fdca26"
             ],
             [
              1,
              "#f0f921"
             ]
            ],
            "type": "heatmap"
           }
          ],
          "heatmapgl": [
           {
            "colorbar": {
             "outlinewidth": 0,
             "ticks": ""
            },
            "colorscale": [
             [
              0,
              "#0d0887"
             ],
             [
              0.1111111111111111,
              "#46039f"
             ],
             [
              0.2222222222222222,
              "#7201a8"
             ],
             [
              0.3333333333333333,
              "#9c179e"
             ],
             [
              0.4444444444444444,
              "#bd3786"
             ],
             [
              0.5555555555555556,
              "#d8576b"
             ],
             [
              0.6666666666666666,
              "#ed7953"
             ],
             [
              0.7777777777777778,
              "#fb9f3a"
             ],
             [
              0.8888888888888888,
              "#fdca26"
             ],
             [
              1,
              "#f0f921"
             ]
            ],
            "type": "heatmapgl"
           }
          ],
          "histogram": [
           {
            "marker": {
             "colorbar": {
              "outlinewidth": 0,
              "ticks": ""
             }
            },
            "type": "histogram"
           }
          ],
          "histogram2d": [
           {
            "colorbar": {
             "outlinewidth": 0,
             "ticks": ""
            },
            "colorscale": [
             [
              0,
              "#0d0887"
             ],
             [
              0.1111111111111111,
              "#46039f"
             ],
             [
              0.2222222222222222,
              "#7201a8"
             ],
             [
              0.3333333333333333,
              "#9c179e"
             ],
             [
              0.4444444444444444,
              "#bd3786"
             ],
             [
              0.5555555555555556,
              "#d8576b"
             ],
             [
              0.6666666666666666,
              "#ed7953"
             ],
             [
              0.7777777777777778,
              "#fb9f3a"
             ],
             [
              0.8888888888888888,
              "#fdca26"
             ],
             [
              1,
              "#f0f921"
             ]
            ],
            "type": "histogram2d"
           }
          ],
          "histogram2dcontour": [
           {
            "colorbar": {
             "outlinewidth": 0,
             "ticks": ""
            },
            "colorscale": [
             [
              0,
              "#0d0887"
             ],
             [
              0.1111111111111111,
              "#46039f"
             ],
             [
              0.2222222222222222,
              "#7201a8"
             ],
             [
              0.3333333333333333,
              "#9c179e"
             ],
             [
              0.4444444444444444,
              "#bd3786"
             ],
             [
              0.5555555555555556,
              "#d8576b"
             ],
             [
              0.6666666666666666,
              "#ed7953"
             ],
             [
              0.7777777777777778,
              "#fb9f3a"
             ],
             [
              0.8888888888888888,
              "#fdca26"
             ],
             [
              1,
              "#f0f921"
             ]
            ],
            "type": "histogram2dcontour"
           }
          ],
          "mesh3d": [
           {
            "colorbar": {
             "outlinewidth": 0,
             "ticks": ""
            },
            "type": "mesh3d"
           }
          ],
          "parcoords": [
           {
            "line": {
             "colorbar": {
              "outlinewidth": 0,
              "ticks": ""
             }
            },
            "type": "parcoords"
           }
          ],
          "pie": [
           {
            "automargin": true,
            "type": "pie"
           }
          ],
          "scatter": [
           {
            "marker": {
             "colorbar": {
              "outlinewidth": 0,
              "ticks": ""
             }
            },
            "type": "scatter"
           }
          ],
          "scatter3d": [
           {
            "line": {
             "colorbar": {
              "outlinewidth": 0,
              "ticks": ""
             }
            },
            "marker": {
             "colorbar": {
              "outlinewidth": 0,
              "ticks": ""
             }
            },
            "type": "scatter3d"
           }
          ],
          "scattercarpet": [
           {
            "marker": {
             "colorbar": {
              "outlinewidth": 0,
              "ticks": ""
             }
            },
            "type": "scattercarpet"
           }
          ],
          "scattergeo": [
           {
            "marker": {
             "colorbar": {
              "outlinewidth": 0,
              "ticks": ""
             }
            },
            "type": "scattergeo"
           }
          ],
          "scattergl": [
           {
            "marker": {
             "colorbar": {
              "outlinewidth": 0,
              "ticks": ""
             }
            },
            "type": "scattergl"
           }
          ],
          "scattermapbox": [
           {
            "marker": {
             "colorbar": {
              "outlinewidth": 0,
              "ticks": ""
             }
            },
            "type": "scattermapbox"
           }
          ],
          "scatterpolar": [
           {
            "marker": {
             "colorbar": {
              "outlinewidth": 0,
              "ticks": ""
             }
            },
            "type": "scatterpolar"
           }
          ],
          "scatterpolargl": [
           {
            "marker": {
             "colorbar": {
              "outlinewidth": 0,
              "ticks": ""
             }
            },
            "type": "scatterpolargl"
           }
          ],
          "scatterternary": [
           {
            "marker": {
             "colorbar": {
              "outlinewidth": 0,
              "ticks": ""
             }
            },
            "type": "scatterternary"
           }
          ],
          "surface": [
           {
            "colorbar": {
             "outlinewidth": 0,
             "ticks": ""
            },
            "colorscale": [
             [
              0,
              "#0d0887"
             ],
             [
              0.1111111111111111,
              "#46039f"
             ],
             [
              0.2222222222222222,
              "#7201a8"
             ],
             [
              0.3333333333333333,
              "#9c179e"
             ],
             [
              0.4444444444444444,
              "#bd3786"
             ],
             [
              0.5555555555555556,
              "#d8576b"
             ],
             [
              0.6666666666666666,
              "#ed7953"
             ],
             [
              0.7777777777777778,
              "#fb9f3a"
             ],
             [
              0.8888888888888888,
              "#fdca26"
             ],
             [
              1,
              "#f0f921"
             ]
            ],
            "type": "surface"
           }
          ],
          "table": [
           {
            "cells": {
             "fill": {
              "color": "#EBF0F8"
             },
             "line": {
              "color": "white"
             }
            },
            "header": {
             "fill": {
              "color": "#C8D4E3"
             },
             "line": {
              "color": "white"
             }
            },
            "type": "table"
           }
          ]
         },
         "layout": {
          "annotationdefaults": {
           "arrowcolor": "#2a3f5f",
           "arrowhead": 0,
           "arrowwidth": 1
          },
          "coloraxis": {
           "colorbar": {
            "outlinewidth": 0,
            "ticks": ""
           }
          },
          "colorscale": {
           "diverging": [
            [
             0,
             "#8e0152"
            ],
            [
             0.1,
             "#c51b7d"
            ],
            [
             0.2,
             "#de77ae"
            ],
            [
             0.3,
             "#f1b6da"
            ],
            [
             0.4,
             "#fde0ef"
            ],
            [
             0.5,
             "#f7f7f7"
            ],
            [
             0.6,
             "#e6f5d0"
            ],
            [
             0.7,
             "#b8e186"
            ],
            [
             0.8,
             "#7fbc41"
            ],
            [
             0.9,
             "#4d9221"
            ],
            [
             1,
             "#276419"
            ]
           ],
           "sequential": [
            [
             0,
             "#0d0887"
            ],
            [
             0.1111111111111111,
             "#46039f"
            ],
            [
             0.2222222222222222,
             "#7201a8"
            ],
            [
             0.3333333333333333,
             "#9c179e"
            ],
            [
             0.4444444444444444,
             "#bd3786"
            ],
            [
             0.5555555555555556,
             "#d8576b"
            ],
            [
             0.6666666666666666,
             "#ed7953"
            ],
            [
             0.7777777777777778,
             "#fb9f3a"
            ],
            [
             0.8888888888888888,
             "#fdca26"
            ],
            [
             1,
             "#f0f921"
            ]
           ],
           "sequentialminus": [
            [
             0,
             "#0d0887"
            ],
            [
             0.1111111111111111,
             "#46039f"
            ],
            [
             0.2222222222222222,
             "#7201a8"
            ],
            [
             0.3333333333333333,
             "#9c179e"
            ],
            [
             0.4444444444444444,
             "#bd3786"
            ],
            [
             0.5555555555555556,
             "#d8576b"
            ],
            [
             0.6666666666666666,
             "#ed7953"
            ],
            [
             0.7777777777777778,
             "#fb9f3a"
            ],
            [
             0.8888888888888888,
             "#fdca26"
            ],
            [
             1,
             "#f0f921"
            ]
           ]
          },
          "colorway": [
           "#636efa",
           "#EF553B",
           "#00cc96",
           "#ab63fa",
           "#FFA15A",
           "#19d3f3",
           "#FF6692",
           "#B6E880",
           "#FF97FF",
           "#FECB52"
          ],
          "font": {
           "color": "#2a3f5f"
          },
          "geo": {
           "bgcolor": "white",
           "lakecolor": "white",
           "landcolor": "#E5ECF6",
           "showlakes": true,
           "showland": true,
           "subunitcolor": "white"
          },
          "hoverlabel": {
           "align": "left"
          },
          "hovermode": "closest",
          "mapbox": {
           "style": "light"
          },
          "paper_bgcolor": "white",
          "plot_bgcolor": "#E5ECF6",
          "polar": {
           "angularaxis": {
            "gridcolor": "white",
            "linecolor": "white",
            "ticks": ""
           },
           "bgcolor": "#E5ECF6",
           "radialaxis": {
            "gridcolor": "white",
            "linecolor": "white",
            "ticks": ""
           }
          },
          "scene": {
           "xaxis": {
            "backgroundcolor": "#E5ECF6",
            "gridcolor": "white",
            "gridwidth": 2,
            "linecolor": "white",
            "showbackground": true,
            "ticks": "",
            "zerolinecolor": "white"
           },
           "yaxis": {
            "backgroundcolor": "#E5ECF6",
            "gridcolor": "white",
            "gridwidth": 2,
            "linecolor": "white",
            "showbackground": true,
            "ticks": "",
            "zerolinecolor": "white"
           },
           "zaxis": {
            "backgroundcolor": "#E5ECF6",
            "gridcolor": "white",
            "gridwidth": 2,
            "linecolor": "white",
            "showbackground": true,
            "ticks": "",
            "zerolinecolor": "white"
           }
          },
          "shapedefaults": {
           "line": {
            "color": "#2a3f5f"
           }
          },
          "ternary": {
           "aaxis": {
            "gridcolor": "white",
            "linecolor": "white",
            "ticks": ""
           },
           "baxis": {
            "gridcolor": "white",
            "linecolor": "white",
            "ticks": ""
           },
           "bgcolor": "#E5ECF6",
           "caxis": {
            "gridcolor": "white",
            "linecolor": "white",
            "ticks": ""
           }
          },
          "title": {
           "x": 0.05
          },
          "xaxis": {
           "automargin": true,
           "gridcolor": "white",
           "linecolor": "white",
           "ticks": "",
           "title": {
            "standoff": 15
           },
           "zerolinecolor": "white",
           "zerolinewidth": 2
          },
          "yaxis": {
           "automargin": true,
           "gridcolor": "white",
           "linecolor": "white",
           "ticks": "",
           "title": {
            "standoff": 15
           },
           "zerolinecolor": "white",
           "zerolinewidth": 2
          }
         }
        }
       }
      },
      "text/html": [
       "<div>\n",
       "        \n",
       "        \n",
       "            <div id=\"399173ed-2540-421d-b9ff-ebf5847668f1\" class=\"plotly-graph-div\" style=\"height:525px; width:100%;\"></div>\n",
       "            <script type=\"text/javascript\">\n",
       "                require([\"plotly\"], function(Plotly) {\n",
       "                    window.PLOTLYENV=window.PLOTLYENV || {};\n",
       "                    \n",
       "                if (document.getElementById(\"399173ed-2540-421d-b9ff-ebf5847668f1\")) {\n",
       "                    Plotly.newPlot(\n",
       "                        '399173ed-2540-421d-b9ff-ebf5847668f1',\n",
       "                        [{\"orientation\": \"h\", \"type\": \"bar\", \"x\": [0.02822886034846306, 0.031002860516309738, 0.04128998890519142, 0.056078147143125534, 0.06613348424434662, 0.07752007991075516, 0.12208165973424911, 0.17731840908527374, 0.19584229588508606, 0.20450425148010254], \"y\": [\"tempo\", \"popularity\", \"liveness\", \"valence\", \"energy\", \"speechiness\", \"acousticness\", \"loudness\", \"instrumentalness\", \"danceability\"]}],\n",
       "                        {\"template\": {\"data\": {\"bar\": [{\"error_x\": {\"color\": \"#2a3f5f\"}, \"error_y\": {\"color\": \"#2a3f5f\"}, \"marker\": {\"line\": {\"color\": \"#E5ECF6\", \"width\": 0.5}}, \"type\": \"bar\"}], \"barpolar\": [{\"marker\": {\"line\": {\"color\": \"#E5ECF6\", \"width\": 0.5}}, \"type\": \"barpolar\"}], \"carpet\": [{\"aaxis\": {\"endlinecolor\": \"#2a3f5f\", \"gridcolor\": \"white\", \"linecolor\": \"white\", \"minorgridcolor\": \"white\", \"startlinecolor\": \"#2a3f5f\"}, \"baxis\": {\"endlinecolor\": \"#2a3f5f\", \"gridcolor\": \"white\", \"linecolor\": \"white\", \"minorgridcolor\": \"white\", \"startlinecolor\": \"#2a3f5f\"}, \"type\": \"carpet\"}], \"choropleth\": [{\"colorbar\": {\"outlinewidth\": 0, \"ticks\": \"\"}, \"type\": \"choropleth\"}], \"contour\": [{\"colorbar\": {\"outlinewidth\": 0, \"ticks\": \"\"}, \"colorscale\": [[0.0, \"#0d0887\"], [0.1111111111111111, \"#46039f\"], [0.2222222222222222, \"#7201a8\"], [0.3333333333333333, \"#9c179e\"], [0.4444444444444444, \"#bd3786\"], [0.5555555555555556, \"#d8576b\"], [0.6666666666666666, \"#ed7953\"], [0.7777777777777778, \"#fb9f3a\"], [0.8888888888888888, \"#fdca26\"], [1.0, \"#f0f921\"]], \"type\": \"contour\"}], \"contourcarpet\": [{\"colorbar\": {\"outlinewidth\": 0, \"ticks\": \"\"}, \"type\": \"contourcarpet\"}], \"heatmap\": [{\"colorbar\": {\"outlinewidth\": 0, \"ticks\": \"\"}, \"colorscale\": [[0.0, \"#0d0887\"], [0.1111111111111111, \"#46039f\"], [0.2222222222222222, \"#7201a8\"], [0.3333333333333333, \"#9c179e\"], [0.4444444444444444, \"#bd3786\"], [0.5555555555555556, \"#d8576b\"], [0.6666666666666666, \"#ed7953\"], [0.7777777777777778, \"#fb9f3a\"], [0.8888888888888888, \"#fdca26\"], [1.0, \"#f0f921\"]], \"type\": \"heatmap\"}], \"heatmapgl\": [{\"colorbar\": {\"outlinewidth\": 0, \"ticks\": \"\"}, \"colorscale\": [[0.0, \"#0d0887\"], [0.1111111111111111, \"#46039f\"], [0.2222222222222222, \"#7201a8\"], [0.3333333333333333, \"#9c179e\"], [0.4444444444444444, \"#bd3786\"], [0.5555555555555556, \"#d8576b\"], [0.6666666666666666, \"#ed7953\"], [0.7777777777777778, \"#fb9f3a\"], [0.8888888888888888, \"#fdca26\"], [1.0, \"#f0f921\"]], \"type\": \"heatmapgl\"}], \"histogram\": [{\"marker\": {\"colorbar\": {\"outlinewidth\": 0, \"ticks\": \"\"}}, \"type\": \"histogram\"}], \"histogram2d\": [{\"colorbar\": {\"outlinewidth\": 0, \"ticks\": \"\"}, \"colorscale\": [[0.0, \"#0d0887\"], [0.1111111111111111, \"#46039f\"], [0.2222222222222222, \"#7201a8\"], [0.3333333333333333, \"#9c179e\"], [0.4444444444444444, \"#bd3786\"], [0.5555555555555556, \"#d8576b\"], [0.6666666666666666, \"#ed7953\"], [0.7777777777777778, \"#fb9f3a\"], [0.8888888888888888, \"#fdca26\"], [1.0, \"#f0f921\"]], \"type\": \"histogram2d\"}], \"histogram2dcontour\": [{\"colorbar\": {\"outlinewidth\": 0, \"ticks\": \"\"}, \"colorscale\": [[0.0, \"#0d0887\"], [0.1111111111111111, \"#46039f\"], [0.2222222222222222, \"#7201a8\"], [0.3333333333333333, \"#9c179e\"], [0.4444444444444444, \"#bd3786\"], [0.5555555555555556, \"#d8576b\"], [0.6666666666666666, \"#ed7953\"], [0.7777777777777778, \"#fb9f3a\"], [0.8888888888888888, \"#fdca26\"], [1.0, \"#f0f921\"]], \"type\": \"histogram2dcontour\"}], \"mesh3d\": [{\"colorbar\": {\"outlinewidth\": 0, \"ticks\": \"\"}, \"type\": \"mesh3d\"}], \"parcoords\": [{\"line\": {\"colorbar\": {\"outlinewidth\": 0, \"ticks\": \"\"}}, \"type\": \"parcoords\"}], \"pie\": [{\"automargin\": true, \"type\": \"pie\"}], \"scatter\": [{\"marker\": {\"colorbar\": {\"outlinewidth\": 0, \"ticks\": \"\"}}, \"type\": \"scatter\"}], \"scatter3d\": [{\"line\": {\"colorbar\": {\"outlinewidth\": 0, \"ticks\": \"\"}}, \"marker\": {\"colorbar\": {\"outlinewidth\": 0, \"ticks\": \"\"}}, \"type\": \"scatter3d\"}], \"scattercarpet\": [{\"marker\": {\"colorbar\": {\"outlinewidth\": 0, \"ticks\": \"\"}}, \"type\": \"scattercarpet\"}], \"scattergeo\": [{\"marker\": {\"colorbar\": {\"outlinewidth\": 0, \"ticks\": \"\"}}, \"type\": \"scattergeo\"}], \"scattergl\": [{\"marker\": {\"colorbar\": {\"outlinewidth\": 0, \"ticks\": \"\"}}, \"type\": \"scattergl\"}], \"scattermapbox\": [{\"marker\": {\"colorbar\": {\"outlinewidth\": 0, \"ticks\": \"\"}}, \"type\": \"scattermapbox\"}], \"scatterpolar\": [{\"marker\": {\"colorbar\": {\"outlinewidth\": 0, \"ticks\": \"\"}}, \"type\": \"scatterpolar\"}], \"scatterpolargl\": [{\"marker\": {\"colorbar\": {\"outlinewidth\": 0, \"ticks\": \"\"}}, \"type\": \"scatterpolargl\"}], \"scatterternary\": [{\"marker\": {\"colorbar\": {\"outlinewidth\": 0, \"ticks\": \"\"}}, \"type\": \"scatterternary\"}], \"surface\": [{\"colorbar\": {\"outlinewidth\": 0, \"ticks\": \"\"}, \"colorscale\": [[0.0, \"#0d0887\"], [0.1111111111111111, \"#46039f\"], [0.2222222222222222, \"#7201a8\"], [0.3333333333333333, \"#9c179e\"], [0.4444444444444444, \"#bd3786\"], [0.5555555555555556, \"#d8576b\"], [0.6666666666666666, \"#ed7953\"], [0.7777777777777778, \"#fb9f3a\"], [0.8888888888888888, \"#fdca26\"], [1.0, \"#f0f921\"]], \"type\": \"surface\"}], \"table\": [{\"cells\": {\"fill\": {\"color\": \"#EBF0F8\"}, \"line\": {\"color\": \"white\"}}, \"header\": {\"fill\": {\"color\": \"#C8D4E3\"}, \"line\": {\"color\": \"white\"}}, \"type\": \"table\"}]}, \"layout\": {\"annotationdefaults\": {\"arrowcolor\": \"#2a3f5f\", \"arrowhead\": 0, \"arrowwidth\": 1}, \"coloraxis\": {\"colorbar\": {\"outlinewidth\": 0, \"ticks\": \"\"}}, \"colorscale\": {\"diverging\": [[0, \"#8e0152\"], [0.1, \"#c51b7d\"], [0.2, \"#de77ae\"], [0.3, \"#f1b6da\"], [0.4, \"#fde0ef\"], [0.5, \"#f7f7f7\"], [0.6, \"#e6f5d0\"], [0.7, \"#b8e186\"], [0.8, \"#7fbc41\"], [0.9, \"#4d9221\"], [1, \"#276419\"]], \"sequential\": [[0.0, \"#0d0887\"], [0.1111111111111111, \"#46039f\"], [0.2222222222222222, \"#7201a8\"], [0.3333333333333333, \"#9c179e\"], [0.4444444444444444, \"#bd3786\"], [0.5555555555555556, \"#d8576b\"], [0.6666666666666666, \"#ed7953\"], [0.7777777777777778, \"#fb9f3a\"], [0.8888888888888888, \"#fdca26\"], [1.0, \"#f0f921\"]], \"sequentialminus\": [[0.0, \"#0d0887\"], [0.1111111111111111, \"#46039f\"], [0.2222222222222222, \"#7201a8\"], [0.3333333333333333, \"#9c179e\"], [0.4444444444444444, \"#bd3786\"], [0.5555555555555556, \"#d8576b\"], [0.6666666666666666, \"#ed7953\"], [0.7777777777777778, \"#fb9f3a\"], [0.8888888888888888, \"#fdca26\"], [1.0, \"#f0f921\"]]}, \"colorway\": [\"#636efa\", \"#EF553B\", \"#00cc96\", \"#ab63fa\", \"#FFA15A\", \"#19d3f3\", \"#FF6692\", \"#B6E880\", \"#FF97FF\", \"#FECB52\"], \"font\": {\"color\": \"#2a3f5f\"}, \"geo\": {\"bgcolor\": \"white\", \"lakecolor\": \"white\", \"landcolor\": \"#E5ECF6\", \"showlakes\": true, \"showland\": true, \"subunitcolor\": \"white\"}, \"hoverlabel\": {\"align\": \"left\"}, \"hovermode\": \"closest\", \"mapbox\": {\"style\": \"light\"}, \"paper_bgcolor\": \"white\", \"plot_bgcolor\": \"#E5ECF6\", \"polar\": {\"angularaxis\": {\"gridcolor\": \"white\", \"linecolor\": \"white\", \"ticks\": \"\"}, \"bgcolor\": \"#E5ECF6\", \"radialaxis\": {\"gridcolor\": \"white\", \"linecolor\": \"white\", \"ticks\": \"\"}}, \"scene\": {\"xaxis\": {\"backgroundcolor\": \"#E5ECF6\", \"gridcolor\": \"white\", \"gridwidth\": 2, \"linecolor\": \"white\", \"showbackground\": true, \"ticks\": \"\", \"zerolinecolor\": \"white\"}, \"yaxis\": {\"backgroundcolor\": \"#E5ECF6\", \"gridcolor\": \"white\", \"gridwidth\": 2, \"linecolor\": \"white\", \"showbackground\": true, \"ticks\": \"\", \"zerolinecolor\": \"white\"}, \"zaxis\": {\"backgroundcolor\": \"#E5ECF6\", \"gridcolor\": \"white\", \"gridwidth\": 2, \"linecolor\": \"white\", \"showbackground\": true, \"ticks\": \"\", \"zerolinecolor\": \"white\"}}, \"shapedefaults\": {\"line\": {\"color\": \"#2a3f5f\"}}, \"ternary\": {\"aaxis\": {\"gridcolor\": \"white\", \"linecolor\": \"white\", \"ticks\": \"\"}, \"baxis\": {\"gridcolor\": \"white\", \"linecolor\": \"white\", \"ticks\": \"\"}, \"bgcolor\": \"#E5ECF6\", \"caxis\": {\"gridcolor\": \"white\", \"linecolor\": \"white\", \"ticks\": \"\"}}, \"title\": {\"x\": 0.05}, \"xaxis\": {\"automargin\": true, \"gridcolor\": \"white\", \"linecolor\": \"white\", \"ticks\": \"\", \"title\": {\"standoff\": 15}, \"zerolinecolor\": \"white\", \"zerolinewidth\": 2}, \"yaxis\": {\"automargin\": true, \"gridcolor\": \"white\", \"linecolor\": \"white\", \"ticks\": \"\", \"title\": {\"standoff\": 15}, \"zerolinecolor\": \"white\", \"zerolinewidth\": 2}}}},\n",
       "                        {\"responsive\": true}\n",
       "                    ).then(function(){\n",
       "                            \n",
       "var gd = document.getElementById('399173ed-2540-421d-b9ff-ebf5847668f1');\n",
       "var x = new MutationObserver(function (mutations, observer) {{\n",
       "        var display = window.getComputedStyle(gd).display;\n",
       "        if (!display || display === 'none') {{\n",
       "            console.log([gd, 'removed!']);\n",
       "            Plotly.purge(gd);\n",
       "            observer.disconnect();\n",
       "        }}\n",
       "}});\n",
       "\n",
       "// Listen for the removal of the full notebook cells\n",
       "var notebookContainer = gd.closest('#notebook-container');\n",
       "if (notebookContainer) {{\n",
       "    x.observe(notebookContainer, {childList: true});\n",
       "}}\n",
       "\n",
       "// Listen for the clearing of the current output cell\n",
       "var outputEl = gd.closest('.output');\n",
       "if (outputEl) {{\n",
       "    x.observe(outputEl, {childList: true});\n",
       "}}\n",
       "\n",
       "                        })\n",
       "                };\n",
       "                });\n",
       "            </script>\n",
       "        </div>"
      ]
     },
     "metadata": {},
     "output_type": "display_data"
    },
    {
     "data": {
      "text/html": [
       "<div>\n",
       "<style scoped>\n",
       "    .dataframe tbody tr th:only-of-type {\n",
       "        vertical-align: middle;\n",
       "    }\n",
       "\n",
       "    .dataframe tbody tr th {\n",
       "        vertical-align: top;\n",
       "    }\n",
       "\n",
       "    .dataframe thead th {\n",
       "        text-align: right;\n",
       "    }\n",
       "</style>\n",
       "<table border=\"1\" class=\"dataframe\">\n",
       "  <thead>\n",
       "    <tr style=\"text-align: right;\">\n",
       "      <th></th>\n",
       "      <th>variaveis</th>\n",
       "      <th>importancia</th>\n",
       "    </tr>\n",
       "  </thead>\n",
       "  <tbody>\n",
       "    <tr>\n",
       "      <th>1</th>\n",
       "      <td>danceability</td>\n",
       "      <td>0.204504</td>\n",
       "    </tr>\n",
       "    <tr>\n",
       "      <th>3</th>\n",
       "      <td>instrumentalness</td>\n",
       "      <td>0.195842</td>\n",
       "    </tr>\n",
       "    <tr>\n",
       "      <th>5</th>\n",
       "      <td>loudness</td>\n",
       "      <td>0.177318</td>\n",
       "    </tr>\n",
       "    <tr>\n",
       "      <th>0</th>\n",
       "      <td>acousticness</td>\n",
       "      <td>0.122082</td>\n",
       "    </tr>\n",
       "    <tr>\n",
       "      <th>6</th>\n",
       "      <td>speechiness</td>\n",
       "      <td>0.077520</td>\n",
       "    </tr>\n",
       "    <tr>\n",
       "      <th>2</th>\n",
       "      <td>energy</td>\n",
       "      <td>0.066133</td>\n",
       "    </tr>\n",
       "    <tr>\n",
       "      <th>8</th>\n",
       "      <td>valence</td>\n",
       "      <td>0.056078</td>\n",
       "    </tr>\n",
       "    <tr>\n",
       "      <th>4</th>\n",
       "      <td>liveness</td>\n",
       "      <td>0.041290</td>\n",
       "    </tr>\n",
       "    <tr>\n",
       "      <th>9</th>\n",
       "      <td>popularity</td>\n",
       "      <td>0.031003</td>\n",
       "    </tr>\n",
       "    <tr>\n",
       "      <th>7</th>\n",
       "      <td>tempo</td>\n",
       "      <td>0.028229</td>\n",
       "    </tr>\n",
       "  </tbody>\n",
       "</table>\n",
       "</div>"
      ],
      "text/plain": [
       "          variaveis  importancia\n",
       "1      danceability     0.204504\n",
       "3  instrumentalness     0.195842\n",
       "5          loudness     0.177318\n",
       "0      acousticness     0.122082\n",
       "6       speechiness     0.077520\n",
       "2            energy     0.066133\n",
       "8           valence     0.056078\n",
       "4          liveness     0.041290\n",
       "9        popularity     0.031003\n",
       "7             tempo     0.028229"
      ]
     },
     "execution_count": 71,
     "metadata": {},
     "output_type": "execute_result"
    }
   ],
   "source": [
    "#XGBoost\n",
    "f_imp=gboost.fit(X_train,y_train).feature_importances_\n",
    "aux={\"variaveis\":variaveis,\"importancia\":f_imp}\n",
    "aux1=pd.DataFrame(aux)\n",
    "aux2=aux1.sort_values(by=\"importancia\",ascending=True)\n",
    "fig = go.Figure(go.Bar(y=aux2[\"variaveis\"],x=aux2[\"importancia\"],orientation='h'))\n",
    "fig.show()"
   ]
  },
  {
   "cell_type": "markdown",
   "metadata": {},
   "source": [
    "## Predição por música"
   ]
  },
  {
   "cell_type": "code",
   "execution_count": 77,
   "metadata": {},
   "outputs": [
    {
     "data": {
      "text/html": [
       "<div>\n",
       "<style scoped>\n",
       "    .dataframe tbody tr th:only-of-type {\n",
       "        vertical-align: middle;\n",
       "    }\n",
       "\n",
       "    .dataframe tbody tr th {\n",
       "        vertical-align: top;\n",
       "    }\n",
       "\n",
       "    .dataframe thead th {\n",
       "        text-align: right;\n",
       "    }\n",
       "</style>\n",
       "<table border=\"1\" class=\"dataframe\">\n",
       "  <thead>\n",
       "    <tr style=\"text-align: right;\">\n",
       "      <th></th>\n",
       "      <th>Musica</th>\n",
       "      <th>Artista</th>\n",
       "      <th>Artista Modelo</th>\n",
       "      <th>Score Artista1</th>\n",
       "      <th>Score Artista2</th>\n",
       "      <th>std_acousticness</th>\n",
       "      <th>std_danceability</th>\n",
       "      <th>std_energy</th>\n",
       "      <th>std_instrumentalness</th>\n",
       "      <th>std_liveness</th>\n",
       "      <th>std_loudness</th>\n",
       "      <th>std_speechiness</th>\n",
       "      <th>std_tempo</th>\n",
       "      <th>std_valence</th>\n",
       "      <th>std_popularity</th>\n",
       "    </tr>\n",
       "  </thead>\n",
       "  <tbody>\n",
       "    <tr>\n",
       "      <th>1488</th>\n",
       "      <td>Come Together - 2019 Mix</td>\n",
       "      <td>The Beatles</td>\n",
       "      <td>The Beatles</td>\n",
       "      <td>0.070000</td>\n",
       "      <td>0.930000</td>\n",
       "      <td>-0.879801</td>\n",
       "      <td>-0.144390</td>\n",
       "      <td>-0.779832</td>\n",
       "      <td>0.626715</td>\n",
       "      <td>-0.680510</td>\n",
       "      <td>-0.232021</td>\n",
       "      <td>-0.349208</td>\n",
       "      <td>1.605693</td>\n",
       "      <td>-1.684756</td>\n",
       "      <td>0.906787</td>\n",
       "    </tr>\n",
       "    <tr>\n",
       "      <th>1489</th>\n",
       "      <td>Something - 2019 Mix</td>\n",
       "      <td>The Beatles</td>\n",
       "      <td>The Beatles</td>\n",
       "      <td>0.010063</td>\n",
       "      <td>0.989937</td>\n",
       "      <td>-0.836089</td>\n",
       "      <td>-0.868100</td>\n",
       "      <td>-0.655259</td>\n",
       "      <td>-0.316571</td>\n",
       "      <td>-0.070362</td>\n",
       "      <td>0.189072</td>\n",
       "      <td>-0.422006</td>\n",
       "      <td>0.498391</td>\n",
       "      <td>-0.468425</td>\n",
       "      <td>0.795110</td>\n",
       "    </tr>\n",
       "    <tr>\n",
       "      <th>1490</th>\n",
       "      <td>Maxwell's Silver Hammer - 2019 Mix</td>\n",
       "      <td>The Beatles</td>\n",
       "      <td>The Beatles</td>\n",
       "      <td>0.060000</td>\n",
       "      <td>0.940000</td>\n",
       "      <td>0.462956</td>\n",
       "      <td>1.544268</td>\n",
       "      <td>-0.650276</td>\n",
       "      <td>-0.316075</td>\n",
       "      <td>0.314544</td>\n",
       "      <td>0.174460</td>\n",
       "      <td>-0.363881</td>\n",
       "      <td>0.421319</td>\n",
       "      <td>0.509332</td>\n",
       "      <td>0.683433</td>\n",
       "    </tr>\n",
       "    <tr>\n",
       "      <th>1491</th>\n",
       "      <td>Oh! Darling - 2019 Mix</td>\n",
       "      <td>The Beatles</td>\n",
       "      <td>The Beatles</td>\n",
       "      <td>0.000063</td>\n",
       "      <td>0.999937</td>\n",
       "      <td>-1.034896</td>\n",
       "      <td>-0.741451</td>\n",
       "      <td>0.759890</td>\n",
       "      <td>-0.294289</td>\n",
       "      <td>0.495117</td>\n",
       "      <td>0.949962</td>\n",
       "      <td>-0.356545</td>\n",
       "      <td>1.913388</td>\n",
       "      <td>-0.249408</td>\n",
       "      <td>0.795110</td>\n",
       "    </tr>\n",
       "    <tr>\n",
       "      <th>1492</th>\n",
       "      <td>Octopus's Garden - 2019 Mix</td>\n",
       "      <td>The Beatles</td>\n",
       "      <td>The Beatles</td>\n",
       "      <td>0.020063</td>\n",
       "      <td>0.979937</td>\n",
       "      <td>-0.780397</td>\n",
       "      <td>0.030507</td>\n",
       "      <td>0.640300</td>\n",
       "      <td>-0.313070</td>\n",
       "      <td>-0.564563</td>\n",
       "      <td>1.037634</td>\n",
       "      <td>-0.392097</td>\n",
       "      <td>-0.940193</td>\n",
       "      <td>0.188627</td>\n",
       "      <td>0.683433</td>\n",
       "    </tr>\n",
       "    <tr>\n",
       "      <th>...</th>\n",
       "      <td>...</td>\n",
       "      <td>...</td>\n",
       "      <td>...</td>\n",
       "      <td>...</td>\n",
       "      <td>...</td>\n",
       "      <td>...</td>\n",
       "      <td>...</td>\n",
       "      <td>...</td>\n",
       "      <td>...</td>\n",
       "      <td>...</td>\n",
       "      <td>...</td>\n",
       "      <td>...</td>\n",
       "      <td>...</td>\n",
       "      <td>...</td>\n",
       "      <td>...</td>\n",
       "    </tr>\n",
       "    <tr>\n",
       "      <th>2101</th>\n",
       "      <td>Idfc</td>\n",
       "      <td>Queen</td>\n",
       "      <td>The Beatles</td>\n",
       "      <td>0.181429</td>\n",
       "      <td>0.818571</td>\n",
       "      <td>0.832077</td>\n",
       "      <td>0.422517</td>\n",
       "      <td>-0.082223</td>\n",
       "      <td>-0.316372</td>\n",
       "      <td>-0.612082</td>\n",
       "      <td>0.357243</td>\n",
       "      <td>-0.234651</td>\n",
       "      <td>0.904013</td>\n",
       "      <td>-1.027703</td>\n",
       "      <td>2.246909</td>\n",
       "    </tr>\n",
       "    <tr>\n",
       "      <th>2102</th>\n",
       "      <td>Waste Away (feat. Devon Baldwin)</td>\n",
       "      <td>Queen</td>\n",
       "      <td>Queen</td>\n",
       "      <td>0.650063</td>\n",
       "      <td>0.349937</td>\n",
       "      <td>0.042029</td>\n",
       "      <td>-0.295163</td>\n",
       "      <td>-0.585498</td>\n",
       "      <td>-0.316601</td>\n",
       "      <td>-0.616834</td>\n",
       "      <td>0.013727</td>\n",
       "      <td>-0.054632</td>\n",
       "      <td>0.628949</td>\n",
       "      <td>-0.718731</td>\n",
       "      <td>0.627595</td>\n",
       "    </tr>\n",
       "    <tr>\n",
       "      <th>2103</th>\n",
       "      <td>Dirty Laundry</td>\n",
       "      <td>Queen</td>\n",
       "      <td>Queen</td>\n",
       "      <td>0.780000</td>\n",
       "      <td>0.220000</td>\n",
       "      <td>-0.981147</td>\n",
       "      <td>1.242722</td>\n",
       "      <td>0.615386</td>\n",
       "      <td>-0.316601</td>\n",
       "      <td>-0.027595</td>\n",
       "      <td>0.318986</td>\n",
       "      <td>-0.384761</td>\n",
       "      <td>-0.667127</td>\n",
       "      <td>0.360713</td>\n",
       "      <td>1.241817</td>\n",
       "    </tr>\n",
       "    <tr>\n",
       "      <th>2104</th>\n",
       "      <td>My Heart Is Lost</td>\n",
       "      <td>Queen</td>\n",
       "      <td>The Beatles</td>\n",
       "      <td>0.250063</td>\n",
       "      <td>0.749937</td>\n",
       "      <td>-0.365946</td>\n",
       "      <td>0.500919</td>\n",
       "      <td>0.022418</td>\n",
       "      <td>-0.316601</td>\n",
       "      <td>-0.728029</td>\n",
       "      <td>0.566860</td>\n",
       "      <td>-0.288262</td>\n",
       "      <td>1.433007</td>\n",
       "      <td>0.392001</td>\n",
       "      <td>0.404241</td>\n",
       "    </tr>\n",
       "    <tr>\n",
       "      <th>2105</th>\n",
       "      <td>Deadroses</td>\n",
       "      <td>Queen</td>\n",
       "      <td>The Beatles</td>\n",
       "      <td>0.431429</td>\n",
       "      <td>0.568571</td>\n",
       "      <td>1.110537</td>\n",
       "      <td>0.313960</td>\n",
       "      <td>0.097162</td>\n",
       "      <td>-0.316601</td>\n",
       "      <td>-0.531299</td>\n",
       "      <td>0.946508</td>\n",
       "      <td>0.306534</td>\n",
       "      <td>0.461695</td>\n",
       "      <td>0.098674</td>\n",
       "      <td>1.130140</td>\n",
       "    </tr>\n",
       "  </tbody>\n",
       "</table>\n",
       "<p>618 rows × 15 columns</p>\n",
       "</div>"
      ],
      "text/plain": [
       "                                  Musica      Artista Artista Modelo  \\\n",
       "1488            Come Together - 2019 Mix  The Beatles    The Beatles   \n",
       "1489                Something - 2019 Mix  The Beatles    The Beatles   \n",
       "1490  Maxwell's Silver Hammer - 2019 Mix  The Beatles    The Beatles   \n",
       "1491              Oh! Darling - 2019 Mix  The Beatles    The Beatles   \n",
       "1492         Octopus's Garden - 2019 Mix  The Beatles    The Beatles   \n",
       "...                                  ...          ...            ...   \n",
       "2101                                Idfc        Queen    The Beatles   \n",
       "2102    Waste Away (feat. Devon Baldwin)        Queen          Queen   \n",
       "2103                       Dirty Laundry        Queen          Queen   \n",
       "2104                    My Heart Is Lost        Queen    The Beatles   \n",
       "2105                           Deadroses        Queen    The Beatles   \n",
       "\n",
       "      Score Artista1  Score Artista2  std_acousticness  std_danceability  \\\n",
       "1488        0.070000        0.930000         -0.879801         -0.144390   \n",
       "1489        0.010063        0.989937         -0.836089         -0.868100   \n",
       "1490        0.060000        0.940000          0.462956          1.544268   \n",
       "1491        0.000063        0.999937         -1.034896         -0.741451   \n",
       "1492        0.020063        0.979937         -0.780397          0.030507   \n",
       "...              ...             ...               ...               ...   \n",
       "2101        0.181429        0.818571          0.832077          0.422517   \n",
       "2102        0.650063        0.349937          0.042029         -0.295163   \n",
       "2103        0.780000        0.220000         -0.981147          1.242722   \n",
       "2104        0.250063        0.749937         -0.365946          0.500919   \n",
       "2105        0.431429        0.568571          1.110537          0.313960   \n",
       "\n",
       "      std_energy  std_instrumentalness  std_liveness  std_loudness  \\\n",
       "1488   -0.779832              0.626715     -0.680510     -0.232021   \n",
       "1489   -0.655259             -0.316571     -0.070362      0.189072   \n",
       "1490   -0.650276             -0.316075      0.314544      0.174460   \n",
       "1491    0.759890             -0.294289      0.495117      0.949962   \n",
       "1492    0.640300             -0.313070     -0.564563      1.037634   \n",
       "...          ...                   ...           ...           ...   \n",
       "2101   -0.082223             -0.316372     -0.612082      0.357243   \n",
       "2102   -0.585498             -0.316601     -0.616834      0.013727   \n",
       "2103    0.615386             -0.316601     -0.027595      0.318986   \n",
       "2104    0.022418             -0.316601     -0.728029      0.566860   \n",
       "2105    0.097162             -0.316601     -0.531299      0.946508   \n",
       "\n",
       "      std_speechiness  std_tempo  std_valence  std_popularity  \n",
       "1488        -0.349208   1.605693    -1.684756        0.906787  \n",
       "1489        -0.422006   0.498391    -0.468425        0.795110  \n",
       "1490        -0.363881   0.421319     0.509332        0.683433  \n",
       "1491        -0.356545   1.913388    -0.249408        0.795110  \n",
       "1492        -0.392097  -0.940193     0.188627        0.683433  \n",
       "...               ...        ...          ...             ...  \n",
       "2101        -0.234651   0.904013    -1.027703        2.246909  \n",
       "2102        -0.054632   0.628949    -0.718731        0.627595  \n",
       "2103        -0.384761  -0.667127     0.360713        1.241817  \n",
       "2104        -0.288262   1.433007     0.392001        0.404241  \n",
       "2105         0.306534   0.461695     0.098674        1.130140  \n",
       "\n",
       "[618 rows x 15 columns]"
      ]
     },
     "execution_count": 77,
     "metadata": {},
     "output_type": "execute_result"
    }
   ],
   "source": [
    "escolha=max([rf_auc,gboost_auc])\n",
    "if escolha==rf_auc:\n",
    "    y_pred=rf.fit(X_train,y_train).predict(X)\n",
    "    y_prob=rf.fit(X_train,y_train).predict_proba(X)\n",
    "        \n",
    "        \n",
    "elif escolha==gboost_auc:\n",
    "    y_pred=gboost.fit(X_train,y_train).predict(X)\n",
    "    y_prob=gboost.fit(X_train,y_train).predict_proba(X)\n",
    "#Tabela\n",
    "\n",
    "    \n",
    "df_aux=pd.DataFrame({\"Musica\":dados_aux[\"name\"],\n",
    "                         \"Artista\":dados_aux[\"artist\"],\n",
    "                         \"Artista Modelo\":y_pred,\n",
    "                         \"Score Artista1\":y_prob[:,0],\n",
    "                         \"Score Artista2\":y_prob[:,1],\n",
    "                         'std_acousticness':dados_aux[\"std_acousticness\"],\n",
    "                         'std_danceability':dados_aux[\"std_danceability\"],\n",
    "                         'std_energy':dados_aux[\"std_energy\"],\n",
    "                         'std_instrumentalness':dados_aux[\"std_instrumentalness\"],\n",
    "                         'std_liveness':dados_aux[\"std_liveness\"],\n",
    "                         'std_loudness':dados_aux[\"std_loudness\"],\n",
    "                         'std_speechiness':dados_aux[\"std_speechiness\"],\n",
    "                         'std_tempo':dados_aux[\"std_tempo\"],\n",
    "                         'std_valence':dados_aux[\"std_valence\"],\n",
    "                         'std_popularity':dados_aux[\"std_popularity\"]})\n",
    "df_aux"
   ]
  }
 ],
 "metadata": {
  "hide_input": false,
  "kernelspec": {
   "display_name": "Python 3",
   "language": "python",
   "name": "python3"
  },
  "language_info": {
   "codemirror_mode": {
    "name": "ipython",
    "version": 3
   },
   "file_extension": ".py",
   "mimetype": "text/x-python",
   "name": "python",
   "nbconvert_exporter": "python",
   "pygments_lexer": "ipython3",
   "version": "3.7.6"
  },
  "toc": {
   "base_numbering": 1,
   "nav_menu": {},
   "number_sections": true,
   "sideBar": true,
   "skip_h1_title": false,
   "title_cell": "Table of Contents",
   "title_sidebar": "Contents",
   "toc_cell": false,
   "toc_position": {},
   "toc_section_display": true,
   "toc_window_display": false
  },
  "varInspector": {
   "cols": {
    "lenName": 16,
    "lenType": 16,
    "lenVar": 40
   },
   "kernels_config": {
    "python": {
     "delete_cmd_postfix": "",
     "delete_cmd_prefix": "del ",
     "library": "var_list.py",
     "varRefreshCmd": "print(var_dic_list())"
    },
    "r": {
     "delete_cmd_postfix": ") ",
     "delete_cmd_prefix": "rm(",
     "library": "var_list.r",
     "varRefreshCmd": "cat(var_dic_list()) "
    }
   },
   "types_to_exclude": [
    "module",
    "function",
    "builtin_function_or_method",
    "instance",
    "_Feature"
   ],
   "window_display": false
  }
 },
 "nbformat": 4,
 "nbformat_minor": 2
}
